{
 "cells": [
  {
   "cell_type": "markdown",
   "metadata": {},
   "source": [
    "<img src='https://encrypted-tbn0.gstatic.com/images?q=tbn%3AANd9GcQ-VfNtOyJbsaxu43Kztf_cv1mgBG6ZIQZEVw&usqp=CAU'>\n",
    "\n",
    "# Procesamiento de Lenguage Natural\n",
    "\n",
    "## Taller #11: Twitter\n",
    "`Fecha de entrega: Mayo 20, 2021 (Antes del inicio de la próxima clase).`\n",
    "\n",
    "`Modo de entrega: Subir link de GitHub al aula virtual.`"
   ]
  },
  {
   "cell_type": "markdown",
   "metadata": {},
   "source": [
    "###  `[25 pts]` Punto 1: Extraer Tuits\n",
    "Extraer mínimo 100 tuits de Twitter usando la API\n",
    "\n",
    "❌ No escoger un tema de los que hicimos en clase (día de las madres, Giro de Italia, #EraGoldeYepes)"
   ]
  },
  {
   "cell_type": "code",
   "execution_count": 25,
   "metadata": {},
   "outputs": [
    {
     "data": {
      "text/html": [
       "        <script type=\"text/javascript\">\n",
       "        window.PlotlyConfig = {MathJaxConfig: 'local'};\n",
       "        if (window.MathJax) {MathJax.Hub.Config({SVG: {font: \"STIX-Web\"}});}\n",
       "        if (typeof require !== 'undefined') {\n",
       "        require.undef(\"plotly\");\n",
       "        requirejs.config({\n",
       "            paths: {\n",
       "                'plotly': ['https://cdn.plot.ly/plotly-latest.min']\n",
       "            }\n",
       "        });\n",
       "        require(['plotly'], function(Plotly) {\n",
       "            window._Plotly = Plotly;\n",
       "        });\n",
       "        }\n",
       "        </script>\n",
       "        "
      ]
     },
     "metadata": {},
     "output_type": "display_data"
    }
   ],
   "source": [
    "import os\n",
    "import pandas as pd\n",
    "import json\n",
    "import tweepy\n",
    "import re \n",
    "import regex\n",
    "import emoji\n",
    "import plotly.io as pio\n",
    "import plotly.express as px\n",
    "import plotly.graph_objs as go\n",
    "from plotly.offline import download_plotlyjs, init_notebook_mode, plot, iplot\n",
    "\n",
    "import matplotlib.pyplot as plt\n",
    "%matplotlib inline\n",
    "init_notebook_mode(connected=True)\n",
    "\n",
    "import scipy.cluster.hierarchy as sch\n",
    "import numpy as np\n",
    "\n",
    "from nltk.corpus import stopwords\n",
    "from sklearn.feature_extraction.text import TfidfVectorizer\n",
    "\n",
    "from sklearn.neighbors import NearestNeighbors\n",
    "from sklearn.cluster import KMeans\n",
    "from sklearn.decomposition import PCA\n"
   ]
  },
  {
   "cell_type": "code",
   "execution_count": 27,
   "metadata": {},
   "outputs": [
    {
     "data": {
      "text/html": [
       "<div>\n",
       "<style scoped>\n",
       "    .dataframe tbody tr th:only-of-type {\n",
       "        vertical-align: middle;\n",
       "    }\n",
       "\n",
       "    .dataframe tbody tr th {\n",
       "        vertical-align: top;\n",
       "    }\n",
       "\n",
       "    .dataframe thead th {\n",
       "        text-align: right;\n",
       "    }\n",
       "</style>\n",
       "<table border=\"1\" class=\"dataframe\">\n",
       "  <thead>\n",
       "    <tr style=\"text-align: right;\">\n",
       "      <th></th>\n",
       "      <th>tweets</th>\n",
       "      <th>fecha</th>\n",
       "      <th>ciudad</th>\n",
       "      <th>localizacion_usuario</th>\n",
       "      <th>id</th>\n",
       "      <th>enlace</th>\n",
       "    </tr>\n",
       "  </thead>\n",
       "  <tbody>\n",
       "    <tr>\n",
       "      <th>0</th>\n",
       "      <td>@PrimeraLineacol El paró no lo para nadie hast...</td>\n",
       "      <td>2021-05-19 17:59:02</td>\n",
       "      <td>Bogotá</td>\n",
       "      <td>Bogotá, D.C., Colombia</td>\n",
       "      <td>1395076547103510530</td>\n",
       "      <td>https://twitter.com/i/web/stuatus/139507654710...</td>\n",
       "    </tr>\n",
       "    <tr>\n",
       "      <th>1</th>\n",
       "      <td>@intiasprilla joven, cumplido los 18, vote en ...</td>\n",
       "      <td>2021-05-19 17:54:54</td>\n",
       "      <td>Bogotá</td>\n",
       "      <td>Bogotá</td>\n",
       "      <td>1395075505326596096</td>\n",
       "      <td>https://twitter.com/i/web/stuatus/139507550532...</td>\n",
       "    </tr>\n",
       "    <tr>\n",
       "      <th>2</th>\n",
       "      <td>Y entonces el #Matarife y sus secuaces pretend...</td>\n",
       "      <td>2021-05-19 17:49:49</td>\n",
       "      <td>Bogotá</td>\n",
       "      <td>Bogotá, D.C., Colombia</td>\n",
       "      <td>1395074226118438916</td>\n",
       "      <td>https://twitter.com/i/web/stuatus/139507422611...</td>\n",
       "    </tr>\n",
       "    <tr>\n",
       "      <th>3</th>\n",
       "      <td>@AlvaroUribeVel A LAS QUE EL GOBIERNO NO AYUDA...</td>\n",
       "      <td>2021-05-19 17:46:44</td>\n",
       "      <td>Bogotá</td>\n",
       "      <td>Bogota Colombia</td>\n",
       "      <td>1395073452244152325</td>\n",
       "      <td>https://twitter.com/i/web/stuatus/139507345224...</td>\n",
       "    </tr>\n",
       "    <tr>\n",
       "      <th>4</th>\n",
       "      <td>@petrogustavo Muy bien, pero cuídate mucho, tú...</td>\n",
       "      <td>2021-05-19 17:45:44</td>\n",
       "      <td>Bogotá</td>\n",
       "      <td>Bogotá, D.C., Colombia</td>\n",
       "      <td>1395073199059124228</td>\n",
       "      <td>https://twitter.com/i/web/stuatus/139507319905...</td>\n",
       "    </tr>\n",
       "  </tbody>\n",
       "</table>\n",
       "</div>"
      ],
      "text/plain": [
       "                                              tweets               fecha  \\\n",
       "0  @PrimeraLineacol El paró no lo para nadie hast... 2021-05-19 17:59:02   \n",
       "1  @intiasprilla joven, cumplido los 18, vote en ... 2021-05-19 17:54:54   \n",
       "2  Y entonces el #Matarife y sus secuaces pretend... 2021-05-19 17:49:49   \n",
       "3  @AlvaroUribeVel A LAS QUE EL GOBIERNO NO AYUDA... 2021-05-19 17:46:44   \n",
       "4  @petrogustavo Muy bien, pero cuídate mucho, tú... 2021-05-19 17:45:44   \n",
       "\n",
       "   ciudad    localizacion_usuario                   id  \\\n",
       "0  Bogotá  Bogotá, D.C., Colombia  1395076547103510530   \n",
       "1  Bogotá                 Bogotá   1395075505326596096   \n",
       "2  Bogotá  Bogotá, D.C., Colombia  1395074226118438916   \n",
       "3  Bogotá         Bogota Colombia  1395073452244152325   \n",
       "4  Bogotá  Bogotá, D.C., Colombia  1395073199059124228   \n",
       "\n",
       "                                              enlace  \n",
       "0  https://twitter.com/i/web/stuatus/139507654710...  \n",
       "1  https://twitter.com/i/web/stuatus/139507550532...  \n",
       "2  https://twitter.com/i/web/stuatus/139507422611...  \n",
       "3  https://twitter.com/i/web/stuatus/139507345224...  \n",
       "4  https://twitter.com/i/web/stuatus/139507319905...  "
      ]
     },
     "execution_count": 27,
     "metadata": {},
     "output_type": "execute_result"
    }
   ],
   "source": [
    "\n",
    "# Obtener variables de entorno desde sistema local\n",
    "API_KEY = os.getenv('TWITTER_API_KEY')\n",
    "API_SECRET_KEY = os.environ.get('TWITTER_API_SECRET_KEY')\n",
    "BEARER_TOKEN =os.environ.get('TWITTER_BEARER_TOKEN')\n",
    "ACCESS_TOKEN= os.environ.get('TWITTER_ACCESS_TOKEN')\n",
    "ACCESS_TOKEN_SECRET= os.environ.get('TWITTER_ACCESS_TOKEN_SECRET')\n",
    "\n",
    "\n",
    "auth = tweepy.OAuthHandler(API_KEY, API_SECRET_KEY)\n",
    "auth.set_access_token(ACCESS_TOKEN, ACCESS_TOKEN_SECRET)\n",
    "api = tweepy.API(auth, wait_on_rate_limit=True)\n",
    "\n",
    "tweets = tweepy.Cursor(api.search,\n",
    "                       q=['Matarife -RT'],\n",
    "                       lang='es',\n",
    "                       geocode='4.3646,-74.0414,100km',\n",
    "                       tweet_mode='extended',\n",
    "                       include_rts=False,\n",
    "                       ).items(110)\n",
    "\n",
    "# Objeto generador\n",
    "t = [tweet for tweet in tweets]\n",
    "\n",
    "t_processed = []\n",
    "\n",
    "for tweet in t: \n",
    "    temp = []\n",
    "    temp.append(tweet.full_text)\n",
    "    temp.append(tweet.created_at)\n",
    "    temp.append('Bogotá')\n",
    "    temp.append(tweet.user.location)\n",
    "    temp.append(tweet.id)\n",
    "    temp.append(f\"https://twitter.com/i/web/stuatus/{tweet.id}\")\n",
    "    \n",
    "    t_processed.append(temp)\n",
    "   \n",
    "datos = pd.DataFrame(t_processed)\n",
    "datos.columns = ['tweets', 'fecha', 'ciudad', 'localizacion_usuario', 'id', 'enlace']\n",
    "datos.head()\n"
   ]
  },
  {
   "cell_type": "code",
   "execution_count": 28,
   "metadata": {},
   "outputs": [
    {
     "data": {
      "text/html": [
       "<div>\n",
       "<style scoped>\n",
       "    .dataframe tbody tr th:only-of-type {\n",
       "        vertical-align: middle;\n",
       "    }\n",
       "\n",
       "    .dataframe tbody tr th {\n",
       "        vertical-align: top;\n",
       "    }\n",
       "\n",
       "    .dataframe thead th {\n",
       "        text-align: right;\n",
       "    }\n",
       "</style>\n",
       "<table border=\"1\" class=\"dataframe\">\n",
       "  <thead>\n",
       "    <tr style=\"text-align: right;\">\n",
       "      <th></th>\n",
       "      <th>tweets</th>\n",
       "      <th>fecha</th>\n",
       "      <th>ciudad</th>\n",
       "      <th>localizacion_usuario</th>\n",
       "      <th>id</th>\n",
       "      <th>enlace</th>\n",
       "      <th>texto_limpio</th>\n",
       "      <th>enlaces</th>\n",
       "      <th>hashtags</th>\n",
       "      <th>menciones</th>\n",
       "    </tr>\n",
       "  </thead>\n",
       "  <tbody>\n",
       "    <tr>\n",
       "      <th>0</th>\n",
       "      <td>@PrimeraLineacol El paró no lo para nadie hast...</td>\n",
       "      <td>2021-05-19 17:59:02</td>\n",
       "      <td>Bogotá</td>\n",
       "      <td>Bogotá, D.C., Colombia</td>\n",
       "      <td>1395076547103510530</td>\n",
       "      <td>https://twitter.com/i/web/stuatus/139507654710...</td>\n",
       "      <td>El paró no lo para nadie hasta lograr liberta...</td>\n",
       "      <td>[]</td>\n",
       "      <td>[]</td>\n",
       "      <td>[@PrimeraLineacol]</td>\n",
       "    </tr>\n",
       "    <tr>\n",
       "      <th>1</th>\n",
       "      <td>@intiasprilla joven, cumplido los 18, vote en ...</td>\n",
       "      <td>2021-05-19 17:54:54</td>\n",
       "      <td>Bogotá</td>\n",
       "      <td>Bogotá</td>\n",
       "      <td>1395075505326596096</td>\n",
       "      <td>https://twitter.com/i/web/stuatus/139507550532...</td>\n",
       "      <td>joven, cumplido los 18, vote en el 2006 por e...</td>\n",
       "      <td>[]</td>\n",
       "      <td>[]</td>\n",
       "      <td>[@intiasprilla, @AlvaroUribeVel,]</td>\n",
       "    </tr>\n",
       "    <tr>\n",
       "      <th>2</th>\n",
       "      <td>Y entonces el #Matarife y sus secuaces pretend...</td>\n",
       "      <td>2021-05-19 17:49:49</td>\n",
       "      <td>Bogotá</td>\n",
       "      <td>Bogotá, D.C., Colombia</td>\n",
       "      <td>1395074226118438916</td>\n",
       "      <td>https://twitter.com/i/web/stuatus/139507422611...</td>\n",
       "      <td>Y entonces el  y sus secuaces pretenden arrodi...</td>\n",
       "      <td>[https://t.co/r39ROk5yYX]</td>\n",
       "      <td>[#Matarife, #UribeGolpista, #YoApoyoAQuintero]</td>\n",
       "      <td>[]</td>\n",
       "    </tr>\n",
       "    <tr>\n",
       "      <th>3</th>\n",
       "      <td>@AlvaroUribeVel A LAS QUE EL GOBIERNO NO AYUDA...</td>\n",
       "      <td>2021-05-19 17:46:44</td>\n",
       "      <td>Bogotá</td>\n",
       "      <td>Bogota Colombia</td>\n",
       "      <td>1395073452244152325</td>\n",
       "      <td>https://twitter.com/i/web/stuatus/139507345224...</td>\n",
       "      <td>A LAS QUE EL GOBIERNO NO AYUDA PORQUE SOLO HA...</td>\n",
       "      <td>[]</td>\n",
       "      <td>[]</td>\n",
       "      <td>[@AlvaroUribeVel]</td>\n",
       "    </tr>\n",
       "    <tr>\n",
       "      <th>4</th>\n",
       "      <td>@petrogustavo Muy bien, pero cuídate mucho, tú...</td>\n",
       "      <td>2021-05-19 17:45:44</td>\n",
       "      <td>Bogotá</td>\n",
       "      <td>Bogotá, D.C., Colombia</td>\n",
       "      <td>1395073199059124228</td>\n",
       "      <td>https://twitter.com/i/web/stuatus/139507319905...</td>\n",
       "      <td>Muy bien, pero cuídate mucho, tú sabes que ha...</td>\n",
       "      <td>[]</td>\n",
       "      <td>[]</td>\n",
       "      <td>[@petrogustavo]</td>\n",
       "    </tr>\n",
       "  </tbody>\n",
       "</table>\n",
       "</div>"
      ],
      "text/plain": [
       "                                              tweets               fecha  \\\n",
       "0  @PrimeraLineacol El paró no lo para nadie hast... 2021-05-19 17:59:02   \n",
       "1  @intiasprilla joven, cumplido los 18, vote en ... 2021-05-19 17:54:54   \n",
       "2  Y entonces el #Matarife y sus secuaces pretend... 2021-05-19 17:49:49   \n",
       "3  @AlvaroUribeVel A LAS QUE EL GOBIERNO NO AYUDA... 2021-05-19 17:46:44   \n",
       "4  @petrogustavo Muy bien, pero cuídate mucho, tú... 2021-05-19 17:45:44   \n",
       "\n",
       "   ciudad    localizacion_usuario                   id  \\\n",
       "0  Bogotá  Bogotá, D.C., Colombia  1395076547103510530   \n",
       "1  Bogotá                 Bogotá   1395075505326596096   \n",
       "2  Bogotá  Bogotá, D.C., Colombia  1395074226118438916   \n",
       "3  Bogotá         Bogota Colombia  1395073452244152325   \n",
       "4  Bogotá  Bogotá, D.C., Colombia  1395073199059124228   \n",
       "\n",
       "                                              enlace  \\\n",
       "0  https://twitter.com/i/web/stuatus/139507654710...   \n",
       "1  https://twitter.com/i/web/stuatus/139507550532...   \n",
       "2  https://twitter.com/i/web/stuatus/139507422611...   \n",
       "3  https://twitter.com/i/web/stuatus/139507345224...   \n",
       "4  https://twitter.com/i/web/stuatus/139507319905...   \n",
       "\n",
       "                                        texto_limpio  \\\n",
       "0   El paró no lo para nadie hasta lograr liberta...   \n",
       "1   joven, cumplido los 18, vote en el 2006 por e...   \n",
       "2  Y entonces el  y sus secuaces pretenden arrodi...   \n",
       "3   A LAS QUE EL GOBIERNO NO AYUDA PORQUE SOLO HA...   \n",
       "4   Muy bien, pero cuídate mucho, tú sabes que ha...   \n",
       "\n",
       "                     enlaces                                        hashtags  \\\n",
       "0                         []                                              []   \n",
       "1                         []                                              []   \n",
       "2  [https://t.co/r39ROk5yYX]  [#Matarife, #UribeGolpista, #YoApoyoAQuintero]   \n",
       "3                         []                                              []   \n",
       "4                         []                                              []   \n",
       "\n",
       "                           menciones  \n",
       "0                 [@PrimeraLineacol]  \n",
       "1  [@intiasprilla, @AlvaroUribeVel,]  \n",
       "2                                 []  \n",
       "3                  [@AlvaroUribeVel]  \n",
       "4                    [@petrogustavo]  "
      ]
     },
     "execution_count": 28,
     "metadata": {},
     "output_type": "execute_result"
    }
   ],
   "source": [
    "pattern1 = '?P<pic>pic.twitter.com/[^\\s]+'\n",
    "pattern2 = '?P<url>https?://[^\\s]+'\n",
    "\n",
    "def text_clean(row):\n",
    "    text = row['tweets']\n",
    "    \n",
    "    links = [tuple(j for j in i if j)[-1] for i in re.findall(f\"({pattern1})|({pattern2})\",text)]\n",
    "    for link in links:\n",
    "        text = text.replace(link,\"\")\n",
    "    \n",
    "    hashtags = [interaction for interaction in text.split() if interaction.startswith(\"#\")]\n",
    "    for hashtag in hashtags:\n",
    "        text = text.replace(hashtag, \"\")\n",
    "        \n",
    "    mentions = [interaction for interaction in text.split() if interaction.startswith(\"@\")]\n",
    "    for mention in mentions:\n",
    "        text = text.replace(mention, \"\")\n",
    "        \n",
    "    return text, links, hashtags, mentions\n",
    "  \n",
    "  \n",
    "datos[['texto_limpio', 'enlaces', 'hashtags', 'menciones']] = datos.apply(text_clean, axis=1, result_type='expand')\n",
    "datos.head()"
   ]
  },
  {
   "cell_type": "code",
   "execution_count": 4,
   "metadata": {},
   "outputs": [
    {
     "data": {
      "text/html": [
       "<div>\n",
       "<style scoped>\n",
       "    .dataframe tbody tr th:only-of-type {\n",
       "        vertical-align: middle;\n",
       "    }\n",
       "\n",
       "    .dataframe tbody tr th {\n",
       "        vertical-align: top;\n",
       "    }\n",
       "\n",
       "    .dataframe thead th {\n",
       "        text-align: right;\n",
       "    }\n",
       "</style>\n",
       "<table border=\"1\" class=\"dataframe\">\n",
       "  <thead>\n",
       "    <tr style=\"text-align: right;\">\n",
       "      <th></th>\n",
       "      <th>tweets</th>\n",
       "      <th>fecha</th>\n",
       "      <th>ciudad</th>\n",
       "      <th>localizacion_usuario</th>\n",
       "      <th>id</th>\n",
       "      <th>enlace</th>\n",
       "      <th>texto_limpio</th>\n",
       "      <th>enlaces</th>\n",
       "      <th>hashtags</th>\n",
       "      <th>menciones</th>\n",
       "      <th>emojis</th>\n",
       "    </tr>\n",
       "  </thead>\n",
       "  <tbody>\n",
       "    <tr>\n",
       "      <th>0</th>\n",
       "      <td>@natiibedoya 1-  el es su presidente no mio\\n2...</td>\n",
       "      <td>2021-05-19 05:00:08</td>\n",
       "      <td>Bogotá</td>\n",
       "      <td>Bogotá, D.C., Colombia</td>\n",
       "      <td>1394880528097153028</td>\n",
       "      <td>https://twitter.com/i/web/stuatus/139488052809...</td>\n",
       "      <td>1-  el es su presidente no mio\\n2- yo no voté...</td>\n",
       "      <td>[]</td>\n",
       "      <td>[]</td>\n",
       "      <td>[@natiibedoya]</td>\n",
       "      <td>[]</td>\n",
       "    </tr>\n",
       "    <tr>\n",
       "      <th>1</th>\n",
       "      <td>@AlvaroUribeVel Un mensaje de Diomedez para el...</td>\n",
       "      <td>2021-05-19 04:43:16</td>\n",
       "      <td>Bogotá</td>\n",
       "      <td>Bogotá, D.C., Colombia</td>\n",
       "      <td>1394876284208046081</td>\n",
       "      <td>https://twitter.com/i/web/stuatus/139487628420...</td>\n",
       "      <td>Un mensaje de Diomedez para el personaje que ...</td>\n",
       "      <td>[https://t.co/SIPI99RoJT]</td>\n",
       "      <td>[]</td>\n",
       "      <td>[@AlvaroUribeVel]</td>\n",
       "      <td>[]</td>\n",
       "    </tr>\n",
       "    <tr>\n",
       "      <th>2</th>\n",
       "      <td>Esta perla que me encontré del Matarife, el de...</td>\n",
       "      <td>2021-05-19 04:21:50</td>\n",
       "      <td>Bogotá</td>\n",
       "      <td>Bogotá-Colombia</td>\n",
       "      <td>1394870890370945028</td>\n",
       "      <td>https://twitter.com/i/web/stuatus/139487089037...</td>\n",
       "      <td>Esta perla que me encontré del Matarife, el de...</td>\n",
       "      <td>[https://t.co/MgQQHJt0IA]</td>\n",
       "      <td>[]</td>\n",
       "      <td>[]</td>\n",
       "      <td>[]</td>\n",
       "    </tr>\n",
       "    <tr>\n",
       "      <th>3</th>\n",
       "      <td>@jerojasrodrigue @CIDH Viejo ridiculo, la orde...</td>\n",
       "      <td>2021-05-19 04:14:18</td>\n",
       "      <td>Bogotá</td>\n",
       "      <td>Bogotá, Colombia</td>\n",
       "      <td>1394868994532839424</td>\n",
       "      <td>https://twitter.com/i/web/stuatus/139486899453...</td>\n",
       "      <td>Viejo ridiculo, la orden de Álvaro es que ma...</td>\n",
       "      <td>[]</td>\n",
       "      <td>[]</td>\n",
       "      <td>[@jerojasrodrigue, @CIDH]</td>\n",
       "      <td>[]</td>\n",
       "    </tr>\n",
       "    <tr>\n",
       "      <th>4</th>\n",
       "      <td>@intiasprilla El Matarife en su primer periodo...</td>\n",
       "      <td>2021-05-19 04:11:29</td>\n",
       "      <td>Bogotá</td>\n",
       "      <td>Bogotá-Colombia</td>\n",
       "      <td>1394868287490646016</td>\n",
       "      <td>https://twitter.com/i/web/stuatus/139486828749...</td>\n",
       "      <td>El Matarife en su primer periodo, por lo cual...</td>\n",
       "      <td>[]</td>\n",
       "      <td>[]</td>\n",
       "      <td>[@intiasprilla]</td>\n",
       "      <td>[]</td>\n",
       "    </tr>\n",
       "  </tbody>\n",
       "</table>\n",
       "</div>"
      ],
      "text/plain": [
       "                                              tweets               fecha  \\\n",
       "0  @natiibedoya 1-  el es su presidente no mio\\n2... 2021-05-19 05:00:08   \n",
       "1  @AlvaroUribeVel Un mensaje de Diomedez para el... 2021-05-19 04:43:16   \n",
       "2  Esta perla que me encontré del Matarife, el de... 2021-05-19 04:21:50   \n",
       "3  @jerojasrodrigue @CIDH Viejo ridiculo, la orde... 2021-05-19 04:14:18   \n",
       "4  @intiasprilla El Matarife en su primer periodo... 2021-05-19 04:11:29   \n",
       "\n",
       "   ciudad    localizacion_usuario                   id  \\\n",
       "0  Bogotá  Bogotá, D.C., Colombia  1394880528097153028   \n",
       "1  Bogotá  Bogotá, D.C., Colombia  1394876284208046081   \n",
       "2  Bogotá         Bogotá-Colombia  1394870890370945028   \n",
       "3  Bogotá        Bogotá, Colombia  1394868994532839424   \n",
       "4  Bogotá         Bogotá-Colombia  1394868287490646016   \n",
       "\n",
       "                                              enlace  \\\n",
       "0  https://twitter.com/i/web/stuatus/139488052809...   \n",
       "1  https://twitter.com/i/web/stuatus/139487628420...   \n",
       "2  https://twitter.com/i/web/stuatus/139487089037...   \n",
       "3  https://twitter.com/i/web/stuatus/139486899453...   \n",
       "4  https://twitter.com/i/web/stuatus/139486828749...   \n",
       "\n",
       "                                        texto_limpio  \\\n",
       "0   1-  el es su presidente no mio\\n2- yo no voté...   \n",
       "1   Un mensaje de Diomedez para el personaje que ...   \n",
       "2  Esta perla que me encontré del Matarife, el de...   \n",
       "3    Viejo ridiculo, la orden de Álvaro es que ma...   \n",
       "4   El Matarife en su primer periodo, por lo cual...   \n",
       "\n",
       "                     enlaces hashtags                  menciones emojis  \n",
       "0                         []       []             [@natiibedoya]     []  \n",
       "1  [https://t.co/SIPI99RoJT]       []          [@AlvaroUribeVel]     []  \n",
       "2  [https://t.co/MgQQHJt0IA]       []                         []     []  \n",
       "3                         []       []  [@jerojasrodrigue, @CIDH]     []  \n",
       "4                         []       []            [@intiasprilla]     []  "
      ]
     },
     "execution_count": 4,
     "metadata": {},
     "output_type": "execute_result"
    }
   ],
   "source": [
    "def get_emojis(text):\n",
    "    emoji_list = []\n",
    "    data = regex.findall(r'\\X', text)\n",
    "    for word in data:\n",
    "        if any(char in emoji.UNICODE_EMOJI['en'] for char in word):\n",
    "            emoji_list.append(word)\n",
    "\n",
    "    return emoji_list\n",
    "  \n",
    "  \n",
    "\n",
    "datos['emojis'] = datos['texto_limpio'].apply(lambda text: get_emojis(text))\n",
    "datos.head()"
   ]
  },
  {
   "cell_type": "markdown",
   "metadata": {},
   "source": [
    "###  `[25 pts]` Punto 2: Hacer una visualización sobre esos tuits"
   ]
  },
  {
   "cell_type": "markdown",
   "metadata": {},
   "source": [
    "* Se realizaron dos gráficas relacionadas con los tweets recuperados, a saber: \n",
    "    Agrupaciones de tweets con el método k-means y tweets por hora (gráfico visto en clase).\n",
    "    "
   ]
  },
  {
   "cell_type": "code",
   "execution_count": 37,
   "metadata": {},
   "outputs": [],
   "source": [
    "# Definición de función de pre-procesamiento\n",
    "stopwords_sp = stopwords.words('spanish')\n",
    "stopwords_sp.extend([\"https\", \"http\", \"co\", \"com\", \"edu\",\"eu\",\"Álvaro\",\"Uribe\", \"Vélez\", \"Matarife\", \"u\",\"û\",\"q\",\"k\",\"w\",\"a\",\"p\",\"pg\",\"b\",\"c\",\"f\",\"z\",\"j\",\n",
    "                  \"v\",\"n\",\"g\",\"e\",\"r\",\"x\",\"l\",\"h\",\"st\",\"rt\",\"lol\",\"aa\", \"vélez\",\"vélezel\",\"álvaro\",\"uribe\"])\n",
    "\n",
    "def preProcesado(texto):\n",
    "    texto = texto.lower()\n",
    "    texto = re.sub(r\"[\\W\\d_]+\", \" \", texto)\n",
    "    texto = texto.split() # Tokenizar\n",
    "    texto = [palabra for palabra in texto if palabra not in stopwords_sp]\n",
    "    texto = \" \".join(texto)\n",
    "    return texto"
   ]
  },
  {
   "cell_type": "code",
   "execution_count": 38,
   "metadata": {},
   "outputs": [
    {
     "data": {
      "text/html": [
       "<div>\n",
       "<style scoped>\n",
       "    .dataframe tbody tr th:only-of-type {\n",
       "        vertical-align: middle;\n",
       "    }\n",
       "\n",
       "    .dataframe tbody tr th {\n",
       "        vertical-align: top;\n",
       "    }\n",
       "\n",
       "    .dataframe thead th {\n",
       "        text-align: right;\n",
       "    }\n",
       "</style>\n",
       "<table border=\"1\" class=\"dataframe\">\n",
       "  <thead>\n",
       "    <tr style=\"text-align: right;\">\n",
       "      <th></th>\n",
       "      <th>abogado</th>\n",
       "      <th>abogánster</th>\n",
       "      <th>abuso</th>\n",
       "      <th>acaba</th>\n",
       "      <th>acabar</th>\n",
       "      <th>acaso</th>\n",
       "      <th>aceptar</th>\n",
       "      <th>acepte</th>\n",
       "      <th>activos</th>\n",
       "      <th>actualizando</th>\n",
       "      <th>...</th>\n",
       "      <th>voto</th>\n",
       "      <th>votó</th>\n",
       "      <th>voz</th>\n",
       "      <th>vuelta</th>\n",
       "      <th>vándalos</th>\n",
       "      <th>ximena</th>\n",
       "      <th>zapateiro</th>\n",
       "      <th>órdenes</th>\n",
       "      <th>último</th>\n",
       "      <th>único</th>\n",
       "    </tr>\n",
       "  </thead>\n",
       "  <tbody>\n",
       "    <tr>\n",
       "      <th>0</th>\n",
       "      <td>0.0</td>\n",
       "      <td>0.0</td>\n",
       "      <td>0.0</td>\n",
       "      <td>0.0</td>\n",
       "      <td>0.0</td>\n",
       "      <td>0.0</td>\n",
       "      <td>0.0</td>\n",
       "      <td>0.0</td>\n",
       "      <td>0.0</td>\n",
       "      <td>0.0</td>\n",
       "      <td>...</td>\n",
       "      <td>0.000000</td>\n",
       "      <td>0.0</td>\n",
       "      <td>0.0</td>\n",
       "      <td>0.0</td>\n",
       "      <td>0.0</td>\n",
       "      <td>0.0</td>\n",
       "      <td>0.0</td>\n",
       "      <td>0.00000</td>\n",
       "      <td>0.0</td>\n",
       "      <td>0.0</td>\n",
       "    </tr>\n",
       "    <tr>\n",
       "      <th>1</th>\n",
       "      <td>0.0</td>\n",
       "      <td>0.0</td>\n",
       "      <td>0.0</td>\n",
       "      <td>0.0</td>\n",
       "      <td>0.0</td>\n",
       "      <td>0.0</td>\n",
       "      <td>0.0</td>\n",
       "      <td>0.0</td>\n",
       "      <td>0.0</td>\n",
       "      <td>0.0</td>\n",
       "      <td>...</td>\n",
       "      <td>0.216679</td>\n",
       "      <td>0.0</td>\n",
       "      <td>0.0</td>\n",
       "      <td>0.0</td>\n",
       "      <td>0.0</td>\n",
       "      <td>0.0</td>\n",
       "      <td>0.0</td>\n",
       "      <td>0.00000</td>\n",
       "      <td>0.0</td>\n",
       "      <td>0.0</td>\n",
       "    </tr>\n",
       "    <tr>\n",
       "      <th>2</th>\n",
       "      <td>0.0</td>\n",
       "      <td>0.0</td>\n",
       "      <td>0.0</td>\n",
       "      <td>0.0</td>\n",
       "      <td>0.0</td>\n",
       "      <td>0.0</td>\n",
       "      <td>0.0</td>\n",
       "      <td>0.0</td>\n",
       "      <td>0.0</td>\n",
       "      <td>0.0</td>\n",
       "      <td>...</td>\n",
       "      <td>0.000000</td>\n",
       "      <td>0.0</td>\n",
       "      <td>0.0</td>\n",
       "      <td>0.0</td>\n",
       "      <td>0.0</td>\n",
       "      <td>0.0</td>\n",
       "      <td>0.0</td>\n",
       "      <td>0.00000</td>\n",
       "      <td>0.0</td>\n",
       "      <td>0.0</td>\n",
       "    </tr>\n",
       "    <tr>\n",
       "      <th>3</th>\n",
       "      <td>0.0</td>\n",
       "      <td>0.0</td>\n",
       "      <td>0.0</td>\n",
       "      <td>0.0</td>\n",
       "      <td>0.0</td>\n",
       "      <td>0.0</td>\n",
       "      <td>0.0</td>\n",
       "      <td>0.0</td>\n",
       "      <td>0.0</td>\n",
       "      <td>0.0</td>\n",
       "      <td>...</td>\n",
       "      <td>0.000000</td>\n",
       "      <td>0.0</td>\n",
       "      <td>0.0</td>\n",
       "      <td>0.0</td>\n",
       "      <td>0.0</td>\n",
       "      <td>0.0</td>\n",
       "      <td>0.0</td>\n",
       "      <td>0.00000</td>\n",
       "      <td>0.0</td>\n",
       "      <td>0.0</td>\n",
       "    </tr>\n",
       "    <tr>\n",
       "      <th>4</th>\n",
       "      <td>0.0</td>\n",
       "      <td>0.0</td>\n",
       "      <td>0.0</td>\n",
       "      <td>0.0</td>\n",
       "      <td>0.0</td>\n",
       "      <td>0.0</td>\n",
       "      <td>0.0</td>\n",
       "      <td>0.0</td>\n",
       "      <td>0.0</td>\n",
       "      <td>0.0</td>\n",
       "      <td>...</td>\n",
       "      <td>0.000000</td>\n",
       "      <td>0.0</td>\n",
       "      <td>0.0</td>\n",
       "      <td>0.0</td>\n",
       "      <td>0.0</td>\n",
       "      <td>0.0</td>\n",
       "      <td>0.0</td>\n",
       "      <td>0.00000</td>\n",
       "      <td>0.0</td>\n",
       "      <td>0.0</td>\n",
       "    </tr>\n",
       "    <tr>\n",
       "      <th>...</th>\n",
       "      <td>...</td>\n",
       "      <td>...</td>\n",
       "      <td>...</td>\n",
       "      <td>...</td>\n",
       "      <td>...</td>\n",
       "      <td>...</td>\n",
       "      <td>...</td>\n",
       "      <td>...</td>\n",
       "      <td>...</td>\n",
       "      <td>...</td>\n",
       "      <td>...</td>\n",
       "      <td>...</td>\n",
       "      <td>...</td>\n",
       "      <td>...</td>\n",
       "      <td>...</td>\n",
       "      <td>...</td>\n",
       "      <td>...</td>\n",
       "      <td>...</td>\n",
       "      <td>...</td>\n",
       "      <td>...</td>\n",
       "      <td>...</td>\n",
       "    </tr>\n",
       "    <tr>\n",
       "      <th>105</th>\n",
       "      <td>0.0</td>\n",
       "      <td>0.0</td>\n",
       "      <td>0.0</td>\n",
       "      <td>0.0</td>\n",
       "      <td>0.0</td>\n",
       "      <td>0.0</td>\n",
       "      <td>0.0</td>\n",
       "      <td>0.0</td>\n",
       "      <td>0.0</td>\n",
       "      <td>0.0</td>\n",
       "      <td>...</td>\n",
       "      <td>0.000000</td>\n",
       "      <td>0.0</td>\n",
       "      <td>0.0</td>\n",
       "      <td>0.0</td>\n",
       "      <td>0.0</td>\n",
       "      <td>0.0</td>\n",
       "      <td>0.0</td>\n",
       "      <td>0.00000</td>\n",
       "      <td>0.0</td>\n",
       "      <td>0.0</td>\n",
       "    </tr>\n",
       "    <tr>\n",
       "      <th>106</th>\n",
       "      <td>0.0</td>\n",
       "      <td>0.0</td>\n",
       "      <td>0.0</td>\n",
       "      <td>0.0</td>\n",
       "      <td>0.0</td>\n",
       "      <td>0.0</td>\n",
       "      <td>0.0</td>\n",
       "      <td>0.0</td>\n",
       "      <td>0.0</td>\n",
       "      <td>0.0</td>\n",
       "      <td>...</td>\n",
       "      <td>0.000000</td>\n",
       "      <td>0.0</td>\n",
       "      <td>0.0</td>\n",
       "      <td>0.0</td>\n",
       "      <td>0.0</td>\n",
       "      <td>0.0</td>\n",
       "      <td>0.0</td>\n",
       "      <td>0.00000</td>\n",
       "      <td>0.0</td>\n",
       "      <td>0.0</td>\n",
       "    </tr>\n",
       "    <tr>\n",
       "      <th>107</th>\n",
       "      <td>0.0</td>\n",
       "      <td>0.0</td>\n",
       "      <td>0.0</td>\n",
       "      <td>0.0</td>\n",
       "      <td>0.0</td>\n",
       "      <td>0.0</td>\n",
       "      <td>0.0</td>\n",
       "      <td>0.0</td>\n",
       "      <td>0.0</td>\n",
       "      <td>0.0</td>\n",
       "      <td>...</td>\n",
       "      <td>0.000000</td>\n",
       "      <td>0.0</td>\n",
       "      <td>0.0</td>\n",
       "      <td>0.0</td>\n",
       "      <td>0.0</td>\n",
       "      <td>0.0</td>\n",
       "      <td>0.0</td>\n",
       "      <td>0.00000</td>\n",
       "      <td>0.0</td>\n",
       "      <td>0.0</td>\n",
       "    </tr>\n",
       "    <tr>\n",
       "      <th>108</th>\n",
       "      <td>0.0</td>\n",
       "      <td>0.0</td>\n",
       "      <td>0.0</td>\n",
       "      <td>0.0</td>\n",
       "      <td>0.0</td>\n",
       "      <td>0.0</td>\n",
       "      <td>0.0</td>\n",
       "      <td>0.0</td>\n",
       "      <td>0.0</td>\n",
       "      <td>0.0</td>\n",
       "      <td>...</td>\n",
       "      <td>0.000000</td>\n",
       "      <td>0.0</td>\n",
       "      <td>0.0</td>\n",
       "      <td>0.0</td>\n",
       "      <td>0.0</td>\n",
       "      <td>0.0</td>\n",
       "      <td>0.0</td>\n",
       "      <td>0.00000</td>\n",
       "      <td>0.0</td>\n",
       "      <td>0.0</td>\n",
       "    </tr>\n",
       "    <tr>\n",
       "      <th>109</th>\n",
       "      <td>0.0</td>\n",
       "      <td>0.0</td>\n",
       "      <td>0.0</td>\n",
       "      <td>0.0</td>\n",
       "      <td>0.0</td>\n",
       "      <td>0.0</td>\n",
       "      <td>0.0</td>\n",
       "      <td>0.0</td>\n",
       "      <td>0.0</td>\n",
       "      <td>0.0</td>\n",
       "      <td>...</td>\n",
       "      <td>0.000000</td>\n",
       "      <td>0.0</td>\n",
       "      <td>0.0</td>\n",
       "      <td>0.0</td>\n",
       "      <td>0.0</td>\n",
       "      <td>0.0</td>\n",
       "      <td>0.0</td>\n",
       "      <td>0.21395</td>\n",
       "      <td>0.0</td>\n",
       "      <td>0.0</td>\n",
       "    </tr>\n",
       "  </tbody>\n",
       "</table>\n",
       "<p>110 rows × 876 columns</p>\n",
       "</div>"
      ],
      "text/plain": [
       "     abogado  abogánster  abuso  acaba  acabar  acaso  aceptar  acepte  \\\n",
       "0        0.0         0.0    0.0    0.0     0.0    0.0      0.0     0.0   \n",
       "1        0.0         0.0    0.0    0.0     0.0    0.0      0.0     0.0   \n",
       "2        0.0         0.0    0.0    0.0     0.0    0.0      0.0     0.0   \n",
       "3        0.0         0.0    0.0    0.0     0.0    0.0      0.0     0.0   \n",
       "4        0.0         0.0    0.0    0.0     0.0    0.0      0.0     0.0   \n",
       "..       ...         ...    ...    ...     ...    ...      ...     ...   \n",
       "105      0.0         0.0    0.0    0.0     0.0    0.0      0.0     0.0   \n",
       "106      0.0         0.0    0.0    0.0     0.0    0.0      0.0     0.0   \n",
       "107      0.0         0.0    0.0    0.0     0.0    0.0      0.0     0.0   \n",
       "108      0.0         0.0    0.0    0.0     0.0    0.0      0.0     0.0   \n",
       "109      0.0         0.0    0.0    0.0     0.0    0.0      0.0     0.0   \n",
       "\n",
       "     activos  actualizando  ...      voto  votó  voz  vuelta  vándalos  \\\n",
       "0        0.0           0.0  ...  0.000000   0.0  0.0     0.0       0.0   \n",
       "1        0.0           0.0  ...  0.216679   0.0  0.0     0.0       0.0   \n",
       "2        0.0           0.0  ...  0.000000   0.0  0.0     0.0       0.0   \n",
       "3        0.0           0.0  ...  0.000000   0.0  0.0     0.0       0.0   \n",
       "4        0.0           0.0  ...  0.000000   0.0  0.0     0.0       0.0   \n",
       "..       ...           ...  ...       ...   ...  ...     ...       ...   \n",
       "105      0.0           0.0  ...  0.000000   0.0  0.0     0.0       0.0   \n",
       "106      0.0           0.0  ...  0.000000   0.0  0.0     0.0       0.0   \n",
       "107      0.0           0.0  ...  0.000000   0.0  0.0     0.0       0.0   \n",
       "108      0.0           0.0  ...  0.000000   0.0  0.0     0.0       0.0   \n",
       "109      0.0           0.0  ...  0.000000   0.0  0.0     0.0       0.0   \n",
       "\n",
       "     ximena  zapateiro  órdenes  último  único  \n",
       "0       0.0        0.0  0.00000     0.0    0.0  \n",
       "1       0.0        0.0  0.00000     0.0    0.0  \n",
       "2       0.0        0.0  0.00000     0.0    0.0  \n",
       "3       0.0        0.0  0.00000     0.0    0.0  \n",
       "4       0.0        0.0  0.00000     0.0    0.0  \n",
       "..      ...        ...      ...     ...    ...  \n",
       "105     0.0        0.0  0.00000     0.0    0.0  \n",
       "106     0.0        0.0  0.00000     0.0    0.0  \n",
       "107     0.0        0.0  0.00000     0.0    0.0  \n",
       "108     0.0        0.0  0.00000     0.0    0.0  \n",
       "109     0.0        0.0  0.21395     0.0    0.0  \n",
       "\n",
       "[110 rows x 876 columns]"
      ]
     },
     "execution_count": 38,
     "metadata": {},
     "output_type": "execute_result"
    }
   ],
   "source": [
    "tfidf_vect = TfidfVectorizer(preprocessor=preProcesado)\n",
    "tfidf = tfidf_vect.fit_transform(datos.texto_limpio.values)\n",
    "tfidf_matrix = pd.DataFrame(tfidf.toarray(), columns = tfidf_vect.get_feature_names())\n",
    "tfidf_matrix"
   ]
  },
  {
   "cell_type": "code",
   "execution_count": 39,
   "metadata": {},
   "outputs": [
    {
     "name": "stdout",
     "output_type": "stream",
     "text": [
      "env: OMP_NUM_THREADS=8\n"
     ]
    },
    {
     "name": "stderr",
     "output_type": "stream",
     "text": [
      "D:\\ProgramFiles\\Anaconda3.2020.11\\lib\\site-packages\\sklearn\\cluster\\_kmeans.py:881: UserWarning:\n",
      "\n",
      "KMeans is known to have a memory leak on Windows with MKL, when there are less chunks than available threads. You can avoid it by setting the environment variable OMP_NUM_THREADS=1.\n",
      "\n"
     ]
    },
    {
     "data": {
      "image/png": "[encoded data removed]",
      "text/plain": [
       "<Figure size 432x288 with 1 Axes>"
      ]
     },
     "metadata": {
      "needs_background": "light"
     },
     "output_type": "display_data"
    }
   ],
   "source": [
    "%set_env OMP_NUM_THREADS=8\n",
    "ks = []\n",
    "k_inertias = []\n",
    "\n",
    "for k in range(1,12):\n",
    "    kmeans = KMeans(n_clusters=k).fit(tfidf_matrix)\n",
    "    k_inertia = kmeans.inertia_\n",
    "    \n",
    "    ks.append(k)\n",
    "    k_inertias.append(k_inertia)\n",
    "    \n",
    "    \n",
    "# list(zip(ks,k_inertias))\n",
    "\n",
    "plt.xlabel(\"Número de cúmulos\")\n",
    "plt.ylabel(\"Inercia\")\n",
    "plt.title(\"Método del codo\")\n",
    "plt.plot(ks, k_inertias, 'bx-');"
   ]
  },
  {
   "cell_type": "code",
   "execution_count": 40,
   "metadata": {},
   "outputs": [
    {
     "data": {
      "text/html": [
       "<div>\n",
       "<style scoped>\n",
       "    .dataframe tbody tr th:only-of-type {\n",
       "        vertical-align: middle;\n",
       "    }\n",
       "\n",
       "    .dataframe tbody tr th {\n",
       "        vertical-align: top;\n",
       "    }\n",
       "\n",
       "    .dataframe thead th {\n",
       "        text-align: right;\n",
       "    }\n",
       "</style>\n",
       "<table border=\"1\" class=\"dataframe\">\n",
       "  <thead>\n",
       "    <tr style=\"text-align: right;\">\n",
       "      <th></th>\n",
       "      <th>tweets</th>\n",
       "      <th>fecha</th>\n",
       "      <th>ciudad</th>\n",
       "      <th>localizacion_usuario</th>\n",
       "      <th>id</th>\n",
       "      <th>enlace</th>\n",
       "      <th>texto_limpio</th>\n",
       "      <th>enlaces</th>\n",
       "      <th>hashtags</th>\n",
       "      <th>menciones</th>\n",
       "      <th>cluster</th>\n",
       "    </tr>\n",
       "  </thead>\n",
       "  <tbody>\n",
       "    <tr>\n",
       "      <th>0</th>\n",
       "      <td>@PrimeraLineacol El paró no lo para nadie hast...</td>\n",
       "      <td>2021-05-19 17:59:02</td>\n",
       "      <td>Bogotá</td>\n",
       "      <td>Bogotá, D.C., Colombia</td>\n",
       "      <td>1395076547103510530</td>\n",
       "      <td>https://twitter.com/i/web/stuatus/139507654710...</td>\n",
       "      <td>El paró no lo para nadie hasta lograr liberta...</td>\n",
       "      <td>[]</td>\n",
       "      <td>[]</td>\n",
       "      <td>[@PrimeraLineacol]</td>\n",
       "      <td>0</td>\n",
       "    </tr>\n",
       "    <tr>\n",
       "      <th>1</th>\n",
       "      <td>@intiasprilla joven, cumplido los 18, vote en ...</td>\n",
       "      <td>2021-05-19 17:54:54</td>\n",
       "      <td>Bogotá</td>\n",
       "      <td>Bogotá</td>\n",
       "      <td>1395075505326596096</td>\n",
       "      <td>https://twitter.com/i/web/stuatus/139507550532...</td>\n",
       "      <td>joven, cumplido los 18, vote en el 2006 por e...</td>\n",
       "      <td>[]</td>\n",
       "      <td>[]</td>\n",
       "      <td>[@intiasprilla, @AlvaroUribeVel,]</td>\n",
       "      <td>1</td>\n",
       "    </tr>\n",
       "    <tr>\n",
       "      <th>2</th>\n",
       "      <td>Y entonces el #Matarife y sus secuaces pretend...</td>\n",
       "      <td>2021-05-19 17:49:49</td>\n",
       "      <td>Bogotá</td>\n",
       "      <td>Bogotá, D.C., Colombia</td>\n",
       "      <td>1395074226118438916</td>\n",
       "      <td>https://twitter.com/i/web/stuatus/139507422611...</td>\n",
       "      <td>Y entonces el  y sus secuaces pretenden arrodi...</td>\n",
       "      <td>[https://t.co/r39ROk5yYX]</td>\n",
       "      <td>[#Matarife, #UribeGolpista, #YoApoyoAQuintero]</td>\n",
       "      <td>[]</td>\n",
       "      <td>1</td>\n",
       "    </tr>\n",
       "    <tr>\n",
       "      <th>3</th>\n",
       "      <td>@AlvaroUribeVel A LAS QUE EL GOBIERNO NO AYUDA...</td>\n",
       "      <td>2021-05-19 17:46:44</td>\n",
       "      <td>Bogotá</td>\n",
       "      <td>Bogota Colombia</td>\n",
       "      <td>1395073452244152325</td>\n",
       "      <td>https://twitter.com/i/web/stuatus/139507345224...</td>\n",
       "      <td>A LAS QUE EL GOBIERNO NO AYUDA PORQUE SOLO HA...</td>\n",
       "      <td>[]</td>\n",
       "      <td>[]</td>\n",
       "      <td>[@AlvaroUribeVel]</td>\n",
       "      <td>1</td>\n",
       "    </tr>\n",
       "    <tr>\n",
       "      <th>4</th>\n",
       "      <td>@petrogustavo Muy bien, pero cuídate mucho, tú...</td>\n",
       "      <td>2021-05-19 17:45:44</td>\n",
       "      <td>Bogotá</td>\n",
       "      <td>Bogotá, D.C., Colombia</td>\n",
       "      <td>1395073199059124228</td>\n",
       "      <td>https://twitter.com/i/web/stuatus/139507319905...</td>\n",
       "      <td>Muy bien, pero cuídate mucho, tú sabes que ha...</td>\n",
       "      <td>[]</td>\n",
       "      <td>[]</td>\n",
       "      <td>[@petrogustavo]</td>\n",
       "      <td>2</td>\n",
       "    </tr>\n",
       "    <tr>\n",
       "      <th>...</th>\n",
       "      <td>...</td>\n",
       "      <td>...</td>\n",
       "      <td>...</td>\n",
       "      <td>...</td>\n",
       "      <td>...</td>\n",
       "      <td>...</td>\n",
       "      <td>...</td>\n",
       "      <td>...</td>\n",
       "      <td>...</td>\n",
       "      <td>...</td>\n",
       "      <td>...</td>\n",
       "    </tr>\n",
       "    <tr>\n",
       "      <th>105</th>\n",
       "      <td>Minga reparte comida y #TalibánDuque bala: cad...</td>\n",
       "      <td>2021-05-19 13:17:05</td>\n",
       "      <td>Bogotá</td>\n",
       "      <td>Bogotá</td>\n",
       "      <td>1395005592092258305</td>\n",
       "      <td>https://twitter.com/i/web/stuatus/139500559209...</td>\n",
       "      <td>Minga reparte comida y  bala: cada cual repart...</td>\n",
       "      <td>[]</td>\n",
       "      <td>[#TalibánDuque, #Matarife:, #RenuncieMolano, #...</td>\n",
       "      <td>[]</td>\n",
       "      <td>1</td>\n",
       "    </tr>\n",
       "    <tr>\n",
       "      <th>106</th>\n",
       "      <td>Cuando tu educación limita tu imaginación se l...</td>\n",
       "      <td>2021-05-19 13:11:12</td>\n",
       "      <td>Bogotá</td>\n",
       "      <td>Bogotá</td>\n",
       "      <td>1395004108839473154</td>\n",
       "      <td>https://twitter.com/i/web/stuatus/139500410883...</td>\n",
       "      <td>Cuando tu educación limita tu imaginación se l...</td>\n",
       "      <td>[]</td>\n",
       "      <td>[#Quinterosequeda, #DDHH, #Reformajudicial, #R...</td>\n",
       "      <td>[@Nessnio, @dw_espanol, @AFPespanol]</td>\n",
       "      <td>1</td>\n",
       "    </tr>\n",
       "    <tr>\n",
       "      <th>107</th>\n",
       "      <td>@maromero86 @ClaudiaLopez Esto no es cierto vi...</td>\n",
       "      <td>2021-05-19 12:59:01</td>\n",
       "      <td>Bogotá</td>\n",
       "      <td>Bogotá, D.C., Colombia</td>\n",
       "      <td>1395001044338450434</td>\n",
       "      <td>https://twitter.com/i/web/stuatus/139500104433...</td>\n",
       "      <td>Esto no es cierto viejo tampoco mentir favor...</td>\n",
       "      <td>[]</td>\n",
       "      <td>[#Matarife]</td>\n",
       "      <td>[@maromero86, @ClaudiaLopez]</td>\n",
       "      <td>1</td>\n",
       "    </tr>\n",
       "    <tr>\n",
       "      <th>108</th>\n",
       "      <td>@joanpada7 @PizarroMariaJo Dios quiera que la ...</td>\n",
       "      <td>2021-05-19 12:56:15</td>\n",
       "      <td>Bogotá</td>\n",
       "      <td>Guadalajara de Buga, Colombia</td>\n",
       "      <td>1395000348528480259</td>\n",
       "      <td>https://twitter.com/i/web/stuatus/139500034852...</td>\n",
       "      <td>Dios quiera que la dictadura nunca le afecte...</td>\n",
       "      <td>[]</td>\n",
       "      <td>[]</td>\n",
       "      <td>[@joanpada7, @PizarroMariaJo]</td>\n",
       "      <td>1</td>\n",
       "    </tr>\n",
       "    <tr>\n",
       "      <th>109</th>\n",
       "      <td>@LadoBCol Duque es un idiota, está cumpliendo ...</td>\n",
       "      <td>2021-05-19 12:53:23</td>\n",
       "      <td>Bogotá</td>\n",
       "      <td>Bogotá, D.C., Colombia</td>\n",
       "      <td>1394999626168688647</td>\n",
       "      <td>https://twitter.com/i/web/stuatus/139499962616...</td>\n",
       "      <td>Duque es un idiota, está cumpliendo órdenes d...</td>\n",
       "      <td>[]</td>\n",
       "      <td>[#Matarife]</td>\n",
       "      <td>[@LadoBCol]</td>\n",
       "      <td>1</td>\n",
       "    </tr>\n",
       "  </tbody>\n",
       "</table>\n",
       "<p>110 rows × 11 columns</p>\n",
       "</div>"
      ],
      "text/plain": [
       "                                                tweets               fecha  \\\n",
       "0    @PrimeraLineacol El paró no lo para nadie hast... 2021-05-19 17:59:02   \n",
       "1    @intiasprilla joven, cumplido los 18, vote en ... 2021-05-19 17:54:54   \n",
       "2    Y entonces el #Matarife y sus secuaces pretend... 2021-05-19 17:49:49   \n",
       "3    @AlvaroUribeVel A LAS QUE EL GOBIERNO NO AYUDA... 2021-05-19 17:46:44   \n",
       "4    @petrogustavo Muy bien, pero cuídate mucho, tú... 2021-05-19 17:45:44   \n",
       "..                                                 ...                 ...   \n",
       "105  Minga reparte comida y #TalibánDuque bala: cad... 2021-05-19 13:17:05   \n",
       "106  Cuando tu educación limita tu imaginación se l... 2021-05-19 13:11:12   \n",
       "107  @maromero86 @ClaudiaLopez Esto no es cierto vi... 2021-05-19 12:59:01   \n",
       "108  @joanpada7 @PizarroMariaJo Dios quiera que la ... 2021-05-19 12:56:15   \n",
       "109  @LadoBCol Duque es un idiota, está cumpliendo ... 2021-05-19 12:53:23   \n",
       "\n",
       "     ciudad           localizacion_usuario                   id  \\\n",
       "0    Bogotá         Bogotá, D.C., Colombia  1395076547103510530   \n",
       "1    Bogotá                        Bogotá   1395075505326596096   \n",
       "2    Bogotá         Bogotá, D.C., Colombia  1395074226118438916   \n",
       "3    Bogotá                Bogota Colombia  1395073452244152325   \n",
       "4    Bogotá         Bogotá, D.C., Colombia  1395073199059124228   \n",
       "..      ...                            ...                  ...   \n",
       "105  Bogotá                         Bogotá  1395005592092258305   \n",
       "106  Bogotá                         Bogotá  1395004108839473154   \n",
       "107  Bogotá         Bogotá, D.C., Colombia  1395001044338450434   \n",
       "108  Bogotá  Guadalajara de Buga, Colombia  1395000348528480259   \n",
       "109  Bogotá         Bogotá, D.C., Colombia  1394999626168688647   \n",
       "\n",
       "                                                enlace  \\\n",
       "0    https://twitter.com/i/web/stuatus/139507654710...   \n",
       "1    https://twitter.com/i/web/stuatus/139507550532...   \n",
       "2    https://twitter.com/i/web/stuatus/139507422611...   \n",
       "3    https://twitter.com/i/web/stuatus/139507345224...   \n",
       "4    https://twitter.com/i/web/stuatus/139507319905...   \n",
       "..                                                 ...   \n",
       "105  https://twitter.com/i/web/stuatus/139500559209...   \n",
       "106  https://twitter.com/i/web/stuatus/139500410883...   \n",
       "107  https://twitter.com/i/web/stuatus/139500104433...   \n",
       "108  https://twitter.com/i/web/stuatus/139500034852...   \n",
       "109  https://twitter.com/i/web/stuatus/139499962616...   \n",
       "\n",
       "                                          texto_limpio  \\\n",
       "0     El paró no lo para nadie hasta lograr liberta...   \n",
       "1     joven, cumplido los 18, vote en el 2006 por e...   \n",
       "2    Y entonces el  y sus secuaces pretenden arrodi...   \n",
       "3     A LAS QUE EL GOBIERNO NO AYUDA PORQUE SOLO HA...   \n",
       "4     Muy bien, pero cuídate mucho, tú sabes que ha...   \n",
       "..                                                 ...   \n",
       "105  Minga reparte comida y  bala: cada cual repart...   \n",
       "106  Cuando tu educación limita tu imaginación se l...   \n",
       "107    Esto no es cierto viejo tampoco mentir favor...   \n",
       "108    Dios quiera que la dictadura nunca le afecte...   \n",
       "109   Duque es un idiota, está cumpliendo órdenes d...   \n",
       "\n",
       "                       enlaces  \\\n",
       "0                           []   \n",
       "1                           []   \n",
       "2    [https://t.co/r39ROk5yYX]   \n",
       "3                           []   \n",
       "4                           []   \n",
       "..                         ...   \n",
       "105                         []   \n",
       "106                         []   \n",
       "107                         []   \n",
       "108                         []   \n",
       "109                         []   \n",
       "\n",
       "                                              hashtags  \\\n",
       "0                                                   []   \n",
       "1                                                   []   \n",
       "2       [#Matarife, #UribeGolpista, #YoApoyoAQuintero]   \n",
       "3                                                   []   \n",
       "4                                                   []   \n",
       "..                                                 ...   \n",
       "105  [#TalibánDuque, #Matarife:, #RenuncieMolano, #...   \n",
       "106  [#Quinterosequeda, #DDHH, #Reformajudicial, #R...   \n",
       "107                                        [#Matarife]   \n",
       "108                                                 []   \n",
       "109                                        [#Matarife]   \n",
       "\n",
       "                                menciones  cluster  \n",
       "0                      [@PrimeraLineacol]        0  \n",
       "1       [@intiasprilla, @AlvaroUribeVel,]        1  \n",
       "2                                      []        1  \n",
       "3                       [@AlvaroUribeVel]        1  \n",
       "4                         [@petrogustavo]        2  \n",
       "..                                    ...      ...  \n",
       "105                                    []        1  \n",
       "106  [@Nessnio, @dw_espanol, @AFPespanol]        1  \n",
       "107          [@maromero86, @ClaudiaLopez]        1  \n",
       "108         [@joanpada7, @PizarroMariaJo]        1  \n",
       "109                           [@LadoBCol]        1  \n",
       "\n",
       "[110 rows x 11 columns]"
      ]
     },
     "execution_count": 40,
     "metadata": {},
     "output_type": "execute_result"
    }
   ],
   "source": [
    "k = 3\n",
    "model = KMeans(n_clusters=k)\n",
    "model.fit(tfidf_matrix)\n",
    "\n",
    "datos['cluster'] = model.labels_\n",
    "datos"
   ]
  },
  {
   "cell_type": "code",
   "execution_count": 41,
   "metadata": {},
   "outputs": [
    {
     "name": "stdout",
     "output_type": "stream",
     "text": [
      "Cluster # 0\n",
      "Tiene 7 registros (6.36% de los datos)\n",
      "\n",
      "TÉRMINOS MÁS REPRESENTATIVOS\n",
      "narcogobierno iván lograr libertar duque colombia paró nadie terrorista asesino matarife único diálogo sólo paracos paro paraco si genocida marchas \n",
      "\n",
      "DOCUMENTOS MÁS REPRESENTATIVOS\n",
      " ***  El paró no lo para nadie hasta lograr libertar Colombia de este narcogobierno asesino terrorista de Iván duque y el matarife Álvaro Uribe Vélez\n",
      "\n",
      " ***   El paró no lo para nadie hasta lograr libertar Colombia de este narcogobierno asesino terrorista de Iván duque y el matarife Álvaro Uribe Vélez Él paró no lo para nadie hasta lograr libertar Colombia de este narcogobierno asesino terrorista de Iván duque y el matarife uribe Vélez\n",
      "\n",
      " ***  Él paró no lo para nadie hasta lograr libertar Colombia de este narcogobierno asesino terrorista de Iván duque y el matarife Álvaro Uribe Vélez. El paró no lo para nadie hasta lograr libertar Colombia de este narcogobierno asesino terrorista de Iván duque y el matarife Uribe\n",
      "\n",
      "\n",
      "********************************************\n",
      "\n",
      "Cluster # 1\n",
      "Tiene 98 registros (89.09% de los datos)\n",
      "\n",
      "TÉRMINOS MÁS REPRESENTATIVOS\n",
      "matarife si títere solo genocida quiere pueblo paraco colombia hacer dictador petro guerra dictadura mejor antioquía pues cómo doctor diga \n",
      "\n",
      "DOCUMENTOS MÁS REPRESENTATIVOS\n",
      " ***  Alguien que le diga al matarife que tumbe al títere.\n",
      "\n",
      " *** No pasará! Matarife genocida. \n",
      "\n",
      " ***      será el próximo, no nos extrañe cuando se le destituya como si esto fuera una dictadura,  es solo un títere que sigue órdenes del \n",
      "\n",
      "\n",
      "********************************************\n",
      "\n",
      "Cluster # 2\n",
      "Tiene 5 registros (4.55% de los datos)\n",
      "\n",
      "TÉRMINOS MÁS REPRESENTATIVOS\n",
      "bien tan gente sabes infiltrados cuídate incómodo apoyo haciendo total amigo expropiadora fin marido si matarife epm paraca podredumbre revocar \n",
      "\n",
      "DOCUMENTOS MÁS REPRESENTATIVOS\n",
      " *** El matarife amigo del matarife  marido de la expropiadora en fin todos tan “gente de bien” \n",
      "\n",
      " *** Algo está haciendo tan bien que ya le incómodo al  y por eso mi total apoyo  y  \n",
      "\n",
      " ***  Muy bien, pero cuídate mucho, tú sabes que hay infiltrados del matarife.\n",
      "\n",
      "\n",
      "********************************************\n",
      "\n"
     ]
    }
   ],
   "source": [
    "nbrs = NearestNeighbors(n_neighbors=3, metric='euclidean').fit(tfidf_matrix.values)\n",
    "\n",
    "clust_cnt = datos['cluster'].value_counts()\n",
    "clust_cnt_pct = datos['cluster'].value_counts(normalize=True)\n",
    "\n",
    "centroids = model.cluster_centers_\n",
    "\n",
    "terms = tfidf_vect.get_feature_names()\n",
    "order_centroids = centroids.argsort()[:, ::-1]\n",
    "\n",
    "for i in range(k):\n",
    "    print(f\"Cluster # {i}\")\n",
    "    print(f\"Tiene {clust_cnt[i]} registros ({clust_cnt_pct[i]:.2%} de los datos)\")\n",
    "    print()\n",
    "    \n",
    "    print(\"TÉRMINOS MÁS REPRESENTATIVOS\")\n",
    "    for ind in order_centroids[i][:20]:\n",
    "        print(terms[ind], end=\" \")\n",
    "    print()\n",
    "    print()\n",
    "    \n",
    "    print(f\"DOCUMENTOS MÁS REPRESENTATIVOS\")\n",
    "    for vecino in datos.iloc[nbrs.kneighbors([centroids[i]])[1][0]].texto_limpio.values:\n",
    "        print(f\" *** {vecino}\")\n",
    "        print()\n",
    "        \n",
    "    print()\n",
    "    print(\"********************************************\")\n",
    "    print()"
   ]
  },
  {
   "cell_type": "code",
   "execution_count": 46,
   "metadata": {},
   "outputs": [
    {
     "data": {
      "text/html": [
       "<div>\n",
       "<style scoped>\n",
       "    .dataframe tbody tr th:only-of-type {\n",
       "        vertical-align: middle;\n",
       "    }\n",
       "\n",
       "    .dataframe tbody tr th {\n",
       "        vertical-align: top;\n",
       "    }\n",
       "\n",
       "    .dataframe thead th {\n",
       "        text-align: right;\n",
       "    }\n",
       "</style>\n",
       "<table border=\"1\" class=\"dataframe\">\n",
       "  <thead>\n",
       "    <tr style=\"text-align: right;\">\n",
       "      <th></th>\n",
       "      <th>X</th>\n",
       "      <th>Y</th>\n",
       "      <th>cluster</th>\n",
       "      <th>texto</th>\n",
       "      <th>colores</th>\n",
       "    </tr>\n",
       "  </thead>\n",
       "  <tbody>\n",
       "    <tr>\n",
       "      <th>0</th>\n",
       "      <td>0.923199</td>\n",
       "      <td>-0.001157</td>\n",
       "      <td>Cluster 0 - PARO</td>\n",
       "      <td>El paró no lo para nadie hasta lograr liberta...</td>\n",
       "      <td>yellow</td>\n",
       "    </tr>\n",
       "    <tr>\n",
       "      <th>1</th>\n",
       "      <td>-0.008495</td>\n",
       "      <td>0.034496</td>\n",
       "      <td>Cluster 1 - DICTADURA</td>\n",
       "      <td>joven, cumplido los 18, vote en el 2006 por e...</td>\n",
       "      <td>blue</td>\n",
       "    </tr>\n",
       "    <tr>\n",
       "      <th>2</th>\n",
       "      <td>-0.082540</td>\n",
       "      <td>-0.196800</td>\n",
       "      <td>Cluster 1 - DICTADURA</td>\n",
       "      <td>Y entonces el  y sus secuaces pretenden arrodi...</td>\n",
       "      <td>blue</td>\n",
       "    </tr>\n",
       "    <tr>\n",
       "      <th>3</th>\n",
       "      <td>-0.078775</td>\n",
       "      <td>0.063560</td>\n",
       "      <td>Cluster 1 - DICTADURA</td>\n",
       "      <td>A LAS QUE EL GOBIERNO NO AYUDA PORQUE SOLO HA...</td>\n",
       "      <td>blue</td>\n",
       "    </tr>\n",
       "    <tr>\n",
       "      <th>4</th>\n",
       "      <td>-0.065701</td>\n",
       "      <td>-0.044651</td>\n",
       "      <td>Cluster 2 - EXPROPIACIÓN</td>\n",
       "      <td>Muy bien, pero cuídate mucho, tú sabes que ha...</td>\n",
       "      <td>red</td>\n",
       "    </tr>\n",
       "    <tr>\n",
       "      <th>...</th>\n",
       "      <td>...</td>\n",
       "      <td>...</td>\n",
       "      <td>...</td>\n",
       "      <td>...</td>\n",
       "      <td>...</td>\n",
       "    </tr>\n",
       "    <tr>\n",
       "      <th>105</th>\n",
       "      <td>-0.070324</td>\n",
       "      <td>-0.050476</td>\n",
       "      <td>Cluster 1 - DICTADURA</td>\n",
       "      <td>Minga reparte comida y  bala: cada cual repart...</td>\n",
       "      <td>blue</td>\n",
       "    </tr>\n",
       "    <tr>\n",
       "      <th>106</th>\n",
       "      <td>-0.068617</td>\n",
       "      <td>-0.037295</td>\n",
       "      <td>Cluster 1 - DICTADURA</td>\n",
       "      <td>Cuando tu educación limita tu imaginación se l...</td>\n",
       "      <td>blue</td>\n",
       "    </tr>\n",
       "    <tr>\n",
       "      <th>107</th>\n",
       "      <td>-0.078050</td>\n",
       "      <td>-0.088855</td>\n",
       "      <td>Cluster 1 - DICTADURA</td>\n",
       "      <td>Esto no es cierto viejo tampoco mentir favor...</td>\n",
       "      <td>blue</td>\n",
       "    </tr>\n",
       "    <tr>\n",
       "      <th>108</th>\n",
       "      <td>-0.075458</td>\n",
       "      <td>-0.003565</td>\n",
       "      <td>Cluster 1 - DICTADURA</td>\n",
       "      <td>Dios quiera que la dictadura nunca le afecte...</td>\n",
       "      <td>blue</td>\n",
       "    </tr>\n",
       "    <tr>\n",
       "      <th>109</th>\n",
       "      <td>-0.009423</td>\n",
       "      <td>-0.043810</td>\n",
       "      <td>Cluster 1 - DICTADURA</td>\n",
       "      <td>Duque es un idiota, está cumpliendo órdenes d...</td>\n",
       "      <td>blue</td>\n",
       "    </tr>\n",
       "  </tbody>\n",
       "</table>\n",
       "<p>110 rows × 5 columns</p>\n",
       "</div>"
      ],
      "text/plain": [
       "            X         Y                   cluster  \\\n",
       "0    0.923199 -0.001157          Cluster 0 - PARO   \n",
       "1   -0.008495  0.034496     Cluster 1 - DICTADURA   \n",
       "2   -0.082540 -0.196800     Cluster 1 - DICTADURA   \n",
       "3   -0.078775  0.063560     Cluster 1 - DICTADURA   \n",
       "4   -0.065701 -0.044651  Cluster 2 - EXPROPIACIÓN   \n",
       "..        ...       ...                       ...   \n",
       "105 -0.070324 -0.050476     Cluster 1 - DICTADURA   \n",
       "106 -0.068617 -0.037295     Cluster 1 - DICTADURA   \n",
       "107 -0.078050 -0.088855     Cluster 1 - DICTADURA   \n",
       "108 -0.075458 -0.003565     Cluster 1 - DICTADURA   \n",
       "109 -0.009423 -0.043810     Cluster 1 - DICTADURA   \n",
       "\n",
       "                                                 texto colores  \n",
       "0     El paró no lo para nadie hasta lograr liberta...  yellow  \n",
       "1     joven, cumplido los 18, vote en el 2006 por e...    blue  \n",
       "2    Y entonces el  y sus secuaces pretenden arrodi...    blue  \n",
       "3     A LAS QUE EL GOBIERNO NO AYUDA PORQUE SOLO HA...    blue  \n",
       "4     Muy bien, pero cuídate mucho, tú sabes que ha...     red  \n",
       "..                                                 ...     ...  \n",
       "105  Minga reparte comida y  bala: cada cual repart...    blue  \n",
       "106  Cuando tu educación limita tu imaginación se l...    blue  \n",
       "107    Esto no es cierto viejo tampoco mentir favor...    blue  \n",
       "108    Dios quiera que la dictadura nunca le afecte...    blue  \n",
       "109   Duque es un idiota, está cumpliendo órdenes d...    blue  \n",
       "\n",
       "[110 rows x 5 columns]"
      ]
     },
     "execution_count": 46,
     "metadata": {},
     "output_type": "execute_result"
    }
   ],
   "source": [
    "clusters = {0: \"Cluster 0 - PARO\", \n",
    "            1: \"Cluster 1 - DICTADURA\",\n",
    "            2: \"Cluster 2 - EXPROPIACIÓN\",\n",
    "            \n",
    "}\n",
    "\n",
    "datos['nombres_clusters'] = datos['cluster'].apply(lambda val: clusters[val])\n",
    "pca = PCA(n_components=2)\n",
    "\n",
    "result = pca.fit_transform(tfidf_matrix)\n",
    "result = pd.DataFrame(result)\n",
    "result.columns = ['X', 'Y']\n",
    "result['cluster'] = datos.nombres_clusters.values\n",
    "result['texto'] = datos.texto_limpio.apply(lambda val: val[:])\n",
    "\n",
    "colorsIdx = {\n",
    "            \"Cluster 0 - PARO\": \"yellow\", \n",
    "            \"Cluster 1 - DICTADURA\": \"blue\",\n",
    "            \"Cluster 2 - EXPROPIACIÓN\": \"red\" }\n",
    "\n",
    "result['colores'] = result['cluster'].map(colorsIdx)\n",
    "result"
   ]
  },
  {
   "cell_type": "markdown",
   "metadata": {},
   "source": [
    "### Gráfico de agrupaciones de Tweets:"
   ]
  },
  {
   "cell_type": "code",
   "execution_count": 47,
   "metadata": {},
   "outputs": [
    {
     "data": {
      "application/vnd.plotly.v1+json": {
       "config": {
        "linkText": "Export to plot.ly",
        "plotlyServerURL": "https://plot.ly",
        "showLink": false
       },
       "data": [
        {
         "marker": {
          "color": [
           "yellow",
           "blue",
           "blue",
           "blue",
           "red",
           "blue",
           "blue",
           "yellow",
           "yellow",
           "blue",
           "blue",
           "blue",
           "blue",
           "blue",
           "blue",
           "blue",
           "blue",
           "red",
           "blue",
           "blue",
           "blue",
           "blue",
           "blue",
           "blue",
           "blue",
           "blue",
           "blue",
           "red",
           "blue",
           "blue",
           "blue",
           "blue",
           "blue",
           "blue",
           "red",
           "blue",
           "blue",
           "blue",
           "blue",
           "blue",
           "blue",
           "blue",
           "blue",
           "blue",
           "blue",
           "blue",
           "blue",
           "yellow",
           "blue",
           "yellow",
           "yellow",
           "yellow",
           "blue",
           "blue",
           "blue",
           "blue",
           "blue",
           "blue",
           "blue",
           "blue",
           "blue",
           "blue",
           "blue",
           "blue",
           "red",
           "blue",
           "blue",
           "blue",
           "blue",
           "blue",
           "blue",
           "blue",
           "blue",
           "blue",
           "blue",
           "blue",
           "blue",
           "blue",
           "blue",
           "blue",
           "blue",
           "blue",
           "blue",
           "blue",
           "blue",
           "blue",
           "blue",
           "blue",
           "blue",
           "blue",
           "blue",
           "blue",
           "blue",
           "blue",
           "blue",
           "blue",
           "blue",
           "blue",
           "blue",
           "blue",
           "blue",
           "blue",
           "blue",
           "blue",
           "blue",
           "blue",
           "blue",
           "blue",
           "blue",
           "blue"
          ]
         },
         "mode": "markers",
         "text": [
          " El paró no lo para nadie hasta lograr libertar Colombia de este narcogobierno asesino terrorista de Iván duque y el matarife Álvaro Uribe Vélez",
          " joven, cumplido los 18, vote en el 2006 por el matarife \n mi estudio y la lectura me enseñó la verdadera cara de esta rata, jamás votaría por el enano paraco, ni por nadie de su secta satánica, arrepentido toda la vida de ese voto.",
          "Y entonces el  y sus secuaces pretenden arrodillar al país a cómo se les dé la gana   ",
          " A LAS QUE EL GOBIERNO NO AYUDA PORQUE SOLO HAY EXCEPCIONES PARA LAS GRANDES LAS QUE NO LES COBRAN NADA O LOS MÁS RICOS QUE NO PAGAN IMPUESTOS. COMO MATARIFE EL GENOCIDA QUE SOLO BUSCA QUEDARSE CON EL PODER BAÑANADO DE SANGRE LA TIERRA",
          " Muy bien, pero cuídate mucho, tú sabes que hay infiltrados del matarife.",
          "Expectativa  gritos desenfrenados en  colmatación de la  e individualización de su  Entendimos ya lo que quiere el    COMO LO EVITAMOS? Es lo que traducen mis gritos!! ",
          " Santos no tiene problemas con Uribe lo ha dicho y lo ha demostrado muchas veces, el que vive rabon porque no se le dejó manejar como marioneta es el matarife y su séquito de burros.",
          " El paro no lo para nadie hasta lograr libertar Colombia de este narcogobierno asesino terrorista de Iván duque y el matarife Álvaro Uribe Vélezel paró no lo para nadie hasta lograr libertar Colombia de este narcogobierno asesino terrorista de Iván duque y el matarife Uribe Vélez",
          "  El paró no lo para nadie hasta lograr libertar Colombia de este narcogobierno asesino terrorista de Iván duque y el matarife Álvaro Uribe Vélez Él paró no lo para nadie hasta lograr libertar Colombia de este narcogobierno asesino terrorista de Iván duque y el matarife uribe Vélez",
          "      Pues si también hay profesores que creen en el matarife, porque no pueden creer en ese ciego.",
          "      Una vez más. Gracias a Dios somos la gran Mayoría Antiuribistas y Antipetristas que los dos extremos Juntos. Petro Jamás será Presidente, ya que con su igual el Matarife justo a sus petroñeros tienen el país destruido. NUNCA MAS. Llora Petroñero.",
          "Que no se diga que este señor Jayan Nasal no está pilas actualizando la pauta estatal en los canales. Ya están sacando a los campesinos a decir que voten por el que diga Matarife.",
          " Cuidado Gustavo que el matarife esta asustado y así es más peligroso.",
          "    Por eso los jovenes leemos investigamos. Por eso vamos a cambiar este pais de ratas como uribe el matarife y claudia la lesbiana sodomita",
          " Falsardo habla mierda ya nadie te cree tibio hijueputa seguidor del matarife! ",
          "  Ay Dios! Ps si creen q matarife es el mesias q se puede esperar!",
          "Detener el ascenso del fascismo y el autogolpe a las instuaciones del  y el Uribato.\nUna imagen que debe dar la vuelta al mundo  en marcha.\n\n\n\n ",
          "Algo está haciendo tan bien que ya le incómodo al  y por eso mi total apoyo  y  ",
          " Santos no tiene el Gabinete preso y huyendo cómo el matarife jajajaja.",
          " Uyyy no les dé ideas que nombran a Matarife.",
          " Será que se refieren a las chilladas, y noches de desasosiego que se vive repitiendo en la cabeza “quien me mando a meterme en esto”? Porque no veo en que mas puede parecerse a un doctorado trabajar al lado de don matarife",
          "Que diferentes son, cuántos escoltas ven al rededor de  En cambio al   no lo dejan que se le arrime el pueblo, a menos que sean los buenos muchachos de las toyotas blancas ",
          "Parce no se extrañen de que ese señor Nieto Loaiza salga con inquicisiones no ven que ni siquiera sabe cuánto calza el ",
          "La  debería mejor nombrar un Presidente Ad-hoc para ver si salimos de este mierdero. Pero claro, queda el pequeño detalle que el Jefe Inmediato del ente es  ",
          "El CRIMEN SI PAGA en COL. La hermana del lavador de activos Jaime Lombana, uno de los abogánster del  será la nueva ministra de comercio exterior. No queda duda que las órdenes se dan desde el Uberrimo   ",
          "  Ojo que el  quiere coger a Medellín como base para el golpe de estado.",
          "Matarife, Antioquía ya no es tierra paramilitar,Viva Colombia libre! ",
          " Si, tiene razón mucha hipocresía, ese Alvaraco Uribe si es bien hipócrita!! \n\nOjalá JuanPa nomle de la mano a ese asesino, genocida, narcoparamilitar de Uribe.\n\n   \n\n",
          "  El Matarife cambia la constitución se reelige y perpetuarse como Chávez, controla toda las instituciones del estado, los medios de comunicación atacan la oposición, Adoctrino las FF.AA como Chávez, copió todas las políticas de Chávez, \nY dice este hp q el chavista es Petro ",
          "  Está de segundas Álvaro Uribe, o tal vez lo conozca mejor como el  o el  o ",
          " \nEl golpe de estado en Medellín, como el de Cali, pero sin azúcar, ¿qué es sino la salida del último armario que le quedaba a  (por cierto, un armario transparente): el de la criminalidad?",
          " su peor temor es no tener poder y se vale de artimañas para imponer lo él cree es correcto, en complicidad de gran parte de los estamentos del estado. Maldito ",
          " Eso es ser grande, usted que va saber de paz y reconciliación sí le gusta es la guerra, sangre y la corrupción.\nAdemás es una propuesta que la debería de contestar el matarife no tú, a menos que seas la mosa.",
          "La Procuradora Margarita Cabello  en MANDADO del  INCURRIÓ EN DELITO d abuso d función pública al atribuirse funciones del  al solicitar a Duque nombrar alcalde ad-hoc en Medallo.DEBE ser DENUNCIADA \nOJO    ",
          "El matarife amigo del matarife  marido de la expropiadora en fin todos tan “gente de bien” ",
          "   usted tiene quebrada a toda Colombia, tenga dignidad y acepte sus delitos, por una Colombia mejor y si ese cáncer del ",
          " Sr.  y por qué no utilizan los helicópteros para llevar comida, o es qué solo sirven para llevar armas ??? ",
          " El matarife pagando favores 😒",
          " HRI debe hacer algo para que el matarife y su combo de delincuentes no sigan arrasando con nuestro país y nuestra juventud.",
          "Claro que el matarife quiere sacarlo a él o a cualquiera  que defienda los derechos humanos   ",
          " Señora Vicky, mas daño al pueblo que Matarife o porky no ha existido, no se venda por migajas, recuerde que ud representa un medio de comunicacion, no le da pena haber estudiado para esto?",
          "Que el cotilleo no tumbe Alcaldes ni la voz en of de Matarife pueda más que la del voto popular. ",
          "    Claudia solo sabe hacer eso, hablar mierda de Petro, se le volvió un delirio, le salen las ordenes del matarife por los poros",
          " Segura? ojalá sea cierto, yo ando en modo pesimista. Hasta un bravucón impotente como ese es capaz de ganar si el otro bravucón matarife lo apoya.",
          "  Y los medios serviles al fraudeñeñe y el matarife quieren que se dividan para acabar con el paro nacional que ya lleva 20 dias causado por un títere bandido avaro que con fraude trabaja es para el mayor genocida narcoparamilitar del mundo y sus socios secta URIBISTA ",
          " Este títere y el genocida neonazi matarife y su secta cartel URIBISTA se roban billones de pesos no ayudan a ningún trabajador familias ni microempresas compran más armamento contra el pueblo y le está echando la culpa a los gobernadores y alcaldes de otros partidos..FRAUDEÑEÑE",
          " Pobrecito don matarife como sufre cómo es tan bueno y el nunca ha hecho nada 🤬 ",
          " El único diálogo es sólo lograr libertar Colombia de este narcogobierno asesino terrorista de Iván duque y el matarife Álvaro Uribe Vélez. Fuera él narcogobierno de Iván duque y el matarife Álvaro Uribe Vélez",
          " El paraco hablando de matanzas cuando son un títere más de matarife!",
          " Él paró no lo para nadie hasta lograr libertar Colombia de este narcogobierno asesino terrorista de Iván duque y el matarife Álvaro Uribe Vélez. El paró no lo para nadie hasta lograr libertar Colombia de este narcogobierno asesino terrorista de Iván duque y el matarife Uribe",
          " Él paró no lo para nadie hasta lograr libertar Colombia de este narcogobierno asesino terrorista de Iván duque y el matarife Álvaro Uribe Vélez. El paró no lo para nadie hasta lograr libertar Colombia de este narcogobierno de Iván duque y el matarife Álvaro Uribe Vélez. Paracos",
          " Él paró no lo para nadie hasta lograr libertar Colombia de este narcogobierno asesino terrorista de Iván duque y el matarife Álvaro Uribe Vélez... Él paró no lo para nadie hasta lograr libertar Colombia de este narcogobierno de Iván duque y el matarife Álvaro Uribe Vélez. Paraco",
          "Creador de las convivir, paraco, narco, asesino, matarife, usurpador de tierras, indolente, macabro, diabólico, un total hijo de puta, el cáncer de Colombia  ",
          " Que trabaje en la casa del matarife para que lo quiebre, pero que sea literal",
          "La alcaldesa de Bogota resultó más Uribista que el Matarife#VerParaCreer",
          "Antioquía ya no es el del Matarife.#UribeGolpista",
          "Matarife dictador dictadooorrr ",
          "No pasará! Matarife genocida. ",
          "Y el gobierno Duque sigue cojeando para el mismo lado. Nombrar a Ximena Lombana (hermana del abogado del matarife) como Ministra de Comercio Exterior es confirmar que una vez más ponen a alguien de su elite para seguir haciendo lo que les da la gana, mientras la crisis empeora",
          " Esta vieja loca si es resentida con cualquiera que hable del matarife que es el que le cubre todo lo que hace el esposo y su suegro",
          " el  muestra sus intenciones de conducirnos a la dictadura",
          "El matarife sigue retando al pueblo se cree intocable, ya lo veré llorando a este engendro de mal!, pueblo a las calles. ",
          "   Solo uribestias fracasados seguidores del MATARIFE, felicitan ha un misógino fascista, corrupto lagarto, que solo lo conoce la mamá 🤣🤣🤣🤮🤮🤮 ",
          " Hay pero que lamboneria... Que va aceptar el matarife hacer una tregua, hay se nota la diferencia  de seres que son‼️",
          "El hijueputa  y toda la gente bien (paraca) de Medellín quieren revocar a  porque les destapó la olla de podredumbre y corrupción de la epm. ",
          "Las órdenes de Matarife:\n-A la Procuraduría: Procure no tocar a mis muchachos hijita.\n-A la Defensoría del Pueblo: Defiéndanos de esos vándalos de Petro.\n-A la Contraloría: Controle a sus maridos a mis funcionarios me los deja pecular.\nY a la Fiscalía: Archive y cumpla.",
          "La generación del tamal y la gaseosa,votó por un candidato mentiroso y falaz,convencidos de que era un demócrata,y resulto un simple títere o pelele de un matarife que sin escrúpulo alguno pretende ser un dictador y un ordenador de masacres, contra un pueblo que reclama justicia.",
          "    Y para cuando los cabezillas de la BACRIM más grande de POLOMBIA EL CENTRO DEMOCRÁTICO Y EL GENOCIDA 6402 ALIAS MATARIFE SU PATRÓN",
          "  Verdad que l  le quiere tumbar para que el  nombre un cerdo? !!!malparidos!!!\n\n",
          " Hasta q el matarife caiga 😂😂😂😂 no era por la reforma ? Por carrasquilla? Ya no saben q más inventar 15 pelagatos   a garantizar los derechos de las mayorías !",
          " Cuídese mucho Daniel que el Matarife ya le declaró la guerra.",
          "De que me hablas viejo? Dé la gente inepta en el  gobierno,cuya estultez,les impide ver la realidad social,pues ellos creen estar en posesión de la verdad dictada por un patrón, matarife, o mafioso,que ordena matar, masacrar,maltratar,y lesionar a jovenes por rechazar lo injusto.",
          " Lo dice un paramilitar, asesino, corrupto mafioso fascista 🤣🤣dizque se respeta  los derechos de los manifestantes, cafre, estas son las basuras delincuentes del mafioso inepto pusilánime mandadero del MATARIFE. ",
          "   La hermana del abogado del matarife, vaya sorpresa",
          "No le gusta? Pues porque le quitó el negocio al  y sus secuaces el  ",
          "Por quien debemos ir es por el matarife. Muerte y destrucción de una política de guerra, terror, violencia y corrupción. ",
          "  Que el clamor nacional sea para que renuncien    \nSe convirtieron en entes burocráticos manejados por adeptos partidarios del cartel criminal  para proteger a su matarife ",
          "  ay bachiller, ni siquiera el patrón (#Matarife por si acaso, no sarmiento) quiere estar junto a  en estos momentos",
          "  Ahi se ve la corrupción del MATARIFE como no hizo lo q el dijo entonces lo atacaron son unas ratas cochinas hptas basuras",
          " El partido donde estan familiares de Pablo Escobar y hijas de narcos no es el de petro, es el partido del matarife ",
          "Ayer protestaban los estudiantes. Eran ellos.\nAyer protestaban los trabajadores. Eran ellos.\nAyer protestaban los camioneros. Eran ellos.\nHoy nos unimos y protestamos todos, porque a todos nos persigue el matarife y sus secuaces.\nHoy aprendimos que unidos somos más",
          " Quien habla de hipocresia: la que tiene familiares corruptos, la Que inventa noticias o las modifica para beneficio de Matarife.",
          "     será el próximo, no nos extrañe cuando se le destituya como si esto fuera una dictadura,  es solo un títere que sigue órdenes del ",
          " No tenemos dice este petardo, sé le llena la jeta al matarife sintiéndose parte de algo que el ayudó a causar.",
          "La Revolución molecular disipada del dictador nazi   El Matarife \n ",
          " El matarife paraco genocida no posee esas cualidades humanas entre más odios y derramamiento de sangre genere más alimenta energéticamente a sus arcontes internos",
          " Matarife le quedo en pañales a este señor, increible todo lo pense menos esto con su cara de inocente...Que le va a decir a Dios y a su virgen por los mas 50 muertos y 550 desaparecidos? Esto es una dictadura totalmente",
          "Ya Fajardo alertó del GOLPE DE ESTADO que planean el  Duque y Zapateiro para q Gustavo Petro no sea nuestro Presidente en 2022? OJO CON ESTO. Esto implicaría UNA GUERRA CIVIL       ",
          "  Lograron conseguir un títere más Bruto y baboso que Maduro… en eso si es un verraco matarife! Santos si fue un descache! Se le salió de las manos…. Para estas elecciones que enjalma va a poner?",
          " Y usted el monumento a 'la lame botas del matarife'.",
          " Que pena con uds sacarlo de su ignorancia, pero el mafioso  de colombia es el MATARIFE ÁLVARO URIBE. Santos es otro de sus tantos títeres, solo que se sacudió de semejante sabandija. Siga creyendo que la luna es un pan de queso.",
          " Primero suelta la virgen el niño !!!! \nSegundo Caerá \nMatarife !!!",
          "  No se le olvide monito retrechero que la mayor cantidad de ex militantes del m19 pertenecen al Centro Democrático o es que ellos si son buenos muchachos así como diría el matarife paraco genocida",
          "De todos los errores que ha cometido el Matarife, el que más duro está pagando es que olvidó que no hay mejor escuela de resistencia para los trabajadores que las jornadas de 12 y 14 horas que promovió.\n\n\n\n\nResiste",
          " Eso mismo informa el choco y la guajira desde hace años. Pero ellos no importan o si ? Matarife.",
          " Acaba de argumentar que ud vive y muere por ese hp matarife. Los dos son un par de hps rateros...",
          " Ese matarife es un Lokillo...",
          "  Y tu no marchas porque te la tiene adentro el Matarife,",
          " No los escu he siga feliz con Vicky y tuerquita con los desafíos rockeros, la talla de crocs del matarife y demás",
          " en Colombia nadie plagia tesis, ni siquiera el hijo de un matarife",
          " Alguien que le diga al matarife que tumbe al títere.",
          " Lo logro la nuera del paraco, quebró el pasquín.  Creyeron que el el arrastre y la popularidad del matarife psicópata les iba a dar para que sus idiotas borregos les mantuvieran el pasquín..... jajaja esos ignorantes ni  leen, idiotas vendidos. ",
          " Doctor en ",
          " Las Perras del matarife, aprendan a hacer periodismo",
          " Su palabra condena a muerte a los jóvenes que luchan por su dignidad.\nEres la mancha asquerosa que queda grabada en la historia sanguinaria de este país.\nEl Matarife, el señor Matanza. Algún día respondera ante la justicia, No la de papel.",
          "Minga reparte comida y  bala: cada cual reparte lo que tiene.\n estás muerto polítikm.\n manipulando con términos como Socialismo, populismo\n MIEDO \n FASCISMO \n  manipulando información\n",
          "Cuando tu educación limita tu imaginación se llama \"adoctrinamiento\" Nikola Tesla.\n\n\nEjército cobarde y policía violadora \n \n\n\n\nRCN:  clasifica en los  de ",
          "  Esto no es cierto viejo tampoco mentir favorece la salida de  del poder\nRastaquilla eligió sectorizadamente personajes para divulgar apartes de la reforma.\nA Claudia la uso como show..y pues reunirse con ese ampon conmo alcaldesa no era aprobar la reforma. Tampoco",
          "  Dios quiera que la dictadura nunca le afecte, y que sea una persona beneficiada, y que nunca tenga pasar necesidades a causa de las represiones futuras.\nOjalá tenga una cuenta de ahorros con bastante millones y pueda estar al lado de su salvador Matarife",
          " Duque es un idiota, está cumpliendo órdenes del  y el GEA para tapar el desfalco de hidroituango. Paso siguiente la procuradora de bolsillo dice que actuaron de buena fe..."
         ],
         "type": "scatter",
         "x": [
          0.923199367664455,
          -0.008494816752130133,
          -0.08253961258738075,
          -0.07877539463236674,
          -0.06570149820629144,
          -0.07310922654522116,
          -0.06760038960322616,
          0.9010810560789294,
          0.9231993676644548,
          -0.07648130029591613,
          -0.07876047849583952,
          -0.07086614935625422,
          -0.06258157238953829,
          -0.0670336474431428,
          0.022518974834273377,
          -0.07837826221574729,
          -0.07220398175897498,
          -0.07652932591406342,
          -0.06771248990338195,
          -0.06355031132726019,
          -0.07116239995519466,
          -0.07742774909864387,
          -0.0711812386915353,
          -0.08116819528552638,
          -0.07943455840272343,
          -0.07974933511574966,
          0.03460521316907921,
          -0.034548486816771154,
          -0.06927058616063984,
          -0.07151069989235541,
          -0.07460932151214307,
          -0.07247277510080499,
          -0.07917026499444504,
          -0.021034171523515822,
          -0.06582408394662832,
          0.06647840643234304,
          -0.07462783947300845,
          -0.0585365579840377,
          -0.07143679651037076,
          -0.07269700689144964,
          -0.07181516015103423,
          -0.06724490524269487,
          -0.07695111859465957,
          -0.0721251430415061,
          -0.07147094467634793,
          -0.07945607304244552,
          -0.07302020602112463,
          0.7088822071233122,
          -0.057204457391591065,
          0.9231993676644548,
          0.8945637221457211,
          0.9020781269620952,
          0.06057684459941232,
          -0.060170293296818896,
          -0.06421519761045089,
          -0.05430199825889641,
          -0.060903937973473786,
          -0.06485765324600529,
          -0.031393631872827434,
          -0.07296810218125982,
          -0.07386301849394869,
          -0.07218061693264148,
          -0.07268445114082737,
          -0.0695539212036883,
          -0.07955338132325701,
          -0.07312388168396587,
          -0.07545723173203651,
          -0.07390438694302025,
          -0.07574959513730928,
          -0.06639048763488985,
          -0.06308935947352493,
          -0.07879190385427919,
          -0.022008832880373065,
          -0.06230648514967907,
          -0.07761673178366528,
          -0.06935756299653738,
          -0.06534206445317098,
          -0.07626331580658492,
          -0.06933711833026532,
          -0.06719465582101651,
          -0.06805303225404678,
          -0.06327548007853494,
          -0.09577741817737968,
          -0.06496312432573748,
          -0.06504537356582697,
          -0.0650205743076121,
          -0.07962857927713851,
          -0.008685814950351898,
          -0.08247009767680671,
          -0.059748384171932775,
          -0.01860837671710645,
          -0.06308519537583,
          -0.07602338177246319,
          -0.06770800130839476,
          -0.07180270854014337,
          -0.06758803759705978,
          -0.05185739763918642,
          -0.05667909271614352,
          -0.06441405768968678,
          0.15082990623643094,
          -0.0737881854394017,
          -0.06243122038301378,
          -0.06861790865918459,
          -0.06497746536015281,
          -0.07104329071233624,
          -0.07032439688449327,
          -0.06861702582315607,
          -0.07804968962989257,
          -0.07545787486666074,
          -0.009423024517187606
         ],
         "y": [
          -0.001156620607339127,
          0.03449563290641435,
          -0.19679966649677896,
          0.06356003242264284,
          -0.04465085684353175,
          -0.06247190239015652,
          -0.03932262197993997,
          0.0045555981156789275,
          -0.0011566206073391045,
          0.22658329140251665,
          -0.12819301032953928,
          0.013351624625097586,
          -0.018318659940224684,
          -0.09653661135781785,
          -0.10866946965492975,
          0.25549153711237893,
          -0.049158280237101684,
          -0.07616827162657099,
          -0.0713554848900325,
          -0.0927055853403264,
          -0.05904150090432457,
          0.01974829152076907,
          -0.04706910288904904,
          0.11092167925466613,
          0.1717106075295042,
          -0.18087414468141494,
          -0.03589749949049878,
          0.3663634236023271,
          -0.0932831312022606,
          0.004130971478668603,
          -0.12983360148382145,
          -0.09107151902333234,
          -0.05596959042942576,
          -0.0945592594535552,
          -0.0972884272956098,
          0.18542984828670256,
          -0.021034720042338268,
          -0.034708961559580684,
          -0.1571695671141333,
          -0.025761213967161144,
          -0.05788620602131805,
          0.025486881259812258,
          -0.143171576785126,
          0.15212563213932298,
          0.210200057417711,
          0.17995458445697035,
          -0.14377161999413413,
          -0.015577763365394967,
          0.23825943827595772,
          -0.0011566206073391075,
          -0.006748743168105144,
          0.0178952455695647,
          0.08395862415757242,
          -0.047441466036771004,
          -0.0013538643513390303,
          -0.05992752813630877,
          -0.04866461732204791,
          0.18691482750708352,
          0.04496502037832408,
          0.21878239204504785,
          0.014547117402980118,
          0.00017260233442151983,
          -0.00994349443471499,
          -0.07410217757110825,
          -0.12162080879730575,
          -0.010302928357477334,
          0.0395337623450786,
          0.2009881053857601,
          -0.070502235667851,
          -0.06988229196971191,
          -0.10713644188097884,
          -0.03680848724474137,
          -0.0940215057212675,
          -0.0018697602092751814,
          -0.08427373563096636,
          -0.13097166079256217,
          0.010412160141363305,
          0.20738271924838392,
          -0.1318983929140132,
          -0.10802882928261988,
          -0.07977726212374125,
          -0.082488224701194,
          0.336168636910698,
          -0.07846860471153343,
          -0.05564838512675691,
          0.13261199028986506,
          -0.0013624603410474767,
          -0.2119040067494251,
          0.3371293803934955,
          -0.014234955150362279,
          -0.016592487066021046,
          -0.030898020527024415,
          0.34955479582536503,
          -0.016859044679177336,
          0.24423564647008625,
          -0.08582924879466658,
          -0.032541075011690616,
          -0.04022404514356475,
          -0.05487901323531693,
          0.032273059299862086,
          0.18051056671698965,
          0.018709238493182997,
          -0.045404830292380696,
          -0.10592599070711128,
          -0.05478857747045571,
          -0.0504757344118556,
          -0.03729472726154456,
          -0.08885503147359734,
          -0.003564886463756414,
          -0.04380975317943158
         ]
        }
       ],
       "layout": {
        "template": {
         "data": {
          "bar": [
           {
            "error_x": {
             "color": "#2a3f5f"
            },
            "error_y": {
             "color": "#2a3f5f"
            },
            "marker": {
             "line": {
              "color": "#E5ECF6",
              "width": 0.5
             }
            },
            "type": "bar"
           }
          ],
          "barpolar": [
           {
            "marker": {
             "line": {
              "color": "#E5ECF6",
              "width": 0.5
             }
            },
            "type": "barpolar"
           }
          ],
          "carpet": [
           {
            "aaxis": {
             "endlinecolor": "#2a3f5f",
             "gridcolor": "white",
             "linecolor": "white",
             "minorgridcolor": "white",
             "startlinecolor": "#2a3f5f"
            },
            "baxis": {
             "endlinecolor": "#2a3f5f",
             "gridcolor": "white",
             "linecolor": "white",
             "minorgridcolor": "white",
             "startlinecolor": "#2a3f5f"
            },
            "type": "carpet"
           }
          ],
          "choropleth": [
           {
            "colorbar": {
             "outlinewidth": 0,
             "ticks": ""
            },
            "type": "choropleth"
           }
          ],
          "contour": [
           {
            "colorbar": {
             "outlinewidth": 0,
             "ticks": ""
            },
            "colorscale": [
             [
              0,
              "#0d0887"
             ],
             [
              0.1111111111111111,
              "#46039f"
             ],
             [
              0.2222222222222222,
              "#7201a8"
             ],
             [
              0.3333333333333333,
              "#9c179e"
             ],
             [
              0.4444444444444444,
              "#bd3786"
             ],
             [
              0.5555555555555556,
              "#d8576b"
             ],
             [
              0.6666666666666666,
              "#ed7953"
             ],
             [
              0.7777777777777778,
              "#fb9f3a"
             ],
             [
              0.8888888888888888,
              "#fdca26"
             ],
             [
              1,
              "#f0f921"
             ]
            ],
            "type": "contour"
           }
          ],
          "contourcarpet": [
           {
            "colorbar": {
             "outlinewidth": 0,
             "ticks": ""
            },
            "type": "contourcarpet"
           }
          ],
          "heatmap": [
           {
            "colorbar": {
             "outlinewidth": 0,
             "ticks": ""
            },
            "colorscale": [
             [
              0,
              "#0d0887"
             ],
             [
              0.1111111111111111,
              "#46039f"
             ],
             [
              0.2222222222222222,
              "#7201a8"
             ],
             [
              0.3333333333333333,
              "#9c179e"
             ],
             [
              0.4444444444444444,
              "#bd3786"
             ],
             [
              0.5555555555555556,
              "#d8576b"
             ],
             [
              0.6666666666666666,
              "#ed7953"
             ],
             [
              0.7777777777777778,
              "#fb9f3a"
             ],
             [
              0.8888888888888888,
              "#fdca26"
             ],
             [
              1,
              "#f0f921"
             ]
            ],
            "type": "heatmap"
           }
          ],
          "heatmapgl": [
           {
            "colorbar": {
             "outlinewidth": 0,
             "ticks": ""
            },
            "colorscale": [
             [
              0,
              "#0d0887"
             ],
             [
              0.1111111111111111,
              "#46039f"
             ],
             [
              0.2222222222222222,
              "#7201a8"
             ],
             [
              0.3333333333333333,
              "#9c179e"
             ],
             [
              0.4444444444444444,
              "#bd3786"
             ],
             [
              0.5555555555555556,
              "#d8576b"
             ],
             [
              0.6666666666666666,
              "#ed7953"
             ],
             [
              0.7777777777777778,
              "#fb9f3a"
             ],
             [
              0.8888888888888888,
              "#fdca26"
             ],
             [
              1,
              "#f0f921"
             ]
            ],
            "type": "heatmapgl"
           }
          ],
          "histogram": [
           {
            "marker": {
             "colorbar": {
              "outlinewidth": 0,
              "ticks": ""
             }
            },
            "type": "histogram"
           }
          ],
          "histogram2d": [
           {
            "colorbar": {
             "outlinewidth": 0,
             "ticks": ""
            },
            "colorscale": [
             [
              0,
              "#0d0887"
             ],
             [
              0.1111111111111111,
              "#46039f"
             ],
             [
              0.2222222222222222,
              "#7201a8"
             ],
             [
              0.3333333333333333,
              "#9c179e"
             ],
             [
              0.4444444444444444,
              "#bd3786"
             ],
             [
              0.5555555555555556,
              "#d8576b"
             ],
             [
              0.6666666666666666,
              "#ed7953"
             ],
             [
              0.7777777777777778,
              "#fb9f3a"
             ],
             [
              0.8888888888888888,
              "#fdca26"
             ],
             [
              1,
              "#f0f921"
             ]
            ],
            "type": "histogram2d"
           }
          ],
          "histogram2dcontour": [
           {
            "colorbar": {
             "outlinewidth": 0,
             "ticks": ""
            },
            "colorscale": [
             [
              0,
              "#0d0887"
             ],
             [
              0.1111111111111111,
              "#46039f"
             ],
             [
              0.2222222222222222,
              "#7201a8"
             ],
             [
              0.3333333333333333,
              "#9c179e"
             ],
             [
              0.4444444444444444,
              "#bd3786"
             ],
             [
              0.5555555555555556,
              "#d8576b"
             ],
             [
              0.6666666666666666,
              "#ed7953"
             ],
             [
              0.7777777777777778,
              "#fb9f3a"
             ],
             [
              0.8888888888888888,
              "#fdca26"
             ],
             [
              1,
              "#f0f921"
             ]
            ],
            "type": "histogram2dcontour"
           }
          ],
          "mesh3d": [
           {
            "colorbar": {
             "outlinewidth": 0,
             "ticks": ""
            },
            "type": "mesh3d"
           }
          ],
          "parcoords": [
           {
            "line": {
             "colorbar": {
              "outlinewidth": 0,
              "ticks": ""
             }
            },
            "type": "parcoords"
           }
          ],
          "pie": [
           {
            "automargin": true,
            "type": "pie"
           }
          ],
          "scatter": [
           {
            "marker": {
             "colorbar": {
              "outlinewidth": 0,
              "ticks": ""
             }
            },
            "type": "scatter"
           }
          ],
          "scatter3d": [
           {
            "line": {
             "colorbar": {
              "outlinewidth": 0,
              "ticks": ""
             }
            },
            "marker": {
             "colorbar": {
              "outlinewidth": 0,
              "ticks": ""
             }
            },
            "type": "scatter3d"
           }
          ],
          "scattercarpet": [
           {
            "marker": {
             "colorbar": {
              "outlinewidth": 0,
              "ticks": ""
             }
            },
            "type": "scattercarpet"
           }
          ],
          "scattergeo": [
           {
            "marker": {
             "colorbar": {
              "outlinewidth": 0,
              "ticks": ""
             }
            },
            "type": "scattergeo"
           }
          ],
          "scattergl": [
           {
            "marker": {
             "colorbar": {
              "outlinewidth": 0,
              "ticks": ""
             }
            },
            "type": "scattergl"
           }
          ],
          "scattermapbox": [
           {
            "marker": {
             "colorbar": {
              "outlinewidth": 0,
              "ticks": ""
             }
            },
            "type": "scattermapbox"
           }
          ],
          "scatterpolar": [
           {
            "marker": {
             "colorbar": {
              "outlinewidth": 0,
              "ticks": ""
             }
            },
            "type": "scatterpolar"
           }
          ],
          "scatterpolargl": [
           {
            "marker": {
             "colorbar": {
              "outlinewidth": 0,
              "ticks": ""
             }
            },
            "type": "scatterpolargl"
           }
          ],
          "scatterternary": [
           {
            "marker": {
             "colorbar": {
              "outlinewidth": 0,
              "ticks": ""
             }
            },
            "type": "scatterternary"
           }
          ],
          "surface": [
           {
            "colorbar": {
             "outlinewidth": 0,
             "ticks": ""
            },
            "colorscale": [
             [
              0,
              "#0d0887"
             ],
             [
              0.1111111111111111,
              "#46039f"
             ],
             [
              0.2222222222222222,
              "#7201a8"
             ],
             [
              0.3333333333333333,
              "#9c179e"
             ],
             [
              0.4444444444444444,
              "#bd3786"
             ],
             [
              0.5555555555555556,
              "#d8576b"
             ],
             [
              0.6666666666666666,
              "#ed7953"
             ],
             [
              0.7777777777777778,
              "#fb9f3a"
             ],
             [
              0.8888888888888888,
              "#fdca26"
             ],
             [
              1,
              "#f0f921"
             ]
            ],
            "type": "surface"
           }
          ],
          "table": [
           {
            "cells": {
             "fill": {
              "color": "#EBF0F8"
             },
             "line": {
              "color": "white"
             }
            },
            "header": {
             "fill": {
              "color": "#C8D4E3"
             },
             "line": {
              "color": "white"
             }
            },
            "type": "table"
           }
          ]
         },
         "layout": {
          "annotationdefaults": {
           "arrowcolor": "#2a3f5f",
           "arrowhead": 0,
           "arrowwidth": 1
          },
          "autotypenumbers": "strict",
          "coloraxis": {
           "colorbar": {
            "outlinewidth": 0,
            "ticks": ""
           }
          },
          "colorscale": {
           "diverging": [
            [
             0,
             "#8e0152"
            ],
            [
             0.1,
             "#c51b7d"
            ],
            [
             0.2,
             "#de77ae"
            ],
            [
             0.3,
             "#f1b6da"
            ],
            [
             0.4,
             "#fde0ef"
            ],
            [
             0.5,
             "#f7f7f7"
            ],
            [
             0.6,
             "#e6f5d0"
            ],
            [
             0.7,
             "#b8e186"
            ],
            [
             0.8,
             "#7fbc41"
            ],
            [
             0.9,
             "#4d9221"
            ],
            [
             1,
             "#276419"
            ]
           ],
           "sequential": [
            [
             0,
             "#0d0887"
            ],
            [
             0.1111111111111111,
             "#46039f"
            ],
            [
             0.2222222222222222,
             "#7201a8"
            ],
            [
             0.3333333333333333,
             "#9c179e"
            ],
            [
             0.4444444444444444,
             "#bd3786"
            ],
            [
             0.5555555555555556,
             "#d8576b"
            ],
            [
             0.6666666666666666,
             "#ed7953"
            ],
            [
             0.7777777777777778,
             "#fb9f3a"
            ],
            [
             0.8888888888888888,
             "#fdca26"
            ],
            [
             1,
             "#f0f921"
            ]
           ],
           "sequentialminus": [
            [
             0,
             "#0d0887"
            ],
            [
             0.1111111111111111,
             "#46039f"
            ],
            [
             0.2222222222222222,
             "#7201a8"
            ],
            [
             0.3333333333333333,
             "#9c179e"
            ],
            [
             0.4444444444444444,
             "#bd3786"
            ],
            [
             0.5555555555555556,
             "#d8576b"
            ],
            [
             0.6666666666666666,
             "#ed7953"
            ],
            [
             0.7777777777777778,
             "#fb9f3a"
            ],
            [
             0.8888888888888888,
             "#fdca26"
            ],
            [
             1,
             "#f0f921"
            ]
           ]
          },
          "colorway": [
           "#636efa",
           "#EF553B",
           "#00cc96",
           "#ab63fa",
           "#FFA15A",
           "#19d3f3",
           "#FF6692",
           "#B6E880",
           "#FF97FF",
           "#FECB52"
          ],
          "font": {
           "color": "#2a3f5f"
          },
          "geo": {
           "bgcolor": "white",
           "lakecolor": "white",
           "landcolor": "#E5ECF6",
           "showlakes": true,
           "showland": true,
           "subunitcolor": "white"
          },
          "hoverlabel": {
           "align": "left"
          },
          "hovermode": "closest",
          "mapbox": {
           "style": "light"
          },
          "paper_bgcolor": "white",
          "plot_bgcolor": "#E5ECF6",
          "polar": {
           "angularaxis": {
            "gridcolor": "white",
            "linecolor": "white",
            "ticks": ""
           },
           "bgcolor": "#E5ECF6",
           "radialaxis": {
            "gridcolor": "white",
            "linecolor": "white",
            "ticks": ""
           }
          },
          "scene": {
           "xaxis": {
            "backgroundcolor": "#E5ECF6",
            "gridcolor": "white",
            "gridwidth": 2,
            "linecolor": "white",
            "showbackground": true,
            "ticks": "",
            "zerolinecolor": "white"
           },
           "yaxis": {
            "backgroundcolor": "#E5ECF6",
            "gridcolor": "white",
            "gridwidth": 2,
            "linecolor": "white",
            "showbackground": true,
            "ticks": "",
            "zerolinecolor": "white"
           },
           "zaxis": {
            "backgroundcolor": "#E5ECF6",
            "gridcolor": "white",
            "gridwidth": 2,
            "linecolor": "white",
            "showbackground": true,
            "ticks": "",
            "zerolinecolor": "white"
           }
          },
          "shapedefaults": {
           "line": {
            "color": "#2a3f5f"
           }
          },
          "ternary": {
           "aaxis": {
            "gridcolor": "white",
            "linecolor": "white",
            "ticks": ""
           },
           "baxis": {
            "gridcolor": "white",
            "linecolor": "white",
            "ticks": ""
           },
           "bgcolor": "#E5ECF6",
           "caxis": {
            "gridcolor": "white",
            "linecolor": "white",
            "ticks": ""
           }
          },
          "title": {
           "x": 0.05
          },
          "xaxis": {
           "automargin": true,
           "gridcolor": "white",
           "linecolor": "white",
           "ticks": "",
           "title": {
            "standoff": 15
           },
           "zerolinecolor": "white",
           "zerolinewidth": 2
          },
          "yaxis": {
           "automargin": true,
           "gridcolor": "white",
           "linecolor": "white",
           "ticks": "",
           "title": {
            "standoff": 15
           },
           "zerolinecolor": "white",
           "zerolinewidth": 2
          }
         }
        },
        "title": {
         "text": "KMEANS- TWEETS"
        }
       }
      },
      "text/html": [
       "<div>                            <div id=\"399ba444-0208-454b-b3c9-68c33bb4b107\" class=\"plotly-graph-div\" style=\"height:525px; width:100%;\"></div>            <script type=\"text/javascript\">                require([\"plotly\"], function(Plotly) {                    window.PLOTLYENV=window.PLOTLYENV || {};                                    if (document.getElementById(\"399ba444-0208-454b-b3c9-68c33bb4b107\")) {                    Plotly.newPlot(                        \"399ba444-0208-454b-b3c9-68c33bb4b107\",                        [{\"marker\": {\"color\": [\"yellow\", \"blue\", \"blue\", \"blue\", \"red\", \"blue\", \"blue\", \"yellow\", \"yellow\", \"blue\", \"blue\", \"blue\", \"blue\", \"blue\", \"blue\", \"blue\", \"blue\", \"red\", \"blue\", \"blue\", \"blue\", \"blue\", \"blue\", \"blue\", \"blue\", \"blue\", \"blue\", \"red\", \"blue\", \"blue\", \"blue\", \"blue\", \"blue\", \"blue\", \"red\", \"blue\", \"blue\", \"blue\", \"blue\", \"blue\", \"blue\", \"blue\", \"blue\", \"blue\", \"blue\", \"blue\", \"blue\", \"yellow\", \"blue\", \"yellow\", \"yellow\", \"yellow\", \"blue\", \"blue\", \"blue\", \"blue\", \"blue\", \"blue\", \"blue\", \"blue\", \"blue\", \"blue\", \"blue\", \"blue\", \"red\", \"blue\", \"blue\", \"blue\", \"blue\", \"blue\", \"blue\", \"blue\", \"blue\", \"blue\", \"blue\", \"blue\", \"blue\", \"blue\", \"blue\", \"blue\", \"blue\", \"blue\", \"blue\", \"blue\", \"blue\", \"blue\", \"blue\", \"blue\", \"blue\", \"blue\", \"blue\", \"blue\", \"blue\", \"blue\", \"blue\", \"blue\", \"blue\", \"blue\", \"blue\", \"blue\", \"blue\", \"blue\", \"blue\", \"blue\", \"blue\", \"blue\", \"blue\", \"blue\", \"blue\", \"blue\"]}, \"mode\": \"markers\", \"text\": [\" El par\\u00f3 no lo para nadie hasta lograr libertar Colombia de este narcogobierno asesino terrorista de Iv\\u00e1n duque y el matarife \\u00c1lvaro Uribe V\\u00e9lez\", \" joven, cumplido los 18, vote en el 2006 por el matarife \\n mi estudio y la lectura me ense\\u00f1\\u00f3 la verdadera cara de esta rata, jam\\u00e1s votar\\u00eda por el enano paraco, ni por nadie de su secta sat\\u00e1nica, arrepentido toda la vida de ese voto.\", \"Y entonces el  y sus secuaces pretenden arrodillar al pa\\u00eds a c\\u00f3mo se les d\\u00e9 la gana   \", \" A LAS QUE EL GOBIERNO NO AYUDA PORQUE SOLO HAY EXCEPCIONES PARA LAS GRANDES LAS QUE NO LES COBRAN NADA O LOS M\\u00c1S RICOS QUE NO PAGAN IMPUESTOS. COMO MATARIFE EL GENOCIDA QUE SOLO BUSCA QUEDARSE CON EL PODER BA\\u00d1ANADO DE SANGRE LA TIERRA\", \" Muy bien, pero cu\\u00eddate mucho, t\\u00fa sabes que hay infiltrados del matarife.\", \"Expectativa  gritos desenfrenados en  colmataci\\u00f3n de la  e individualizaci\\u00f3n de su  Entendimos ya lo que quiere el    COMO LO EVITAMOS? Es lo que traducen mis gritos!! \", \" Santos no tiene problemas con Uribe lo ha dicho y lo ha demostrado muchas veces, el que vive rabon porque no se le dej\\u00f3 manejar como marioneta es el matarife y su s\\u00e9quito de burros.\", \" El paro no lo para nadie hasta lograr libertar Colombia de este narcogobierno asesino terrorista de Iv\\u00e1n duque y el matarife \\u00c1lvaro Uribe V\\u00e9lezel par\\u00f3 no lo para nadie hasta lograr libertar Colombia de este narcogobierno asesino terrorista de Iv\\u00e1n duque y el matarife Uribe V\\u00e9lez\", \"  El par\\u00f3 no lo para nadie hasta lograr libertar Colombia de este narcogobierno asesino terrorista de Iv\\u00e1n duque y el matarife \\u00c1lvaro Uribe V\\u00e9lez \\u00c9l par\\u00f3 no lo para nadie hasta lograr libertar Colombia de este narcogobierno asesino terrorista de Iv\\u00e1n duque y el matarife uribe V\\u00e9lez\", \"      Pues si tambi\\u00e9n hay profesores que creen en el matarife, porque no pueden creer en ese ciego.\", \"      Una vez m\\u00e1s. Gracias a Dios somos la gran Mayor\\u00eda Antiuribistas y Antipetristas que los dos extremos Juntos. Petro Jam\\u00e1s ser\\u00e1 Presidente, ya que con su igual el Matarife justo a sus petro\\u00f1eros tienen el pa\\u00eds destruido. NUNCA MAS. Llora Petro\\u00f1ero.\", \"Que no se diga que este se\\u00f1or Jayan Nasal no est\\u00e1 pilas actualizando la pauta estatal en los canales. Ya est\\u00e1n sacando a los campesinos a decir que voten por el que diga Matarife.\", \" Cuidado Gustavo que el matarife esta asustado y as\\u00ed es m\\u00e1s peligroso.\", \"    Por eso los jovenes leemos investigamos. Por eso vamos a cambiar este pais de ratas como uribe el matarife y claudia la lesbiana sodomita\", \" Falsardo habla mierda ya nadie te cree tibio hijueputa seguidor del matarife! \", \"  Ay Dios! Ps si creen q matarife es el mesias q se puede esperar!\", \"Detener el ascenso del fascismo y el autogolpe a las instuaciones del  y el Uribato.\\nUna imagen que debe dar la vuelta al mundo  en marcha.\\n\\n\\n\\n \", \"Algo est\\u00e1 haciendo tan bien que ya le inc\\u00f3modo al  y por eso mi total apoyo  y  \", \" Santos no tiene el Gabinete preso y huyendo c\\u00f3mo el matarife jajajaja.\", \" Uyyy no les d\\u00e9 ideas que nombran a Matarife.\", \" Ser\\u00e1 que se refieren a las chilladas, y noches de desasosiego que se vive repitiendo en la cabeza \\u201cquien me mando a meterme en esto\\u201d? Porque no veo en que mas puede parecerse a un doctorado trabajar al lado de don matarife\", \"Que diferentes son, cu\\u00e1ntos escoltas ven al rededor de  En cambio al   no lo dejan que se le arrime el pueblo, a menos que sean los buenos muchachos de las toyotas blancas \", \"Parce no se extra\\u00f1en de que ese se\\u00f1or Nieto Loaiza salga con inquicisiones no ven que ni siquiera sabe cu\\u00e1nto calza el \", \"La  deber\\u00eda mejor nombrar un Presidente Ad-hoc para ver si salimos de este mierdero. Pero claro, queda el peque\\u00f1o detalle que el Jefe Inmediato del ente es  \", \"El CRIMEN SI PAGA en COL. La hermana del lavador de activos Jaime Lombana, uno de los abog\\u00e1nster del  ser\\u00e1 la nueva ministra de comercio exterior. No queda duda que las \\u00f3rdenes se dan desde el Uberrimo   \", \"  Ojo que el  quiere coger a Medell\\u00edn como base para el golpe de estado.\", \"Matarife, Antioqu\\u00eda ya no es tierra paramilitar,Viva Colombia libre! \", \" Si, tiene raz\\u00f3n mucha hipocres\\u00eda, ese Alvaraco Uribe si es bien hip\\u00f3crita!! \\n\\nOjal\\u00e1 JuanPa nomle de la mano a ese asesino, genocida, narcoparamilitar de Uribe.\\n\\n   \\n\\n\", \"  El Matarife cambia la constituci\\u00f3n se reelige y perpetuarse como Ch\\u00e1vez, controla toda las instituciones del estado, los medios de comunicaci\\u00f3n atacan la oposici\\u00f3n, Adoctrino las FF.AA como Ch\\u00e1vez, copi\\u00f3 todas las pol\\u00edticas de Ch\\u00e1vez, \\nY dice este hp q el chavista es Petro \", \"  Est\\u00e1 de segundas \\u00c1lvaro Uribe, o tal vez lo conozca mejor como el  o el  o \", \" \\nEl golpe de estado en Medell\\u00edn, como el de Cali, pero sin az\\u00facar, \\u00bfqu\\u00e9 es sino la salida del \\u00faltimo armario que le quedaba a  (por cierto, un armario transparente): el de la criminalidad?\", \" su peor temor es no tener poder y se vale de artima\\u00f1as para imponer lo \\u00e9l cree es correcto, en complicidad de gran parte de los estamentos del estado. Maldito \", \" Eso es ser grande, usted que va saber de paz y reconciliaci\\u00f3n s\\u00ed le gusta es la guerra, sangre y la corrupci\\u00f3n.\\nAdem\\u00e1s es una propuesta que la deber\\u00eda de contestar el matarife no t\\u00fa, a menos que seas la mosa.\", \"La Procuradora Margarita Cabello  en MANDADO del  INCURRI\\u00d3 EN DELITO d abuso d funci\\u00f3n p\\u00fablica al atribuirse funciones del  al solicitar a Duque nombrar alcalde ad-hoc en Medallo.DEBE ser DENUNCIADA \\nOJO    \", \"El matarife amigo del matarife  marido de la expropiadora en fin todos tan \\u201cgente de bien\\u201d \", \"   usted tiene quebrada a toda Colombia, tenga dignidad y acepte sus delitos, por una Colombia mejor y si ese c\\u00e1ncer del \", \" Sr.  y por qu\\u00e9 no utilizan los helic\\u00f3pteros para llevar comida, o es qu\\u00e9 solo sirven para llevar armas ??? \", \" El matarife pagando favores \\ud83d\\ude12\", \" HRI debe hacer algo para que el matarife y su combo de delincuentes no sigan arrasando con nuestro pa\\u00eds y nuestra juventud.\", \"Claro que el matarife quiere sacarlo a \\u00e9l o a cualquiera  que defienda los derechos humanos   \", \" Se\\u00f1ora Vicky, mas da\\u00f1o al pueblo que Matarife o porky no ha existido, no se venda por migajas, recuerde que ud representa un medio de comunicacion, no le da pena haber estudiado para esto?\", \"Que el cotilleo no tumbe Alcaldes ni la voz en of de Matarife pueda m\\u00e1s que la del voto popular. \", \"    Claudia solo sabe hacer eso, hablar mierda de Petro, se le volvi\\u00f3 un delirio, le salen las ordenes del matarife por los poros\", \" Segura? ojal\\u00e1 sea cierto, yo ando en modo pesimista. Hasta un bravuc\\u00f3n impotente como ese es capaz de ganar si el otro bravuc\\u00f3n matarife lo apoya.\", \"  Y los medios serviles al fraude\\u00f1e\\u00f1e y el matarife quieren que se dividan para acabar con el paro nacional que ya lleva 20 dias causado por un t\\u00edtere bandido avaro que con fraude trabaja es para el mayor genocida narcoparamilitar del mundo y sus socios secta URIBISTA \", \" Este t\\u00edtere y el genocida neonazi matarife y su secta cartel URIBISTA se roban billones de pesos no ayudan a ning\\u00fan trabajador familias ni microempresas compran m\\u00e1s armamento contra el pueblo y le est\\u00e1 echando la culpa a los gobernadores y alcaldes de otros partidos..FRAUDE\\u00d1E\\u00d1E\", \" Pobrecito don matarife como sufre c\\u00f3mo es tan bueno y el nunca ha hecho nada \\ud83e\\udd2c \", \" El \\u00fanico di\\u00e1logo es s\\u00f3lo lograr libertar Colombia de este narcogobierno asesino terrorista de Iv\\u00e1n duque y el matarife \\u00c1lvaro Uribe V\\u00e9lez. Fuera \\u00e9l narcogobierno de Iv\\u00e1n duque y el matarife \\u00c1lvaro Uribe V\\u00e9lez\", \" El paraco hablando de matanzas cuando son un t\\u00edtere m\\u00e1s de matarife!\", \" \\u00c9l par\\u00f3 no lo para nadie hasta lograr libertar Colombia de este narcogobierno asesino terrorista de Iv\\u00e1n duque y el matarife \\u00c1lvaro Uribe V\\u00e9lez. El par\\u00f3 no lo para nadie hasta lograr libertar Colombia de este narcogobierno asesino terrorista de Iv\\u00e1n duque y el matarife Uribe\", \" \\u00c9l par\\u00f3 no lo para nadie hasta lograr libertar Colombia de este narcogobierno asesino terrorista de Iv\\u00e1n duque y el matarife \\u00c1lvaro Uribe V\\u00e9lez. El par\\u00f3 no lo para nadie hasta lograr libertar Colombia de este narcogobierno de Iv\\u00e1n duque y el matarife \\u00c1lvaro Uribe V\\u00e9lez. Paracos\", \" \\u00c9l par\\u00f3 no lo para nadie hasta lograr libertar Colombia de este narcogobierno asesino terrorista de Iv\\u00e1n duque y el matarife \\u00c1lvaro Uribe V\\u00e9lez... \\u00c9l par\\u00f3 no lo para nadie hasta lograr libertar Colombia de este narcogobierno de Iv\\u00e1n duque y el matarife \\u00c1lvaro Uribe V\\u00e9lez. Paraco\", \"Creador de las convivir, paraco, narco, asesino, matarife, usurpador de tierras, indolente, macabro, diab\\u00f3lico, un total hijo de puta, el c\\u00e1ncer de Colombia  \", \" Que trabaje en la casa del matarife para que lo quiebre, pero que sea literal\", \"La alcaldesa de Bogota result\\u00f3 m\\u00e1s Uribista que el Matarife#VerParaCreer\", \"Antioqu\\u00eda ya no es el del Matarife.#UribeGolpista\", \"Matarife dictador dictadooorrr \", \"No pasar\\u00e1! Matarife genocida. \", \"Y el gobierno Duque sigue cojeando para el mismo lado. Nombrar a Ximena Lombana (hermana del abogado del matarife) como Ministra de Comercio Exterior es confirmar que una vez m\\u00e1s ponen a alguien de su elite para seguir haciendo lo que les da la gana, mientras la crisis empeora\", \" Esta vieja loca si es resentida con cualquiera que hable del matarife que es el que le cubre todo lo que hace el esposo y su suegro\", \" el  muestra sus intenciones de conducirnos a la dictadura\", \"El matarife sigue retando al pueblo se cree intocable, ya lo ver\\u00e9 llorando a este engendro de mal!, pueblo a las calles. \", \"   Solo uribestias fracasados seguidores del MATARIFE, felicitan ha un mis\\u00f3gino fascista, corrupto lagarto, que solo lo conoce la mam\\u00e1 \\ud83e\\udd23\\ud83e\\udd23\\ud83e\\udd23\\ud83e\\udd2e\\ud83e\\udd2e\\ud83e\\udd2e \", \" Hay pero que lamboneria... Que va aceptar el matarife hacer una tregua, hay se nota la diferencia  de seres que son\\u203c\\ufe0f\", \"El hijueputa  y toda la gente bien (paraca) de Medell\\u00edn quieren revocar a  porque les destap\\u00f3 la olla de podredumbre y corrupci\\u00f3n de la epm. \", \"Las \\u00f3rdenes de Matarife:\\n-A la Procuradur\\u00eda: Procure no tocar a mis muchachos hijita.\\n-A la Defensor\\u00eda del Pueblo: Defi\\u00e9ndanos de esos v\\u00e1ndalos de Petro.\\n-A la Contralor\\u00eda: Controle a sus maridos a mis funcionarios me los deja pecular.\\nY a la Fiscal\\u00eda: Archive y cumpla.\", \"La generaci\\u00f3n del tamal y la gaseosa,vot\\u00f3 por un candidato mentiroso y falaz,convencidos de que era un dem\\u00f3crata,y resulto un simple t\\u00edtere o pelele de un matarife que sin escr\\u00fapulo alguno pretende ser un dictador y un ordenador de masacres, contra un pueblo que reclama justicia.\", \"    Y para cuando los cabezillas de la BACRIM m\\u00e1s grande de POLOMBIA EL CENTRO DEMOCR\\u00c1TICO Y EL GENOCIDA 6402 ALIAS MATARIFE SU PATR\\u00d3N\", \"  Verdad que l  le quiere tumbar para que el  nombre un cerdo? !!!malparidos!!!\\n\\n\", \" Hasta q el matarife caiga \\ud83d\\ude02\\ud83d\\ude02\\ud83d\\ude02\\ud83d\\ude02 no era por la reforma ? Por carrasquilla? Ya no saben q m\\u00e1s inventar 15 pelagatos   a garantizar los derechos de las mayor\\u00edas !\", \" Cu\\u00eddese mucho Daniel que el Matarife ya le declar\\u00f3 la guerra.\", \"De que me hablas viejo? D\\u00e9 la gente inepta en el  gobierno,cuya estultez,les impide ver la realidad social,pues ellos creen estar en posesi\\u00f3n de la verdad dictada por un patr\\u00f3n, matarife, o mafioso,que ordena matar, masacrar,maltratar,y lesionar a jovenes por rechazar lo injusto.\", \" Lo dice un paramilitar, asesino, corrupto mafioso fascista \\ud83e\\udd23\\ud83e\\udd23dizque se respeta  los derechos de los manifestantes, cafre, estas son las basuras delincuentes del mafioso inepto pusil\\u00e1nime mandadero del MATARIFE. \", \"   La hermana del abogado del matarife, vaya sorpresa\", \"No le gusta? Pues porque le quit\\u00f3 el negocio al  y sus secuaces el  \", \"Por quien debemos ir es por el matarife. Muerte y destrucci\\u00f3n de una pol\\u00edtica de guerra, terror, violencia y corrupci\\u00f3n. \", \"  Que el clamor nacional sea para que renuncien    \\nSe convirtieron en entes burocr\\u00e1ticos manejados por adeptos partidarios del cartel criminal  para proteger a su matarife \", \"  ay bachiller, ni siquiera el patr\\u00f3n (#Matarife por si acaso, no sarmiento) quiere estar junto a  en estos momentos\", \"  Ahi se ve la corrupci\\u00f3n del MATARIFE como no hizo lo q el dijo entonces lo atacaron son unas ratas cochinas hptas basuras\", \" El partido donde estan familiares de Pablo Escobar y hijas de narcos no es el de petro, es el partido del matarife \", \"Ayer protestaban los estudiantes. Eran ellos.\\nAyer protestaban los trabajadores. Eran ellos.\\nAyer protestaban los camioneros. Eran ellos.\\nHoy nos unimos y protestamos todos, porque a todos nos persigue el matarife y sus secuaces.\\nHoy aprendimos que unidos somos m\\u00e1s\", \" Quien habla de hipocresia: la que tiene familiares corruptos, la Que inventa noticias o las modifica para beneficio de Matarife.\", \"     ser\\u00e1 el pr\\u00f3ximo, no nos extra\\u00f1e cuando se le destituya como si esto fuera una dictadura,  es solo un t\\u00edtere que sigue \\u00f3rdenes del \", \" No tenemos dice este petardo, s\\u00e9 le llena la jeta al matarife sinti\\u00e9ndose parte de algo que el ayud\\u00f3 a causar.\", \"La Revoluci\\u00f3n molecular disipada del dictador nazi   El Matarife \\n \", \" El matarife paraco genocida no posee esas cualidades humanas entre m\\u00e1s odios y derramamiento de sangre genere m\\u00e1s alimenta energ\\u00e9ticamente a sus arcontes internos\", \" Matarife le quedo en pa\\u00f1ales a este se\\u00f1or, increible todo lo pense menos esto con su cara de inocente...Que le va a decir a Dios y a su virgen por los mas 50 muertos y 550 desaparecidos? Esto es una dictadura totalmente\", \"Ya Fajardo alert\\u00f3 del GOLPE DE ESTADO que planean el  Duque y Zapateiro para q Gustavo Petro no sea nuestro Presidente en 2022? OJO CON ESTO. Esto implicar\\u00eda UNA GUERRA CIVIL       \", \"  Lograron conseguir un t\\u00edtere m\\u00e1s Bruto y baboso que Maduro\\u2026 en eso si es un verraco matarife! Santos si fue un descache! Se le sali\\u00f3 de las manos\\u2026. Para estas elecciones que enjalma va a poner?\", \" Y usted el monumento a 'la lame botas del matarife'.\", \" Que pena con uds sacarlo de su ignorancia, pero el mafioso  de colombia es el MATARIFE \\u00c1LVARO URIBE. Santos es otro de sus tantos t\\u00edteres, solo que se sacudi\\u00f3 de semejante sabandija. Siga creyendo que la luna es un pan de queso.\", \" Primero suelta la virgen el ni\\u00f1o !!!! \\nSegundo Caer\\u00e1 \\nMatarife !!!\", \"  No se le olvide monito retrechero que la mayor cantidad de ex militantes del m19 pertenecen al Centro Democr\\u00e1tico o es que ellos si son buenos muchachos as\\u00ed como dir\\u00eda el matarife paraco genocida\", \"De todos los errores que ha cometido el Matarife, el que m\\u00e1s duro est\\u00e1 pagando es que olvid\\u00f3 que no hay mejor escuela de resistencia para los trabajadores que las jornadas de 12 y 14 horas que promovi\\u00f3.\\n\\n\\n\\n\\nResiste\", \" Eso mismo informa el choco y la guajira desde hace a\\u00f1os. Pero ellos no importan o si ? Matarife.\", \" Acaba de argumentar que ud vive y muere por ese hp matarife. Los dos son un par de hps rateros...\", \" Ese matarife es un Lokillo...\", \"  Y tu no marchas porque te la tiene adentro el Matarife,\", \" No los escu he siga feliz con Vicky y tuerquita con los desaf\\u00edos rockeros, la talla de crocs del matarife y dem\\u00e1s\", \" en Colombia nadie plagia tesis, ni siquiera el hijo de un matarife\", \" Alguien que le diga al matarife que tumbe al t\\u00edtere.\", \" Lo logro la nuera del paraco, quebr\\u00f3 el pasqu\\u00edn.  Creyeron que el el arrastre y la popularidad del matarife psic\\u00f3pata les iba a dar para que sus idiotas borregos les mantuvieran el pasqu\\u00edn..... jajaja esos ignorantes ni  leen, idiotas vendidos. \", \" Doctor en \", \" Las Perras del matarife, aprendan a hacer periodismo\", \" Su palabra condena a muerte a los j\\u00f3venes que luchan por su dignidad.\\nEres la mancha asquerosa que queda grabada en la historia sanguinaria de este pa\\u00eds.\\nEl Matarife, el se\\u00f1or Matanza. Alg\\u00fan d\\u00eda respondera ante la justicia, No la de papel.\", \"Minga reparte comida y  bala: cada cual reparte lo que tiene.\\n est\\u00e1s muerto pol\\u00edtikm.\\n manipulando con t\\u00e9rminos como Socialismo, populismo\\n MIEDO \\n FASCISMO \\n  manipulando informaci\\u00f3n\\n\", \"Cuando tu educaci\\u00f3n limita tu imaginaci\\u00f3n se llama \\\"adoctrinamiento\\\" Nikola Tesla.\\n\\n\\nEj\\u00e9rcito cobarde y polic\\u00eda violadora \\n \\n\\n\\n\\nRCN:  clasifica en los  de \", \"  Esto no es cierto viejo tampoco mentir favorece la salida de  del poder\\nRastaquilla eligi\\u00f3 sectorizadamente personajes para divulgar apartes de la reforma.\\nA Claudia la uso como show..y pues reunirse con ese ampon conmo alcaldesa no era aprobar la reforma. Tampoco\", \"  Dios quiera que la dictadura nunca le afecte, y que sea una persona beneficiada, y que nunca tenga pasar necesidades a causa de las represiones futuras.\\nOjal\\u00e1 tenga una cuenta de ahorros con bastante millones y pueda estar al lado de su salvador Matarife\", \" Duque es un idiota, est\\u00e1 cumpliendo \\u00f3rdenes del  y el GEA para tapar el desfalco de hidroituango. Paso siguiente la procuradora de bolsillo dice que actuaron de buena fe...\"], \"type\": \"scatter\", \"x\": [0.923199367664455, -0.008494816752130133, -0.08253961258738075, -0.07877539463236674, -0.06570149820629144, -0.07310922654522116, -0.06760038960322616, 0.9010810560789294, 0.9231993676644548, -0.07648130029591613, -0.07876047849583952, -0.07086614935625422, -0.06258157238953829, -0.0670336474431428, 0.022518974834273377, -0.07837826221574729, -0.07220398175897498, -0.07652932591406342, -0.06771248990338195, -0.06355031132726019, -0.07116239995519466, -0.07742774909864387, -0.0711812386915353, -0.08116819528552638, -0.07943455840272343, -0.07974933511574966, 0.03460521316907921, -0.034548486816771154, -0.06927058616063984, -0.07151069989235541, -0.07460932151214307, -0.07247277510080499, -0.07917026499444504, -0.021034171523515822, -0.06582408394662832, 0.06647840643234304, -0.07462783947300845, -0.0585365579840377, -0.07143679651037076, -0.07269700689144964, -0.07181516015103423, -0.06724490524269487, -0.07695111859465957, -0.0721251430415061, -0.07147094467634793, -0.07945607304244552, -0.07302020602112463, 0.7088822071233122, -0.057204457391591065, 0.9231993676644548, 0.8945637221457211, 0.9020781269620952, 0.06057684459941232, -0.060170293296818896, -0.06421519761045089, -0.05430199825889641, -0.060903937973473786, -0.06485765324600529, -0.031393631872827434, -0.07296810218125982, -0.07386301849394869, -0.07218061693264148, -0.07268445114082737, -0.0695539212036883, -0.07955338132325701, -0.07312388168396587, -0.07545723173203651, -0.07390438694302025, -0.07574959513730928, -0.06639048763488985, -0.06308935947352493, -0.07879190385427919, -0.022008832880373065, -0.06230648514967907, -0.07761673178366528, -0.06935756299653738, -0.06534206445317098, -0.07626331580658492, -0.06933711833026532, -0.06719465582101651, -0.06805303225404678, -0.06327548007853494, -0.09577741817737968, -0.06496312432573748, -0.06504537356582697, -0.0650205743076121, -0.07962857927713851, -0.008685814950351898, -0.08247009767680671, -0.059748384171932775, -0.01860837671710645, -0.06308519537583, -0.07602338177246319, -0.06770800130839476, -0.07180270854014337, -0.06758803759705978, -0.05185739763918642, -0.05667909271614352, -0.06441405768968678, 0.15082990623643094, -0.0737881854394017, -0.06243122038301378, -0.06861790865918459, -0.06497746536015281, -0.07104329071233624, -0.07032439688449327, -0.06861702582315607, -0.07804968962989257, -0.07545787486666074, -0.009423024517187606], \"y\": [-0.001156620607339127, 0.03449563290641435, -0.19679966649677896, 0.06356003242264284, -0.04465085684353175, -0.06247190239015652, -0.03932262197993997, 0.0045555981156789275, -0.0011566206073391045, 0.22658329140251665, -0.12819301032953928, 0.013351624625097586, -0.018318659940224684, -0.09653661135781785, -0.10866946965492975, 0.25549153711237893, -0.049158280237101684, -0.07616827162657099, -0.0713554848900325, -0.0927055853403264, -0.05904150090432457, 0.01974829152076907, -0.04706910288904904, 0.11092167925466613, 0.1717106075295042, -0.18087414468141494, -0.03589749949049878, 0.3663634236023271, -0.0932831312022606, 0.004130971478668603, -0.12983360148382145, -0.09107151902333234, -0.05596959042942576, -0.0945592594535552, -0.0972884272956098, 0.18542984828670256, -0.021034720042338268, -0.034708961559580684, -0.1571695671141333, -0.025761213967161144, -0.05788620602131805, 0.025486881259812258, -0.143171576785126, 0.15212563213932298, 0.210200057417711, 0.17995458445697035, -0.14377161999413413, -0.015577763365394967, 0.23825943827595772, -0.0011566206073391075, -0.006748743168105144, 0.0178952455695647, 0.08395862415757242, -0.047441466036771004, -0.0013538643513390303, -0.05992752813630877, -0.04866461732204791, 0.18691482750708352, 0.04496502037832408, 0.21878239204504785, 0.014547117402980118, 0.00017260233442151983, -0.00994349443471499, -0.07410217757110825, -0.12162080879730575, -0.010302928357477334, 0.0395337623450786, 0.2009881053857601, -0.070502235667851, -0.06988229196971191, -0.10713644188097884, -0.03680848724474137, -0.0940215057212675, -0.0018697602092751814, -0.08427373563096636, -0.13097166079256217, 0.010412160141363305, 0.20738271924838392, -0.1318983929140132, -0.10802882928261988, -0.07977726212374125, -0.082488224701194, 0.336168636910698, -0.07846860471153343, -0.05564838512675691, 0.13261199028986506, -0.0013624603410474767, -0.2119040067494251, 0.3371293803934955, -0.014234955150362279, -0.016592487066021046, -0.030898020527024415, 0.34955479582536503, -0.016859044679177336, 0.24423564647008625, -0.08582924879466658, -0.032541075011690616, -0.04022404514356475, -0.05487901323531693, 0.032273059299862086, 0.18051056671698965, 0.018709238493182997, -0.045404830292380696, -0.10592599070711128, -0.05478857747045571, -0.0504757344118556, -0.03729472726154456, -0.08885503147359734, -0.003564886463756414, -0.04380975317943158]}],                        {\"template\": {\"data\": {\"bar\": [{\"error_x\": {\"color\": \"#2a3f5f\"}, \"error_y\": {\"color\": \"#2a3f5f\"}, \"marker\": {\"line\": {\"color\": \"#E5ECF6\", \"width\": 0.5}}, \"type\": \"bar\"}], \"barpolar\": [{\"marker\": {\"line\": {\"color\": \"#E5ECF6\", \"width\": 0.5}}, \"type\": \"barpolar\"}], \"carpet\": [{\"aaxis\": {\"endlinecolor\": \"#2a3f5f\", \"gridcolor\": \"white\", \"linecolor\": \"white\", \"minorgridcolor\": \"white\", \"startlinecolor\": \"#2a3f5f\"}, \"baxis\": {\"endlinecolor\": \"#2a3f5f\", \"gridcolor\": \"white\", \"linecolor\": \"white\", \"minorgridcolor\": \"white\", \"startlinecolor\": \"#2a3f5f\"}, \"type\": \"carpet\"}], \"choropleth\": [{\"colorbar\": {\"outlinewidth\": 0, \"ticks\": \"\"}, \"type\": \"choropleth\"}], \"contour\": [{\"colorbar\": {\"outlinewidth\": 0, \"ticks\": \"\"}, \"colorscale\": [[0.0, \"#0d0887\"], [0.1111111111111111, \"#46039f\"], [0.2222222222222222, \"#7201a8\"], [0.3333333333333333, \"#9c179e\"], [0.4444444444444444, \"#bd3786\"], [0.5555555555555556, \"#d8576b\"], [0.6666666666666666, \"#ed7953\"], [0.7777777777777778, \"#fb9f3a\"], [0.8888888888888888, \"#fdca26\"], [1.0, \"#f0f921\"]], \"type\": \"contour\"}], \"contourcarpet\": [{\"colorbar\": {\"outlinewidth\": 0, \"ticks\": \"\"}, \"type\": \"contourcarpet\"}], \"heatmap\": [{\"colorbar\": {\"outlinewidth\": 0, \"ticks\": \"\"}, \"colorscale\": [[0.0, \"#0d0887\"], [0.1111111111111111, \"#46039f\"], [0.2222222222222222, \"#7201a8\"], [0.3333333333333333, \"#9c179e\"], [0.4444444444444444, \"#bd3786\"], [0.5555555555555556, \"#d8576b\"], [0.6666666666666666, \"#ed7953\"], [0.7777777777777778, \"#fb9f3a\"], [0.8888888888888888, \"#fdca26\"], [1.0, \"#f0f921\"]], \"type\": \"heatmap\"}], \"heatmapgl\": [{\"colorbar\": {\"outlinewidth\": 0, \"ticks\": \"\"}, \"colorscale\": [[0.0, \"#0d0887\"], [0.1111111111111111, \"#46039f\"], [0.2222222222222222, \"#7201a8\"], [0.3333333333333333, \"#9c179e\"], [0.4444444444444444, \"#bd3786\"], [0.5555555555555556, \"#d8576b\"], [0.6666666666666666, \"#ed7953\"], [0.7777777777777778, \"#fb9f3a\"], [0.8888888888888888, \"#fdca26\"], [1.0, \"#f0f921\"]], \"type\": \"heatmapgl\"}], \"histogram\": [{\"marker\": {\"colorbar\": {\"outlinewidth\": 0, \"ticks\": \"\"}}, \"type\": \"histogram\"}], \"histogram2d\": [{\"colorbar\": {\"outlinewidth\": 0, \"ticks\": \"\"}, \"colorscale\": [[0.0, \"#0d0887\"], [0.1111111111111111, \"#46039f\"], [0.2222222222222222, \"#7201a8\"], [0.3333333333333333, \"#9c179e\"], [0.4444444444444444, \"#bd3786\"], [0.5555555555555556, \"#d8576b\"], [0.6666666666666666, \"#ed7953\"], [0.7777777777777778, \"#fb9f3a\"], [0.8888888888888888, \"#fdca26\"], [1.0, \"#f0f921\"]], \"type\": \"histogram2d\"}], \"histogram2dcontour\": [{\"colorbar\": {\"outlinewidth\": 0, \"ticks\": \"\"}, \"colorscale\": [[0.0, \"#0d0887\"], [0.1111111111111111, \"#46039f\"], [0.2222222222222222, \"#7201a8\"], [0.3333333333333333, \"#9c179e\"], [0.4444444444444444, \"#bd3786\"], [0.5555555555555556, \"#d8576b\"], [0.6666666666666666, \"#ed7953\"], [0.7777777777777778, \"#fb9f3a\"], [0.8888888888888888, \"#fdca26\"], [1.0, \"#f0f921\"]], \"type\": \"histogram2dcontour\"}], \"mesh3d\": [{\"colorbar\": {\"outlinewidth\": 0, \"ticks\": \"\"}, \"type\": \"mesh3d\"}], \"parcoords\": [{\"line\": {\"colorbar\": {\"outlinewidth\": 0, \"ticks\": \"\"}}, \"type\": \"parcoords\"}], \"pie\": [{\"automargin\": true, \"type\": \"pie\"}], \"scatter\": [{\"marker\": {\"colorbar\": {\"outlinewidth\": 0, \"ticks\": \"\"}}, \"type\": \"scatter\"}], \"scatter3d\": [{\"line\": {\"colorbar\": {\"outlinewidth\": 0, \"ticks\": \"\"}}, \"marker\": {\"colorbar\": {\"outlinewidth\": 0, \"ticks\": \"\"}}, \"type\": \"scatter3d\"}], \"scattercarpet\": [{\"marker\": {\"colorbar\": {\"outlinewidth\": 0, \"ticks\": \"\"}}, \"type\": \"scattercarpet\"}], \"scattergeo\": [{\"marker\": {\"colorbar\": {\"outlinewidth\": 0, \"ticks\": \"\"}}, \"type\": \"scattergeo\"}], \"scattergl\": [{\"marker\": {\"colorbar\": {\"outlinewidth\": 0, \"ticks\": \"\"}}, \"type\": \"scattergl\"}], \"scattermapbox\": [{\"marker\": {\"colorbar\": {\"outlinewidth\": 0, \"ticks\": \"\"}}, \"type\": \"scattermapbox\"}], \"scatterpolar\": [{\"marker\": {\"colorbar\": {\"outlinewidth\": 0, \"ticks\": \"\"}}, \"type\": \"scatterpolar\"}], \"scatterpolargl\": [{\"marker\": {\"colorbar\": {\"outlinewidth\": 0, \"ticks\": \"\"}}, \"type\": \"scatterpolargl\"}], \"scatterternary\": [{\"marker\": {\"colorbar\": {\"outlinewidth\": 0, \"ticks\": \"\"}}, \"type\": \"scatterternary\"}], \"surface\": [{\"colorbar\": {\"outlinewidth\": 0, \"ticks\": \"\"}, \"colorscale\": [[0.0, \"#0d0887\"], [0.1111111111111111, \"#46039f\"], [0.2222222222222222, \"#7201a8\"], [0.3333333333333333, \"#9c179e\"], [0.4444444444444444, \"#bd3786\"], [0.5555555555555556, \"#d8576b\"], [0.6666666666666666, \"#ed7953\"], [0.7777777777777778, \"#fb9f3a\"], [0.8888888888888888, \"#fdca26\"], [1.0, \"#f0f921\"]], \"type\": \"surface\"}], \"table\": [{\"cells\": {\"fill\": {\"color\": \"#EBF0F8\"}, \"line\": {\"color\": \"white\"}}, \"header\": {\"fill\": {\"color\": \"#C8D4E3\"}, \"line\": {\"color\": \"white\"}}, \"type\": \"table\"}]}, \"layout\": {\"annotationdefaults\": {\"arrowcolor\": \"#2a3f5f\", \"arrowhead\": 0, \"arrowwidth\": 1}, \"autotypenumbers\": \"strict\", \"coloraxis\": {\"colorbar\": {\"outlinewidth\": 0, \"ticks\": \"\"}}, \"colorscale\": {\"diverging\": [[0, \"#8e0152\"], [0.1, \"#c51b7d\"], [0.2, \"#de77ae\"], [0.3, \"#f1b6da\"], [0.4, \"#fde0ef\"], [0.5, \"#f7f7f7\"], [0.6, \"#e6f5d0\"], [0.7, \"#b8e186\"], [0.8, \"#7fbc41\"], [0.9, \"#4d9221\"], [1, \"#276419\"]], \"sequential\": [[0.0, \"#0d0887\"], [0.1111111111111111, \"#46039f\"], [0.2222222222222222, \"#7201a8\"], [0.3333333333333333, \"#9c179e\"], [0.4444444444444444, \"#bd3786\"], [0.5555555555555556, \"#d8576b\"], [0.6666666666666666, \"#ed7953\"], [0.7777777777777778, \"#fb9f3a\"], [0.8888888888888888, \"#fdca26\"], [1.0, \"#f0f921\"]], \"sequentialminus\": [[0.0, \"#0d0887\"], [0.1111111111111111, \"#46039f\"], [0.2222222222222222, \"#7201a8\"], [0.3333333333333333, \"#9c179e\"], [0.4444444444444444, \"#bd3786\"], [0.5555555555555556, \"#d8576b\"], [0.6666666666666666, \"#ed7953\"], [0.7777777777777778, \"#fb9f3a\"], [0.8888888888888888, \"#fdca26\"], [1.0, \"#f0f921\"]]}, \"colorway\": [\"#636efa\", \"#EF553B\", \"#00cc96\", \"#ab63fa\", \"#FFA15A\", \"#19d3f3\", \"#FF6692\", \"#B6E880\", \"#FF97FF\", \"#FECB52\"], \"font\": {\"color\": \"#2a3f5f\"}, \"geo\": {\"bgcolor\": \"white\", \"lakecolor\": \"white\", \"landcolor\": \"#E5ECF6\", \"showlakes\": true, \"showland\": true, \"subunitcolor\": \"white\"}, \"hoverlabel\": {\"align\": \"left\"}, \"hovermode\": \"closest\", \"mapbox\": {\"style\": \"light\"}, \"paper_bgcolor\": \"white\", \"plot_bgcolor\": \"#E5ECF6\", \"polar\": {\"angularaxis\": {\"gridcolor\": \"white\", \"linecolor\": \"white\", \"ticks\": \"\"}, \"bgcolor\": \"#E5ECF6\", \"radialaxis\": {\"gridcolor\": \"white\", \"linecolor\": \"white\", \"ticks\": \"\"}}, \"scene\": {\"xaxis\": {\"backgroundcolor\": \"#E5ECF6\", \"gridcolor\": \"white\", \"gridwidth\": 2, \"linecolor\": \"white\", \"showbackground\": true, \"ticks\": \"\", \"zerolinecolor\": \"white\"}, \"yaxis\": {\"backgroundcolor\": \"#E5ECF6\", \"gridcolor\": \"white\", \"gridwidth\": 2, \"linecolor\": \"white\", \"showbackground\": true, \"ticks\": \"\", \"zerolinecolor\": \"white\"}, \"zaxis\": {\"backgroundcolor\": \"#E5ECF6\", \"gridcolor\": \"white\", \"gridwidth\": 2, \"linecolor\": \"white\", \"showbackground\": true, \"ticks\": \"\", \"zerolinecolor\": \"white\"}}, \"shapedefaults\": {\"line\": {\"color\": \"#2a3f5f\"}}, \"ternary\": {\"aaxis\": {\"gridcolor\": \"white\", \"linecolor\": \"white\", \"ticks\": \"\"}, \"baxis\": {\"gridcolor\": \"white\", \"linecolor\": \"white\", \"ticks\": \"\"}, \"bgcolor\": \"#E5ECF6\", \"caxis\": {\"gridcolor\": \"white\", \"linecolor\": \"white\", \"ticks\": \"\"}}, \"title\": {\"x\": 0.05}, \"xaxis\": {\"automargin\": true, \"gridcolor\": \"white\", \"linecolor\": \"white\", \"ticks\": \"\", \"title\": {\"standoff\": 15}, \"zerolinecolor\": \"white\", \"zerolinewidth\": 2}, \"yaxis\": {\"automargin\": true, \"gridcolor\": \"white\", \"linecolor\": \"white\", \"ticks\": \"\", \"title\": {\"standoff\": 15}, \"zerolinecolor\": \"white\", \"zerolinewidth\": 2}}}, \"title\": {\"text\": \"KMEANS- TWEETS\"}},                        {\"responsive\": true}                    ).then(function(){\n",
       "                            \n",
       "var gd = document.getElementById('399ba444-0208-454b-b3c9-68c33bb4b107');\n",
       "var x = new MutationObserver(function (mutations, observer) {{\n",
       "        var display = window.getComputedStyle(gd).display;\n",
       "        if (!display || display === 'none') {{\n",
       "            console.log([gd, 'removed!']);\n",
       "            Plotly.purge(gd);\n",
       "            observer.disconnect();\n",
       "        }}\n",
       "}});\n",
       "\n",
       "// Listen for the removal of the full notebook cells\n",
       "var notebookContainer = gd.closest('#notebook-container');\n",
       "if (notebookContainer) {{\n",
       "    x.observe(notebookContainer, {childList: true});\n",
       "}}\n",
       "\n",
       "// Listen for the clearing of the current output cell\n",
       "var outputEl = gd.closest('.output');\n",
       "if (outputEl) {{\n",
       "    x.observe(outputEl, {childList: true});\n",
       "}}\n",
       "\n",
       "                        })                };                });            </script>        </div>"
      ]
     },
     "metadata": {},
     "output_type": "display_data"
    }
   ],
   "source": [
    "trace = go.Scatter(x=result['X'].values,\n",
    "                   y=result['Y'].values,\n",
    "                   text=result['texto'].values,\n",
    "                   mode='markers',\n",
    "                   marker=dict(color=result['colores'].values)) \n",
    "\n",
    "layout = go.Layout(title=\"KMEANS- TWEETS\")\n",
    "\n",
    "fig = go.Figure(data=trace, layout=layout)\n",
    "iplot(fig)"
   ]
  },
  {
   "cell_type": "code",
   "execution_count": 22,
   "metadata": {},
   "outputs": [],
   "source": [
    "datos['hora'] = datos['fecha'].dt.floor('T').dt.time"
   ]
  },
  {
   "cell_type": "code",
   "execution_count": 23,
   "metadata": {},
   "outputs": [
    {
     "data": {
      "text/html": [
       "<div>\n",
       "<style scoped>\n",
       "    .dataframe tbody tr th:only-of-type {\n",
       "        vertical-align: middle;\n",
       "    }\n",
       "\n",
       "    .dataframe tbody tr th {\n",
       "        vertical-align: top;\n",
       "    }\n",
       "\n",
       "    .dataframe thead th {\n",
       "        text-align: right;\n",
       "    }\n",
       "</style>\n",
       "<table border=\"1\" class=\"dataframe\">\n",
       "  <thead>\n",
       "    <tr style=\"text-align: right;\">\n",
       "      <th></th>\n",
       "      <th>hora</th>\n",
       "      <th>cuenta</th>\n",
       "    </tr>\n",
       "  </thead>\n",
       "  <tbody>\n",
       "    <tr>\n",
       "      <th>63</th>\n",
       "      <td>00:03:00</td>\n",
       "      <td>1</td>\n",
       "    </tr>\n",
       "    <tr>\n",
       "      <th>6</th>\n",
       "      <td>00:05:00</td>\n",
       "      <td>2</td>\n",
       "    </tr>\n",
       "    <tr>\n",
       "      <th>83</th>\n",
       "      <td>00:14:00</td>\n",
       "      <td>1</td>\n",
       "    </tr>\n",
       "    <tr>\n",
       "      <th>31</th>\n",
       "      <td>00:23:00</td>\n",
       "      <td>1</td>\n",
       "    </tr>\n",
       "    <tr>\n",
       "      <th>17</th>\n",
       "      <td>00:25:00</td>\n",
       "      <td>1</td>\n",
       "    </tr>\n",
       "    <tr>\n",
       "      <th>...</th>\n",
       "      <td>...</td>\n",
       "      <td>...</td>\n",
       "    </tr>\n",
       "    <tr>\n",
       "      <th>18</th>\n",
       "      <td>23:42:00</td>\n",
       "      <td>1</td>\n",
       "    </tr>\n",
       "    <tr>\n",
       "      <th>58</th>\n",
       "      <td>23:49:00</td>\n",
       "      <td>1</td>\n",
       "    </tr>\n",
       "    <tr>\n",
       "      <th>15</th>\n",
       "      <td>23:50:00</td>\n",
       "      <td>1</td>\n",
       "    </tr>\n",
       "    <tr>\n",
       "      <th>24</th>\n",
       "      <td>23:56:00</td>\n",
       "      <td>1</td>\n",
       "    </tr>\n",
       "    <tr>\n",
       "      <th>44</th>\n",
       "      <td>23:57:00</td>\n",
       "      <td>1</td>\n",
       "    </tr>\n",
       "  </tbody>\n",
       "</table>\n",
       "<p>96 rows × 2 columns</p>\n",
       "</div>"
      ],
      "text/plain": [
       "        hora  cuenta\n",
       "63  00:03:00       1\n",
       "6   00:05:00       2\n",
       "83  00:14:00       1\n",
       "31  00:23:00       1\n",
       "17  00:25:00       1\n",
       "..       ...     ...\n",
       "18  23:42:00       1\n",
       "58  23:49:00       1\n",
       "15  23:50:00       1\n",
       "24  23:56:00       1\n",
       "44  23:57:00       1\n",
       "\n",
       "[96 rows x 2 columns]"
      ]
     },
     "execution_count": 23,
     "metadata": {},
     "output_type": "execute_result"
    }
   ],
   "source": [
    "conteos = pd.DataFrame(datos.hora.value_counts()).reset_index()\n",
    "conteos.columns = ['hora', 'cuenta']\n",
    "conteos = conteos.sort_values('hora')\n",
    "conteos"
   ]
  },
  {
   "cell_type": "markdown",
   "metadata": {},
   "source": [
    "### Gráfico de tweets por hora"
   ]
  },
  {
   "cell_type": "code",
   "execution_count": 10,
   "metadata": {},
   "outputs": [
    {
     "data": {
      "application/vnd.plotly.v1+json": {
       "config": {
        "linkText": "Export to plot.ly",
        "plotlyServerURL": "https://plot.ly",
        "showLink": false
       },
       "data": [
        {
         "hoverinfo": "text",
         "line": {
          "color": "blue"
         },
         "mode": "lines+markers",
         "name": "Horas",
         "text": [
          "Fecha: 00:03:00<br>Tuits: 1",
          "Fecha: 00:05:00<br>Tuits: 2",
          "Fecha: 00:14:00<br>Tuits: 1",
          "Fecha: 00:23:00<br>Tuits: 1",
          "Fecha: 00:25:00<br>Tuits: 1",
          "Fecha: 00:30:00<br>Tuits: 1",
          "Fecha: 00:31:00<br>Tuits: 1",
          "Fecha: 00:37:00<br>Tuits: 3",
          "Fecha: 00:48:00<br>Tuits: 1",
          "Fecha: 01:01:00<br>Tuits: 1",
          "Fecha: 01:04:00<br>Tuits: 1",
          "Fecha: 01:13:00<br>Tuits: 2",
          "Fecha: 01:36:00<br>Tuits: 1",
          "Fecha: 01:42:00<br>Tuits: 3",
          "Fecha: 01:43:00<br>Tuits: 1",
          "Fecha: 01:48:00<br>Tuits: 1",
          "Fecha: 01:49:00<br>Tuits: 1",
          "Fecha: 01:51:00<br>Tuits: 1",
          "Fecha: 02:11:00<br>Tuits: 1",
          "Fecha: 02:13:00<br>Tuits: 2",
          "Fecha: 02:16:00<br>Tuits: 1",
          "Fecha: 02:17:00<br>Tuits: 1",
          "Fecha: 02:19:00<br>Tuits: 1",
          "Fecha: 02:23:00<br>Tuits: 1",
          "Fecha: 02:26:00<br>Tuits: 1",
          "Fecha: 02:30:00<br>Tuits: 1",
          "Fecha: 02:34:00<br>Tuits: 2",
          "Fecha: 02:38:00<br>Tuits: 1",
          "Fecha: 02:39:00<br>Tuits: 1",
          "Fecha: 02:49:00<br>Tuits: 1",
          "Fecha: 02:58:00<br>Tuits: 1",
          "Fecha: 03:01:00<br>Tuits: 1",
          "Fecha: 03:02:00<br>Tuits: 1",
          "Fecha: 03:08:00<br>Tuits: 1",
          "Fecha: 03:11:00<br>Tuits: 2",
          "Fecha: 03:14:00<br>Tuits: 2",
          "Fecha: 03:16:00<br>Tuits: 1",
          "Fecha: 03:17:00<br>Tuits: 1",
          "Fecha: 03:18:00<br>Tuits: 1",
          "Fecha: 03:20:00<br>Tuits: 1",
          "Fecha: 03:30:00<br>Tuits: 1",
          "Fecha: 03:34:00<br>Tuits: 2",
          "Fecha: 03:35:00<br>Tuits: 1",
          "Fecha: 03:40:00<br>Tuits: 1",
          "Fecha: 03:41:00<br>Tuits: 1",
          "Fecha: 03:46:00<br>Tuits: 1",
          "Fecha: 03:47:00<br>Tuits: 2",
          "Fecha: 03:57:00<br>Tuits: 1",
          "Fecha: 04:06:00<br>Tuits: 1",
          "Fecha: 04:11:00<br>Tuits: 1",
          "Fecha: 04:14:00<br>Tuits: 1",
          "Fecha: 04:21:00<br>Tuits: 1",
          "Fecha: 04:43:00<br>Tuits: 1",
          "Fecha: 05:00:00<br>Tuits: 1",
          "Fecha: 20:03:00<br>Tuits: 2",
          "Fecha: 20:06:00<br>Tuits: 1",
          "Fecha: 20:09:00<br>Tuits: 1",
          "Fecha: 20:10:00<br>Tuits: 2",
          "Fecha: 20:18:00<br>Tuits: 1",
          "Fecha: 20:21:00<br>Tuits: 1",
          "Fecha: 20:23:00<br>Tuits: 1",
          "Fecha: 20:27:00<br>Tuits: 1",
          "Fecha: 20:30:00<br>Tuits: 1",
          "Fecha: 20:41:00<br>Tuits: 1",
          "Fecha: 20:43:00<br>Tuits: 1",
          "Fecha: 20:54:00<br>Tuits: 1",
          "Fecha: 20:55:00<br>Tuits: 1",
          "Fecha: 21:20:00<br>Tuits: 1",
          "Fecha: 21:42:00<br>Tuits: 1",
          "Fecha: 21:50:00<br>Tuits: 1",
          "Fecha: 21:57:00<br>Tuits: 1",
          "Fecha: 22:07:00<br>Tuits: 1",
          "Fecha: 22:08:00<br>Tuits: 1",
          "Fecha: 22:09:00<br>Tuits: 1",
          "Fecha: 22:15:00<br>Tuits: 1",
          "Fecha: 22:23:00<br>Tuits: 1",
          "Fecha: 22:26:00<br>Tuits: 1",
          "Fecha: 22:28:00<br>Tuits: 1",
          "Fecha: 22:44:00<br>Tuits: 1",
          "Fecha: 22:45:00<br>Tuits: 1",
          "Fecha: 22:50:00<br>Tuits: 1",
          "Fecha: 22:56:00<br>Tuits: 1",
          "Fecha: 22:57:00<br>Tuits: 1",
          "Fecha: 23:01:00<br>Tuits: 1",
          "Fecha: 23:04:00<br>Tuits: 1",
          "Fecha: 23:07:00<br>Tuits: 1",
          "Fecha: 23:16:00<br>Tuits: 1",
          "Fecha: 23:17:00<br>Tuits: 1",
          "Fecha: 23:32:00<br>Tuits: 1",
          "Fecha: 23:36:00<br>Tuits: 1",
          "Fecha: 23:37:00<br>Tuits: 1",
          "Fecha: 23:42:00<br>Tuits: 1",
          "Fecha: 23:49:00<br>Tuits: 1",
          "Fecha: 23:50:00<br>Tuits: 1",
          "Fecha: 23:56:00<br>Tuits: 1",
          "Fecha: 23:57:00<br>Tuits: 1"
         ],
         "type": "scatter",
         "x": [
          "00:03:00",
          "00:05:00",
          "00:14:00",
          "00:23:00",
          "00:25:00",
          "00:30:00",
          "00:31:00",
          "00:37:00",
          "00:48:00",
          "01:01:00",
          "01:04:00",
          "01:13:00",
          "01:36:00",
          "01:42:00",
          "01:43:00",
          "01:48:00",
          "01:49:00",
          "01:51:00",
          "02:11:00",
          "02:13:00",
          "02:16:00",
          "02:17:00",
          "02:19:00",
          "02:23:00",
          "02:26:00",
          "02:30:00",
          "02:34:00",
          "02:38:00",
          "02:39:00",
          "02:49:00",
          "02:58:00",
          "03:01:00",
          "03:02:00",
          "03:08:00",
          "03:11:00",
          "03:14:00",
          "03:16:00",
          "03:17:00",
          "03:18:00",
          "03:20:00",
          "03:30:00",
          "03:34:00",
          "03:35:00",
          "03:40:00",
          "03:41:00",
          "03:46:00",
          "03:47:00",
          "03:57:00",
          "04:06:00",
          "04:11:00",
          "04:14:00",
          "04:21:00",
          "04:43:00",
          "05:00:00",
          "20:03:00",
          "20:06:00",
          "20:09:00",
          "20:10:00",
          "20:18:00",
          "20:21:00",
          "20:23:00",
          "20:27:00",
          "20:30:00",
          "20:41:00",
          "20:43:00",
          "20:54:00",
          "20:55:00",
          "21:20:00",
          "21:42:00",
          "21:50:00",
          "21:57:00",
          "22:07:00",
          "22:08:00",
          "22:09:00",
          "22:15:00",
          "22:23:00",
          "22:26:00",
          "22:28:00",
          "22:44:00",
          "22:45:00",
          "22:50:00",
          "22:56:00",
          "22:57:00",
          "23:01:00",
          "23:04:00",
          "23:07:00",
          "23:16:00",
          "23:17:00",
          "23:32:00",
          "23:36:00",
          "23:37:00",
          "23:42:00",
          "23:49:00",
          "23:50:00",
          "23:56:00",
          "23:57:00"
         ],
         "y": [
          1,
          2,
          1,
          1,
          1,
          1,
          1,
          3,
          1,
          1,
          1,
          2,
          1,
          3,
          1,
          1,
          1,
          1,
          1,
          2,
          1,
          1,
          1,
          1,
          1,
          1,
          2,
          1,
          1,
          1,
          1,
          1,
          1,
          1,
          2,
          2,
          1,
          1,
          1,
          1,
          1,
          2,
          1,
          1,
          1,
          1,
          2,
          1,
          1,
          1,
          1,
          1,
          1,
          1,
          2,
          1,
          1,
          2,
          1,
          1,
          1,
          1,
          1,
          1,
          1,
          1,
          1,
          1,
          1,
          1,
          1,
          1,
          1,
          1,
          1,
          1,
          1,
          1,
          1,
          1,
          1,
          1,
          1,
          1,
          1,
          1,
          1,
          1,
          1,
          1,
          1,
          1,
          1,
          1,
          1,
          1
         ]
        }
       ],
       "layout": {
        "template": {
         "data": {
          "bar": [
           {
            "error_x": {
             "color": "#2a3f5f"
            },
            "error_y": {
             "color": "#2a3f5f"
            },
            "marker": {
             "line": {
              "color": "#E5ECF6",
              "width": 0.5
             }
            },
            "type": "bar"
           }
          ],
          "barpolar": [
           {
            "marker": {
             "line": {
              "color": "#E5ECF6",
              "width": 0.5
             }
            },
            "type": "barpolar"
           }
          ],
          "carpet": [
           {
            "aaxis": {
             "endlinecolor": "#2a3f5f",
             "gridcolor": "white",
             "linecolor": "white",
             "minorgridcolor": "white",
             "startlinecolor": "#2a3f5f"
            },
            "baxis": {
             "endlinecolor": "#2a3f5f",
             "gridcolor": "white",
             "linecolor": "white",
             "minorgridcolor": "white",
             "startlinecolor": "#2a3f5f"
            },
            "type": "carpet"
           }
          ],
          "choropleth": [
           {
            "colorbar": {
             "outlinewidth": 0,
             "ticks": ""
            },
            "type": "choropleth"
           }
          ],
          "contour": [
           {
            "colorbar": {
             "outlinewidth": 0,
             "ticks": ""
            },
            "colorscale": [
             [
              0,
              "#0d0887"
             ],
             [
              0.1111111111111111,
              "#46039f"
             ],
             [
              0.2222222222222222,
              "#7201a8"
             ],
             [
              0.3333333333333333,
              "#9c179e"
             ],
             [
              0.4444444444444444,
              "#bd3786"
             ],
             [
              0.5555555555555556,
              "#d8576b"
             ],
             [
              0.6666666666666666,
              "#ed7953"
             ],
             [
              0.7777777777777778,
              "#fb9f3a"
             ],
             [
              0.8888888888888888,
              "#fdca26"
             ],
             [
              1,
              "#f0f921"
             ]
            ],
            "type": "contour"
           }
          ],
          "contourcarpet": [
           {
            "colorbar": {
             "outlinewidth": 0,
             "ticks": ""
            },
            "type": "contourcarpet"
           }
          ],
          "heatmap": [
           {
            "colorbar": {
             "outlinewidth": 0,
             "ticks": ""
            },
            "colorscale": [
             [
              0,
              "#0d0887"
             ],
             [
              0.1111111111111111,
              "#46039f"
             ],
             [
              0.2222222222222222,
              "#7201a8"
             ],
             [
              0.3333333333333333,
              "#9c179e"
             ],
             [
              0.4444444444444444,
              "#bd3786"
             ],
             [
              0.5555555555555556,
              "#d8576b"
             ],
             [
              0.6666666666666666,
              "#ed7953"
             ],
             [
              0.7777777777777778,
              "#fb9f3a"
             ],
             [
              0.8888888888888888,
              "#fdca26"
             ],
             [
              1,
              "#f0f921"
             ]
            ],
            "type": "heatmap"
           }
          ],
          "heatmapgl": [
           {
            "colorbar": {
             "outlinewidth": 0,
             "ticks": ""
            },
            "colorscale": [
             [
              0,
              "#0d0887"
             ],
             [
              0.1111111111111111,
              "#46039f"
             ],
             [
              0.2222222222222222,
              "#7201a8"
             ],
             [
              0.3333333333333333,
              "#9c179e"
             ],
             [
              0.4444444444444444,
              "#bd3786"
             ],
             [
              0.5555555555555556,
              "#d8576b"
             ],
             [
              0.6666666666666666,
              "#ed7953"
             ],
             [
              0.7777777777777778,
              "#fb9f3a"
             ],
             [
              0.8888888888888888,
              "#fdca26"
             ],
             [
              1,
              "#f0f921"
             ]
            ],
            "type": "heatmapgl"
           }
          ],
          "histogram": [
           {
            "marker": {
             "colorbar": {
              "outlinewidth": 0,
              "ticks": ""
             }
            },
            "type": "histogram"
           }
          ],
          "histogram2d": [
           {
            "colorbar": {
             "outlinewidth": 0,
             "ticks": ""
            },
            "colorscale": [
             [
              0,
              "#0d0887"
             ],
             [
              0.1111111111111111,
              "#46039f"
             ],
             [
              0.2222222222222222,
              "#7201a8"
             ],
             [
              0.3333333333333333,
              "#9c179e"
             ],
             [
              0.4444444444444444,
              "#bd3786"
             ],
             [
              0.5555555555555556,
              "#d8576b"
             ],
             [
              0.6666666666666666,
              "#ed7953"
             ],
             [
              0.7777777777777778,
              "#fb9f3a"
             ],
             [
              0.8888888888888888,
              "#fdca26"
             ],
             [
              1,
              "#f0f921"
             ]
            ],
            "type": "histogram2d"
           }
          ],
          "histogram2dcontour": [
           {
            "colorbar": {
             "outlinewidth": 0,
             "ticks": ""
            },
            "colorscale": [
             [
              0,
              "#0d0887"
             ],
             [
              0.1111111111111111,
              "#46039f"
             ],
             [
              0.2222222222222222,
              "#7201a8"
             ],
             [
              0.3333333333333333,
              "#9c179e"
             ],
             [
              0.4444444444444444,
              "#bd3786"
             ],
             [
              0.5555555555555556,
              "#d8576b"
             ],
             [
              0.6666666666666666,
              "#ed7953"
             ],
             [
              0.7777777777777778,
              "#fb9f3a"
             ],
             [
              0.8888888888888888,
              "#fdca26"
             ],
             [
              1,
              "#f0f921"
             ]
            ],
            "type": "histogram2dcontour"
           }
          ],
          "mesh3d": [
           {
            "colorbar": {
             "outlinewidth": 0,
             "ticks": ""
            },
            "type": "mesh3d"
           }
          ],
          "parcoords": [
           {
            "line": {
             "colorbar": {
              "outlinewidth": 0,
              "ticks": ""
             }
            },
            "type": "parcoords"
           }
          ],
          "pie": [
           {
            "automargin": true,
            "type": "pie"
           }
          ],
          "scatter": [
           {
            "marker": {
             "colorbar": {
              "outlinewidth": 0,
              "ticks": ""
             }
            },
            "type": "scatter"
           }
          ],
          "scatter3d": [
           {
            "line": {
             "colorbar": {
              "outlinewidth": 0,
              "ticks": ""
             }
            },
            "marker": {
             "colorbar": {
              "outlinewidth": 0,
              "ticks": ""
             }
            },
            "type": "scatter3d"
           }
          ],
          "scattercarpet": [
           {
            "marker": {
             "colorbar": {
              "outlinewidth": 0,
              "ticks": ""
             }
            },
            "type": "scattercarpet"
           }
          ],
          "scattergeo": [
           {
            "marker": {
             "colorbar": {
              "outlinewidth": 0,
              "ticks": ""
             }
            },
            "type": "scattergeo"
           }
          ],
          "scattergl": [
           {
            "marker": {
             "colorbar": {
              "outlinewidth": 0,
              "ticks": ""
             }
            },
            "type": "scattergl"
           }
          ],
          "scattermapbox": [
           {
            "marker": {
             "colorbar": {
              "outlinewidth": 0,
              "ticks": ""
             }
            },
            "type": "scattermapbox"
           }
          ],
          "scatterpolar": [
           {
            "marker": {
             "colorbar": {
              "outlinewidth": 0,
              "ticks": ""
             }
            },
            "type": "scatterpolar"
           }
          ],
          "scatterpolargl": [
           {
            "marker": {
             "colorbar": {
              "outlinewidth": 0,
              "ticks": ""
             }
            },
            "type": "scatterpolargl"
           }
          ],
          "scatterternary": [
           {
            "marker": {
             "colorbar": {
              "outlinewidth": 0,
              "ticks": ""
             }
            },
            "type": "scatterternary"
           }
          ],
          "surface": [
           {
            "colorbar": {
             "outlinewidth": 0,
             "ticks": ""
            },
            "colorscale": [
             [
              0,
              "#0d0887"
             ],
             [
              0.1111111111111111,
              "#46039f"
             ],
             [
              0.2222222222222222,
              "#7201a8"
             ],
             [
              0.3333333333333333,
              "#9c179e"
             ],
             [
              0.4444444444444444,
              "#bd3786"
             ],
             [
              0.5555555555555556,
              "#d8576b"
             ],
             [
              0.6666666666666666,
              "#ed7953"
             ],
             [
              0.7777777777777778,
              "#fb9f3a"
             ],
             [
              0.8888888888888888,
              "#fdca26"
             ],
             [
              1,
              "#f0f921"
             ]
            ],
            "type": "surface"
           }
          ],
          "table": [
           {
            "cells": {
             "fill": {
              "color": "#EBF0F8"
             },
             "line": {
              "color": "white"
             }
            },
            "header": {
             "fill": {
              "color": "#C8D4E3"
             },
             "line": {
              "color": "white"
             }
            },
            "type": "table"
           }
          ]
         },
         "layout": {
          "annotationdefaults": {
           "arrowcolor": "#2a3f5f",
           "arrowhead": 0,
           "arrowwidth": 1
          },
          "autotypenumbers": "strict",
          "coloraxis": {
           "colorbar": {
            "outlinewidth": 0,
            "ticks": ""
           }
          },
          "colorscale": {
           "diverging": [
            [
             0,
             "#8e0152"
            ],
            [
             0.1,
             "#c51b7d"
            ],
            [
             0.2,
             "#de77ae"
            ],
            [
             0.3,
             "#f1b6da"
            ],
            [
             0.4,
             "#fde0ef"
            ],
            [
             0.5,
             "#f7f7f7"
            ],
            [
             0.6,
             "#e6f5d0"
            ],
            [
             0.7,
             "#b8e186"
            ],
            [
             0.8,
             "#7fbc41"
            ],
            [
             0.9,
             "#4d9221"
            ],
            [
             1,
             "#276419"
            ]
           ],
           "sequential": [
            [
             0,
             "#0d0887"
            ],
            [
             0.1111111111111111,
             "#46039f"
            ],
            [
             0.2222222222222222,
             "#7201a8"
            ],
            [
             0.3333333333333333,
             "#9c179e"
            ],
            [
             0.4444444444444444,
             "#bd3786"
            ],
            [
             0.5555555555555556,
             "#d8576b"
            ],
            [
             0.6666666666666666,
             "#ed7953"
            ],
            [
             0.7777777777777778,
             "#fb9f3a"
            ],
            [
             0.8888888888888888,
             "#fdca26"
            ],
            [
             1,
             "#f0f921"
            ]
           ],
           "sequentialminus": [
            [
             0,
             "#0d0887"
            ],
            [
             0.1111111111111111,
             "#46039f"
            ],
            [
             0.2222222222222222,
             "#7201a8"
            ],
            [
             0.3333333333333333,
             "#9c179e"
            ],
            [
             0.4444444444444444,
             "#bd3786"
            ],
            [
             0.5555555555555556,
             "#d8576b"
            ],
            [
             0.6666666666666666,
             "#ed7953"
            ],
            [
             0.7777777777777778,
             "#fb9f3a"
            ],
            [
             0.8888888888888888,
             "#fdca26"
            ],
            [
             1,
             "#f0f921"
            ]
           ]
          },
          "colorway": [
           "#636efa",
           "#EF553B",
           "#00cc96",
           "#ab63fa",
           "#FFA15A",
           "#19d3f3",
           "#FF6692",
           "#B6E880",
           "#FF97FF",
           "#FECB52"
          ],
          "font": {
           "color": "#2a3f5f"
          },
          "geo": {
           "bgcolor": "white",
           "lakecolor": "white",
           "landcolor": "#E5ECF6",
           "showlakes": true,
           "showland": true,
           "subunitcolor": "white"
          },
          "hoverlabel": {
           "align": "left"
          },
          "hovermode": "closest",
          "mapbox": {
           "style": "light"
          },
          "paper_bgcolor": "white",
          "plot_bgcolor": "#E5ECF6",
          "polar": {
           "angularaxis": {
            "gridcolor": "white",
            "linecolor": "white",
            "ticks": ""
           },
           "bgcolor": "#E5ECF6",
           "radialaxis": {
            "gridcolor": "white",
            "linecolor": "white",
            "ticks": ""
           }
          },
          "scene": {
           "xaxis": {
            "backgroundcolor": "#E5ECF6",
            "gridcolor": "white",
            "gridwidth": 2,
            "linecolor": "white",
            "showbackground": true,
            "ticks": "",
            "zerolinecolor": "white"
           },
           "yaxis": {
            "backgroundcolor": "#E5ECF6",
            "gridcolor": "white",
            "gridwidth": 2,
            "linecolor": "white",
            "showbackground": true,
            "ticks": "",
            "zerolinecolor": "white"
           },
           "zaxis": {
            "backgroundcolor": "#E5ECF6",
            "gridcolor": "white",
            "gridwidth": 2,
            "linecolor": "white",
            "showbackground": true,
            "ticks": "",
            "zerolinecolor": "white"
           }
          },
          "shapedefaults": {
           "line": {
            "color": "#2a3f5f"
           }
          },
          "ternary": {
           "aaxis": {
            "gridcolor": "white",
            "linecolor": "white",
            "ticks": ""
           },
           "baxis": {
            "gridcolor": "white",
            "linecolor": "white",
            "ticks": ""
           },
           "bgcolor": "#E5ECF6",
           "caxis": {
            "gridcolor": "white",
            "linecolor": "white",
            "ticks": ""
           }
          },
          "title": {
           "x": 0.05
          },
          "xaxis": {
           "automargin": true,
           "gridcolor": "white",
           "linecolor": "white",
           "ticks": "",
           "title": {
            "standoff": 15
           },
           "zerolinecolor": "white",
           "zerolinewidth": 2
          },
          "yaxis": {
           "automargin": true,
           "gridcolor": "white",
           "linecolor": "white",
           "ticks": "",
           "title": {
            "standoff": 15
           },
           "zerolinecolor": "white",
           "zerolinewidth": 2
          }
         }
        },
        "title": {
         "text": "Número de tuits por hora"
        }
       }
      },
      "text/html": [
       "<div>                            <div id=\"ff1eee28-2cb1-4931-9d6f-35143d275254\" class=\"plotly-graph-div\" style=\"height:525px; width:100%;\"></div>            <script type=\"text/javascript\">                require([\"plotly\"], function(Plotly) {                    window.PLOTLYENV=window.PLOTLYENV || {};                                    if (document.getElementById(\"ff1eee28-2cb1-4931-9d6f-35143d275254\")) {                    Plotly.newPlot(                        \"ff1eee28-2cb1-4931-9d6f-35143d275254\",                        [{\"hoverinfo\": \"text\", \"line\": {\"color\": \"blue\"}, \"mode\": \"lines+markers\", \"name\": \"Horas\", \"text\": [\"Fecha: 00:03:00<br>Tuits: 1\", \"Fecha: 00:05:00<br>Tuits: 2\", \"Fecha: 00:14:00<br>Tuits: 1\", \"Fecha: 00:23:00<br>Tuits: 1\", \"Fecha: 00:25:00<br>Tuits: 1\", \"Fecha: 00:30:00<br>Tuits: 1\", \"Fecha: 00:31:00<br>Tuits: 1\", \"Fecha: 00:37:00<br>Tuits: 3\", \"Fecha: 00:48:00<br>Tuits: 1\", \"Fecha: 01:01:00<br>Tuits: 1\", \"Fecha: 01:04:00<br>Tuits: 1\", \"Fecha: 01:13:00<br>Tuits: 2\", \"Fecha: 01:36:00<br>Tuits: 1\", \"Fecha: 01:42:00<br>Tuits: 3\", \"Fecha: 01:43:00<br>Tuits: 1\", \"Fecha: 01:48:00<br>Tuits: 1\", \"Fecha: 01:49:00<br>Tuits: 1\", \"Fecha: 01:51:00<br>Tuits: 1\", \"Fecha: 02:11:00<br>Tuits: 1\", \"Fecha: 02:13:00<br>Tuits: 2\", \"Fecha: 02:16:00<br>Tuits: 1\", \"Fecha: 02:17:00<br>Tuits: 1\", \"Fecha: 02:19:00<br>Tuits: 1\", \"Fecha: 02:23:00<br>Tuits: 1\", \"Fecha: 02:26:00<br>Tuits: 1\", \"Fecha: 02:30:00<br>Tuits: 1\", \"Fecha: 02:34:00<br>Tuits: 2\", \"Fecha: 02:38:00<br>Tuits: 1\", \"Fecha: 02:39:00<br>Tuits: 1\", \"Fecha: 02:49:00<br>Tuits: 1\", \"Fecha: 02:58:00<br>Tuits: 1\", \"Fecha: 03:01:00<br>Tuits: 1\", \"Fecha: 03:02:00<br>Tuits: 1\", \"Fecha: 03:08:00<br>Tuits: 1\", \"Fecha: 03:11:00<br>Tuits: 2\", \"Fecha: 03:14:00<br>Tuits: 2\", \"Fecha: 03:16:00<br>Tuits: 1\", \"Fecha: 03:17:00<br>Tuits: 1\", \"Fecha: 03:18:00<br>Tuits: 1\", \"Fecha: 03:20:00<br>Tuits: 1\", \"Fecha: 03:30:00<br>Tuits: 1\", \"Fecha: 03:34:00<br>Tuits: 2\", \"Fecha: 03:35:00<br>Tuits: 1\", \"Fecha: 03:40:00<br>Tuits: 1\", \"Fecha: 03:41:00<br>Tuits: 1\", \"Fecha: 03:46:00<br>Tuits: 1\", \"Fecha: 03:47:00<br>Tuits: 2\", \"Fecha: 03:57:00<br>Tuits: 1\", \"Fecha: 04:06:00<br>Tuits: 1\", \"Fecha: 04:11:00<br>Tuits: 1\", \"Fecha: 04:14:00<br>Tuits: 1\", \"Fecha: 04:21:00<br>Tuits: 1\", \"Fecha: 04:43:00<br>Tuits: 1\", \"Fecha: 05:00:00<br>Tuits: 1\", \"Fecha: 20:03:00<br>Tuits: 2\", \"Fecha: 20:06:00<br>Tuits: 1\", \"Fecha: 20:09:00<br>Tuits: 1\", \"Fecha: 20:10:00<br>Tuits: 2\", \"Fecha: 20:18:00<br>Tuits: 1\", \"Fecha: 20:21:00<br>Tuits: 1\", \"Fecha: 20:23:00<br>Tuits: 1\", \"Fecha: 20:27:00<br>Tuits: 1\", \"Fecha: 20:30:00<br>Tuits: 1\", \"Fecha: 20:41:00<br>Tuits: 1\", \"Fecha: 20:43:00<br>Tuits: 1\", \"Fecha: 20:54:00<br>Tuits: 1\", \"Fecha: 20:55:00<br>Tuits: 1\", \"Fecha: 21:20:00<br>Tuits: 1\", \"Fecha: 21:42:00<br>Tuits: 1\", \"Fecha: 21:50:00<br>Tuits: 1\", \"Fecha: 21:57:00<br>Tuits: 1\", \"Fecha: 22:07:00<br>Tuits: 1\", \"Fecha: 22:08:00<br>Tuits: 1\", \"Fecha: 22:09:00<br>Tuits: 1\", \"Fecha: 22:15:00<br>Tuits: 1\", \"Fecha: 22:23:00<br>Tuits: 1\", \"Fecha: 22:26:00<br>Tuits: 1\", \"Fecha: 22:28:00<br>Tuits: 1\", \"Fecha: 22:44:00<br>Tuits: 1\", \"Fecha: 22:45:00<br>Tuits: 1\", \"Fecha: 22:50:00<br>Tuits: 1\", \"Fecha: 22:56:00<br>Tuits: 1\", \"Fecha: 22:57:00<br>Tuits: 1\", \"Fecha: 23:01:00<br>Tuits: 1\", \"Fecha: 23:04:00<br>Tuits: 1\", \"Fecha: 23:07:00<br>Tuits: 1\", \"Fecha: 23:16:00<br>Tuits: 1\", \"Fecha: 23:17:00<br>Tuits: 1\", \"Fecha: 23:32:00<br>Tuits: 1\", \"Fecha: 23:36:00<br>Tuits: 1\", \"Fecha: 23:37:00<br>Tuits: 1\", \"Fecha: 23:42:00<br>Tuits: 1\", \"Fecha: 23:49:00<br>Tuits: 1\", \"Fecha: 23:50:00<br>Tuits: 1\", \"Fecha: 23:56:00<br>Tuits: 1\", \"Fecha: 23:57:00<br>Tuits: 1\"], \"type\": \"scatter\", \"x\": [\"00:03:00\", \"00:05:00\", \"00:14:00\", \"00:23:00\", \"00:25:00\", \"00:30:00\", \"00:31:00\", \"00:37:00\", \"00:48:00\", \"01:01:00\", \"01:04:00\", \"01:13:00\", \"01:36:00\", \"01:42:00\", \"01:43:00\", \"01:48:00\", \"01:49:00\", \"01:51:00\", \"02:11:00\", \"02:13:00\", \"02:16:00\", \"02:17:00\", \"02:19:00\", \"02:23:00\", \"02:26:00\", \"02:30:00\", \"02:34:00\", \"02:38:00\", \"02:39:00\", \"02:49:00\", \"02:58:00\", \"03:01:00\", \"03:02:00\", \"03:08:00\", \"03:11:00\", \"03:14:00\", \"03:16:00\", \"03:17:00\", \"03:18:00\", \"03:20:00\", \"03:30:00\", \"03:34:00\", \"03:35:00\", \"03:40:00\", \"03:41:00\", \"03:46:00\", \"03:47:00\", \"03:57:00\", \"04:06:00\", \"04:11:00\", \"04:14:00\", \"04:21:00\", \"04:43:00\", \"05:00:00\", \"20:03:00\", \"20:06:00\", \"20:09:00\", \"20:10:00\", \"20:18:00\", \"20:21:00\", \"20:23:00\", \"20:27:00\", \"20:30:00\", \"20:41:00\", \"20:43:00\", \"20:54:00\", \"20:55:00\", \"21:20:00\", \"21:42:00\", \"21:50:00\", \"21:57:00\", \"22:07:00\", \"22:08:00\", \"22:09:00\", \"22:15:00\", \"22:23:00\", \"22:26:00\", \"22:28:00\", \"22:44:00\", \"22:45:00\", \"22:50:00\", \"22:56:00\", \"22:57:00\", \"23:01:00\", \"23:04:00\", \"23:07:00\", \"23:16:00\", \"23:17:00\", \"23:32:00\", \"23:36:00\", \"23:37:00\", \"23:42:00\", \"23:49:00\", \"23:50:00\", \"23:56:00\", \"23:57:00\"], \"y\": [1, 2, 1, 1, 1, 1, 1, 3, 1, 1, 1, 2, 1, 3, 1, 1, 1, 1, 1, 2, 1, 1, 1, 1, 1, 1, 2, 1, 1, 1, 1, 1, 1, 1, 2, 2, 1, 1, 1, 1, 1, 2, 1, 1, 1, 1, 2, 1, 1, 1, 1, 1, 1, 1, 2, 1, 1, 2, 1, 1, 1, 1, 1, 1, 1, 1, 1, 1, 1, 1, 1, 1, 1, 1, 1, 1, 1, 1, 1, 1, 1, 1, 1, 1, 1, 1, 1, 1, 1, 1, 1, 1, 1, 1, 1, 1]}],                        {\"template\": {\"data\": {\"bar\": [{\"error_x\": {\"color\": \"#2a3f5f\"}, \"error_y\": {\"color\": \"#2a3f5f\"}, \"marker\": {\"line\": {\"color\": \"#E5ECF6\", \"width\": 0.5}}, \"type\": \"bar\"}], \"barpolar\": [{\"marker\": {\"line\": {\"color\": \"#E5ECF6\", \"width\": 0.5}}, \"type\": \"barpolar\"}], \"carpet\": [{\"aaxis\": {\"endlinecolor\": \"#2a3f5f\", \"gridcolor\": \"white\", \"linecolor\": \"white\", \"minorgridcolor\": \"white\", \"startlinecolor\": \"#2a3f5f\"}, \"baxis\": {\"endlinecolor\": \"#2a3f5f\", \"gridcolor\": \"white\", \"linecolor\": \"white\", \"minorgridcolor\": \"white\", \"startlinecolor\": \"#2a3f5f\"}, \"type\": \"carpet\"}], \"choropleth\": [{\"colorbar\": {\"outlinewidth\": 0, \"ticks\": \"\"}, \"type\": \"choropleth\"}], \"contour\": [{\"colorbar\": {\"outlinewidth\": 0, \"ticks\": \"\"}, \"colorscale\": [[0.0, \"#0d0887\"], [0.1111111111111111, \"#46039f\"], [0.2222222222222222, \"#7201a8\"], [0.3333333333333333, \"#9c179e\"], [0.4444444444444444, \"#bd3786\"], [0.5555555555555556, \"#d8576b\"], [0.6666666666666666, \"#ed7953\"], [0.7777777777777778, \"#fb9f3a\"], [0.8888888888888888, \"#fdca26\"], [1.0, \"#f0f921\"]], \"type\": \"contour\"}], \"contourcarpet\": [{\"colorbar\": {\"outlinewidth\": 0, \"ticks\": \"\"}, \"type\": \"contourcarpet\"}], \"heatmap\": [{\"colorbar\": {\"outlinewidth\": 0, \"ticks\": \"\"}, \"colorscale\": [[0.0, \"#0d0887\"], [0.1111111111111111, \"#46039f\"], [0.2222222222222222, \"#7201a8\"], [0.3333333333333333, \"#9c179e\"], [0.4444444444444444, \"#bd3786\"], [0.5555555555555556, \"#d8576b\"], [0.6666666666666666, \"#ed7953\"], [0.7777777777777778, \"#fb9f3a\"], [0.8888888888888888, \"#fdca26\"], [1.0, \"#f0f921\"]], \"type\": \"heatmap\"}], \"heatmapgl\": [{\"colorbar\": {\"outlinewidth\": 0, \"ticks\": \"\"}, \"colorscale\": [[0.0, \"#0d0887\"], [0.1111111111111111, \"#46039f\"], [0.2222222222222222, \"#7201a8\"], [0.3333333333333333, \"#9c179e\"], [0.4444444444444444, \"#bd3786\"], [0.5555555555555556, \"#d8576b\"], [0.6666666666666666, \"#ed7953\"], [0.7777777777777778, \"#fb9f3a\"], [0.8888888888888888, \"#fdca26\"], [1.0, \"#f0f921\"]], \"type\": \"heatmapgl\"}], \"histogram\": [{\"marker\": {\"colorbar\": {\"outlinewidth\": 0, \"ticks\": \"\"}}, \"type\": \"histogram\"}], \"histogram2d\": [{\"colorbar\": {\"outlinewidth\": 0, \"ticks\": \"\"}, \"colorscale\": [[0.0, \"#0d0887\"], [0.1111111111111111, \"#46039f\"], [0.2222222222222222, \"#7201a8\"], [0.3333333333333333, \"#9c179e\"], [0.4444444444444444, \"#bd3786\"], [0.5555555555555556, \"#d8576b\"], [0.6666666666666666, \"#ed7953\"], [0.7777777777777778, \"#fb9f3a\"], [0.8888888888888888, \"#fdca26\"], [1.0, \"#f0f921\"]], \"type\": \"histogram2d\"}], \"histogram2dcontour\": [{\"colorbar\": {\"outlinewidth\": 0, \"ticks\": \"\"}, \"colorscale\": [[0.0, \"#0d0887\"], [0.1111111111111111, \"#46039f\"], [0.2222222222222222, \"#7201a8\"], [0.3333333333333333, \"#9c179e\"], [0.4444444444444444, \"#bd3786\"], [0.5555555555555556, \"#d8576b\"], [0.6666666666666666, \"#ed7953\"], [0.7777777777777778, \"#fb9f3a\"], [0.8888888888888888, \"#fdca26\"], [1.0, \"#f0f921\"]], \"type\": \"histogram2dcontour\"}], \"mesh3d\": [{\"colorbar\": {\"outlinewidth\": 0, \"ticks\": \"\"}, \"type\": \"mesh3d\"}], \"parcoords\": [{\"line\": {\"colorbar\": {\"outlinewidth\": 0, \"ticks\": \"\"}}, \"type\": \"parcoords\"}], \"pie\": [{\"automargin\": true, \"type\": \"pie\"}], \"scatter\": [{\"marker\": {\"colorbar\": {\"outlinewidth\": 0, \"ticks\": \"\"}}, \"type\": \"scatter\"}], \"scatter3d\": [{\"line\": {\"colorbar\": {\"outlinewidth\": 0, \"ticks\": \"\"}}, \"marker\": {\"colorbar\": {\"outlinewidth\": 0, \"ticks\": \"\"}}, \"type\": \"scatter3d\"}], \"scattercarpet\": [{\"marker\": {\"colorbar\": {\"outlinewidth\": 0, \"ticks\": \"\"}}, \"type\": \"scattercarpet\"}], \"scattergeo\": [{\"marker\": {\"colorbar\": {\"outlinewidth\": 0, \"ticks\": \"\"}}, \"type\": \"scattergeo\"}], \"scattergl\": [{\"marker\": {\"colorbar\": {\"outlinewidth\": 0, \"ticks\": \"\"}}, \"type\": \"scattergl\"}], \"scattermapbox\": [{\"marker\": {\"colorbar\": {\"outlinewidth\": 0, \"ticks\": \"\"}}, \"type\": \"scattermapbox\"}], \"scatterpolar\": [{\"marker\": {\"colorbar\": {\"outlinewidth\": 0, \"ticks\": \"\"}}, \"type\": \"scatterpolar\"}], \"scatterpolargl\": [{\"marker\": {\"colorbar\": {\"outlinewidth\": 0, \"ticks\": \"\"}}, \"type\": \"scatterpolargl\"}], \"scatterternary\": [{\"marker\": {\"colorbar\": {\"outlinewidth\": 0, \"ticks\": \"\"}}, \"type\": \"scatterternary\"}], \"surface\": [{\"colorbar\": {\"outlinewidth\": 0, \"ticks\": \"\"}, \"colorscale\": [[0.0, \"#0d0887\"], [0.1111111111111111, \"#46039f\"], [0.2222222222222222, \"#7201a8\"], [0.3333333333333333, \"#9c179e\"], [0.4444444444444444, \"#bd3786\"], [0.5555555555555556, \"#d8576b\"], [0.6666666666666666, \"#ed7953\"], [0.7777777777777778, \"#fb9f3a\"], [0.8888888888888888, \"#fdca26\"], [1.0, \"#f0f921\"]], \"type\": \"surface\"}], \"table\": [{\"cells\": {\"fill\": {\"color\": \"#EBF0F8\"}, \"line\": {\"color\": \"white\"}}, \"header\": {\"fill\": {\"color\": \"#C8D4E3\"}, \"line\": {\"color\": \"white\"}}, \"type\": \"table\"}]}, \"layout\": {\"annotationdefaults\": {\"arrowcolor\": \"#2a3f5f\", \"arrowhead\": 0, \"arrowwidth\": 1}, \"autotypenumbers\": \"strict\", \"coloraxis\": {\"colorbar\": {\"outlinewidth\": 0, \"ticks\": \"\"}}, \"colorscale\": {\"diverging\": [[0, \"#8e0152\"], [0.1, \"#c51b7d\"], [0.2, \"#de77ae\"], [0.3, \"#f1b6da\"], [0.4, \"#fde0ef\"], [0.5, \"#f7f7f7\"], [0.6, \"#e6f5d0\"], [0.7, \"#b8e186\"], [0.8, \"#7fbc41\"], [0.9, \"#4d9221\"], [1, \"#276419\"]], \"sequential\": [[0.0, \"#0d0887\"], [0.1111111111111111, \"#46039f\"], [0.2222222222222222, \"#7201a8\"], [0.3333333333333333, \"#9c179e\"], [0.4444444444444444, \"#bd3786\"], [0.5555555555555556, \"#d8576b\"], [0.6666666666666666, \"#ed7953\"], [0.7777777777777778, \"#fb9f3a\"], [0.8888888888888888, \"#fdca26\"], [1.0, \"#f0f921\"]], \"sequentialminus\": [[0.0, \"#0d0887\"], [0.1111111111111111, \"#46039f\"], [0.2222222222222222, \"#7201a8\"], [0.3333333333333333, \"#9c179e\"], [0.4444444444444444, \"#bd3786\"], [0.5555555555555556, \"#d8576b\"], [0.6666666666666666, \"#ed7953\"], [0.7777777777777778, \"#fb9f3a\"], [0.8888888888888888, \"#fdca26\"], [1.0, \"#f0f921\"]]}, \"colorway\": [\"#636efa\", \"#EF553B\", \"#00cc96\", \"#ab63fa\", \"#FFA15A\", \"#19d3f3\", \"#FF6692\", \"#B6E880\", \"#FF97FF\", \"#FECB52\"], \"font\": {\"color\": \"#2a3f5f\"}, \"geo\": {\"bgcolor\": \"white\", \"lakecolor\": \"white\", \"landcolor\": \"#E5ECF6\", \"showlakes\": true, \"showland\": true, \"subunitcolor\": \"white\"}, \"hoverlabel\": {\"align\": \"left\"}, \"hovermode\": \"closest\", \"mapbox\": {\"style\": \"light\"}, \"paper_bgcolor\": \"white\", \"plot_bgcolor\": \"#E5ECF6\", \"polar\": {\"angularaxis\": {\"gridcolor\": \"white\", \"linecolor\": \"white\", \"ticks\": \"\"}, \"bgcolor\": \"#E5ECF6\", \"radialaxis\": {\"gridcolor\": \"white\", \"linecolor\": \"white\", \"ticks\": \"\"}}, \"scene\": {\"xaxis\": {\"backgroundcolor\": \"#E5ECF6\", \"gridcolor\": \"white\", \"gridwidth\": 2, \"linecolor\": \"white\", \"showbackground\": true, \"ticks\": \"\", \"zerolinecolor\": \"white\"}, \"yaxis\": {\"backgroundcolor\": \"#E5ECF6\", \"gridcolor\": \"white\", \"gridwidth\": 2, \"linecolor\": \"white\", \"showbackground\": true, \"ticks\": \"\", \"zerolinecolor\": \"white\"}, \"zaxis\": {\"backgroundcolor\": \"#E5ECF6\", \"gridcolor\": \"white\", \"gridwidth\": 2, \"linecolor\": \"white\", \"showbackground\": true, \"ticks\": \"\", \"zerolinecolor\": \"white\"}}, \"shapedefaults\": {\"line\": {\"color\": \"#2a3f5f\"}}, \"ternary\": {\"aaxis\": {\"gridcolor\": \"white\", \"linecolor\": \"white\", \"ticks\": \"\"}, \"baxis\": {\"gridcolor\": \"white\", \"linecolor\": \"white\", \"ticks\": \"\"}, \"bgcolor\": \"#E5ECF6\", \"caxis\": {\"gridcolor\": \"white\", \"linecolor\": \"white\", \"ticks\": \"\"}}, \"title\": {\"x\": 0.05}, \"xaxis\": {\"automargin\": true, \"gridcolor\": \"white\", \"linecolor\": \"white\", \"ticks\": \"\", \"title\": {\"standoff\": 15}, \"zerolinecolor\": \"white\", \"zerolinewidth\": 2}, \"yaxis\": {\"automargin\": true, \"gridcolor\": \"white\", \"linecolor\": \"white\", \"ticks\": \"\", \"title\": {\"standoff\": 15}, \"zerolinecolor\": \"white\", \"zerolinewidth\": 2}}}, \"title\": {\"text\": \"N\\u00famero de tuits por hora\"}},                        {\"responsive\": true}                    ).then(function(){\n",
       "                            \n",
       "var gd = document.getElementById('ff1eee28-2cb1-4931-9d6f-35143d275254');\n",
       "var x = new MutationObserver(function (mutations, observer) {{\n",
       "        var display = window.getComputedStyle(gd).display;\n",
       "        if (!display || display === 'none') {{\n",
       "            console.log([gd, 'removed!']);\n",
       "            Plotly.purge(gd);\n",
       "            observer.disconnect();\n",
       "        }}\n",
       "}});\n",
       "\n",
       "// Listen for the removal of the full notebook cells\n",
       "var notebookContainer = gd.closest('#notebook-container');\n",
       "if (notebookContainer) {{\n",
       "    x.observe(notebookContainer, {childList: true});\n",
       "}}\n",
       "\n",
       "// Listen for the clearing of the current output cell\n",
       "var outputEl = gd.closest('.output');\n",
       "if (outputEl) {{\n",
       "    x.observe(outputEl, {childList: true});\n",
       "}}\n",
       "\n",
       "                        })                };                });            </script>        </div>"
      ]
     },
     "metadata": {},
     "output_type": "display_data"
    }
   ],
   "source": [
    "\n",
    "trace = go.Scatter(x=conteos.hora.values,\n",
    "                   y=conteos.cuenta.values,\n",
    "                   text=[f\"Fecha: {f}<br>Tuits: {c}\" for f,c in zip(conteos.hora.values,conteos.cuenta.values)],\n",
    "                   hoverinfo='text',\n",
    "                   mode='lines+markers',\n",
    "                   name='Horas',\n",
    "                   line={'color': 'blue'})\n",
    "\n",
    "layout = go.Layout(title=\"Número de tuits por hora\")\n",
    "\n",
    "fig = go.Figure(data=[trace], layout=layout)\n",
    "iplot(fig)"
   ]
  },
  {
   "cell_type": "code",
   "execution_count": null,
   "metadata": {},
   "outputs": [],
   "source": []
  }
 ],
 "metadata": {
  "kernelspec": {
   "display_name": "Python 3",
   "language": "python",
   "name": "python3"
  },
  "language_info": {
   "codemirror_mode": {
    "name": "ipython",
    "version": 3
   },
   "file_extension": ".py",
   "mimetype": "text/x-python",
   "name": "python",
   "nbconvert_exporter": "python",
   "pygments_lexer": "ipython3",
   "version": "3.8.8"
  }
 },
 "nbformat": 4,
 "nbformat_minor": 2
}
