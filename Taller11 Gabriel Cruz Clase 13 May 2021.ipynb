{
 "cells": [
  {
   "cell_type": "markdown",
   "metadata": {},
   "source": [
    "<img src='https://encrypted-tbn0.gstatic.com/images?q=tbn%3AANd9GcQ-VfNtOyJbsaxu43Kztf_cv1mgBG6ZIQZEVw&usqp=CAU'>\n",
    "\n",
    "# Procesamiento de Lenguage Natural\n",
    "\n",
    "## Taller #11: Twitter\n",
    "`Fecha de entrega: Mayo 20, 2021 (Antes del inicio de la próxima clase).`\n",
    "\n",
    "`Modo de entrega: Subir link de GitHub al aula virtual.`"
   ]
  },
  {
   "cell_type": "markdown",
   "metadata": {},
   "source": [
    "###  `[25 pts]` Punto 1: Extraer Tuits\n",
    "Extraer mínimo 100 tuits de Twitter usando la API\n",
    "\n",
    "❌ No escoger un tema de los que hicimos en clase (día de las madres, Giro de Italia, #EraGoldeYepes)"
   ]
  },
  {
   "cell_type": "code",
   "execution_count": 1,
   "metadata": {},
   "outputs": [
    {
     "data": {
      "text/html": [
       "        <script type=\"text/javascript\">\n",
       "        window.PlotlyConfig = {MathJaxConfig: 'local'};\n",
       "        if (window.MathJax) {MathJax.Hub.Config({SVG: {font: \"STIX-Web\"}});}\n",
       "        if (typeof require !== 'undefined') {\n",
       "        require.undef(\"plotly\");\n",
       "        requirejs.config({\n",
       "            paths: {\n",
       "                'plotly': ['https://cdn.plot.ly/plotly-latest.min']\n",
       "            }\n",
       "        });\n",
       "        require(['plotly'], function(Plotly) {\n",
       "            window._Plotly = Plotly;\n",
       "        });\n",
       "        }\n",
       "        </script>\n",
       "        "
      ]
     },
     "metadata": {},
     "output_type": "display_data"
    }
   ],
   "source": [
    "import os\n",
    "import pandas as pd\n",
    "import json\n",
    "import tweepy\n",
    "import re \n",
    "import regex\n",
    "import emoji\n",
    "import plotly.io as pio\n",
    "import plotly.express as px\n",
    "import plotly.graph_objs as go\n",
    "from plotly.offline import download_plotlyjs, init_notebook_mode, plot, iplot\n",
    "\n",
    "import matplotlib.pyplot as plt\n",
    "%matplotlib inline\n",
    "init_notebook_mode(connected=True)\n",
    "\n",
    "import scipy.cluster.hierarchy as sch\n",
    "import numpy as np\n",
    "\n",
    "from nltk.corpus import stopwords\n",
    "from sklearn.feature_extraction.text import TfidfVectorizer\n",
    "\n",
    "from sklearn.neighbors import NearestNeighbors\n",
    "from sklearn.cluster import KMeans\n",
    "from sklearn.decomposition import PCA\n"
   ]
  },
  {
   "cell_type": "code",
   "execution_count": 2,
   "metadata": {},
   "outputs": [
    {
     "data": {
      "text/html": [
       "<div>\n",
       "<style scoped>\n",
       "    .dataframe tbody tr th:only-of-type {\n",
       "        vertical-align: middle;\n",
       "    }\n",
       "\n",
       "    .dataframe tbody tr th {\n",
       "        vertical-align: top;\n",
       "    }\n",
       "\n",
       "    .dataframe thead th {\n",
       "        text-align: right;\n",
       "    }\n",
       "</style>\n",
       "<table border=\"1\" class=\"dataframe\">\n",
       "  <thead>\n",
       "    <tr style=\"text-align: right;\">\n",
       "      <th></th>\n",
       "      <th>tweets</th>\n",
       "      <th>fecha</th>\n",
       "      <th>ciudad</th>\n",
       "      <th>localizacion_usuario</th>\n",
       "      <th>id</th>\n",
       "      <th>enlace</th>\n",
       "    </tr>\n",
       "  </thead>\n",
       "  <tbody>\n",
       "    <tr>\n",
       "      <th>0</th>\n",
       "      <td>@Csar38329864 @HijoDeCartagena @petrogustavo N...</td>\n",
       "      <td>2021-05-20 18:55:06</td>\n",
       "      <td>Bogotá</td>\n",
       "      <td>Funza, Colombia</td>\n",
       "      <td>1395453043391488008</td>\n",
       "      <td>https://twitter.com/i/web/stuatus/139545304339...</td>\n",
       "    </tr>\n",
       "    <tr>\n",
       "      <th>1</th>\n",
       "      <td>Estos chimbos @German_Vargas, pobres engendros...</td>\n",
       "      <td>2021-05-20 18:54:54</td>\n",
       "      <td>Bogotá</td>\n",
       "      <td>Bogotá, Colombia</td>\n",
       "      <td>1395452992602742794</td>\n",
       "      <td>https://twitter.com/i/web/stuatus/139545299260...</td>\n",
       "    </tr>\n",
       "    <tr>\n",
       "      <th>2</th>\n",
       "      <td>#medioscomplices  en Colombia no se atreven di...</td>\n",
       "      <td>2021-05-20 18:48:32</td>\n",
       "      <td>Bogotá</td>\n",
       "      <td>Villavicencio, Colombia</td>\n",
       "      <td>1395451391913734154</td>\n",
       "      <td>https://twitter.com/i/web/stuatus/139545139191...</td>\n",
       "    </tr>\n",
       "    <tr>\n",
       "      <th>3</th>\n",
       "      <td>@ANIABELLO_R ojo con el matarife</td>\n",
       "      <td>2021-05-20 18:41:57</td>\n",
       "      <td>Bogotá</td>\n",
       "      <td>Bogota</td>\n",
       "      <td>1395449732697366537</td>\n",
       "      <td>https://twitter.com/i/web/stuatus/139544973269...</td>\n",
       "    </tr>\n",
       "    <tr>\n",
       "      <th>4</th>\n",
       "      <td>Gracias #kpopers por erradicar la propaganda f...</td>\n",
       "      <td>2021-05-20 18:37:52</td>\n",
       "      <td>Bogotá</td>\n",
       "      <td>Bogotá, D.C., Colombia</td>\n",
       "      <td>1395448704891555846</td>\n",
       "      <td>https://twitter.com/i/web/stuatus/139544870489...</td>\n",
       "    </tr>\n",
       "  </tbody>\n",
       "</table>\n",
       "</div>"
      ],
      "text/plain": [
       "                                              tweets               fecha  \\\n",
       "0  @Csar38329864 @HijoDeCartagena @petrogustavo N... 2021-05-20 18:55:06   \n",
       "1  Estos chimbos @German_Vargas, pobres engendros... 2021-05-20 18:54:54   \n",
       "2  #medioscomplices  en Colombia no se atreven di... 2021-05-20 18:48:32   \n",
       "3                   @ANIABELLO_R ojo con el matarife 2021-05-20 18:41:57   \n",
       "4  Gracias #kpopers por erradicar la propaganda f... 2021-05-20 18:37:52   \n",
       "\n",
       "   ciudad     localizacion_usuario                   id  \\\n",
       "0  Bogotá          Funza, Colombia  1395453043391488008   \n",
       "1  Bogotá         Bogotá, Colombia  1395452992602742794   \n",
       "2  Bogotá  Villavicencio, Colombia  1395451391913734154   \n",
       "3  Bogotá                  Bogota   1395449732697366537   \n",
       "4  Bogotá   Bogotá, D.C., Colombia  1395448704891555846   \n",
       "\n",
       "                                              enlace  \n",
       "0  https://twitter.com/i/web/stuatus/139545304339...  \n",
       "1  https://twitter.com/i/web/stuatus/139545299260...  \n",
       "2  https://twitter.com/i/web/stuatus/139545139191...  \n",
       "3  https://twitter.com/i/web/stuatus/139544973269...  \n",
       "4  https://twitter.com/i/web/stuatus/139544870489...  "
      ]
     },
     "execution_count": 2,
     "metadata": {},
     "output_type": "execute_result"
    }
   ],
   "source": [
    "\n",
    "# Obtener variables de entorno desde sistema local\n",
    "API_KEY = os.getenv('TWITTER_API_KEY')\n",
    "API_SECRET_KEY = os.environ.get('TWITTER_API_SECRET_KEY')\n",
    "BEARER_TOKEN =os.environ.get('TWITTER_BEARER_TOKEN')\n",
    "ACCESS_TOKEN= os.environ.get('TWITTER_ACCESS_TOKEN')\n",
    "ACCESS_TOKEN_SECRET= os.environ.get('TWITTER_ACCESS_TOKEN_SECRET')\n",
    "\n",
    "\n",
    "auth = tweepy.OAuthHandler(API_KEY, API_SECRET_KEY)\n",
    "auth.set_access_token(ACCESS_TOKEN, ACCESS_TOKEN_SECRET)\n",
    "api = tweepy.API(auth, wait_on_rate_limit=True)\n",
    "\n",
    "tweets = tweepy.Cursor(api.search,\n",
    "                       q=['Matarife -RT'],\n",
    "                       lang='es',\n",
    "                       geocode='4.3646,-74.0414,100km',\n",
    "                       tweet_mode='extended',\n",
    "                       include_rts=False,\n",
    "                       ).items(110)\n",
    "\n",
    "# Objeto generador\n",
    "t = [tweet for tweet in tweets]\n",
    "\n",
    "t_processed = []\n",
    "\n",
    "for tweet in t: \n",
    "    temp = []\n",
    "    temp.append(tweet.full_text)\n",
    "    temp.append(tweet.created_at)\n",
    "    temp.append('Bogotá')\n",
    "    temp.append(tweet.user.location)\n",
    "    temp.append(tweet.id)\n",
    "    temp.append(f\"https://twitter.com/i/web/stuatus/{tweet.id}\")\n",
    "    \n",
    "    t_processed.append(temp)\n",
    "   \n",
    "datos = pd.DataFrame(t_processed)\n",
    "datos.columns = ['tweets', 'fecha', 'ciudad', 'localizacion_usuario', 'id', 'enlace']\n",
    "datos.head()\n"
   ]
  },
  {
   "cell_type": "code",
   "execution_count": 3,
   "metadata": {},
   "outputs": [
    {
     "data": {
      "text/html": [
       "<div>\n",
       "<style scoped>\n",
       "    .dataframe tbody tr th:only-of-type {\n",
       "        vertical-align: middle;\n",
       "    }\n",
       "\n",
       "    .dataframe tbody tr th {\n",
       "        vertical-align: top;\n",
       "    }\n",
       "\n",
       "    .dataframe thead th {\n",
       "        text-align: right;\n",
       "    }\n",
       "</style>\n",
       "<table border=\"1\" class=\"dataframe\">\n",
       "  <thead>\n",
       "    <tr style=\"text-align: right;\">\n",
       "      <th></th>\n",
       "      <th>tweets</th>\n",
       "      <th>fecha</th>\n",
       "      <th>ciudad</th>\n",
       "      <th>localizacion_usuario</th>\n",
       "      <th>id</th>\n",
       "      <th>enlace</th>\n",
       "      <th>texto_limpio</th>\n",
       "      <th>enlaces</th>\n",
       "      <th>hashtags</th>\n",
       "      <th>menciones</th>\n",
       "    </tr>\n",
       "  </thead>\n",
       "  <tbody>\n",
       "    <tr>\n",
       "      <th>0</th>\n",
       "      <td>@Csar38329864 @HijoDeCartagena @petrogustavo N...</td>\n",
       "      <td>2021-05-20 18:55:06</td>\n",
       "      <td>Bogotá</td>\n",
       "      <td>Funza, Colombia</td>\n",
       "      <td>1395453043391488008</td>\n",
       "      <td>https://twitter.com/i/web/stuatus/139545304339...</td>\n",
       "      <td>Ni hablar del matarife</td>\n",
       "      <td>[]</td>\n",
       "      <td>[]</td>\n",
       "      <td>[@Csar38329864, @HijoDeCartagena, @petrogustavo]</td>\n",
       "    </tr>\n",
       "    <tr>\n",
       "      <th>1</th>\n",
       "      <td>Estos chimbos @German_Vargas, pobres engendros...</td>\n",
       "      <td>2021-05-20 18:54:54</td>\n",
       "      <td>Bogotá</td>\n",
       "      <td>Bogotá, Colombia</td>\n",
       "      <td>1395452992602742794</td>\n",
       "      <td>https://twitter.com/i/web/stuatus/139545299260...</td>\n",
       "      <td>Estos chimbos  pobres engendros del  están tan...</td>\n",
       "      <td>[https://t.co/pGxrHtTJyv, https://t.co/pNiQ436...</td>\n",
       "      <td>[#Matarife,]</td>\n",
       "      <td>[@German_Vargas,, @AirbagInfo.]</td>\n",
       "    </tr>\n",
       "    <tr>\n",
       "      <th>2</th>\n",
       "      <td>#medioscomplices  en Colombia no se atreven di...</td>\n",
       "      <td>2021-05-20 18:48:32</td>\n",
       "      <td>Bogotá</td>\n",
       "      <td>Villavicencio, Colombia</td>\n",
       "      <td>1395451391913734154</td>\n",
       "      <td>https://twitter.com/i/web/stuatus/139545139191...</td>\n",
       "      <td>en Colombia no se atreven divulgar por miedo...</td>\n",
       "      <td>[https://t.co/b7EZgIiAxj]</td>\n",
       "      <td>[#medioscomplices, #Matarife, #ParoNacionalInd...</td>\n",
       "      <td>[]</td>\n",
       "    </tr>\n",
       "    <tr>\n",
       "      <th>3</th>\n",
       "      <td>@ANIABELLO_R ojo con el matarife</td>\n",
       "      <td>2021-05-20 18:41:57</td>\n",
       "      <td>Bogotá</td>\n",
       "      <td>Bogota</td>\n",
       "      <td>1395449732697366537</td>\n",
       "      <td>https://twitter.com/i/web/stuatus/139544973269...</td>\n",
       "      <td>ojo con el matarife</td>\n",
       "      <td>[]</td>\n",
       "      <td>[]</td>\n",
       "      <td>[@ANIABELLO_R]</td>\n",
       "    </tr>\n",
       "    <tr>\n",
       "      <th>4</th>\n",
       "      <td>Gracias #kpopers por erradicar la propaganda f...</td>\n",
       "      <td>2021-05-20 18:37:52</td>\n",
       "      <td>Bogotá</td>\n",
       "      <td>Bogotá, D.C., Colombia</td>\n",
       "      <td>1395448704891555846</td>\n",
       "      <td>https://twitter.com/i/web/stuatus/139544870489...</td>\n",
       "      <td>Gracias  por erradicar la propaganda fascista ...</td>\n",
       "      <td>[]</td>\n",
       "      <td>[#kpopers]</td>\n",
       "      <td>[]</td>\n",
       "    </tr>\n",
       "  </tbody>\n",
       "</table>\n",
       "</div>"
      ],
      "text/plain": [
       "                                              tweets               fecha  \\\n",
       "0  @Csar38329864 @HijoDeCartagena @petrogustavo N... 2021-05-20 18:55:06   \n",
       "1  Estos chimbos @German_Vargas, pobres engendros... 2021-05-20 18:54:54   \n",
       "2  #medioscomplices  en Colombia no se atreven di... 2021-05-20 18:48:32   \n",
       "3                   @ANIABELLO_R ojo con el matarife 2021-05-20 18:41:57   \n",
       "4  Gracias #kpopers por erradicar la propaganda f... 2021-05-20 18:37:52   \n",
       "\n",
       "   ciudad     localizacion_usuario                   id  \\\n",
       "0  Bogotá          Funza, Colombia  1395453043391488008   \n",
       "1  Bogotá         Bogotá, Colombia  1395452992602742794   \n",
       "2  Bogotá  Villavicencio, Colombia  1395451391913734154   \n",
       "3  Bogotá                  Bogota   1395449732697366537   \n",
       "4  Bogotá   Bogotá, D.C., Colombia  1395448704891555846   \n",
       "\n",
       "                                              enlace  \\\n",
       "0  https://twitter.com/i/web/stuatus/139545304339...   \n",
       "1  https://twitter.com/i/web/stuatus/139545299260...   \n",
       "2  https://twitter.com/i/web/stuatus/139545139191...   \n",
       "3  https://twitter.com/i/web/stuatus/139544973269...   \n",
       "4  https://twitter.com/i/web/stuatus/139544870489...   \n",
       "\n",
       "                                        texto_limpio  \\\n",
       "0                             Ni hablar del matarife   \n",
       "1  Estos chimbos  pobres engendros del  están tan...   \n",
       "2    en Colombia no se atreven divulgar por miedo...   \n",
       "3                                ojo con el matarife   \n",
       "4  Gracias  por erradicar la propaganda fascista ...   \n",
       "\n",
       "                                             enlaces  \\\n",
       "0                                                 []   \n",
       "1  [https://t.co/pGxrHtTJyv, https://t.co/pNiQ436...   \n",
       "2                          [https://t.co/b7EZgIiAxj]   \n",
       "3                                                 []   \n",
       "4                                                 []   \n",
       "\n",
       "                                            hashtags  \\\n",
       "0                                                 []   \n",
       "1                                       [#Matarife,]   \n",
       "2  [#medioscomplices, #Matarife, #ParoNacionalInd...   \n",
       "3                                                 []   \n",
       "4                                         [#kpopers]   \n",
       "\n",
       "                                          menciones  \n",
       "0  [@Csar38329864, @HijoDeCartagena, @petrogustavo]  \n",
       "1                   [@German_Vargas,, @AirbagInfo.]  \n",
       "2                                                []  \n",
       "3                                    [@ANIABELLO_R]  \n",
       "4                                                []  "
      ]
     },
     "execution_count": 3,
     "metadata": {},
     "output_type": "execute_result"
    }
   ],
   "source": [
    "pattern1 = '?P<pic>pic.twitter.com/[^\\s]+'\n",
    "pattern2 = '?P<url>https?://[^\\s]+'\n",
    "\n",
    "def text_clean(row):\n",
    "    text = row['tweets']\n",
    "    \n",
    "    links = [tuple(j for j in i if j)[-1] for i in re.findall(f\"({pattern1})|({pattern2})\",text)]\n",
    "    for link in links:\n",
    "        text = text.replace(link,\"\")\n",
    "    \n",
    "    hashtags = [interaction for interaction in text.split() if interaction.startswith(\"#\")]\n",
    "    for hashtag in hashtags:\n",
    "        text = text.replace(hashtag, \"\")\n",
    "        \n",
    "    mentions = [interaction for interaction in text.split() if interaction.startswith(\"@\")]\n",
    "    for mention in mentions:\n",
    "        text = text.replace(mention, \"\")\n",
    "        \n",
    "    return text, links, hashtags, mentions\n",
    "  \n",
    "  \n",
    "datos[['texto_limpio', 'enlaces', 'hashtags', 'menciones']] = datos.apply(text_clean, axis=1, result_type='expand')\n",
    "datos.head()"
   ]
  },
  {
   "cell_type": "code",
   "execution_count": 4,
   "metadata": {},
   "outputs": [
    {
     "data": {
      "text/html": [
       "<div>\n",
       "<style scoped>\n",
       "    .dataframe tbody tr th:only-of-type {\n",
       "        vertical-align: middle;\n",
       "    }\n",
       "\n",
       "    .dataframe tbody tr th {\n",
       "        vertical-align: top;\n",
       "    }\n",
       "\n",
       "    .dataframe thead th {\n",
       "        text-align: right;\n",
       "    }\n",
       "</style>\n",
       "<table border=\"1\" class=\"dataframe\">\n",
       "  <thead>\n",
       "    <tr style=\"text-align: right;\">\n",
       "      <th></th>\n",
       "      <th>tweets</th>\n",
       "      <th>fecha</th>\n",
       "      <th>ciudad</th>\n",
       "      <th>localizacion_usuario</th>\n",
       "      <th>id</th>\n",
       "      <th>enlace</th>\n",
       "      <th>texto_limpio</th>\n",
       "      <th>enlaces</th>\n",
       "      <th>hashtags</th>\n",
       "      <th>menciones</th>\n",
       "      <th>emojis</th>\n",
       "    </tr>\n",
       "  </thead>\n",
       "  <tbody>\n",
       "    <tr>\n",
       "      <th>0</th>\n",
       "      <td>@Csar38329864 @HijoDeCartagena @petrogustavo N...</td>\n",
       "      <td>2021-05-20 18:55:06</td>\n",
       "      <td>Bogotá</td>\n",
       "      <td>Funza, Colombia</td>\n",
       "      <td>1395453043391488008</td>\n",
       "      <td>https://twitter.com/i/web/stuatus/139545304339...</td>\n",
       "      <td>Ni hablar del matarife</td>\n",
       "      <td>[]</td>\n",
       "      <td>[]</td>\n",
       "      <td>[@Csar38329864, @HijoDeCartagena, @petrogustavo]</td>\n",
       "      <td>[]</td>\n",
       "    </tr>\n",
       "    <tr>\n",
       "      <th>1</th>\n",
       "      <td>Estos chimbos @German_Vargas, pobres engendros...</td>\n",
       "      <td>2021-05-20 18:54:54</td>\n",
       "      <td>Bogotá</td>\n",
       "      <td>Bogotá, Colombia</td>\n",
       "      <td>1395452992602742794</td>\n",
       "      <td>https://twitter.com/i/web/stuatus/139545299260...</td>\n",
       "      <td>Estos chimbos  pobres engendros del  están tan...</td>\n",
       "      <td>[https://t.co/pGxrHtTJyv, https://t.co/pNiQ436...</td>\n",
       "      <td>[#Matarife,]</td>\n",
       "      <td>[@German_Vargas,, @AirbagInfo.]</td>\n",
       "      <td>[]</td>\n",
       "    </tr>\n",
       "    <tr>\n",
       "      <th>2</th>\n",
       "      <td>#medioscomplices  en Colombia no se atreven di...</td>\n",
       "      <td>2021-05-20 18:48:32</td>\n",
       "      <td>Bogotá</td>\n",
       "      <td>Villavicencio, Colombia</td>\n",
       "      <td>1395451391913734154</td>\n",
       "      <td>https://twitter.com/i/web/stuatus/139545139191...</td>\n",
       "      <td>en Colombia no se atreven divulgar por miedo...</td>\n",
       "      <td>[https://t.co/b7EZgIiAxj]</td>\n",
       "      <td>[#medioscomplices, #Matarife, #ParoNacionalInd...</td>\n",
       "      <td>[]</td>\n",
       "      <td>[]</td>\n",
       "    </tr>\n",
       "    <tr>\n",
       "      <th>3</th>\n",
       "      <td>@ANIABELLO_R ojo con el matarife</td>\n",
       "      <td>2021-05-20 18:41:57</td>\n",
       "      <td>Bogotá</td>\n",
       "      <td>Bogota</td>\n",
       "      <td>1395449732697366537</td>\n",
       "      <td>https://twitter.com/i/web/stuatus/139544973269...</td>\n",
       "      <td>ojo con el matarife</td>\n",
       "      <td>[]</td>\n",
       "      <td>[]</td>\n",
       "      <td>[@ANIABELLO_R]</td>\n",
       "      <td>[]</td>\n",
       "    </tr>\n",
       "    <tr>\n",
       "      <th>4</th>\n",
       "      <td>Gracias #kpopers por erradicar la propaganda f...</td>\n",
       "      <td>2021-05-20 18:37:52</td>\n",
       "      <td>Bogotá</td>\n",
       "      <td>Bogotá, D.C., Colombia</td>\n",
       "      <td>1395448704891555846</td>\n",
       "      <td>https://twitter.com/i/web/stuatus/139544870489...</td>\n",
       "      <td>Gracias  por erradicar la propaganda fascista ...</td>\n",
       "      <td>[]</td>\n",
       "      <td>[#kpopers]</td>\n",
       "      <td>[]</td>\n",
       "      <td>[💩]</td>\n",
       "    </tr>\n",
       "  </tbody>\n",
       "</table>\n",
       "</div>"
      ],
      "text/plain": [
       "                                              tweets               fecha  \\\n",
       "0  @Csar38329864 @HijoDeCartagena @petrogustavo N... 2021-05-20 18:55:06   \n",
       "1  Estos chimbos @German_Vargas, pobres engendros... 2021-05-20 18:54:54   \n",
       "2  #medioscomplices  en Colombia no se atreven di... 2021-05-20 18:48:32   \n",
       "3                   @ANIABELLO_R ojo con el matarife 2021-05-20 18:41:57   \n",
       "4  Gracias #kpopers por erradicar la propaganda f... 2021-05-20 18:37:52   \n",
       "\n",
       "   ciudad     localizacion_usuario                   id  \\\n",
       "0  Bogotá          Funza, Colombia  1395453043391488008   \n",
       "1  Bogotá         Bogotá, Colombia  1395452992602742794   \n",
       "2  Bogotá  Villavicencio, Colombia  1395451391913734154   \n",
       "3  Bogotá                  Bogota   1395449732697366537   \n",
       "4  Bogotá   Bogotá, D.C., Colombia  1395448704891555846   \n",
       "\n",
       "                                              enlace  \\\n",
       "0  https://twitter.com/i/web/stuatus/139545304339...   \n",
       "1  https://twitter.com/i/web/stuatus/139545299260...   \n",
       "2  https://twitter.com/i/web/stuatus/139545139191...   \n",
       "3  https://twitter.com/i/web/stuatus/139544973269...   \n",
       "4  https://twitter.com/i/web/stuatus/139544870489...   \n",
       "\n",
       "                                        texto_limpio  \\\n",
       "0                             Ni hablar del matarife   \n",
       "1  Estos chimbos  pobres engendros del  están tan...   \n",
       "2    en Colombia no se atreven divulgar por miedo...   \n",
       "3                                ojo con el matarife   \n",
       "4  Gracias  por erradicar la propaganda fascista ...   \n",
       "\n",
       "                                             enlaces  \\\n",
       "0                                                 []   \n",
       "1  [https://t.co/pGxrHtTJyv, https://t.co/pNiQ436...   \n",
       "2                          [https://t.co/b7EZgIiAxj]   \n",
       "3                                                 []   \n",
       "4                                                 []   \n",
       "\n",
       "                                            hashtags  \\\n",
       "0                                                 []   \n",
       "1                                       [#Matarife,]   \n",
       "2  [#medioscomplices, #Matarife, #ParoNacionalInd...   \n",
       "3                                                 []   \n",
       "4                                         [#kpopers]   \n",
       "\n",
       "                                          menciones emojis  \n",
       "0  [@Csar38329864, @HijoDeCartagena, @petrogustavo]     []  \n",
       "1                   [@German_Vargas,, @AirbagInfo.]     []  \n",
       "2                                                []     []  \n",
       "3                                    [@ANIABELLO_R]     []  \n",
       "4                                                []    [💩]  "
      ]
     },
     "execution_count": 4,
     "metadata": {},
     "output_type": "execute_result"
    }
   ],
   "source": [
    "def get_emojis(text):\n",
    "    emoji_list = []\n",
    "    data = regex.findall(r'\\X', text)\n",
    "    for word in data:\n",
    "        if any(char in emoji.UNICODE_EMOJI['en'] for char in word):\n",
    "            emoji_list.append(word)\n",
    "\n",
    "    return emoji_list\n",
    "  \n",
    "  \n",
    "\n",
    "datos['emojis'] = datos['texto_limpio'].apply(lambda text: get_emojis(text))\n",
    "datos.head()"
   ]
  },
  {
   "cell_type": "markdown",
   "metadata": {},
   "source": [
    "###  `[25 pts]` Punto 2: Hacer una visualización sobre esos tuits"
   ]
  },
  {
   "cell_type": "markdown",
   "metadata": {},
   "source": [
    "* Se realizaron dos gráficas relacionadas con los tweets recuperados, a saber: \n",
    "    Agrupaciones de tweets con el método k-means y tweets por hora (gráfico visto en clase).\n",
    "    "
   ]
  },
  {
   "cell_type": "code",
   "execution_count": 5,
   "metadata": {},
   "outputs": [],
   "source": [
    "# Definición de función de pre-procesamiento\n",
    "stopwords_sp = stopwords.words('spanish')\n",
    "stopwords_sp.extend([\"https\", \"http\", \"co\", \"com\", \"edu\",\"eu\",\"Álvaro\",\"Uribe\", \"Vélez\", \"Matarife\", \"u\",\"û\",\"q\",\"k\",\"w\",\"a\",\"p\",\"pg\",\"b\",\"c\",\"f\",\"z\",\"j\",\n",
    "                  \"v\",\"n\",\"g\",\"e\",\"r\",\"x\",\"l\",\"h\",\"st\",\"rt\",\"lol\",\"aa\", \"vélez\",\"vélezel\",\"álvaro\",\"uribe\"])\n",
    "\n",
    "def preProcesado(texto):\n",
    "    texto = texto.lower()\n",
    "    texto = re.sub(r\"[\\W\\d_]+\", \" \", texto)\n",
    "    texto = texto.split() # Tokenizar\n",
    "    texto = [palabra for palabra in texto if palabra not in stopwords_sp]\n",
    "    texto = \" \".join(texto)\n",
    "    return texto"
   ]
  },
  {
   "cell_type": "code",
   "execution_count": 6,
   "metadata": {},
   "outputs": [
    {
     "data": {
      "text/html": [
       "<div>\n",
       "<style scoped>\n",
       "    .dataframe tbody tr th:only-of-type {\n",
       "        vertical-align: middle;\n",
       "    }\n",
       "\n",
       "    .dataframe tbody tr th {\n",
       "        vertical-align: top;\n",
       "    }\n",
       "\n",
       "    .dataframe thead th {\n",
       "        text-align: right;\n",
       "    }\n",
       "</style>\n",
       "<table border=\"1\" class=\"dataframe\">\n",
       "  <thead>\n",
       "    <tr style=\"text-align: right;\">\n",
       "      <th></th>\n",
       "      <th>abogado</th>\n",
       "      <th>abrir</th>\n",
       "      <th>acabando</th>\n",
       "      <th>acabar</th>\n",
       "      <th>acepta</th>\n",
       "      <th>aceptar</th>\n",
       "      <th>aceptará</th>\n",
       "      <th>acercando</th>\n",
       "      <th>acueductos</th>\n",
       "      <th>acuerdese</th>\n",
       "      <th>...</th>\n",
       "      <th>voz</th>\n",
       "      <th>vuelto</th>\n",
       "      <th>vándalos</th>\n",
       "      <th>vínculos</th>\n",
       "      <th>yamhure</th>\n",
       "      <th>yno</th>\n",
       "      <th>época</th>\n",
       "      <th>ética</th>\n",
       "      <th>órdenes</th>\n",
       "      <th>único</th>\n",
       "    </tr>\n",
       "  </thead>\n",
       "  <tbody>\n",
       "    <tr>\n",
       "      <th>0</th>\n",
       "      <td>0.0</td>\n",
       "      <td>0.0</td>\n",
       "      <td>0.0</td>\n",
       "      <td>0.0</td>\n",
       "      <td>0.0</td>\n",
       "      <td>0.0</td>\n",
       "      <td>0.000000</td>\n",
       "      <td>0.0</td>\n",
       "      <td>0.0</td>\n",
       "      <td>0.0</td>\n",
       "      <td>...</td>\n",
       "      <td>0.0</td>\n",
       "      <td>0.0</td>\n",
       "      <td>0.0</td>\n",
       "      <td>0.0</td>\n",
       "      <td>0.000000</td>\n",
       "      <td>0.000000</td>\n",
       "      <td>0.0</td>\n",
       "      <td>0.0</td>\n",
       "      <td>0.0</td>\n",
       "      <td>0.0</td>\n",
       "    </tr>\n",
       "    <tr>\n",
       "      <th>1</th>\n",
       "      <td>0.0</td>\n",
       "      <td>0.0</td>\n",
       "      <td>0.0</td>\n",
       "      <td>0.0</td>\n",
       "      <td>0.0</td>\n",
       "      <td>0.0</td>\n",
       "      <td>0.000000</td>\n",
       "      <td>0.0</td>\n",
       "      <td>0.0</td>\n",
       "      <td>0.0</td>\n",
       "      <td>...</td>\n",
       "      <td>0.0</td>\n",
       "      <td>0.0</td>\n",
       "      <td>0.0</td>\n",
       "      <td>0.0</td>\n",
       "      <td>0.000000</td>\n",
       "      <td>0.000000</td>\n",
       "      <td>0.0</td>\n",
       "      <td>0.0</td>\n",
       "      <td>0.0</td>\n",
       "      <td>0.0</td>\n",
       "    </tr>\n",
       "    <tr>\n",
       "      <th>2</th>\n",
       "      <td>0.0</td>\n",
       "      <td>0.0</td>\n",
       "      <td>0.0</td>\n",
       "      <td>0.0</td>\n",
       "      <td>0.0</td>\n",
       "      <td>0.0</td>\n",
       "      <td>0.000000</td>\n",
       "      <td>0.0</td>\n",
       "      <td>0.0</td>\n",
       "      <td>0.0</td>\n",
       "      <td>...</td>\n",
       "      <td>0.0</td>\n",
       "      <td>0.0</td>\n",
       "      <td>0.0</td>\n",
       "      <td>0.0</td>\n",
       "      <td>0.000000</td>\n",
       "      <td>0.000000</td>\n",
       "      <td>0.0</td>\n",
       "      <td>0.0</td>\n",
       "      <td>0.0</td>\n",
       "      <td>0.0</td>\n",
       "    </tr>\n",
       "    <tr>\n",
       "      <th>3</th>\n",
       "      <td>0.0</td>\n",
       "      <td>0.0</td>\n",
       "      <td>0.0</td>\n",
       "      <td>0.0</td>\n",
       "      <td>0.0</td>\n",
       "      <td>0.0</td>\n",
       "      <td>0.000000</td>\n",
       "      <td>0.0</td>\n",
       "      <td>0.0</td>\n",
       "      <td>0.0</td>\n",
       "      <td>...</td>\n",
       "      <td>0.0</td>\n",
       "      <td>0.0</td>\n",
       "      <td>0.0</td>\n",
       "      <td>0.0</td>\n",
       "      <td>0.000000</td>\n",
       "      <td>0.000000</td>\n",
       "      <td>0.0</td>\n",
       "      <td>0.0</td>\n",
       "      <td>0.0</td>\n",
       "      <td>0.0</td>\n",
       "    </tr>\n",
       "    <tr>\n",
       "      <th>4</th>\n",
       "      <td>0.0</td>\n",
       "      <td>0.0</td>\n",
       "      <td>0.0</td>\n",
       "      <td>0.0</td>\n",
       "      <td>0.0</td>\n",
       "      <td>0.0</td>\n",
       "      <td>0.000000</td>\n",
       "      <td>0.0</td>\n",
       "      <td>0.0</td>\n",
       "      <td>0.0</td>\n",
       "      <td>...</td>\n",
       "      <td>0.0</td>\n",
       "      <td>0.0</td>\n",
       "      <td>0.0</td>\n",
       "      <td>0.0</td>\n",
       "      <td>0.231277</td>\n",
       "      <td>0.000000</td>\n",
       "      <td>0.0</td>\n",
       "      <td>0.0</td>\n",
       "      <td>0.0</td>\n",
       "      <td>0.0</td>\n",
       "    </tr>\n",
       "    <tr>\n",
       "      <th>...</th>\n",
       "      <td>...</td>\n",
       "      <td>...</td>\n",
       "      <td>...</td>\n",
       "      <td>...</td>\n",
       "      <td>...</td>\n",
       "      <td>...</td>\n",
       "      <td>...</td>\n",
       "      <td>...</td>\n",
       "      <td>...</td>\n",
       "      <td>...</td>\n",
       "      <td>...</td>\n",
       "      <td>...</td>\n",
       "      <td>...</td>\n",
       "      <td>...</td>\n",
       "      <td>...</td>\n",
       "      <td>...</td>\n",
       "      <td>...</td>\n",
       "      <td>...</td>\n",
       "      <td>...</td>\n",
       "      <td>...</td>\n",
       "      <td>...</td>\n",
       "    </tr>\n",
       "    <tr>\n",
       "      <th>105</th>\n",
       "      <td>0.0</td>\n",
       "      <td>0.0</td>\n",
       "      <td>0.0</td>\n",
       "      <td>0.0</td>\n",
       "      <td>0.0</td>\n",
       "      <td>0.0</td>\n",
       "      <td>0.213926</td>\n",
       "      <td>0.0</td>\n",
       "      <td>0.0</td>\n",
       "      <td>0.0</td>\n",
       "      <td>...</td>\n",
       "      <td>0.0</td>\n",
       "      <td>0.0</td>\n",
       "      <td>0.0</td>\n",
       "      <td>0.0</td>\n",
       "      <td>0.000000</td>\n",
       "      <td>0.000000</td>\n",
       "      <td>0.0</td>\n",
       "      <td>0.0</td>\n",
       "      <td>0.0</td>\n",
       "      <td>0.0</td>\n",
       "    </tr>\n",
       "    <tr>\n",
       "      <th>106</th>\n",
       "      <td>0.0</td>\n",
       "      <td>0.0</td>\n",
       "      <td>0.0</td>\n",
       "      <td>0.0</td>\n",
       "      <td>0.0</td>\n",
       "      <td>0.0</td>\n",
       "      <td>0.000000</td>\n",
       "      <td>0.0</td>\n",
       "      <td>0.0</td>\n",
       "      <td>0.0</td>\n",
       "      <td>...</td>\n",
       "      <td>0.0</td>\n",
       "      <td>0.0</td>\n",
       "      <td>0.0</td>\n",
       "      <td>0.0</td>\n",
       "      <td>0.000000</td>\n",
       "      <td>0.000000</td>\n",
       "      <td>0.0</td>\n",
       "      <td>0.0</td>\n",
       "      <td>0.0</td>\n",
       "      <td>0.0</td>\n",
       "    </tr>\n",
       "    <tr>\n",
       "      <th>107</th>\n",
       "      <td>0.0</td>\n",
       "      <td>0.0</td>\n",
       "      <td>0.0</td>\n",
       "      <td>0.0</td>\n",
       "      <td>0.0</td>\n",
       "      <td>0.0</td>\n",
       "      <td>0.000000</td>\n",
       "      <td>0.0</td>\n",
       "      <td>0.0</td>\n",
       "      <td>0.0</td>\n",
       "      <td>...</td>\n",
       "      <td>0.0</td>\n",
       "      <td>0.0</td>\n",
       "      <td>0.0</td>\n",
       "      <td>0.0</td>\n",
       "      <td>0.000000</td>\n",
       "      <td>0.290962</td>\n",
       "      <td>0.0</td>\n",
       "      <td>0.0</td>\n",
       "      <td>0.0</td>\n",
       "      <td>0.0</td>\n",
       "    </tr>\n",
       "    <tr>\n",
       "      <th>108</th>\n",
       "      <td>0.0</td>\n",
       "      <td>0.0</td>\n",
       "      <td>0.0</td>\n",
       "      <td>0.0</td>\n",
       "      <td>0.0</td>\n",
       "      <td>0.0</td>\n",
       "      <td>0.000000</td>\n",
       "      <td>0.0</td>\n",
       "      <td>0.0</td>\n",
       "      <td>0.0</td>\n",
       "      <td>...</td>\n",
       "      <td>0.0</td>\n",
       "      <td>0.0</td>\n",
       "      <td>0.0</td>\n",
       "      <td>0.0</td>\n",
       "      <td>0.000000</td>\n",
       "      <td>0.000000</td>\n",
       "      <td>0.0</td>\n",
       "      <td>0.0</td>\n",
       "      <td>0.0</td>\n",
       "      <td>0.0</td>\n",
       "    </tr>\n",
       "    <tr>\n",
       "      <th>109</th>\n",
       "      <td>0.0</td>\n",
       "      <td>0.0</td>\n",
       "      <td>0.0</td>\n",
       "      <td>0.0</td>\n",
       "      <td>0.0</td>\n",
       "      <td>0.0</td>\n",
       "      <td>0.000000</td>\n",
       "      <td>0.0</td>\n",
       "      <td>0.0</td>\n",
       "      <td>0.0</td>\n",
       "      <td>...</td>\n",
       "      <td>0.0</td>\n",
       "      <td>0.0</td>\n",
       "      <td>0.0</td>\n",
       "      <td>0.0</td>\n",
       "      <td>0.000000</td>\n",
       "      <td>0.000000</td>\n",
       "      <td>0.0</td>\n",
       "      <td>0.0</td>\n",
       "      <td>0.0</td>\n",
       "      <td>0.0</td>\n",
       "    </tr>\n",
       "  </tbody>\n",
       "</table>\n",
       "<p>110 rows × 893 columns</p>\n",
       "</div>"
      ],
      "text/plain": [
       "     abogado  abrir  acabando  acabar  acepta  aceptar  aceptará  acercando  \\\n",
       "0        0.0    0.0       0.0     0.0     0.0      0.0  0.000000        0.0   \n",
       "1        0.0    0.0       0.0     0.0     0.0      0.0  0.000000        0.0   \n",
       "2        0.0    0.0       0.0     0.0     0.0      0.0  0.000000        0.0   \n",
       "3        0.0    0.0       0.0     0.0     0.0      0.0  0.000000        0.0   \n",
       "4        0.0    0.0       0.0     0.0     0.0      0.0  0.000000        0.0   \n",
       "..       ...    ...       ...     ...     ...      ...       ...        ...   \n",
       "105      0.0    0.0       0.0     0.0     0.0      0.0  0.213926        0.0   \n",
       "106      0.0    0.0       0.0     0.0     0.0      0.0  0.000000        0.0   \n",
       "107      0.0    0.0       0.0     0.0     0.0      0.0  0.000000        0.0   \n",
       "108      0.0    0.0       0.0     0.0     0.0      0.0  0.000000        0.0   \n",
       "109      0.0    0.0       0.0     0.0     0.0      0.0  0.000000        0.0   \n",
       "\n",
       "     acueductos  acuerdese  ...  voz  vuelto  vándalos  vínculos   yamhure  \\\n",
       "0           0.0        0.0  ...  0.0     0.0       0.0       0.0  0.000000   \n",
       "1           0.0        0.0  ...  0.0     0.0       0.0       0.0  0.000000   \n",
       "2           0.0        0.0  ...  0.0     0.0       0.0       0.0  0.000000   \n",
       "3           0.0        0.0  ...  0.0     0.0       0.0       0.0  0.000000   \n",
       "4           0.0        0.0  ...  0.0     0.0       0.0       0.0  0.231277   \n",
       "..          ...        ...  ...  ...     ...       ...       ...       ...   \n",
       "105         0.0        0.0  ...  0.0     0.0       0.0       0.0  0.000000   \n",
       "106         0.0        0.0  ...  0.0     0.0       0.0       0.0  0.000000   \n",
       "107         0.0        0.0  ...  0.0     0.0       0.0       0.0  0.000000   \n",
       "108         0.0        0.0  ...  0.0     0.0       0.0       0.0  0.000000   \n",
       "109         0.0        0.0  ...  0.0     0.0       0.0       0.0  0.000000   \n",
       "\n",
       "          yno  época  ética  órdenes  único  \n",
       "0    0.000000    0.0    0.0      0.0    0.0  \n",
       "1    0.000000    0.0    0.0      0.0    0.0  \n",
       "2    0.000000    0.0    0.0      0.0    0.0  \n",
       "3    0.000000    0.0    0.0      0.0    0.0  \n",
       "4    0.000000    0.0    0.0      0.0    0.0  \n",
       "..        ...    ...    ...      ...    ...  \n",
       "105  0.000000    0.0    0.0      0.0    0.0  \n",
       "106  0.000000    0.0    0.0      0.0    0.0  \n",
       "107  0.290962    0.0    0.0      0.0    0.0  \n",
       "108  0.000000    0.0    0.0      0.0    0.0  \n",
       "109  0.000000    0.0    0.0      0.0    0.0  \n",
       "\n",
       "[110 rows x 893 columns]"
      ]
     },
     "execution_count": 6,
     "metadata": {},
     "output_type": "execute_result"
    }
   ],
   "source": [
    "tfidf_vect = TfidfVectorizer(preprocessor=preProcesado)\n",
    "tfidf = tfidf_vect.fit_transform(datos.texto_limpio.values)\n",
    "tfidf_matrix = pd.DataFrame(tfidf.toarray(), columns = tfidf_vect.get_feature_names())\n",
    "tfidf_matrix"
   ]
  },
  {
   "cell_type": "code",
   "execution_count": 7,
   "metadata": {},
   "outputs": [
    {
     "name": "stdout",
     "output_type": "stream",
     "text": [
      "env: OMP_NUM_THREADS=8\n"
     ]
    },
    {
     "name": "stderr",
     "output_type": "stream",
     "text": [
      "D:\\ProgramFiles\\Anaconda3.2020.11\\lib\\site-packages\\sklearn\\cluster\\_kmeans.py:881: UserWarning:\n",
      "\n",
      "KMeans is known to have a memory leak on Windows with MKL, when there are less chunks than available threads. You can avoid it by setting the environment variable OMP_NUM_THREADS=1.\n",
      "\n"
     ]
    },
    {
     "data": {
      "image/png": "[encoded data removed]",
      "text/plain": [
       "<Figure size 432x288 with 1 Axes>"
      ]
     },
     "metadata": {
      "needs_background": "light"
     },
     "output_type": "display_data"
    }
   ],
   "source": [
    "%set_env OMP_NUM_THREADS=8\n",
    "ks = []\n",
    "k_inertias = []\n",
    "\n",
    "for k in range(1,12):\n",
    "    kmeans = KMeans(n_clusters=k).fit(tfidf_matrix)\n",
    "    k_inertia = kmeans.inertia_\n",
    "    \n",
    "    ks.append(k)\n",
    "    k_inertias.append(k_inertia)\n",
    "    \n",
    "    \n",
    "# list(zip(ks,k_inertias))\n",
    "\n",
    "plt.xlabel(\"Número de cúmulos\")\n",
    "plt.ylabel(\"Inercia\")\n",
    "plt.title(\"Método del codo\")\n",
    "plt.plot(ks, k_inertias, 'bx-');"
   ]
  },
  {
   "cell_type": "code",
   "execution_count": 8,
   "metadata": {},
   "outputs": [
    {
     "data": {
      "text/html": [
       "<div>\n",
       "<style scoped>\n",
       "    .dataframe tbody tr th:only-of-type {\n",
       "        vertical-align: middle;\n",
       "    }\n",
       "\n",
       "    .dataframe tbody tr th {\n",
       "        vertical-align: top;\n",
       "    }\n",
       "\n",
       "    .dataframe thead th {\n",
       "        text-align: right;\n",
       "    }\n",
       "</style>\n",
       "<table border=\"1\" class=\"dataframe\">\n",
       "  <thead>\n",
       "    <tr style=\"text-align: right;\">\n",
       "      <th></th>\n",
       "      <th>tweets</th>\n",
       "      <th>fecha</th>\n",
       "      <th>ciudad</th>\n",
       "      <th>localizacion_usuario</th>\n",
       "      <th>id</th>\n",
       "      <th>enlace</th>\n",
       "      <th>texto_limpio</th>\n",
       "      <th>enlaces</th>\n",
       "      <th>hashtags</th>\n",
       "      <th>menciones</th>\n",
       "      <th>emojis</th>\n",
       "      <th>cluster</th>\n",
       "    </tr>\n",
       "  </thead>\n",
       "  <tbody>\n",
       "    <tr>\n",
       "      <th>0</th>\n",
       "      <td>@Csar38329864 @HijoDeCartagena @petrogustavo N...</td>\n",
       "      <td>2021-05-20 18:55:06</td>\n",
       "      <td>Bogotá</td>\n",
       "      <td>Funza, Colombia</td>\n",
       "      <td>1395453043391488008</td>\n",
       "      <td>https://twitter.com/i/web/stuatus/139545304339...</td>\n",
       "      <td>Ni hablar del matarife</td>\n",
       "      <td>[]</td>\n",
       "      <td>[]</td>\n",
       "      <td>[@Csar38329864, @HijoDeCartagena, @petrogustavo]</td>\n",
       "      <td>[]</td>\n",
       "      <td>1</td>\n",
       "    </tr>\n",
       "    <tr>\n",
       "      <th>1</th>\n",
       "      <td>Estos chimbos @German_Vargas, pobres engendros...</td>\n",
       "      <td>2021-05-20 18:54:54</td>\n",
       "      <td>Bogotá</td>\n",
       "      <td>Bogotá, Colombia</td>\n",
       "      <td>1395452992602742794</td>\n",
       "      <td>https://twitter.com/i/web/stuatus/139545299260...</td>\n",
       "      <td>Estos chimbos  pobres engendros del  están tan...</td>\n",
       "      <td>[https://t.co/pGxrHtTJyv, https://t.co/pNiQ436...</td>\n",
       "      <td>[#Matarife,]</td>\n",
       "      <td>[@German_Vargas,, @AirbagInfo.]</td>\n",
       "      <td>[]</td>\n",
       "      <td>0</td>\n",
       "    </tr>\n",
       "    <tr>\n",
       "      <th>2</th>\n",
       "      <td>#medioscomplices  en Colombia no se atreven di...</td>\n",
       "      <td>2021-05-20 18:48:32</td>\n",
       "      <td>Bogotá</td>\n",
       "      <td>Villavicencio, Colombia</td>\n",
       "      <td>1395451391913734154</td>\n",
       "      <td>https://twitter.com/i/web/stuatus/139545139191...</td>\n",
       "      <td>en Colombia no se atreven divulgar por miedo...</td>\n",
       "      <td>[https://t.co/b7EZgIiAxj]</td>\n",
       "      <td>[#medioscomplices, #Matarife, #ParoNacionalInd...</td>\n",
       "      <td>[]</td>\n",
       "      <td>[]</td>\n",
       "      <td>2</td>\n",
       "    </tr>\n",
       "    <tr>\n",
       "      <th>3</th>\n",
       "      <td>@ANIABELLO_R ojo con el matarife</td>\n",
       "      <td>2021-05-20 18:41:57</td>\n",
       "      <td>Bogotá</td>\n",
       "      <td>Bogota</td>\n",
       "      <td>1395449732697366537</td>\n",
       "      <td>https://twitter.com/i/web/stuatus/139544973269...</td>\n",
       "      <td>ojo con el matarife</td>\n",
       "      <td>[]</td>\n",
       "      <td>[]</td>\n",
       "      <td>[@ANIABELLO_R]</td>\n",
       "      <td>[]</td>\n",
       "      <td>1</td>\n",
       "    </tr>\n",
       "    <tr>\n",
       "      <th>4</th>\n",
       "      <td>Gracias #kpopers por erradicar la propaganda f...</td>\n",
       "      <td>2021-05-20 18:37:52</td>\n",
       "      <td>Bogotá</td>\n",
       "      <td>Bogotá, D.C., Colombia</td>\n",
       "      <td>1395448704891555846</td>\n",
       "      <td>https://twitter.com/i/web/stuatus/139544870489...</td>\n",
       "      <td>Gracias  por erradicar la propaganda fascista ...</td>\n",
       "      <td>[]</td>\n",
       "      <td>[#kpopers]</td>\n",
       "      <td>[]</td>\n",
       "      <td>[💩]</td>\n",
       "      <td>1</td>\n",
       "    </tr>\n",
       "    <tr>\n",
       "      <th>...</th>\n",
       "      <td>...</td>\n",
       "      <td>...</td>\n",
       "      <td>...</td>\n",
       "      <td>...</td>\n",
       "      <td>...</td>\n",
       "      <td>...</td>\n",
       "      <td>...</td>\n",
       "      <td>...</td>\n",
       "      <td>...</td>\n",
       "      <td>...</td>\n",
       "      <td>...</td>\n",
       "      <td>...</td>\n",
       "    </tr>\n",
       "    <tr>\n",
       "      <th>105</th>\n",
       "      <td>@DanielSamperO Pues así Santos tenga toda la r...</td>\n",
       "      <td>2021-05-20 11:58:42</td>\n",
       "      <td>Bogotá</td>\n",
       "      <td>Bogotá, D.C., Colombia</td>\n",
       "      <td>1395348252728479754</td>\n",
       "      <td>https://twitter.com/i/web/stuatus/139534825272...</td>\n",
       "      <td>Pues así Santos tenga toda la razón, el cerdo...</td>\n",
       "      <td>[]</td>\n",
       "      <td>[]</td>\n",
       "      <td>[@DanielSamperO]</td>\n",
       "      <td>[]</td>\n",
       "      <td>1</td>\n",
       "    </tr>\n",
       "    <tr>\n",
       "      <th>106</th>\n",
       "      <td>@CaliDigna_ @Victori10406848 @ANTIENCAPUCHAD1 ...</td>\n",
       "      <td>2021-05-20 11:57:09</td>\n",
       "      <td>Bogotá</td>\n",
       "      <td>Bogotá, D.C., Colombia</td>\n",
       "      <td>1395347862519681026</td>\n",
       "      <td>https://twitter.com/i/web/stuatus/139534786251...</td>\n",
       "      <td>Jajaja hpta bodega de mierda, hampon a eso...</td>\n",
       "      <td>[]</td>\n",
       "      <td>[]</td>\n",
       "      <td>[@CaliDigna_, @Victori10406848, @ANTIENCAPUCHA...</td>\n",
       "      <td>[]</td>\n",
       "      <td>0</td>\n",
       "    </tr>\n",
       "    <tr>\n",
       "      <th>107</th>\n",
       "      <td>@FNAraujoR @SulayBuitrago El casett les quedó ...</td>\n",
       "      <td>2021-05-20 11:53:39</td>\n",
       "      <td>Bogotá</td>\n",
       "      <td>Bogotá, D.C., Colombia</td>\n",
       "      <td>1395346983536168962</td>\n",
       "      <td>https://twitter.com/i/web/stuatus/139534698353...</td>\n",
       "      <td>El casett les quedó mal grabado, ahora inves...</td>\n",
       "      <td>[]</td>\n",
       "      <td>[]</td>\n",
       "      <td>[@FNAraujoR, @SulayBuitrago]</td>\n",
       "      <td>[]</td>\n",
       "      <td>0</td>\n",
       "    </tr>\n",
       "    <tr>\n",
       "      <th>108</th>\n",
       "      <td>@AlvaroUribeVel Que dolor Colombia inundado en...</td>\n",
       "      <td>2021-05-20 11:47:22</td>\n",
       "      <td>Bogotá</td>\n",
       "      <td>Bogota</td>\n",
       "      <td>1395345401079869445</td>\n",
       "      <td>https://twitter.com/i/web/stuatus/139534540107...</td>\n",
       "      <td>Que dolor Colombia inundado en sangre por cul...</td>\n",
       "      <td>[]</td>\n",
       "      <td>[#Matarife, #Genocida]</td>\n",
       "      <td>[@AlvaroUribeVel]</td>\n",
       "      <td>[]</td>\n",
       "      <td>2</td>\n",
       "    </tr>\n",
       "    <tr>\n",
       "      <th>109</th>\n",
       "      <td>@CARLOSFMEJIA Y tu jefe el matarife, cuando va...</td>\n",
       "      <td>2021-05-20 11:44:11</td>\n",
       "      <td>Bogotá</td>\n",
       "      <td>Villavicencio, Colombia</td>\n",
       "      <td>1395344598864646148</td>\n",
       "      <td>https://twitter.com/i/web/stuatus/139534459886...</td>\n",
       "      <td>Y tu jefe el matarife, cuando va a pagar por ...</td>\n",
       "      <td>[]</td>\n",
       "      <td>[]</td>\n",
       "      <td>[@CARLOSFMEJIA]</td>\n",
       "      <td>[]</td>\n",
       "      <td>1</td>\n",
       "    </tr>\n",
       "  </tbody>\n",
       "</table>\n",
       "<p>110 rows × 12 columns</p>\n",
       "</div>"
      ],
      "text/plain": [
       "                                                tweets               fecha  \\\n",
       "0    @Csar38329864 @HijoDeCartagena @petrogustavo N... 2021-05-20 18:55:06   \n",
       "1    Estos chimbos @German_Vargas, pobres engendros... 2021-05-20 18:54:54   \n",
       "2    #medioscomplices  en Colombia no se atreven di... 2021-05-20 18:48:32   \n",
       "3                     @ANIABELLO_R ojo con el matarife 2021-05-20 18:41:57   \n",
       "4    Gracias #kpopers por erradicar la propaganda f... 2021-05-20 18:37:52   \n",
       "..                                                 ...                 ...   \n",
       "105  @DanielSamperO Pues así Santos tenga toda la r... 2021-05-20 11:58:42   \n",
       "106  @CaliDigna_ @Victori10406848 @ANTIENCAPUCHAD1 ... 2021-05-20 11:57:09   \n",
       "107  @FNAraujoR @SulayBuitrago El casett les quedó ... 2021-05-20 11:53:39   \n",
       "108  @AlvaroUribeVel Que dolor Colombia inundado en... 2021-05-20 11:47:22   \n",
       "109  @CARLOSFMEJIA Y tu jefe el matarife, cuando va... 2021-05-20 11:44:11   \n",
       "\n",
       "     ciudad     localizacion_usuario                   id  \\\n",
       "0    Bogotá          Funza, Colombia  1395453043391488008   \n",
       "1    Bogotá         Bogotá, Colombia  1395452992602742794   \n",
       "2    Bogotá  Villavicencio, Colombia  1395451391913734154   \n",
       "3    Bogotá                  Bogota   1395449732697366537   \n",
       "4    Bogotá   Bogotá, D.C., Colombia  1395448704891555846   \n",
       "..      ...                      ...                  ...   \n",
       "105  Bogotá   Bogotá, D.C., Colombia  1395348252728479754   \n",
       "106  Bogotá   Bogotá, D.C., Colombia  1395347862519681026   \n",
       "107  Bogotá   Bogotá, D.C., Colombia  1395346983536168962   \n",
       "108  Bogotá                   Bogota  1395345401079869445   \n",
       "109  Bogotá  Villavicencio, Colombia  1395344598864646148   \n",
       "\n",
       "                                                enlace  \\\n",
       "0    https://twitter.com/i/web/stuatus/139545304339...   \n",
       "1    https://twitter.com/i/web/stuatus/139545299260...   \n",
       "2    https://twitter.com/i/web/stuatus/139545139191...   \n",
       "3    https://twitter.com/i/web/stuatus/139544973269...   \n",
       "4    https://twitter.com/i/web/stuatus/139544870489...   \n",
       "..                                                 ...   \n",
       "105  https://twitter.com/i/web/stuatus/139534825272...   \n",
       "106  https://twitter.com/i/web/stuatus/139534786251...   \n",
       "107  https://twitter.com/i/web/stuatus/139534698353...   \n",
       "108  https://twitter.com/i/web/stuatus/139534540107...   \n",
       "109  https://twitter.com/i/web/stuatus/139534459886...   \n",
       "\n",
       "                                          texto_limpio  \\\n",
       "0                               Ni hablar del matarife   \n",
       "1    Estos chimbos  pobres engendros del  están tan...   \n",
       "2      en Colombia no se atreven divulgar por miedo...   \n",
       "3                                  ojo con el matarife   \n",
       "4    Gracias  por erradicar la propaganda fascista ...   \n",
       "..                                                 ...   \n",
       "105   Pues así Santos tenga toda la razón, el cerdo...   \n",
       "106      Jajaja hpta bodega de mierda, hampon a eso...   \n",
       "107    El casett les quedó mal grabado, ahora inves...   \n",
       "108   Que dolor Colombia inundado en sangre por cul...   \n",
       "109   Y tu jefe el matarife, cuando va a pagar por ...   \n",
       "\n",
       "                                               enlaces  \\\n",
       "0                                                   []   \n",
       "1    [https://t.co/pGxrHtTJyv, https://t.co/pNiQ436...   \n",
       "2                            [https://t.co/b7EZgIiAxj]   \n",
       "3                                                   []   \n",
       "4                                                   []   \n",
       "..                                                 ...   \n",
       "105                                                 []   \n",
       "106                                                 []   \n",
       "107                                                 []   \n",
       "108                                                 []   \n",
       "109                                                 []   \n",
       "\n",
       "                                              hashtags  \\\n",
       "0                                                   []   \n",
       "1                                         [#Matarife,]   \n",
       "2    [#medioscomplices, #Matarife, #ParoNacionalInd...   \n",
       "3                                                   []   \n",
       "4                                           [#kpopers]   \n",
       "..                                                 ...   \n",
       "105                                                 []   \n",
       "106                                                 []   \n",
       "107                                                 []   \n",
       "108                             [#Matarife, #Genocida]   \n",
       "109                                                 []   \n",
       "\n",
       "                                             menciones emojis  cluster  \n",
       "0     [@Csar38329864, @HijoDeCartagena, @petrogustavo]     []        1  \n",
       "1                      [@German_Vargas,, @AirbagInfo.]     []        0  \n",
       "2                                                   []     []        2  \n",
       "3                                       [@ANIABELLO_R]     []        1  \n",
       "4                                                   []    [💩]        1  \n",
       "..                                                 ...    ...      ...  \n",
       "105                                   [@DanielSamperO]     []        1  \n",
       "106  [@CaliDigna_, @Victori10406848, @ANTIENCAPUCHA...     []        0  \n",
       "107                       [@FNAraujoR, @SulayBuitrago]     []        0  \n",
       "108                                  [@AlvaroUribeVel]     []        2  \n",
       "109                                    [@CARLOSFMEJIA]     []        1  \n",
       "\n",
       "[110 rows x 12 columns]"
      ]
     },
     "execution_count": 8,
     "metadata": {},
     "output_type": "execute_result"
    }
   ],
   "source": [
    "k = 3\n",
    "model = KMeans(n_clusters=k)\n",
    "model.fit(tfidf_matrix)\n",
    "\n",
    "datos['cluster'] = model.labels_\n",
    "datos"
   ]
  },
  {
   "cell_type": "code",
   "execution_count": 9,
   "metadata": {},
   "outputs": [
    {
     "name": "stdout",
     "output_type": "stream",
     "text": [
      "Cluster # 0\n",
      "Tiene 36 registros (32.73% de los datos)\n",
      "\n",
      "TÉRMINOS MÁS REPRESENTATIVOS\n",
      "solo ahora gobierno matarife usted si versión mas uribistas espalda ser sabemos tan nunca bogotá pueblo salir creen cubriendo esbirros \n",
      "\n",
      "DOCUMENTOS MÁS REPRESENTATIVOS\n",
      " ***  El chiste se cuenta por si solo no se supone que este gobierno seria el mas austero.\n",
      "Jajaja hay sñr Matarife ya usted no sabe con que salir.\n",
      "\n",
      " ***    Recuerda que ellos solo repiten lo que dice el Matarife, traidor porque no quiso ser más el títere de ese genocida, no te desgastes, ellos no piensan por si solos, solo repite\n",
      "\n",
      " ***   Obvio no, no somos ilusos, sabemos que a los Uribistas no les interesa nada, solo estar bien ellos y aceptar todo lo que diga el Matarife. No se preocupe que a nosotros la suya nos importa menos y más ahora que están al borde de la extinción 😬\n",
      "\n",
      "\n",
      "********************************************\n",
      "\n",
      "Cluster # 1\n",
      "Tiene 51 registros (46.36% de los datos)\n",
      "\n",
      "TÉRMINOS MÁS REPRESENTATIVOS\n",
      "matarife orden hermana abogado hijueputa gracias chao debe ser hablar pinocho hablan pagarás ojo ver jaime pueblo títere innombrable usted \n",
      "\n",
      "DOCUMENTOS MÁS REPRESENTATIVOS\n",
      " ***   Es orden de MATARIFE.\n",
      "\n",
      " ***  La hermana menor de Jaime Lombana, el abogado del matarife, así functionality este platanal.\n",
      "\n",
      " ***  ojo con el matarife\n",
      "\n",
      "\n",
      "********************************************\n",
      "\n",
      "Cluster # 2\n",
      "Tiene 23 registros (20.91% de los datos)\n",
      "\n",
      "TÉRMINOS MÁS REPRESENTATIVOS\n",
      "duque colombia iván narcotraficante matarife gracias títere ud cocaína primer productor mundo país gonorrea narcogobierno deje lograr paró libertar nadie \n",
      "\n",
      "DOCUMENTOS MÁS REPRESENTATIVOS\n",
      " ***   Gracias a el Narcotraficante y Títere de Iván duque y el matarife Álvaro Uribe Vélez Colombia es el primer productor de cocaína en el mundo. Gracias a el Narcotraficante y Títere de Iván duque y el matarife Álvaro Uribe Vélez Colombia es el primer productor de cocaína en el mundo\n",
      "\n",
      " ***  Gracias a el Narcotraficante y Títere de Iván duque y el matarife Álvaro Uribe Vélez Colombia es el primer productor de cocaína en el mundo\n",
      "\n",
      " ***   Gracias a el Narcotraficante y Títere  de Iván duque y el Matarife Álvaro Uribe Vélez Colombia es el primer productor de Cocaína en el Mundo. Gracias a el Narcotraficante y Títere de Iván duque y el matarife Álvaro Uribe Vélez Colombia es el primer productor de cocaína en elmundo\n",
      "\n",
      "\n",
      "********************************************\n",
      "\n"
     ]
    }
   ],
   "source": [
    "nbrs = NearestNeighbors(n_neighbors=3, metric='euclidean').fit(tfidf_matrix.values)\n",
    "\n",
    "clust_cnt = datos['cluster'].value_counts()\n",
    "clust_cnt_pct = datos['cluster'].value_counts(normalize=True)\n",
    "\n",
    "centroids = model.cluster_centers_\n",
    "\n",
    "terms = tfidf_vect.get_feature_names()\n",
    "order_centroids = centroids.argsort()[:, ::-1]\n",
    "\n",
    "for i in range(k):\n",
    "    print(f\"Cluster # {i}\")\n",
    "    print(f\"Tiene {clust_cnt[i]} registros ({clust_cnt_pct[i]:.2%} de los datos)\")\n",
    "    print()\n",
    "    \n",
    "    print(\"TÉRMINOS MÁS REPRESENTATIVOS\")\n",
    "    for ind in order_centroids[i][:20]:\n",
    "        print(terms[ind], end=\" \")\n",
    "    print()\n",
    "    print()\n",
    "    \n",
    "    print(f\"DOCUMENTOS MÁS REPRESENTATIVOS\")\n",
    "    for vecino in datos.iloc[nbrs.kneighbors([centroids[i]])[1][0]].texto_limpio.values:\n",
    "        print(f\" *** {vecino}\")\n",
    "        print()\n",
    "        \n",
    "    print()\n",
    "    print(\"********************************************\")\n",
    "    print()"
   ]
  },
  {
   "cell_type": "code",
   "execution_count": 10,
   "metadata": {},
   "outputs": [
    {
     "data": {
      "text/html": [
       "<div>\n",
       "<style scoped>\n",
       "    .dataframe tbody tr th:only-of-type {\n",
       "        vertical-align: middle;\n",
       "    }\n",
       "\n",
       "    .dataframe tbody tr th {\n",
       "        vertical-align: top;\n",
       "    }\n",
       "\n",
       "    .dataframe thead th {\n",
       "        text-align: right;\n",
       "    }\n",
       "</style>\n",
       "<table border=\"1\" class=\"dataframe\">\n",
       "  <thead>\n",
       "    <tr style=\"text-align: right;\">\n",
       "      <th></th>\n",
       "      <th>X</th>\n",
       "      <th>Y</th>\n",
       "      <th>cluster</th>\n",
       "      <th>texto</th>\n",
       "      <th>colores</th>\n",
       "    </tr>\n",
       "  </thead>\n",
       "  <tbody>\n",
       "    <tr>\n",
       "      <th>0</th>\n",
       "      <td>-0.043356</td>\n",
       "      <td>-0.066405</td>\n",
       "      <td>Cluster 1 - DICTADURA</td>\n",
       "      <td>Ni hablar del matarife</td>\n",
       "      <td>blue</td>\n",
       "    </tr>\n",
       "    <tr>\n",
       "      <th>1</th>\n",
       "      <td>-0.072764</td>\n",
       "      <td>0.042337</td>\n",
       "      <td>Cluster 0 - PARO</td>\n",
       "      <td>Estos chimbos  pobres engendros del  están tan...</td>\n",
       "      <td>yellow</td>\n",
       "    </tr>\n",
       "    <tr>\n",
       "      <th>2</th>\n",
       "      <td>0.035050</td>\n",
       "      <td>0.089876</td>\n",
       "      <td>Cluster 2 - EXPROPIACIÓN</td>\n",
       "      <td>en Colombia no se atreven divulgar por miedo...</td>\n",
       "      <td>red</td>\n",
       "    </tr>\n",
       "    <tr>\n",
       "      <th>3</th>\n",
       "      <td>-0.043752</td>\n",
       "      <td>-0.046910</td>\n",
       "      <td>Cluster 1 - DICTADURA</td>\n",
       "      <td>ojo con el matarife</td>\n",
       "      <td>blue</td>\n",
       "    </tr>\n",
       "    <tr>\n",
       "      <th>4</th>\n",
       "      <td>0.080625</td>\n",
       "      <td>-0.185238</td>\n",
       "      <td>Cluster 1 - DICTADURA</td>\n",
       "      <td>Gracias  por erradicar la propaganda fascista ...</td>\n",
       "      <td>blue</td>\n",
       "    </tr>\n",
       "    <tr>\n",
       "      <th>...</th>\n",
       "      <td>...</td>\n",
       "      <td>...</td>\n",
       "      <td>...</td>\n",
       "      <td>...</td>\n",
       "      <td>...</td>\n",
       "    </tr>\n",
       "    <tr>\n",
       "      <th>105</th>\n",
       "      <td>-0.058016</td>\n",
       "      <td>-0.019382</td>\n",
       "      <td>Cluster 1 - DICTADURA</td>\n",
       "      <td>Pues así Santos tenga toda la razón, el cerdo...</td>\n",
       "      <td>blue</td>\n",
       "    </tr>\n",
       "    <tr>\n",
       "      <th>106</th>\n",
       "      <td>-0.063660</td>\n",
       "      <td>-0.026043</td>\n",
       "      <td>Cluster 0 - PARO</td>\n",
       "      <td>Jajaja hpta bodega de mierda, hampon a eso...</td>\n",
       "      <td>yellow</td>\n",
       "    </tr>\n",
       "    <tr>\n",
       "      <th>107</th>\n",
       "      <td>-0.057195</td>\n",
       "      <td>-0.050514</td>\n",
       "      <td>Cluster 0 - PARO</td>\n",
       "      <td>El casett les quedó mal grabado, ahora inves...</td>\n",
       "      <td>yellow</td>\n",
       "    </tr>\n",
       "    <tr>\n",
       "      <th>108</th>\n",
       "      <td>0.001706</td>\n",
       "      <td>0.104377</td>\n",
       "      <td>Cluster 2 - EXPROPIACIÓN</td>\n",
       "      <td>Que dolor Colombia inundado en sangre por cul...</td>\n",
       "      <td>red</td>\n",
       "    </tr>\n",
       "    <tr>\n",
       "      <th>109</th>\n",
       "      <td>-0.033766</td>\n",
       "      <td>-0.103944</td>\n",
       "      <td>Cluster 1 - DICTADURA</td>\n",
       "      <td>Y tu jefe el matarife, cuando va a pagar por ...</td>\n",
       "      <td>blue</td>\n",
       "    </tr>\n",
       "  </tbody>\n",
       "</table>\n",
       "<p>110 rows × 5 columns</p>\n",
       "</div>"
      ],
      "text/plain": [
       "            X         Y                   cluster  \\\n",
       "0   -0.043356 -0.066405     Cluster 1 - DICTADURA   \n",
       "1   -0.072764  0.042337          Cluster 0 - PARO   \n",
       "2    0.035050  0.089876  Cluster 2 - EXPROPIACIÓN   \n",
       "3   -0.043752 -0.046910     Cluster 1 - DICTADURA   \n",
       "4    0.080625 -0.185238     Cluster 1 - DICTADURA   \n",
       "..        ...       ...                       ...   \n",
       "105 -0.058016 -0.019382     Cluster 1 - DICTADURA   \n",
       "106 -0.063660 -0.026043          Cluster 0 - PARO   \n",
       "107 -0.057195 -0.050514          Cluster 0 - PARO   \n",
       "108  0.001706  0.104377  Cluster 2 - EXPROPIACIÓN   \n",
       "109 -0.033766 -0.103944     Cluster 1 - DICTADURA   \n",
       "\n",
       "                                                 texto colores  \n",
       "0                               Ni hablar del matarife    blue  \n",
       "1    Estos chimbos  pobres engendros del  están tan...  yellow  \n",
       "2      en Colombia no se atreven divulgar por miedo...     red  \n",
       "3                                  ojo con el matarife    blue  \n",
       "4    Gracias  por erradicar la propaganda fascista ...    blue  \n",
       "..                                                 ...     ...  \n",
       "105   Pues así Santos tenga toda la razón, el cerdo...    blue  \n",
       "106      Jajaja hpta bodega de mierda, hampon a eso...  yellow  \n",
       "107    El casett les quedó mal grabado, ahora inves...  yellow  \n",
       "108   Que dolor Colombia inundado en sangre por cul...     red  \n",
       "109   Y tu jefe el matarife, cuando va a pagar por ...    blue  \n",
       "\n",
       "[110 rows x 5 columns]"
      ]
     },
     "execution_count": 10,
     "metadata": {},
     "output_type": "execute_result"
    }
   ],
   "source": [
    "clusters = {0: \"Cluster 0 - PARO\", \n",
    "            1: \"Cluster 1 - DICTADURA\",\n",
    "            2: \"Cluster 2 - EXPROPIACIÓN\",\n",
    "            \n",
    "}\n",
    "\n",
    "datos['nombres_clusters'] = datos['cluster'].apply(lambda val: clusters[val])\n",
    "pca = PCA(n_components=2)\n",
    "\n",
    "result = pca.fit_transform(tfidf_matrix)\n",
    "result = pd.DataFrame(result)\n",
    "result.columns = ['X', 'Y']\n",
    "result['cluster'] = datos.nombres_clusters.values\n",
    "result['texto'] = datos.texto_limpio.apply(lambda val: val[:])\n",
    "\n",
    "colorsIdx = {\n",
    "            \"Cluster 0 - PARO\": \"yellow\", \n",
    "            \"Cluster 1 - DICTADURA\": \"blue\",\n",
    "            \"Cluster 2 - EXPROPIACIÓN\": \"red\" }\n",
    "\n",
    "result['colores'] = result['cluster'].map(colorsIdx)\n",
    "result"
   ]
  },
  {
   "cell_type": "markdown",
   "metadata": {},
   "source": [
    "### Gráfico de agrupaciones de Tweets:"
   ]
  },
  {
   "cell_type": "code",
   "execution_count": 11,
   "metadata": {},
   "outputs": [
    {
     "data": {
      "application/vnd.plotly.v1+json": {
       "config": {
        "linkText": "Export to plot.ly",
        "plotlyServerURL": "https://plot.ly",
        "showLink": false
       },
       "data": [
        {
         "marker": {
          "color": [
           "blue",
           "yellow",
           "red",
           "blue",
           "blue",
           "yellow",
           "blue",
           "blue",
           "blue",
           "yellow",
           "blue",
           "red",
           "blue",
           "red",
           "red",
           "blue",
           "red",
           "yellow",
           "red",
           "blue",
           "blue",
           "blue",
           "blue",
           "blue",
           "red",
           "red",
           "blue",
           "red",
           "yellow",
           "yellow",
           "blue",
           "blue",
           "blue",
           "red",
           "yellow",
           "yellow",
           "red",
           "yellow",
           "blue",
           "blue",
           "blue",
           "yellow",
           "yellow",
           "blue",
           "blue",
           "blue",
           "blue",
           "yellow",
           "red",
           "blue",
           "blue",
           "blue",
           "yellow",
           "blue",
           "blue",
           "red",
           "blue",
           "yellow",
           "blue",
           "yellow",
           "red",
           "blue",
           "blue",
           "blue",
           "red",
           "blue",
           "yellow",
           "yellow",
           "yellow",
           "red",
           "yellow",
           "yellow",
           "yellow",
           "blue",
           "blue",
           "yellow",
           "blue",
           "yellow",
           "blue",
           "red",
           "blue",
           "red",
           "red",
           "yellow",
           "red",
           "red",
           "yellow",
           "yellow",
           "yellow",
           "blue",
           "yellow",
           "blue",
           "blue",
           "yellow",
           "yellow",
           "blue",
           "blue",
           "blue",
           "blue",
           "yellow",
           "blue",
           "yellow",
           "yellow",
           "red",
           "yellow",
           "blue",
           "yellow",
           "yellow",
           "red",
           "blue"
          ]
         },
         "mode": "markers",
         "text": [
          "   Ni hablar del matarife",
          "Estos chimbos  pobres engendros del  están tan cansados que la cabeza sólo tienes es   ",
          "  en Colombia no se atreven divulgar por miedo a  y a quedar sin pauta publicitaria. \n\n ",
          " ojo con el matarife",
          "Gracias  por erradicar la propaganda fascista que tenía montada la recua uribista en Twitter. Se siente una tranquilidad no encontrarse con los tales Arizabaleta, Ghitis, Yamhure y demás lavaperros del Matarife con sus ht de 💩. ¡Gracias mil!",
          "  ha sacrificado la via de miles de Jovenes Colombianos pero a lass Divas twitteras les importan más la vida de las gallinas, q igual no iban a morir de viejas.",
          " Puras noticias basura al mando de los grandes poderes como el Matarife",
          " Dios (Matarife)\nPatria (El Uberrimo)",
          "Senador  devuèlvale el celular al matarife JJAJAJAJAJJAAJ ",
          "   Ya sabemos para que son buenos el  y su centro demoniaco!!",
          "“Si a usted le dicen ‘matarife’ debe ser de cariño”: El trino que 'Matador' le dedicó a Uribe ",
          "Gracias al petardo Duque y su Jefe.... \"Matarife\" ",
          "Te hablan matarife.  ",
          "Cuál es el peor presidente de la historia de Colombia, Andrés Pastrana, El Matarife o Ivan Duque?\nAyuda! Es para llenar un crucigrama! 🤔🤔🤔🤔",
          " Ya todo el mundo sabe que usted es un uribestia  una mala persona que le vale mierda el país  es que lo salvó el fútbol porque si no fuera por el fútbol estaría comiendo de la basura  o depronto hasta traketin  un grupo paramilitar  obedeciendo órdenes del matarife",
          " Pinocho  matarife",
          " El paró no lo para nadie hasta lograr libertar Colombia de este narcogobierno asesino terrorista del titere , narcotraficante de Iván duque y el matarife Álvaro Uribe Vélez",
          " No. De todas formas no habrá elecciones de acuerdo a los planes del  entonces más vale pajaro en mano que...",
          "El próximo año NO nos dejaremos robar las elecciones por el uribismo. El matarife podrá tener paramilitares y narcotraficantes a su favor pero Colombia en su mayoría es antiuribista.",
          "Los que quieren perpetuar el conflicto son el Matarife, sus socios mafiosos y toda ese sector rancio de la sociedad que cree que el fin justifica los medios! Necesitamos una policía postconflicto que sea referente de autoridad, cumpla la ley y proteja la vida! ",
          " Nos quieren mantener en guerra, de acuerdo con la doctrina del matarife.",
          "Vamos por el millón de uribestias marchando a favor del matarife  ",
          "  Ninguna cantidad de evidencias, pruebas, explicaciones, argumentos, verdades, testimonios, logrará convencer a un idiota adoctrinado, fanático, Matarife uribestia\n\n",
          " JAJAJAJAJA. Me encanta ver como MATARIFE esta de asustado. Nos vemos en el 22 paraco hijueputa",
          "  Él paró no lo para nadie hasta lograr libertar Colombia de este narcogobierno asesino terrorista de él títere de Iván duque y el matarife Álvaro Uribe Vélez. Él paró no lo para nadie hasta lograr libertar Colombia de este narcogobierno títere de Iván duque y el matarife Uribe",
          "  Desde Colombia denunció públicamente a la Sra Maria Corina Machado que recibe dinero del Narcotráfico de mi país. Maria Corina Machado es financiada por el narcogobierno asesino terrorista de Iván duque y el matarife Álvaro Uribe Vélez. Maria Corina Machado es Narcotraficante",
          " No hables basura que la banda criminal llamada policía está masacrando a diestra y siniestra por favor sea más coherente ya le falta poco para convertirse en la MATARIFE! version mujer!!!! No se iguale a Alvarito el paraquito!!! 🤬🤬🤬🤬🤬🤬",
          " Casteochavista quiere todo regalado, el estado no está para mantener vagos ... etc etc etc \nPopulismo en su máxima expresión ahora que ve caído su partido político y su imagen ante el mundo se está desenmascarando\nVas a pagar matarife y nada puede detener el peso de lo que viene",
          "  Obvio no, no somos ilusos, sabemos que a los Uribistas no les interesa nada, solo estar bien ellos y aceptar todo lo que diga el Matarife. No se preocupe que a nosotros la suya nos importa menos y más ahora que están al borde de la extinción 😬",
          " El chiste se cuenta por si solo no se supone que este gobierno seria el mas austero.\nJajaja hay sñr Matarife ya usted no sabe con que salir.",
          "  Es orden de MATARIFE.",
          "Esta seguro matarife???, por que si fue multitudinaria apoteósica y duradera, en paz , hasta cuando llegaron los policías disfrazados de vándalos. ",
          "Ya se han tumbado dos reformas,\nYa quiero ver la caída del Matarife y de su Títere\n \n \n",
          "  La nueva canciller de Colombia ostenta varios títulos: es la hermana de un traficante de heroína, es la socia del narco traqueto y paraco Memo Fantasma y es el enlace del  con los paramilitares. Qué mejores credenciales para ocupar el cargo no? .@JoeBiden .@KamalaHarris",
          " El expresidente Pepe Mujica pasará a la historia como un humanistas y uno de los más notables del mundo. \nNuestros ex presidentes pasarán a la historia por ser CORRUPTOS MAFIOSOS Y ASESINOS \nSobre todo el  \n ",
          " Yo no voté por  nunca me convenció, lo grave es que ahora tenemos la versión 2 de  en Bogotá",
          "  Lamentablemente las consecuencias de las decisiones de Duque y MATARIFE",
          "Paracol radio y RCN miente nunca mostrarán esto. Por más que los mencioné. Solo ponen lo que el matarife les ordene 🙄 ",
          "Como decía el matarife cuando quitó las horas extras dominicales y demás, trabajar, trabajar y trabajar y por debajo era robar, masacrar y despojar.\n\n\n \n \n \n ",
          "  Piense viejo a vos el matarife tampoco te conoce jajajaja",
          "  La señora seguramente está inconforme con el criminal gobierno del matarife , pero por qué tiene que seguir o creer en el mediocre mal perdedor procomunista de su mesías??   ",
          "¿Se habían ha preparado el Uribato y  para este momento o les cogio por sorpresa? Todo indica que ni se lo imaginaron e improvisan a medida que se presentan lo hechos, lo único que tienen decidido es no negociar y hacer el caos al estilo de Pablo.",
          "  La manera tan ruin como el  atento contra la salud de todos los colombianos. Ese tipo es un criminal con corbata. ",
          "           Dígales que Plomo es lo que hay y que plomo están dando. Siga el ejemplo de MATARIFE",
          "   Eso nos resbala, Matarife es lo mas horrendo",
          " Sigue adelante, ellos caerán en depresión cuando el matarife no tenga más argumentos y sea procesado por sus múltiples asesinatos.",
          "     Gracias a Ratasquilla, MATARIFE y el Cerdito",
          " Usted lleva 20 años engañando al pueblo ",
          " Partiendo porque el pais lo maneja Uribe y no Duque, tiene razon, de una u otra manera deben estar organizando las fichas pa la ultima jugada de este gobierno, saben que este partido político se les cayó, pero no seria el 1er que se le cae al matarife toca tener bn los 👀 encima.",
          " La orden del matarife es que cuesten 2.000, ya se van acercando.",
          " Toca es quitarle los escoltas al matarife, si ese genocida ya no hace parte del gobierno porque nos toca pagarle escoltas",
          "Qué tal la Canciller colombiana. De verdad que hasta vergüenza da. El Títere y Matarife siguen metiendo la pata en todo. ",
          "    Pero si seguimos en el mismo gobierno del títere y el Matarife... 🥱 Estos Uribistas y sus pensamientos jajajaja.",
          "     Ojalá que la CIDH, condene rápido al TITERE por los muertos de los paros del 19, 20, 21 y al MATARIFE por los 6.402 falsos positivos y Usted Sra Atenida y su Flia preparense a devolver todo lo que le han robado al estado. Corruptos.",
          " MATARIFE EL INNOMBRABLE HIJUEPUTA",
          " Jajajaja el  y su plaga por más de 20 años en el poder y usted viene a decir que la culpa que el país esté vuelto mierda es Petro? Definitivamente estos hijueputas Uribestias no les corre sangre por esa jeta. Lo único que tienen en esa cabeza es materia, pero fecal!",
          " Cínismo, hipocresía y mitomanía de ese genocida despreciable que se ha lucrado con la sangre de inocentes Colombianos.\nNunca olvidar esta cifra: 6.402 jóvenes asesinados por este matarife bajo sus mandatos!!!😡👎🏽",
          " Ay mi Matarife gonorreita, estas atemorizado no? Intentando atraer incautos con el mismo cuento de siempre pero ahora a otro nivel: \"Que paguen los mas pudientes\". TE VAMOS A SACAR EL 22 PERRO GENOCIDA",
          "  Payaso para que se extiende? Todos entendemos que hay que pagarle algo al abogado del Matarife",
          " Lo que decía Matarife en su época de presidente cuando más de la mitad era un borrego suyo a ojo cerrado: \" A Colombia lo que la está matando es la pereza lo que la tenemos que recortar son las horas de sueño\"\nLo que dice ahora que sabe que va caer: Que paguen los mas pudientes😂",
          " MATARIFE lleva como 1 semana insistiendo que\" paguen los más pudientes\" eso es lo que vamos a hacer matarife (por que nosotros somos lo que aprobamos la reforma) deje de decirlo que igual lo vamos a sacar el 22. Lo bueno es que nos damos cuenta de lo atemorizado que está",
          " para el presidiario y matarife de Polombia y sus secuaces, porque saben que hasta ahí les llega la Feria de lo Público, el despojo de tierras y la tanatopolítica (muerte como prioridad)",
          "El titular debe ser \"hermana de Jaime Lombana es nueva Ministra\".Eso de ser servil y mandadero del matarife produce resultados    ",
          "  Hombre, publicó viendo en su propio espejo el póster del matarife: los adjetivos, epítetos, diatribas y lamentos componen la letanía que en adelante van a seguir entonando en los corrales del uribismo. Lloren, renieguen, insulten... ya se les pasará la tusa !!",
          " jajajja. así lo hizo ud  le vendió en campaña para elegir un inepto como presidente. con su frase \n\"Nos vamos a volver como Venezuela\"\nEl peor cáncer de Colombia es ud y su partido de hampones.",
          " trash una larga noche de violaciones y maltratos del  logró abrir la la romelia Dosquebradas. Muy valiente el pupilo del matarife mandando en la noche a sus matones cuando no había defensoría del pueblo ni verificación  ",
          "  Me imagino que se refiere al  no sea mezquino y huevoncito!",
          "   Uribe, matarife renunció al senado, para no ser juzgado por la corte penal, ahora es simplemente un ex presidiario que pronto volverá a ser juzgado por todos sus crímenes y vínculos con el narco tráfico y a la cárcel derechito",
          "  La cabal, la loca Paloma, el perro rabioso de Mejía y al lambon  de Nieto Loaiza...son de la misma lista q hay q acabar...no más de esos nefastos seguidores del Matarífe, si..El enano paraco.",
          " Plural, lo que le han hecho al país, acuerdese que uds votaron por Santos por consejo del Carnicero de los Andes o ",
          "En este país todo es presunto... \nComo la humanidad e inteligencia del sub.\nComo la honorabilidad e inocencia del matarife.\nComo la ética y valores de la gente de bien.",
          "   Recuerda que ellos solo repiten lo que dice el Matarife, traidor porque no quiso ser más el títere de ese genocida, no te desgastes, ellos no piensan por si solos, solo repite",
          " Vea viejo marica o quienes le manejan esta red al matarife... Dejen de meterle ideas a la gente sus cuentos chimbos ya nadie se los creen... Solo sus Lame suelas y ladrones como usted creen aún",
          "  yo sé que con una mente y un alma tan  asquerosas como la suya  olvida cosas para logras seguir existiendo pero le recuerdo que en el poder siguen los mismos paracos desplazadores  genocidas corruptos narcotraficantes de hace 20 años osea matarife y sus bandidos.",
          " La hermana menor de Jaime Lombana, el abogado del matarife, así functionality este platanal.",
          "   Para los que culpan a la pandemia es un fenómeno mundial no local entonces no es excusa.\nTanto imbécil defendiendo un gobierno que solo aporta devolviendo favores políticos y en protegerle la espalda al matarife\nQue malgasta y desaparece los recursos",
          " Muy bonita su estrategia... El matarife debe estar muy orgulloso de usted.",
          "   Están cubriendo la espalda al  y sus esbirros!",
          "A Uribe alias el matarife sólo le queda amarrarse la piedra al pescuezo q dijo el mismo y tirarse al río Magdalena o q salga alas calles A ver q le dice el pueblo colombiano.",
          "  Andres Gonorrea patraña cuanta Cocaina le dan a ud el Narcotraficante Iván duque y el matarife Álvaro Uribe Vélez para estar criticando los problemas de otro país. Deje lo Gonorrea ud no ve la Masacre que hay en Colombia deje lo Gonorrea",
          " que tal este Matarife será que no ha escuchado las arengas en el paro? No se ha enterado que el pueblo está hastiado de uribismo. Respaldo total a Daniel Quintero alcalde elegido por el pueblo.",
          "  Andrés Pastrana que inmoral es ud cuanto le paga el Narcotraficante Iván duque y el matarife Álvaro Uribe Vélez cuánta cocaína le dan para estar criticando a otro país. Deje lo gonorrea ud . No se da cuenta la Masacre que hay en Colombia y ud pendiente de Venezuela . Gonorrea",
          "  Gracias a el Narcotraficante y Títere de Iván duque y el matarife Álvaro Uribe Vélez Colombia es el primer productor de cocaína en el mundo. Gracias a el Narcotraficante y Títere de Iván duque y el matarife Álvaro Uribe Vélez Colombia es el primer productor de cocaína en el mundo",
          " Aprendió rápido de su mentor  sacando el cuerpo para luego lavarse las manos  ",
          " Gracias a el Narcotraficante y Títere de Iván duque y el matarife Álvaro Uribe Vélez Colombia es el primer productor de cocaína en el mundo",
          "  Gracias a el Narcotraficante y Títere  de Iván duque y el Matarife Álvaro Uribe Vélez Colombia es el primer productor de Cocaína en el Mundo. Gracias a el Narcotraficante y Títere de Iván duque y el matarife Álvaro Uribe Vélez Colombia es el primer productor de cocaína en elmundo",
          " Hasta me da vergüenza decirlo 🤔😔🤔😔para el inicio del ",
          " Pague usted la deuda externa y los mas de 50 billones de pesos que se ha robado a lo largo de su presidencia corrupta y sus cargos con beneficios (cocaína) como el del director de la aerocivil     el  DIO LA ORDEN.",
          " pelo el cobre, se convirtió en La versión 2 de  ",
          "A la sra   se le salió su estrato cuando hablaron mal del gran amigo q para su marido es carrasquilla q lo vinculo con el gob del matarife.",
          "Cual EMPATIA? Mandar que ataquen a las mamás de la Primera Línea es un ASESINATO. qué tristeza que se esté convirtienfo en  2 ",
          " chao, matarife, chao.",
          "Su mayor mérito es ser la hermana de cadena, el que salvo al matarife de la cárcel... Títere? Dondeeeee!!! ",
          "Ahora quien es la violenta? Jamás Matarife podrá salir a una marcha como lo hizo el senador Petro. ",
          " Es que se están acabando las reservas de malandros secuases del gobierno, a quienes se les pueda confiar los secretos que no pueden revelarse a la comunidad internacional.\n\n y el  creen que el mundo todavía los acepta como iguales.",
          " Estos soquetes del uribestialismo... creen q sus pensamientos estupidos son la razón de la realidad... cuando el pais esta en esta tragedia gracias al patrón de ellos....\"El matarife\"",
          "  Y coincidentemente, la hermana del abogado del diablo, al que le deben mil favores por perpetuar la impunidad del matarife.",
          " la pagarás matarife",
          "Hermana de  \n\nQue no se note que el MATARIFE paga favores y tiene sus fichas en todo lado.\n\nJaime es abogado de uribe en varios de sus procesos criminales. \n\n  ",
          " Eso se llama indolencia y demuestra q Matarife y su corte están x encima del dolor de madre, quien de verdad siente y sufre, madre solo una y padre cualquiera. Eso es un masoquismo Rancio.",
          "Así es todos los días.\nCon voz y mano levantada da instrucciones a su marioneta.\n no le da pena con sus hijos? Esos pequeños sabrán que su papá es el monigote del matarife? ",
          " quién lo creyera, dizque Bogotá cuidadora, se está convirtiéndo en  2, siempre pensé que era uribista camuflada, por eso no vote por usted, pero asesina de su pueblo?,ni en la peor de mis pesadilla. ",
          " Ah, no,  eso no es ofensa.  Ofensa es un apodo como  ó  ó  ó   ó  ó  ó   Me parece loable y muy inteligente que no prestes atención a los resentidos del uribismo.",
          " Maravillosa forma de negociar del títere  digno pupilo del   en el día se ve haciendo show en mesas de diálogo ficticias pero cae el sol y manda sus matones a atacar",
          " ¿Cuántos acueductos y alcantarillados se construyeron en el gobierno de \nEs para una tarea...",
          " Pues así Santos tenga toda la razón, el cerdo jamás aceptará algo de él. Mejor dicho, el cerdo no, sino su jefe el matarife, no le dará permiso de dialogar jamás con Santos",
          "    Jajaja hpta bodega de mierda, hampon a esos que se llaman uribistas, Ese tal matarife que autorizo licencias a los narcos, donde sus familiares y personas cercanas están en la cárcel por delitos como robo al estado, narcotrafico, él que creó las convivir, más de 6402 FP.",
          "  El casett les quedó mal grabado, ahora investigue yno le haga caso a su jefe alias MATARIFE o el señor de las masacres.",
          " Que dolor Colombia inundado en sangre por culpa de una persona como usted, sedienta de venganza y rencor,  ",
          " Y tu jefe el matarife, cuando va a pagar por todos los crímenes??"
         ],
         "type": "scatter",
         "x": [
          -0.04335611654986134,
          -0.07276377682833714,
          0.03505039098777032,
          -0.04375179330432152,
          0.08062481032248038,
          -0.0669927133228456,
          -0.056416195969337335,
          -0.05058934993526442,
          -0.05671704038849839,
          -0.06437542934269096,
          -0.0888988685800061,
          0.2849102150006832,
          -0.04323362747681119,
          0.12999390264136546,
          -0.03148670024329822,
          -0.04324169510034691,
          0.47097329277747496,
          -0.06894855311659408,
          -0.0025209647243800578,
          -0.06629796081122918,
          -0.059585732897656854,
          -0.06398348884108616,
          -0.05873681992377118,
          -0.0620753275390345,
          0.48998862893156697,
          0.17947474017536802,
          -0.06604874566859997,
          -0.026404996285278124,
          -0.07519138925756738,
          -0.09144361634966107,
          -0.05256388109703718,
          -0.062195897963077104,
          0.03874754984063115,
          -0.020239439914858597,
          -0.015536420027160856,
          -0.0837141032495365,
          0.11178387996994858,
          -0.06815284297145319,
          -0.05606787831177743,
          -0.056820852546433154,
          -0.07145837714117706,
          -0.06363388364742142,
          -0.07385372804247277,
          -0.05459406278918822,
          -0.05887272044483091,
          -0.058259208919229095,
          0.13357442847502374,
          -0.09722450784882712,
          -0.006612983040803159,
          -0.06397929830500544,
          -0.0760154072856795,
          0.018810956069867775,
          0.014903804817903646,
          -0.053452924673105875,
          -0.05397681874468844,
          -0.08293918454878448,
          -0.06947155602910664,
          -0.08534711360300327,
          -0.06690039575219796,
          -0.02470715612738004,
          -0.06166978046331405,
          -0.05776640027825971,
          -0.0866091112001157,
          -0.06625040399271719,
          0.03545152976021818,
          -0.06432061232256933,
          -0.06084761530795492,
          -0.0776017157289116,
          -0.0702678436156822,
          -0.05663039967523094,
          -0.05236973964808859,
          -0.022699422357245685,
          -0.04971669576021913,
          -0.07159223290409242,
          -0.0815208371975125,
          -0.07601861483402864,
          -0.0767230329574507,
          -0.06443828577879289,
          -0.07110133566838425,
          0.2504668303979361,
          -0.07303306643449119,
          0.2935241791349733,
          0.8659003891030619,
          -0.062442477543166564,
          0.8659003891030619,
          0.8593051666360512,
          -0.056701415704521495,
          -0.008875173322320379,
          -0.06700886527881554,
          -0.057608268918675556,
          -0.06073739652748385,
          -0.05203070892803212,
          0.011861802490547923,
          -0.07547042764134378,
          -0.016246015345312857,
          0.04072324606972268,
          -0.07464362364161979,
          -0.04327819794658047,
          -0.07404768281158937,
          -0.06505198161246648,
          -0.05607707624471444,
          -0.07771816657742026,
          -0.06344882327503781,
          -0.00042753653007949636,
          -0.06839643998042023,
          -0.05801557752347848,
          -0.06366042184328713,
          -0.05719522592123011,
          0.0017059806753902845,
          -0.033765918657674754
         ],
         "y": [
          -0.06640526365807191,
          0.04233705152958527,
          0.089876415730906,
          -0.046909765444609446,
          -0.18523769877480112,
          0.052203038673797074,
          -0.010570889912786232,
          -0.03187944709531424,
          -0.01995066823437901,
          0.031025505441758847,
          -0.11192651379710558,
          -0.22671218727103154,
          -0.06834070587321142,
          0.18993022957709194,
          0.02023276885085445,
          -0.0667407896579343,
          0.25040096708757237,
          0.028860978047357266,
          0.05585172092942151,
          -0.004287472761768159,
          -0.017218914581492425,
          0.08764722902204636,
          -0.0063236118096907795,
          -0.051078660775790014,
          0.19334318692469865,
          0.16378808480479906,
          0.011386683901868075,
          0.00508011982028924,
          -0.012430549954311294,
          -0.004622100212738276,
          -0.14437885463029554,
          -0.032512541220102095,
          -0.10612634832867004,
          -0.0009294541753184378,
          -0.030543393455605427,
          0.034006046957855224,
          -0.007168410560622065,
          -0.02383527802471599,
          0.00825084533025035,
          -0.03453797039881728,
          -0.029513817448538884,
          0.044730647443580206,
          0.038104507594661774,
          -0.005099125559672102,
          -0.018241070365112383,
          -0.013299460341172973,
          -0.24619991953149134,
          0.07916034884817179,
          -0.026403827424247114,
          -0.11195609219114169,
          -0.06583848259567042,
          0.00018285028187868502,
          -0.15222053866790292,
          0.03402005977854672,
          -0.06094784055812172,
          0.10838120794379463,
          0.01311798989855973,
          0.10304241681421059,
          -0.07978810907837254,
          0.09087686535044211,
          0.2235945993063214,
          -0.012004450565693726,
          -0.17518625989666775,
          -0.0112706114058657,
          0.4200851029718438,
          0.005556567272850511,
          0.02445841220832699,
          -0.09487609041082166,
          0.007445938193544161,
          0.09073061543024494,
          0.061120938206971315,
          -0.12965049799542286,
          -0.00013133145296764475,
          0.02471131724606601,
          -0.12082795913382627,
          -0.04184309194440958,
          -0.047076358930382575,
          0.015948831616008293,
          -0.01581807617523802,
          0.5791521164910712,
          0.013920944399050257,
          0.6081458138712701,
          -0.2009986042079964,
          0.02539599683389113,
          -0.2009986042079964,
          -0.1944474896152107,
          0.1260629093103817,
          -0.03493096377681972,
          0.02158847622033182,
          -0.0033814473122856497,
          0.024922176796984583,
          -0.021840511331733682,
          -0.19060218522536862,
          0.03718643070746117,
          -0.04727262759433457,
          -0.17339329357103636,
          -0.12928715161008156,
          -0.07398078631398776,
          -0.1001518451287654,
          -0.011605813665946525,
          0.08633138309307434,
          0.07007334116566293,
          0.019053979116535183,
          -0.004625179540990666,
          -0.009440789217233694,
          -0.019381688513798265,
          -0.026042918427699815,
          -0.050514183344969384,
          0.10437710250736779,
          -0.10394417466107855
         ]
        }
       ],
       "layout": {
        "template": {
         "data": {
          "bar": [
           {
            "error_x": {
             "color": "#2a3f5f"
            },
            "error_y": {
             "color": "#2a3f5f"
            },
            "marker": {
             "line": {
              "color": "#E5ECF6",
              "width": 0.5
             }
            },
            "type": "bar"
           }
          ],
          "barpolar": [
           {
            "marker": {
             "line": {
              "color": "#E5ECF6",
              "width": 0.5
             }
            },
            "type": "barpolar"
           }
          ],
          "carpet": [
           {
            "aaxis": {
             "endlinecolor": "#2a3f5f",
             "gridcolor": "white",
             "linecolor": "white",
             "minorgridcolor": "white",
             "startlinecolor": "#2a3f5f"
            },
            "baxis": {
             "endlinecolor": "#2a3f5f",
             "gridcolor": "white",
             "linecolor": "white",
             "minorgridcolor": "white",
             "startlinecolor": "#2a3f5f"
            },
            "type": "carpet"
           }
          ],
          "choropleth": [
           {
            "colorbar": {
             "outlinewidth": 0,
             "ticks": ""
            },
            "type": "choropleth"
           }
          ],
          "contour": [
           {
            "colorbar": {
             "outlinewidth": 0,
             "ticks": ""
            },
            "colorscale": [
             [
              0,
              "#0d0887"
             ],
             [
              0.1111111111111111,
              "#46039f"
             ],
             [
              0.2222222222222222,
              "#7201a8"
             ],
             [
              0.3333333333333333,
              "#9c179e"
             ],
             [
              0.4444444444444444,
              "#bd3786"
             ],
             [
              0.5555555555555556,
              "#d8576b"
             ],
             [
              0.6666666666666666,
              "#ed7953"
             ],
             [
              0.7777777777777778,
              "#fb9f3a"
             ],
             [
              0.8888888888888888,
              "#fdca26"
             ],
             [
              1,
              "#f0f921"
             ]
            ],
            "type": "contour"
           }
          ],
          "contourcarpet": [
           {
            "colorbar": {
             "outlinewidth": 0,
             "ticks": ""
            },
            "type": "contourcarpet"
           }
          ],
          "heatmap": [
           {
            "colorbar": {
             "outlinewidth": 0,
             "ticks": ""
            },
            "colorscale": [
             [
              0,
              "#0d0887"
             ],
             [
              0.1111111111111111,
              "#46039f"
             ],
             [
              0.2222222222222222,
              "#7201a8"
             ],
             [
              0.3333333333333333,
              "#9c179e"
             ],
             [
              0.4444444444444444,
              "#bd3786"
             ],
             [
              0.5555555555555556,
              "#d8576b"
             ],
             [
              0.6666666666666666,
              "#ed7953"
             ],
             [
              0.7777777777777778,
              "#fb9f3a"
             ],
             [
              0.8888888888888888,
              "#fdca26"
             ],
             [
              1,
              "#f0f921"
             ]
            ],
            "type": "heatmap"
           }
          ],
          "heatmapgl": [
           {
            "colorbar": {
             "outlinewidth": 0,
             "ticks": ""
            },
            "colorscale": [
             [
              0,
              "#0d0887"
             ],
             [
              0.1111111111111111,
              "#46039f"
             ],
             [
              0.2222222222222222,
              "#7201a8"
             ],
             [
              0.3333333333333333,
              "#9c179e"
             ],
             [
              0.4444444444444444,
              "#bd3786"
             ],
             [
              0.5555555555555556,
              "#d8576b"
             ],
             [
              0.6666666666666666,
              "#ed7953"
             ],
             [
              0.7777777777777778,
              "#fb9f3a"
             ],
             [
              0.8888888888888888,
              "#fdca26"
             ],
             [
              1,
              "#f0f921"
             ]
            ],
            "type": "heatmapgl"
           }
          ],
          "histogram": [
           {
            "marker": {
             "colorbar": {
              "outlinewidth": 0,
              "ticks": ""
             }
            },
            "type": "histogram"
           }
          ],
          "histogram2d": [
           {
            "colorbar": {
             "outlinewidth": 0,
             "ticks": ""
            },
            "colorscale": [
             [
              0,
              "#0d0887"
             ],
             [
              0.1111111111111111,
              "#46039f"
             ],
             [
              0.2222222222222222,
              "#7201a8"
             ],
             [
              0.3333333333333333,
              "#9c179e"
             ],
             [
              0.4444444444444444,
              "#bd3786"
             ],
             [
              0.5555555555555556,
              "#d8576b"
             ],
             [
              0.6666666666666666,
              "#ed7953"
             ],
             [
              0.7777777777777778,
              "#fb9f3a"
             ],
             [
              0.8888888888888888,
              "#fdca26"
             ],
             [
              1,
              "#f0f921"
             ]
            ],
            "type": "histogram2d"
           }
          ],
          "histogram2dcontour": [
           {
            "colorbar": {
             "outlinewidth": 0,
             "ticks": ""
            },
            "colorscale": [
             [
              0,
              "#0d0887"
             ],
             [
              0.1111111111111111,
              "#46039f"
             ],
             [
              0.2222222222222222,
              "#7201a8"
             ],
             [
              0.3333333333333333,
              "#9c179e"
             ],
             [
              0.4444444444444444,
              "#bd3786"
             ],
             [
              0.5555555555555556,
              "#d8576b"
             ],
             [
              0.6666666666666666,
              "#ed7953"
             ],
             [
              0.7777777777777778,
              "#fb9f3a"
             ],
             [
              0.8888888888888888,
              "#fdca26"
             ],
             [
              1,
              "#f0f921"
             ]
            ],
            "type": "histogram2dcontour"
           }
          ],
          "mesh3d": [
           {
            "colorbar": {
             "outlinewidth": 0,
             "ticks": ""
            },
            "type": "mesh3d"
           }
          ],
          "parcoords": [
           {
            "line": {
             "colorbar": {
              "outlinewidth": 0,
              "ticks": ""
             }
            },
            "type": "parcoords"
           }
          ],
          "pie": [
           {
            "automargin": true,
            "type": "pie"
           }
          ],
          "scatter": [
           {
            "marker": {
             "colorbar": {
              "outlinewidth": 0,
              "ticks": ""
             }
            },
            "type": "scatter"
           }
          ],
          "scatter3d": [
           {
            "line": {
             "colorbar": {
              "outlinewidth": 0,
              "ticks": ""
             }
            },
            "marker": {
             "colorbar": {
              "outlinewidth": 0,
              "ticks": ""
             }
            },
            "type": "scatter3d"
           }
          ],
          "scattercarpet": [
           {
            "marker": {
             "colorbar": {
              "outlinewidth": 0,
              "ticks": ""
             }
            },
            "type": "scattercarpet"
           }
          ],
          "scattergeo": [
           {
            "marker": {
             "colorbar": {
              "outlinewidth": 0,
              "ticks": ""
             }
            },
            "type": "scattergeo"
           }
          ],
          "scattergl": [
           {
            "marker": {
             "colorbar": {
              "outlinewidth": 0,
              "ticks": ""
             }
            },
            "type": "scattergl"
           }
          ],
          "scattermapbox": [
           {
            "marker": {
             "colorbar": {
              "outlinewidth": 0,
              "ticks": ""
             }
            },
            "type": "scattermapbox"
           }
          ],
          "scatterpolar": [
           {
            "marker": {
             "colorbar": {
              "outlinewidth": 0,
              "ticks": ""
             }
            },
            "type": "scatterpolar"
           }
          ],
          "scatterpolargl": [
           {
            "marker": {
             "colorbar": {
              "outlinewidth": 0,
              "ticks": ""
             }
            },
            "type": "scatterpolargl"
           }
          ],
          "scatterternary": [
           {
            "marker": {
             "colorbar": {
              "outlinewidth": 0,
              "ticks": ""
             }
            },
            "type": "scatterternary"
           }
          ],
          "surface": [
           {
            "colorbar": {
             "outlinewidth": 0,
             "ticks": ""
            },
            "colorscale": [
             [
              0,
              "#0d0887"
             ],
             [
              0.1111111111111111,
              "#46039f"
             ],
             [
              0.2222222222222222,
              "#7201a8"
             ],
             [
              0.3333333333333333,
              "#9c179e"
             ],
             [
              0.4444444444444444,
              "#bd3786"
             ],
             [
              0.5555555555555556,
              "#d8576b"
             ],
             [
              0.6666666666666666,
              "#ed7953"
             ],
             [
              0.7777777777777778,
              "#fb9f3a"
             ],
             [
              0.8888888888888888,
              "#fdca26"
             ],
             [
              1,
              "#f0f921"
             ]
            ],
            "type": "surface"
           }
          ],
          "table": [
           {
            "cells": {
             "fill": {
              "color": "#EBF0F8"
             },
             "line": {
              "color": "white"
             }
            },
            "header": {
             "fill": {
              "color": "#C8D4E3"
             },
             "line": {
              "color": "white"
             }
            },
            "type": "table"
           }
          ]
         },
         "layout": {
          "annotationdefaults": {
           "arrowcolor": "#2a3f5f",
           "arrowhead": 0,
           "arrowwidth": 1
          },
          "autotypenumbers": "strict",
          "coloraxis": {
           "colorbar": {
            "outlinewidth": 0,
            "ticks": ""
           }
          },
          "colorscale": {
           "diverging": [
            [
             0,
             "#8e0152"
            ],
            [
             0.1,
             "#c51b7d"
            ],
            [
             0.2,
             "#de77ae"
            ],
            [
             0.3,
             "#f1b6da"
            ],
            [
             0.4,
             "#fde0ef"
            ],
            [
             0.5,
             "#f7f7f7"
            ],
            [
             0.6,
             "#e6f5d0"
            ],
            [
             0.7,
             "#b8e186"
            ],
            [
             0.8,
             "#7fbc41"
            ],
            [
             0.9,
             "#4d9221"
            ],
            [
             1,
             "#276419"
            ]
           ],
           "sequential": [
            [
             0,
             "#0d0887"
            ],
            [
             0.1111111111111111,
             "#46039f"
            ],
            [
             0.2222222222222222,
             "#7201a8"
            ],
            [
             0.3333333333333333,
             "#9c179e"
            ],
            [
             0.4444444444444444,
             "#bd3786"
            ],
            [
             0.5555555555555556,
             "#d8576b"
            ],
            [
             0.6666666666666666,
             "#ed7953"
            ],
            [
             0.7777777777777778,
             "#fb9f3a"
            ],
            [
             0.8888888888888888,
             "#fdca26"
            ],
            [
             1,
             "#f0f921"
            ]
           ],
           "sequentialminus": [
            [
             0,
             "#0d0887"
            ],
            [
             0.1111111111111111,
             "#46039f"
            ],
            [
             0.2222222222222222,
             "#7201a8"
            ],
            [
             0.3333333333333333,
             "#9c179e"
            ],
            [
             0.4444444444444444,
             "#bd3786"
            ],
            [
             0.5555555555555556,
             "#d8576b"
            ],
            [
             0.6666666666666666,
             "#ed7953"
            ],
            [
             0.7777777777777778,
             "#fb9f3a"
            ],
            [
             0.8888888888888888,
             "#fdca26"
            ],
            [
             1,
             "#f0f921"
            ]
           ]
          },
          "colorway": [
           "#636efa",
           "#EF553B",
           "#00cc96",
           "#ab63fa",
           "#FFA15A",
           "#19d3f3",
           "#FF6692",
           "#B6E880",
           "#FF97FF",
           "#FECB52"
          ],
          "font": {
           "color": "#2a3f5f"
          },
          "geo": {
           "bgcolor": "white",
           "lakecolor": "white",
           "landcolor": "#E5ECF6",
           "showlakes": true,
           "showland": true,
           "subunitcolor": "white"
          },
          "hoverlabel": {
           "align": "left"
          },
          "hovermode": "closest",
          "mapbox": {
           "style": "light"
          },
          "paper_bgcolor": "white",
          "plot_bgcolor": "#E5ECF6",
          "polar": {
           "angularaxis": {
            "gridcolor": "white",
            "linecolor": "white",
            "ticks": ""
           },
           "bgcolor": "#E5ECF6",
           "radialaxis": {
            "gridcolor": "white",
            "linecolor": "white",
            "ticks": ""
           }
          },
          "scene": {
           "xaxis": {
            "backgroundcolor": "#E5ECF6",
            "gridcolor": "white",
            "gridwidth": 2,
            "linecolor": "white",
            "showbackground": true,
            "ticks": "",
            "zerolinecolor": "white"
           },
           "yaxis": {
            "backgroundcolor": "#E5ECF6",
            "gridcolor": "white",
            "gridwidth": 2,
            "linecolor": "white",
            "showbackground": true,
            "ticks": "",
            "zerolinecolor": "white"
           },
           "zaxis": {
            "backgroundcolor": "#E5ECF6",
            "gridcolor": "white",
            "gridwidth": 2,
            "linecolor": "white",
            "showbackground": true,
            "ticks": "",
            "zerolinecolor": "white"
           }
          },
          "shapedefaults": {
           "line": {
            "color": "#2a3f5f"
           }
          },
          "ternary": {
           "aaxis": {
            "gridcolor": "white",
            "linecolor": "white",
            "ticks": ""
           },
           "baxis": {
            "gridcolor": "white",
            "linecolor": "white",
            "ticks": ""
           },
           "bgcolor": "#E5ECF6",
           "caxis": {
            "gridcolor": "white",
            "linecolor": "white",
            "ticks": ""
           }
          },
          "title": {
           "x": 0.05
          },
          "xaxis": {
           "automargin": true,
           "gridcolor": "white",
           "linecolor": "white",
           "ticks": "",
           "title": {
            "standoff": 15
           },
           "zerolinecolor": "white",
           "zerolinewidth": 2
          },
          "yaxis": {
           "automargin": true,
           "gridcolor": "white",
           "linecolor": "white",
           "ticks": "",
           "title": {
            "standoff": 15
           },
           "zerolinecolor": "white",
           "zerolinewidth": 2
          }
         }
        },
        "title": {
         "text": "KMEANS- TWEETS"
        }
       }
      },
      "text/html": [
       "<div>                            <div id=\"445dbb32-6f7b-4e8c-8ccf-723bb7226697\" class=\"plotly-graph-div\" style=\"height:525px; width:100%;\"></div>            <script type=\"text/javascript\">                require([\"plotly\"], function(Plotly) {                    window.PLOTLYENV=window.PLOTLYENV || {};                                    if (document.getElementById(\"445dbb32-6f7b-4e8c-8ccf-723bb7226697\")) {                    Plotly.newPlot(                        \"445dbb32-6f7b-4e8c-8ccf-723bb7226697\",                        [{\"marker\": {\"color\": [\"blue\", \"yellow\", \"red\", \"blue\", \"blue\", \"yellow\", \"blue\", \"blue\", \"blue\", \"yellow\", \"blue\", \"red\", \"blue\", \"red\", \"red\", \"blue\", \"red\", \"yellow\", \"red\", \"blue\", \"blue\", \"blue\", \"blue\", \"blue\", \"red\", \"red\", \"blue\", \"red\", \"yellow\", \"yellow\", \"blue\", \"blue\", \"blue\", \"red\", \"yellow\", \"yellow\", \"red\", \"yellow\", \"blue\", \"blue\", \"blue\", \"yellow\", \"yellow\", \"blue\", \"blue\", \"blue\", \"blue\", \"yellow\", \"red\", \"blue\", \"blue\", \"blue\", \"yellow\", \"blue\", \"blue\", \"red\", \"blue\", \"yellow\", \"blue\", \"yellow\", \"red\", \"blue\", \"blue\", \"blue\", \"red\", \"blue\", \"yellow\", \"yellow\", \"yellow\", \"red\", \"yellow\", \"yellow\", \"yellow\", \"blue\", \"blue\", \"yellow\", \"blue\", \"yellow\", \"blue\", \"red\", \"blue\", \"red\", \"red\", \"yellow\", \"red\", \"red\", \"yellow\", \"yellow\", \"yellow\", \"blue\", \"yellow\", \"blue\", \"blue\", \"yellow\", \"yellow\", \"blue\", \"blue\", \"blue\", \"blue\", \"yellow\", \"blue\", \"yellow\", \"yellow\", \"red\", \"yellow\", \"blue\", \"yellow\", \"yellow\", \"red\", \"blue\"]}, \"mode\": \"markers\", \"text\": [\"   Ni hablar del matarife\", \"Estos chimbos  pobres engendros del  est\\u00e1n tan cansados que la cabeza s\\u00f3lo tienes es   \", \"  en Colombia no se atreven divulgar por miedo a  y a quedar sin pauta publicitaria. \\n\\n \", \" ojo con el matarife\", \"Gracias  por erradicar la propaganda fascista que ten\\u00eda montada la recua uribista en Twitter. Se siente una tranquilidad no encontrarse con los tales Arizabaleta, Ghitis, Yamhure y dem\\u00e1s lavaperros del Matarife con sus ht de \\ud83d\\udca9. \\u00a1Gracias mil!\", \"  ha sacrificado la via de miles de Jovenes Colombianos pero a lass Divas twitteras les importan m\\u00e1s la vida de las gallinas, q igual no iban a morir de viejas.\", \" Puras noticias basura al mando de los grandes poderes como el Matarife\", \" Dios (Matarife)\\nPatria (El Uberrimo)\", \"Senador  devu\\u00e8lvale el celular al matarife JJAJAJAJAJJAAJ \", \"   Ya sabemos para que son buenos el  y su centro demoniaco!!\", \"\\u201cSi a usted le dicen \\u2018matarife\\u2019 debe ser de cari\\u00f1o\\u201d: El trino que 'Matador' le dedic\\u00f3 a Uribe \", \"Gracias al petardo Duque y su Jefe.... \\\"Matarife\\\" \", \"Te hablan matarife.  \", \"Cu\\u00e1l es el peor presidente de la historia de Colombia, Andr\\u00e9s Pastrana, El Matarife o Ivan Duque?\\nAyuda! Es para llenar un crucigrama! \\ud83e\\udd14\\ud83e\\udd14\\ud83e\\udd14\\ud83e\\udd14\", \" Ya todo el mundo sabe que usted es un uribestia  una mala persona que le vale mierda el pa\\u00eds  es que lo salv\\u00f3 el f\\u00fatbol porque si no fuera por el f\\u00fatbol estar\\u00eda comiendo de la basura  o depronto hasta traketin  un grupo paramilitar  obedeciendo \\u00f3rdenes del matarife\", \" Pinocho  matarife\", \" El par\\u00f3 no lo para nadie hasta lograr libertar Colombia de este narcogobierno asesino terrorista del titere , narcotraficante de Iv\\u00e1n duque y el matarife \\u00c1lvaro Uribe V\\u00e9lez\", \" No. De todas formas no habr\\u00e1 elecciones de acuerdo a los planes del  entonces m\\u00e1s vale pajaro en mano que...\", \"El pr\\u00f3ximo a\\u00f1o NO nos dejaremos robar las elecciones por el uribismo. El matarife podr\\u00e1 tener paramilitares y narcotraficantes a su favor pero Colombia en su mayor\\u00eda es antiuribista.\", \"Los que quieren perpetuar el conflicto son el Matarife, sus socios mafiosos y toda ese sector rancio de la sociedad que cree que el fin justifica los medios! Necesitamos una polic\\u00eda postconflicto que sea referente de autoridad, cumpla la ley y proteja la vida! \", \" Nos quieren mantener en guerra, de acuerdo con la doctrina del matarife.\", \"Vamos por el mill\\u00f3n de uribestias marchando a favor del matarife  \", \"  Ninguna cantidad de evidencias, pruebas, explicaciones, argumentos, verdades, testimonios, lograr\\u00e1 convencer a un idiota adoctrinado, fan\\u00e1tico, Matarife uribestia\\n\\n\", \" JAJAJAJAJA. Me encanta ver como MATARIFE esta de asustado. Nos vemos en el 22 paraco hijueputa\", \"  \\u00c9l par\\u00f3 no lo para nadie hasta lograr libertar Colombia de este narcogobierno asesino terrorista de \\u00e9l t\\u00edtere de Iv\\u00e1n duque y el matarife \\u00c1lvaro Uribe V\\u00e9lez. \\u00c9l par\\u00f3 no lo para nadie hasta lograr libertar Colombia de este narcogobierno t\\u00edtere de Iv\\u00e1n duque y el matarife Uribe\", \"  Desde Colombia denunci\\u00f3 p\\u00fablicamente a la Sra Maria Corina Machado que recibe dinero del Narcotr\\u00e1fico de mi pa\\u00eds. Maria Corina Machado es financiada por el narcogobierno asesino terrorista de Iv\\u00e1n duque y el matarife \\u00c1lvaro Uribe V\\u00e9lez. Maria Corina Machado es Narcotraficante\", \" No hables basura que la banda criminal llamada polic\\u00eda est\\u00e1 masacrando a diestra y siniestra por favor sea m\\u00e1s coherente ya le falta poco para convertirse en la MATARIFE! version mujer!!!! No se iguale a Alvarito el paraquito!!! \\ud83e\\udd2c\\ud83e\\udd2c\\ud83e\\udd2c\\ud83e\\udd2c\\ud83e\\udd2c\\ud83e\\udd2c\", \" Casteochavista quiere todo regalado, el estado no est\\u00e1 para mantener vagos ... etc etc etc \\nPopulismo en su m\\u00e1xima expresi\\u00f3n ahora que ve ca\\u00eddo su partido pol\\u00edtico y su imagen ante el mundo se est\\u00e1 desenmascarando\\nVas a pagar matarife y nada puede detener el peso de lo que viene\", \"  Obvio no, no somos ilusos, sabemos que a los Uribistas no les interesa nada, solo estar bien ellos y aceptar todo lo que diga el Matarife. No se preocupe que a nosotros la suya nos importa menos y m\\u00e1s ahora que est\\u00e1n al borde de la extinci\\u00f3n \\ud83d\\ude2c\", \" El chiste se cuenta por si solo no se supone que este gobierno seria el mas austero.\\nJajaja hay s\\u00f1r Matarife ya usted no sabe con que salir.\", \"  Es orden de MATARIFE.\", \"Esta seguro matarife???, por que si fue multitudinaria apote\\u00f3sica y duradera, en paz , hasta cuando llegaron los polic\\u00edas disfrazados de v\\u00e1ndalos. \", \"Ya se han tumbado dos reformas,\\nYa quiero ver la ca\\u00edda del Matarife y de su T\\u00edtere\\n \\n \\n\", \"  La nueva canciller de Colombia ostenta varios t\\u00edtulos: es la hermana de un traficante de hero\\u00edna, es la socia del narco traqueto y paraco Memo Fantasma y es el enlace del  con los paramilitares. Qu\\u00e9 mejores credenciales para ocupar el cargo no? .@JoeBiden .@KamalaHarris\", \" El expresidente Pepe Mujica pasar\\u00e1 a la historia como un humanistas y uno de los m\\u00e1s notables del mundo. \\nNuestros ex presidentes pasar\\u00e1n a la historia por ser CORRUPTOS MAFIOSOS Y ASESINOS \\nSobre todo el  \\n \", \" Yo no vot\\u00e9 por  nunca me convenci\\u00f3, lo grave es que ahora tenemos la versi\\u00f3n 2 de  en Bogot\\u00e1\", \"  Lamentablemente las consecuencias de las decisiones de Duque y MATARIFE\", \"Paracol radio y RCN miente nunca mostrar\\u00e1n esto. Por m\\u00e1s que los mencion\\u00e9. Solo ponen lo que el matarife les ordene \\ud83d\\ude44 \", \"Como dec\\u00eda el matarife cuando quit\\u00f3 las horas extras dominicales y dem\\u00e1s, trabajar, trabajar y trabajar y por debajo era robar, masacrar y despojar.\\n\\n\\n \\n \\n \\n \", \"  Piense viejo a vos el matarife tampoco te conoce jajajaja\", \"  La se\\u00f1ora seguramente est\\u00e1 inconforme con el criminal gobierno del matarife , pero por qu\\u00e9 tiene que seguir o creer en el mediocre mal perdedor procomunista de su mes\\u00edas??   \", \"\\u00bfSe hab\\u00edan ha preparado el Uribato y  para este momento o les cogio por sorpresa? Todo indica que ni se lo imaginaron e improvisan a medida que se presentan lo hechos, lo \\u00fanico que tienen decidido es no negociar y hacer el caos al estilo de Pablo.\", \"  La manera tan ruin como el  atento contra la salud de todos los colombianos. Ese tipo es un criminal con corbata. \", \"           D\\u00edgales que Plomo es lo que hay y que plomo est\\u00e1n dando. Siga el ejemplo de MATARIFE\", \"   Eso nos resbala, Matarife es lo mas horrendo\", \" Sigue adelante, ellos caer\\u00e1n en depresi\\u00f3n cuando el matarife no tenga m\\u00e1s argumentos y sea procesado por sus m\\u00faltiples asesinatos.\", \"     Gracias a Ratasquilla, MATARIFE y el Cerdito\", \" Usted lleva 20 a\\u00f1os enga\\u00f1ando al pueblo \", \" Partiendo porque el pais lo maneja Uribe y no Duque, tiene razon, de una u otra manera deben estar organizando las fichas pa la ultima jugada de este gobierno, saben que este partido pol\\u00edtico se les cay\\u00f3, pero no seria el 1er que se le cae al matarife toca tener bn los \\ud83d\\udc40 encima.\", \" La orden del matarife es que cuesten 2.000, ya se van acercando.\", \" Toca es quitarle los escoltas al matarife, si ese genocida ya no hace parte del gobierno porque nos toca pagarle escoltas\", \"Qu\\u00e9 tal la Canciller colombiana. De verdad que hasta verg\\u00fcenza da. El T\\u00edtere y Matarife siguen metiendo la pata en todo. \", \"    Pero si seguimos en el mismo gobierno del t\\u00edtere y el Matarife... \\ud83e\\udd71 Estos Uribistas y sus pensamientos jajajaja.\", \"     Ojal\\u00e1 que la CIDH, condene r\\u00e1pido al TITERE por los muertos de los paros del 19, 20, 21 y al MATARIFE por los 6.402 falsos positivos y Usted Sra Atenida y su Flia preparense a devolver todo lo que le han robado al estado. Corruptos.\", \" MATARIFE EL INNOMBRABLE HIJUEPUTA\", \" Jajajaja el  y su plaga por m\\u00e1s de 20 a\\u00f1os en el poder y usted viene a decir que la culpa que el pa\\u00eds est\\u00e9 vuelto mierda es Petro? Definitivamente estos hijueputas Uribestias no les corre sangre por esa jeta. Lo \\u00fanico que tienen en esa cabeza es materia, pero fecal!\", \" C\\u00ednismo, hipocres\\u00eda y mitoman\\u00eda de ese genocida despreciable que se ha lucrado con la sangre de inocentes Colombianos.\\nNunca olvidar esta cifra: 6.402 j\\u00f3venes asesinados por este matarife bajo sus mandatos!!!\\ud83d\\ude21\\ud83d\\udc4e\\ud83c\\udffd\", \" Ay mi Matarife gonorreita, estas atemorizado no? Intentando atraer incautos con el mismo cuento de siempre pero ahora a otro nivel: \\\"Que paguen los mas pudientes\\\". TE VAMOS A SACAR EL 22 PERRO GENOCIDA\", \"  Payaso para que se extiende? Todos entendemos que hay que pagarle algo al abogado del Matarife\", \" Lo que dec\\u00eda Matarife en su \\u00e9poca de presidente cuando m\\u00e1s de la mitad era un borrego suyo a ojo cerrado: \\\" A Colombia lo que la est\\u00e1 matando es la pereza lo que la tenemos que recortar son las horas de sue\\u00f1o\\\"\\nLo que dice ahora que sabe que va caer: Que paguen los mas pudientes\\ud83d\\ude02\", \" MATARIFE lleva como 1 semana insistiendo que\\\" paguen los m\\u00e1s pudientes\\\" eso es lo que vamos a hacer matarife (por que nosotros somos lo que aprobamos la reforma) deje de decirlo que igual lo vamos a sacar el 22. Lo bueno es que nos damos cuenta de lo atemorizado que est\\u00e1\", \" para el presidiario y matarife de Polombia y sus secuaces, porque saben que hasta ah\\u00ed les llega la Feria de lo P\\u00fablico, el despojo de tierras y la tanatopol\\u00edtica (muerte como prioridad)\", \"El titular debe ser \\\"hermana de Jaime Lombana es nueva Ministra\\\".Eso de ser servil y mandadero del matarife produce resultados    \", \"  Hombre, public\\u00f3 viendo en su propio espejo el p\\u00f3ster del matarife: los adjetivos, ep\\u00edtetos, diatribas y lamentos componen la letan\\u00eda que en adelante van a seguir entonando en los corrales del uribismo. Lloren, renieguen, insulten... ya se les pasar\\u00e1 la tusa !!\", \" jajajja. as\\u00ed lo hizo ud  le vendi\\u00f3 en campa\\u00f1a para elegir un inepto como presidente. con su frase \\n\\\"Nos vamos a volver como Venezuela\\\"\\nEl peor c\\u00e1ncer de Colombia es ud y su partido de hampones.\", \" trash una larga noche de violaciones y maltratos del  logr\\u00f3 abrir la la romelia Dosquebradas. Muy valiente el pupilo del matarife mandando en la noche a sus matones cuando no hab\\u00eda defensor\\u00eda del pueblo ni verificaci\\u00f3n  \", \"  Me imagino que se refiere al  no sea mezquino y huevoncito!\", \"   Uribe, matarife renunci\\u00f3 al senado, para no ser juzgado por la corte penal, ahora es simplemente un ex presidiario que pronto volver\\u00e1 a ser juzgado por todos sus cr\\u00edmenes y v\\u00ednculos con el narco tr\\u00e1fico y a la c\\u00e1rcel derechito\", \"  La cabal, la loca Paloma, el perro rabioso de Mej\\u00eda y al lambon  de Nieto Loaiza...son de la misma lista q hay q acabar...no m\\u00e1s de esos nefastos seguidores del Matar\\u00edfe, si..El enano paraco.\", \" Plural, lo que le han hecho al pa\\u00eds, acuerdese que uds votaron por Santos por consejo del Carnicero de los Andes o \", \"En este pa\\u00eds todo es presunto... \\nComo la humanidad e inteligencia del sub.\\nComo la honorabilidad e inocencia del matarife.\\nComo la \\u00e9tica y valores de la gente de bien.\", \"   Recuerda que ellos solo repiten lo que dice el Matarife, traidor porque no quiso ser m\\u00e1s el t\\u00edtere de ese genocida, no te desgastes, ellos no piensan por si solos, solo repite\", \" Vea viejo marica o quienes le manejan esta red al matarife... Dejen de meterle ideas a la gente sus cuentos chimbos ya nadie se los creen... Solo sus Lame suelas y ladrones como usted creen a\\u00fan\", \"  yo s\\u00e9 que con una mente y un alma tan  asquerosas como la suya  olvida cosas para logras seguir existiendo pero le recuerdo que en el poder siguen los mismos paracos desplazadores  genocidas corruptos narcotraficantes de hace 20 a\\u00f1os osea matarife y sus bandidos.\", \" La hermana menor de Jaime Lombana, el abogado del matarife, as\\u00ed functionality este platanal.\", \"   Para los que culpan a la pandemia es un fen\\u00f3meno mundial no local entonces no es excusa.\\nTanto imb\\u00e9cil defendiendo un gobierno que solo aporta devolviendo favores pol\\u00edticos y en protegerle la espalda al matarife\\nQue malgasta y desaparece los recursos\", \" Muy bonita su estrategia... El matarife debe estar muy orgulloso de usted.\", \"   Est\\u00e1n cubriendo la espalda al  y sus esbirros!\", \"A Uribe alias el matarife s\\u00f3lo le queda amarrarse la piedra al pescuezo q dijo el mismo y tirarse al r\\u00edo Magdalena o q salga alas calles A ver q le dice el pueblo colombiano.\", \"  Andres Gonorrea patra\\u00f1a cuanta Cocaina le dan a ud el Narcotraficante Iv\\u00e1n duque y el matarife \\u00c1lvaro Uribe V\\u00e9lez para estar criticando los problemas de otro pa\\u00eds. Deje lo Gonorrea ud no ve la Masacre que hay en Colombia deje lo Gonorrea\", \" que tal este Matarife ser\\u00e1 que no ha escuchado las arengas en el paro? No se ha enterado que el pueblo est\\u00e1 hastiado de uribismo. Respaldo total a Daniel Quintero alcalde elegido por el pueblo.\", \"  Andr\\u00e9s Pastrana que inmoral es ud cuanto le paga el Narcotraficante Iv\\u00e1n duque y el matarife \\u00c1lvaro Uribe V\\u00e9lez cu\\u00e1nta coca\\u00edna le dan para estar criticando a otro pa\\u00eds. Deje lo gonorrea ud . No se da cuenta la Masacre que hay en Colombia y ud pendiente de Venezuela . Gonorrea\", \"  Gracias a el Narcotraficante y T\\u00edtere de Iv\\u00e1n duque y el matarife \\u00c1lvaro Uribe V\\u00e9lez Colombia es el primer productor de coca\\u00edna en el mundo. Gracias a el Narcotraficante y T\\u00edtere de Iv\\u00e1n duque y el matarife \\u00c1lvaro Uribe V\\u00e9lez Colombia es el primer productor de coca\\u00edna en el mundo\", \" Aprendi\\u00f3 r\\u00e1pido de su mentor  sacando el cuerpo para luego lavarse las manos  \", \" Gracias a el Narcotraficante y T\\u00edtere de Iv\\u00e1n duque y el matarife \\u00c1lvaro Uribe V\\u00e9lez Colombia es el primer productor de coca\\u00edna en el mundo\", \"  Gracias a el Narcotraficante y T\\u00edtere  de Iv\\u00e1n duque y el Matarife \\u00c1lvaro Uribe V\\u00e9lez Colombia es el primer productor de Coca\\u00edna en el Mundo. Gracias a el Narcotraficante y T\\u00edtere de Iv\\u00e1n duque y el matarife \\u00c1lvaro Uribe V\\u00e9lez Colombia es el primer productor de coca\\u00edna en elmundo\", \" Hasta me da verg\\u00fcenza decirlo \\ud83e\\udd14\\ud83d\\ude14\\ud83e\\udd14\\ud83d\\ude14para el inicio del \", \" Pague usted la deuda externa y los mas de 50 billones de pesos que se ha robado a lo largo de su presidencia corrupta y sus cargos con beneficios (coca\\u00edna) como el del director de la aerocivil     el  DIO LA ORDEN.\", \" pelo el cobre, se convirti\\u00f3 en La versi\\u00f3n 2 de  \", \"A la sra   se le sali\\u00f3 su estrato cuando hablaron mal del gran amigo q para su marido es carrasquilla q lo vinculo con el gob del matarife.\", \"Cual EMPATIA? Mandar que ataquen a las mam\\u00e1s de la Primera L\\u00ednea es un ASESINATO. qu\\u00e9 tristeza que se est\\u00e9 convirtienfo en  2 \", \" chao, matarife, chao.\", \"Su mayor m\\u00e9rito es ser la hermana de cadena, el que salvo al matarife de la c\\u00e1rcel... T\\u00edtere? Dondeeeee!!! \", \"Ahora quien es la violenta? Jam\\u00e1s Matarife podr\\u00e1 salir a una marcha como lo hizo el senador Petro. \", \" Es que se est\\u00e1n acabando las reservas de malandros secuases del gobierno, a quienes se les pueda confiar los secretos que no pueden revelarse a la comunidad internacional.\\n\\n y el  creen que el mundo todav\\u00eda los acepta como iguales.\", \" Estos soquetes del uribestialismo... creen q sus pensamientos estupidos son la raz\\u00f3n de la realidad... cuando el pais esta en esta tragedia gracias al patr\\u00f3n de ellos....\\\"El matarife\\\"\", \"  Y coincidentemente, la hermana del abogado del diablo, al que le deben mil favores por perpetuar la impunidad del matarife.\", \" la pagar\\u00e1s matarife\", \"Hermana de  \\n\\nQue no se note que el MATARIFE paga favores y tiene sus fichas en todo lado.\\n\\nJaime es abogado de uribe en varios de sus procesos criminales. \\n\\n  \", \" Eso se llama indolencia y demuestra q Matarife y su corte est\\u00e1n x encima del dolor de madre, quien de verdad siente y sufre, madre solo una y padre cualquiera. Eso es un masoquismo Rancio.\", \"As\\u00ed es todos los d\\u00edas.\\nCon voz y mano levantada da instrucciones a su marioneta.\\n no le da pena con sus hijos? Esos peque\\u00f1os sabr\\u00e1n que su pap\\u00e1 es el monigote del matarife? \", \" qui\\u00e9n lo creyera, dizque Bogot\\u00e1 cuidadora, se est\\u00e1 convirti\\u00e9ndo en  2, siempre pens\\u00e9 que era uribista camuflada, por eso no vote por usted, pero asesina de su pueblo?,ni en la peor de mis pesadilla. \", \" Ah, no,  eso no es ofensa.  Ofensa es un apodo como  \\u00f3  \\u00f3  \\u00f3   \\u00f3  \\u00f3  \\u00f3   Me parece loable y muy inteligente que no prestes atenci\\u00f3n a los resentidos del uribismo.\", \" Maravillosa forma de negociar del t\\u00edtere  digno pupilo del   en el d\\u00eda se ve haciendo show en mesas de di\\u00e1logo ficticias pero cae el sol y manda sus matones a atacar\", \" \\u00bfCu\\u00e1ntos acueductos y alcantarillados se construyeron en el gobierno de \\nEs para una tarea...\", \" Pues as\\u00ed Santos tenga toda la raz\\u00f3n, el cerdo jam\\u00e1s aceptar\\u00e1 algo de \\u00e9l. Mejor dicho, el cerdo no, sino su jefe el matarife, no le dar\\u00e1 permiso de dialogar jam\\u00e1s con Santos\", \"    Jajaja hpta bodega de mierda, hampon a esos que se llaman uribistas, Ese tal matarife que autorizo licencias a los narcos, donde sus familiares y personas cercanas est\\u00e1n en la c\\u00e1rcel por delitos como robo al estado, narcotrafico, \\u00e9l que cre\\u00f3 las convivir, m\\u00e1s de 6402 FP.\", \"  El casett les qued\\u00f3 mal grabado, ahora investigue yno le haga caso a su jefe alias MATARIFE o el se\\u00f1or de las masacres.\", \" Que dolor Colombia inundado en sangre por culpa de una persona como usted, sedienta de venganza y rencor,  \", \" Y tu jefe el matarife, cuando va a pagar por todos los cr\\u00edmenes??\"], \"type\": \"scatter\", \"x\": [-0.04335611654986134, -0.07276377682833714, 0.03505039098777032, -0.04375179330432152, 0.08062481032248038, -0.0669927133228456, -0.056416195969337335, -0.05058934993526442, -0.05671704038849839, -0.06437542934269096, -0.0888988685800061, 0.2849102150006832, -0.04323362747681119, 0.12999390264136546, -0.03148670024329822, -0.04324169510034691, 0.47097329277747496, -0.06894855311659408, -0.0025209647243800578, -0.06629796081122918, -0.059585732897656854, -0.06398348884108616, -0.05873681992377118, -0.0620753275390345, 0.48998862893156697, 0.17947474017536802, -0.06604874566859997, -0.026404996285278124, -0.07519138925756738, -0.09144361634966107, -0.05256388109703718, -0.062195897963077104, 0.03874754984063115, -0.020239439914858597, -0.015536420027160856, -0.0837141032495365, 0.11178387996994858, -0.06815284297145319, -0.05606787831177743, -0.056820852546433154, -0.07145837714117706, -0.06363388364742142, -0.07385372804247277, -0.05459406278918822, -0.05887272044483091, -0.058259208919229095, 0.13357442847502374, -0.09722450784882712, -0.006612983040803159, -0.06397929830500544, -0.0760154072856795, 0.018810956069867775, 0.014903804817903646, -0.053452924673105875, -0.05397681874468844, -0.08293918454878448, -0.06947155602910664, -0.08534711360300327, -0.06690039575219796, -0.02470715612738004, -0.06166978046331405, -0.05776640027825971, -0.0866091112001157, -0.06625040399271719, 0.03545152976021818, -0.06432061232256933, -0.06084761530795492, -0.0776017157289116, -0.0702678436156822, -0.05663039967523094, -0.05236973964808859, -0.022699422357245685, -0.04971669576021913, -0.07159223290409242, -0.0815208371975125, -0.07601861483402864, -0.0767230329574507, -0.06443828577879289, -0.07110133566838425, 0.2504668303979361, -0.07303306643449119, 0.2935241791349733, 0.8659003891030619, -0.062442477543166564, 0.8659003891030619, 0.8593051666360512, -0.056701415704521495, -0.008875173322320379, -0.06700886527881554, -0.057608268918675556, -0.06073739652748385, -0.05203070892803212, 0.011861802490547923, -0.07547042764134378, -0.016246015345312857, 0.04072324606972268, -0.07464362364161979, -0.04327819794658047, -0.07404768281158937, -0.06505198161246648, -0.05607707624471444, -0.07771816657742026, -0.06344882327503781, -0.00042753653007949636, -0.06839643998042023, -0.05801557752347848, -0.06366042184328713, -0.05719522592123011, 0.0017059806753902845, -0.033765918657674754], \"y\": [-0.06640526365807191, 0.04233705152958527, 0.089876415730906, -0.046909765444609446, -0.18523769877480112, 0.052203038673797074, -0.010570889912786232, -0.03187944709531424, -0.01995066823437901, 0.031025505441758847, -0.11192651379710558, -0.22671218727103154, -0.06834070587321142, 0.18993022957709194, 0.02023276885085445, -0.0667407896579343, 0.25040096708757237, 0.028860978047357266, 0.05585172092942151, -0.004287472761768159, -0.017218914581492425, 0.08764722902204636, -0.0063236118096907795, -0.051078660775790014, 0.19334318692469865, 0.16378808480479906, 0.011386683901868075, 0.00508011982028924, -0.012430549954311294, -0.004622100212738276, -0.14437885463029554, -0.032512541220102095, -0.10612634832867004, -0.0009294541753184378, -0.030543393455605427, 0.034006046957855224, -0.007168410560622065, -0.02383527802471599, 0.00825084533025035, -0.03453797039881728, -0.029513817448538884, 0.044730647443580206, 0.038104507594661774, -0.005099125559672102, -0.018241070365112383, -0.013299460341172973, -0.24619991953149134, 0.07916034884817179, -0.026403827424247114, -0.11195609219114169, -0.06583848259567042, 0.00018285028187868502, -0.15222053866790292, 0.03402005977854672, -0.06094784055812172, 0.10838120794379463, 0.01311798989855973, 0.10304241681421059, -0.07978810907837254, 0.09087686535044211, 0.2235945993063214, -0.012004450565693726, -0.17518625989666775, -0.0112706114058657, 0.4200851029718438, 0.005556567272850511, 0.02445841220832699, -0.09487609041082166, 0.007445938193544161, 0.09073061543024494, 0.061120938206971315, -0.12965049799542286, -0.00013133145296764475, 0.02471131724606601, -0.12082795913382627, -0.04184309194440958, -0.047076358930382575, 0.015948831616008293, -0.01581807617523802, 0.5791521164910712, 0.013920944399050257, 0.6081458138712701, -0.2009986042079964, 0.02539599683389113, -0.2009986042079964, -0.1944474896152107, 0.1260629093103817, -0.03493096377681972, 0.02158847622033182, -0.0033814473122856497, 0.024922176796984583, -0.021840511331733682, -0.19060218522536862, 0.03718643070746117, -0.04727262759433457, -0.17339329357103636, -0.12928715161008156, -0.07398078631398776, -0.1001518451287654, -0.011605813665946525, 0.08633138309307434, 0.07007334116566293, 0.019053979116535183, -0.004625179540990666, -0.009440789217233694, -0.019381688513798265, -0.026042918427699815, -0.050514183344969384, 0.10437710250736779, -0.10394417466107855]}],                        {\"template\": {\"data\": {\"bar\": [{\"error_x\": {\"color\": \"#2a3f5f\"}, \"error_y\": {\"color\": \"#2a3f5f\"}, \"marker\": {\"line\": {\"color\": \"#E5ECF6\", \"width\": 0.5}}, \"type\": \"bar\"}], \"barpolar\": [{\"marker\": {\"line\": {\"color\": \"#E5ECF6\", \"width\": 0.5}}, \"type\": \"barpolar\"}], \"carpet\": [{\"aaxis\": {\"endlinecolor\": \"#2a3f5f\", \"gridcolor\": \"white\", \"linecolor\": \"white\", \"minorgridcolor\": \"white\", \"startlinecolor\": \"#2a3f5f\"}, \"baxis\": {\"endlinecolor\": \"#2a3f5f\", \"gridcolor\": \"white\", \"linecolor\": \"white\", \"minorgridcolor\": \"white\", \"startlinecolor\": \"#2a3f5f\"}, \"type\": \"carpet\"}], \"choropleth\": [{\"colorbar\": {\"outlinewidth\": 0, \"ticks\": \"\"}, \"type\": \"choropleth\"}], \"contour\": [{\"colorbar\": {\"outlinewidth\": 0, \"ticks\": \"\"}, \"colorscale\": [[0.0, \"#0d0887\"], [0.1111111111111111, \"#46039f\"], [0.2222222222222222, \"#7201a8\"], [0.3333333333333333, \"#9c179e\"], [0.4444444444444444, \"#bd3786\"], [0.5555555555555556, \"#d8576b\"], [0.6666666666666666, \"#ed7953\"], [0.7777777777777778, \"#fb9f3a\"], [0.8888888888888888, \"#fdca26\"], [1.0, \"#f0f921\"]], \"type\": \"contour\"}], \"contourcarpet\": [{\"colorbar\": {\"outlinewidth\": 0, \"ticks\": \"\"}, \"type\": \"contourcarpet\"}], \"heatmap\": [{\"colorbar\": {\"outlinewidth\": 0, \"ticks\": \"\"}, \"colorscale\": [[0.0, \"#0d0887\"], [0.1111111111111111, \"#46039f\"], [0.2222222222222222, \"#7201a8\"], [0.3333333333333333, \"#9c179e\"], [0.4444444444444444, \"#bd3786\"], [0.5555555555555556, \"#d8576b\"], [0.6666666666666666, \"#ed7953\"], [0.7777777777777778, \"#fb9f3a\"], [0.8888888888888888, \"#fdca26\"], [1.0, \"#f0f921\"]], \"type\": \"heatmap\"}], \"heatmapgl\": [{\"colorbar\": {\"outlinewidth\": 0, \"ticks\": \"\"}, \"colorscale\": [[0.0, \"#0d0887\"], [0.1111111111111111, \"#46039f\"], [0.2222222222222222, \"#7201a8\"], [0.3333333333333333, \"#9c179e\"], [0.4444444444444444, \"#bd3786\"], [0.5555555555555556, \"#d8576b\"], [0.6666666666666666, \"#ed7953\"], [0.7777777777777778, \"#fb9f3a\"], [0.8888888888888888, \"#fdca26\"], [1.0, \"#f0f921\"]], \"type\": \"heatmapgl\"}], \"histogram\": [{\"marker\": {\"colorbar\": {\"outlinewidth\": 0, \"ticks\": \"\"}}, \"type\": \"histogram\"}], \"histogram2d\": [{\"colorbar\": {\"outlinewidth\": 0, \"ticks\": \"\"}, \"colorscale\": [[0.0, \"#0d0887\"], [0.1111111111111111, \"#46039f\"], [0.2222222222222222, \"#7201a8\"], [0.3333333333333333, \"#9c179e\"], [0.4444444444444444, \"#bd3786\"], [0.5555555555555556, \"#d8576b\"], [0.6666666666666666, \"#ed7953\"], [0.7777777777777778, \"#fb9f3a\"], [0.8888888888888888, \"#fdca26\"], [1.0, \"#f0f921\"]], \"type\": \"histogram2d\"}], \"histogram2dcontour\": [{\"colorbar\": {\"outlinewidth\": 0, \"ticks\": \"\"}, \"colorscale\": [[0.0, \"#0d0887\"], [0.1111111111111111, \"#46039f\"], [0.2222222222222222, \"#7201a8\"], [0.3333333333333333, \"#9c179e\"], [0.4444444444444444, \"#bd3786\"], [0.5555555555555556, \"#d8576b\"], [0.6666666666666666, \"#ed7953\"], [0.7777777777777778, \"#fb9f3a\"], [0.8888888888888888, \"#fdca26\"], [1.0, \"#f0f921\"]], \"type\": \"histogram2dcontour\"}], \"mesh3d\": [{\"colorbar\": {\"outlinewidth\": 0, \"ticks\": \"\"}, \"type\": \"mesh3d\"}], \"parcoords\": [{\"line\": {\"colorbar\": {\"outlinewidth\": 0, \"ticks\": \"\"}}, \"type\": \"parcoords\"}], \"pie\": [{\"automargin\": true, \"type\": \"pie\"}], \"scatter\": [{\"marker\": {\"colorbar\": {\"outlinewidth\": 0, \"ticks\": \"\"}}, \"type\": \"scatter\"}], \"scatter3d\": [{\"line\": {\"colorbar\": {\"outlinewidth\": 0, \"ticks\": \"\"}}, \"marker\": {\"colorbar\": {\"outlinewidth\": 0, \"ticks\": \"\"}}, \"type\": \"scatter3d\"}], \"scattercarpet\": [{\"marker\": {\"colorbar\": {\"outlinewidth\": 0, \"ticks\": \"\"}}, \"type\": \"scattercarpet\"}], \"scattergeo\": [{\"marker\": {\"colorbar\": {\"outlinewidth\": 0, \"ticks\": \"\"}}, \"type\": \"scattergeo\"}], \"scattergl\": [{\"marker\": {\"colorbar\": {\"outlinewidth\": 0, \"ticks\": \"\"}}, \"type\": \"scattergl\"}], \"scattermapbox\": [{\"marker\": {\"colorbar\": {\"outlinewidth\": 0, \"ticks\": \"\"}}, \"type\": \"scattermapbox\"}], \"scatterpolar\": [{\"marker\": {\"colorbar\": {\"outlinewidth\": 0, \"ticks\": \"\"}}, \"type\": \"scatterpolar\"}], \"scatterpolargl\": [{\"marker\": {\"colorbar\": {\"outlinewidth\": 0, \"ticks\": \"\"}}, \"type\": \"scatterpolargl\"}], \"scatterternary\": [{\"marker\": {\"colorbar\": {\"outlinewidth\": 0, \"ticks\": \"\"}}, \"type\": \"scatterternary\"}], \"surface\": [{\"colorbar\": {\"outlinewidth\": 0, \"ticks\": \"\"}, \"colorscale\": [[0.0, \"#0d0887\"], [0.1111111111111111, \"#46039f\"], [0.2222222222222222, \"#7201a8\"], [0.3333333333333333, \"#9c179e\"], [0.4444444444444444, \"#bd3786\"], [0.5555555555555556, \"#d8576b\"], [0.6666666666666666, \"#ed7953\"], [0.7777777777777778, \"#fb9f3a\"], [0.8888888888888888, \"#fdca26\"], [1.0, \"#f0f921\"]], \"type\": \"surface\"}], \"table\": [{\"cells\": {\"fill\": {\"color\": \"#EBF0F8\"}, \"line\": {\"color\": \"white\"}}, \"header\": {\"fill\": {\"color\": \"#C8D4E3\"}, \"line\": {\"color\": \"white\"}}, \"type\": \"table\"}]}, \"layout\": {\"annotationdefaults\": {\"arrowcolor\": \"#2a3f5f\", \"arrowhead\": 0, \"arrowwidth\": 1}, \"autotypenumbers\": \"strict\", \"coloraxis\": {\"colorbar\": {\"outlinewidth\": 0, \"ticks\": \"\"}}, \"colorscale\": {\"diverging\": [[0, \"#8e0152\"], [0.1, \"#c51b7d\"], [0.2, \"#de77ae\"], [0.3, \"#f1b6da\"], [0.4, \"#fde0ef\"], [0.5, \"#f7f7f7\"], [0.6, \"#e6f5d0\"], [0.7, \"#b8e186\"], [0.8, \"#7fbc41\"], [0.9, \"#4d9221\"], [1, \"#276419\"]], \"sequential\": [[0.0, \"#0d0887\"], [0.1111111111111111, \"#46039f\"], [0.2222222222222222, \"#7201a8\"], [0.3333333333333333, \"#9c179e\"], [0.4444444444444444, \"#bd3786\"], [0.5555555555555556, \"#d8576b\"], [0.6666666666666666, \"#ed7953\"], [0.7777777777777778, \"#fb9f3a\"], [0.8888888888888888, \"#fdca26\"], [1.0, \"#f0f921\"]], \"sequentialminus\": [[0.0, \"#0d0887\"], [0.1111111111111111, \"#46039f\"], [0.2222222222222222, \"#7201a8\"], [0.3333333333333333, \"#9c179e\"], [0.4444444444444444, \"#bd3786\"], [0.5555555555555556, \"#d8576b\"], [0.6666666666666666, \"#ed7953\"], [0.7777777777777778, \"#fb9f3a\"], [0.8888888888888888, \"#fdca26\"], [1.0, \"#f0f921\"]]}, \"colorway\": [\"#636efa\", \"#EF553B\", \"#00cc96\", \"#ab63fa\", \"#FFA15A\", \"#19d3f3\", \"#FF6692\", \"#B6E880\", \"#FF97FF\", \"#FECB52\"], \"font\": {\"color\": \"#2a3f5f\"}, \"geo\": {\"bgcolor\": \"white\", \"lakecolor\": \"white\", \"landcolor\": \"#E5ECF6\", \"showlakes\": true, \"showland\": true, \"subunitcolor\": \"white\"}, \"hoverlabel\": {\"align\": \"left\"}, \"hovermode\": \"closest\", \"mapbox\": {\"style\": \"light\"}, \"paper_bgcolor\": \"white\", \"plot_bgcolor\": \"#E5ECF6\", \"polar\": {\"angularaxis\": {\"gridcolor\": \"white\", \"linecolor\": \"white\", \"ticks\": \"\"}, \"bgcolor\": \"#E5ECF6\", \"radialaxis\": {\"gridcolor\": \"white\", \"linecolor\": \"white\", \"ticks\": \"\"}}, \"scene\": {\"xaxis\": {\"backgroundcolor\": \"#E5ECF6\", \"gridcolor\": \"white\", \"gridwidth\": 2, \"linecolor\": \"white\", \"showbackground\": true, \"ticks\": \"\", \"zerolinecolor\": \"white\"}, \"yaxis\": {\"backgroundcolor\": \"#E5ECF6\", \"gridcolor\": \"white\", \"gridwidth\": 2, \"linecolor\": \"white\", \"showbackground\": true, \"ticks\": \"\", \"zerolinecolor\": \"white\"}, \"zaxis\": {\"backgroundcolor\": \"#E5ECF6\", \"gridcolor\": \"white\", \"gridwidth\": 2, \"linecolor\": \"white\", \"showbackground\": true, \"ticks\": \"\", \"zerolinecolor\": \"white\"}}, \"shapedefaults\": {\"line\": {\"color\": \"#2a3f5f\"}}, \"ternary\": {\"aaxis\": {\"gridcolor\": \"white\", \"linecolor\": \"white\", \"ticks\": \"\"}, \"baxis\": {\"gridcolor\": \"white\", \"linecolor\": \"white\", \"ticks\": \"\"}, \"bgcolor\": \"#E5ECF6\", \"caxis\": {\"gridcolor\": \"white\", \"linecolor\": \"white\", \"ticks\": \"\"}}, \"title\": {\"x\": 0.05}, \"xaxis\": {\"automargin\": true, \"gridcolor\": \"white\", \"linecolor\": \"white\", \"ticks\": \"\", \"title\": {\"standoff\": 15}, \"zerolinecolor\": \"white\", \"zerolinewidth\": 2}, \"yaxis\": {\"automargin\": true, \"gridcolor\": \"white\", \"linecolor\": \"white\", \"ticks\": \"\", \"title\": {\"standoff\": 15}, \"zerolinecolor\": \"white\", \"zerolinewidth\": 2}}}, \"title\": {\"text\": \"KMEANS- TWEETS\"}},                        {\"responsive\": true}                    ).then(function(){\n",
       "                            \n",
       "var gd = document.getElementById('445dbb32-6f7b-4e8c-8ccf-723bb7226697');\n",
       "var x = new MutationObserver(function (mutations, observer) {{\n",
       "        var display = window.getComputedStyle(gd).display;\n",
       "        if (!display || display === 'none') {{\n",
       "            console.log([gd, 'removed!']);\n",
       "            Plotly.purge(gd);\n",
       "            observer.disconnect();\n",
       "        }}\n",
       "}});\n",
       "\n",
       "// Listen for the removal of the full notebook cells\n",
       "var notebookContainer = gd.closest('#notebook-container');\n",
       "if (notebookContainer) {{\n",
       "    x.observe(notebookContainer, {childList: true});\n",
       "}}\n",
       "\n",
       "// Listen for the clearing of the current output cell\n",
       "var outputEl = gd.closest('.output');\n",
       "if (outputEl) {{\n",
       "    x.observe(outputEl, {childList: true});\n",
       "}}\n",
       "\n",
       "                        })                };                });            </script>        </div>"
      ]
     },
     "metadata": {},
     "output_type": "display_data"
    }
   ],
   "source": [
    "trace = go.Scatter(x=result['X'].values,\n",
    "                   y=result['Y'].values,\n",
    "                   text=result['texto'].values,\n",
    "                   mode='markers',\n",
    "                   marker=dict(color=result['colores'].values)) \n",
    "\n",
    "layout = go.Layout(title=\"KMEANS- TWEETS\")\n",
    "\n",
    "fig = go.Figure(data=trace, layout=layout)\n",
    "iplot(fig)"
   ]
  },
  {
   "cell_type": "code",
   "execution_count": 12,
   "metadata": {},
   "outputs": [],
   "source": [
    "datos['hora'] = datos['fecha'].dt.floor('H').dt.time"
   ]
  },
  {
   "cell_type": "code",
   "execution_count": 13,
   "metadata": {},
   "outputs": [
    {
     "data": {
      "text/html": [
       "<div>\n",
       "<style scoped>\n",
       "    .dataframe tbody tr th:only-of-type {\n",
       "        vertical-align: middle;\n",
       "    }\n",
       "\n",
       "    .dataframe tbody tr th {\n",
       "        vertical-align: top;\n",
       "    }\n",
       "\n",
       "    .dataframe thead th {\n",
       "        text-align: right;\n",
       "    }\n",
       "</style>\n",
       "<table border=\"1\" class=\"dataframe\">\n",
       "  <thead>\n",
       "    <tr style=\"text-align: right;\">\n",
       "      <th></th>\n",
       "      <th>hora</th>\n",
       "      <th>cuenta</th>\n",
       "    </tr>\n",
       "  </thead>\n",
       "  <tbody>\n",
       "    <tr>\n",
       "      <th>7</th>\n",
       "      <td>11:00:00</td>\n",
       "      <td>6</td>\n",
       "    </tr>\n",
       "    <tr>\n",
       "      <th>1</th>\n",
       "      <td>12:00:00</td>\n",
       "      <td>20</td>\n",
       "    </tr>\n",
       "    <tr>\n",
       "      <th>3</th>\n",
       "      <td>13:00:00</td>\n",
       "      <td>18</td>\n",
       "    </tr>\n",
       "    <tr>\n",
       "      <th>2</th>\n",
       "      <td>14:00:00</td>\n",
       "      <td>19</td>\n",
       "    </tr>\n",
       "    <tr>\n",
       "      <th>0</th>\n",
       "      <td>15:00:00</td>\n",
       "      <td>20</td>\n",
       "    </tr>\n",
       "    <tr>\n",
       "      <th>5</th>\n",
       "      <td>16:00:00</td>\n",
       "      <td>9</td>\n",
       "    </tr>\n",
       "    <tr>\n",
       "      <th>6</th>\n",
       "      <td>17:00:00</td>\n",
       "      <td>6</td>\n",
       "    </tr>\n",
       "    <tr>\n",
       "      <th>4</th>\n",
       "      <td>18:00:00</td>\n",
       "      <td>12</td>\n",
       "    </tr>\n",
       "  </tbody>\n",
       "</table>\n",
       "</div>"
      ],
      "text/plain": [
       "       hora  cuenta\n",
       "7  11:00:00       6\n",
       "1  12:00:00      20\n",
       "3  13:00:00      18\n",
       "2  14:00:00      19\n",
       "0  15:00:00      20\n",
       "5  16:00:00       9\n",
       "6  17:00:00       6\n",
       "4  18:00:00      12"
      ]
     },
     "execution_count": 13,
     "metadata": {},
     "output_type": "execute_result"
    }
   ],
   "source": [
    "conteos = pd.DataFrame(datos.hora.value_counts()).reset_index()\n",
    "conteos.columns = ['hora', 'cuenta']\n",
    "conteos = conteos.sort_values('hora')\n",
    "conteos"
   ]
  },
  {
   "cell_type": "markdown",
   "metadata": {},
   "source": [
    "### Gráfico de tweets por hora"
   ]
  },
  {
   "cell_type": "code",
   "execution_count": 14,
   "metadata": {},
   "outputs": [
    {
     "data": {
      "application/vnd.plotly.v1+json": {
       "config": {
        "linkText": "Export to plot.ly",
        "plotlyServerURL": "https://plot.ly",
        "showLink": false
       },
       "data": [
        {
         "hoverinfo": "text",
         "line": {
          "color": "blue"
         },
         "mode": "lines+markers",
         "name": "Horas",
         "text": [
          "Fecha: 11:00:00<br>Tuits: 6",
          "Fecha: 12:00:00<br>Tuits: 20",
          "Fecha: 13:00:00<br>Tuits: 18",
          "Fecha: 14:00:00<br>Tuits: 19",
          "Fecha: 15:00:00<br>Tuits: 20",
          "Fecha: 16:00:00<br>Tuits: 9",
          "Fecha: 17:00:00<br>Tuits: 6",
          "Fecha: 18:00:00<br>Tuits: 12"
         ],
         "type": "scatter",
         "x": [
          "11:00:00",
          "12:00:00",
          "13:00:00",
          "14:00:00",
          "15:00:00",
          "16:00:00",
          "17:00:00",
          "18:00:00"
         ],
         "y": [
          6,
          20,
          18,
          19,
          20,
          9,
          6,
          12
         ]
        }
       ],
       "layout": {
        "template": {
         "data": {
          "bar": [
           {
            "error_x": {
             "color": "#2a3f5f"
            },
            "error_y": {
             "color": "#2a3f5f"
            },
            "marker": {
             "line": {
              "color": "#E5ECF6",
              "width": 0.5
             }
            },
            "type": "bar"
           }
          ],
          "barpolar": [
           {
            "marker": {
             "line": {
              "color": "#E5ECF6",
              "width": 0.5
             }
            },
            "type": "barpolar"
           }
          ],
          "carpet": [
           {
            "aaxis": {
             "endlinecolor": "#2a3f5f",
             "gridcolor": "white",
             "linecolor": "white",
             "minorgridcolor": "white",
             "startlinecolor": "#2a3f5f"
            },
            "baxis": {
             "endlinecolor": "#2a3f5f",
             "gridcolor": "white",
             "linecolor": "white",
             "minorgridcolor": "white",
             "startlinecolor": "#2a3f5f"
            },
            "type": "carpet"
           }
          ],
          "choropleth": [
           {
            "colorbar": {
             "outlinewidth": 0,
             "ticks": ""
            },
            "type": "choropleth"
           }
          ],
          "contour": [
           {
            "colorbar": {
             "outlinewidth": 0,
             "ticks": ""
            },
            "colorscale": [
             [
              0,
              "#0d0887"
             ],
             [
              0.1111111111111111,
              "#46039f"
             ],
             [
              0.2222222222222222,
              "#7201a8"
             ],
             [
              0.3333333333333333,
              "#9c179e"
             ],
             [
              0.4444444444444444,
              "#bd3786"
             ],
             [
              0.5555555555555556,
              "#d8576b"
             ],
             [
              0.6666666666666666,
              "#ed7953"
             ],
             [
              0.7777777777777778,
              "#fb9f3a"
             ],
             [
              0.8888888888888888,
              "#fdca26"
             ],
             [
              1,
              "#f0f921"
             ]
            ],
            "type": "contour"
           }
          ],
          "contourcarpet": [
           {
            "colorbar": {
             "outlinewidth": 0,
             "ticks": ""
            },
            "type": "contourcarpet"
           }
          ],
          "heatmap": [
           {
            "colorbar": {
             "outlinewidth": 0,
             "ticks": ""
            },
            "colorscale": [
             [
              0,
              "#0d0887"
             ],
             [
              0.1111111111111111,
              "#46039f"
             ],
             [
              0.2222222222222222,
              "#7201a8"
             ],
             [
              0.3333333333333333,
              "#9c179e"
             ],
             [
              0.4444444444444444,
              "#bd3786"
             ],
             [
              0.5555555555555556,
              "#d8576b"
             ],
             [
              0.6666666666666666,
              "#ed7953"
             ],
             [
              0.7777777777777778,
              "#fb9f3a"
             ],
             [
              0.8888888888888888,
              "#fdca26"
             ],
             [
              1,
              "#f0f921"
             ]
            ],
            "type": "heatmap"
           }
          ],
          "heatmapgl": [
           {
            "colorbar": {
             "outlinewidth": 0,
             "ticks": ""
            },
            "colorscale": [
             [
              0,
              "#0d0887"
             ],
             [
              0.1111111111111111,
              "#46039f"
             ],
             [
              0.2222222222222222,
              "#7201a8"
             ],
             [
              0.3333333333333333,
              "#9c179e"
             ],
             [
              0.4444444444444444,
              "#bd3786"
             ],
             [
              0.5555555555555556,
              "#d8576b"
             ],
             [
              0.6666666666666666,
              "#ed7953"
             ],
             [
              0.7777777777777778,
              "#fb9f3a"
             ],
             [
              0.8888888888888888,
              "#fdca26"
             ],
             [
              1,
              "#f0f921"
             ]
            ],
            "type": "heatmapgl"
           }
          ],
          "histogram": [
           {
            "marker": {
             "colorbar": {
              "outlinewidth": 0,
              "ticks": ""
             }
            },
            "type": "histogram"
           }
          ],
          "histogram2d": [
           {
            "colorbar": {
             "outlinewidth": 0,
             "ticks": ""
            },
            "colorscale": [
             [
              0,
              "#0d0887"
             ],
             [
              0.1111111111111111,
              "#46039f"
             ],
             [
              0.2222222222222222,
              "#7201a8"
             ],
             [
              0.3333333333333333,
              "#9c179e"
             ],
             [
              0.4444444444444444,
              "#bd3786"
             ],
             [
              0.5555555555555556,
              "#d8576b"
             ],
             [
              0.6666666666666666,
              "#ed7953"
             ],
             [
              0.7777777777777778,
              "#fb9f3a"
             ],
             [
              0.8888888888888888,
              "#fdca26"
             ],
             [
              1,
              "#f0f921"
             ]
            ],
            "type": "histogram2d"
           }
          ],
          "histogram2dcontour": [
           {
            "colorbar": {
             "outlinewidth": 0,
             "ticks": ""
            },
            "colorscale": [
             [
              0,
              "#0d0887"
             ],
             [
              0.1111111111111111,
              "#46039f"
             ],
             [
              0.2222222222222222,
              "#7201a8"
             ],
             [
              0.3333333333333333,
              "#9c179e"
             ],
             [
              0.4444444444444444,
              "#bd3786"
             ],
             [
              0.5555555555555556,
              "#d8576b"
             ],
             [
              0.6666666666666666,
              "#ed7953"
             ],
             [
              0.7777777777777778,
              "#fb9f3a"
             ],
             [
              0.8888888888888888,
              "#fdca26"
             ],
             [
              1,
              "#f0f921"
             ]
            ],
            "type": "histogram2dcontour"
           }
          ],
          "mesh3d": [
           {
            "colorbar": {
             "outlinewidth": 0,
             "ticks": ""
            },
            "type": "mesh3d"
           }
          ],
          "parcoords": [
           {
            "line": {
             "colorbar": {
              "outlinewidth": 0,
              "ticks": ""
             }
            },
            "type": "parcoords"
           }
          ],
          "pie": [
           {
            "automargin": true,
            "type": "pie"
           }
          ],
          "scatter": [
           {
            "marker": {
             "colorbar": {
              "outlinewidth": 0,
              "ticks": ""
             }
            },
            "type": "scatter"
           }
          ],
          "scatter3d": [
           {
            "line": {
             "colorbar": {
              "outlinewidth": 0,
              "ticks": ""
             }
            },
            "marker": {
             "colorbar": {
              "outlinewidth": 0,
              "ticks": ""
             }
            },
            "type": "scatter3d"
           }
          ],
          "scattercarpet": [
           {
            "marker": {
             "colorbar": {
              "outlinewidth": 0,
              "ticks": ""
             }
            },
            "type": "scattercarpet"
           }
          ],
          "scattergeo": [
           {
            "marker": {
             "colorbar": {
              "outlinewidth": 0,
              "ticks": ""
             }
            },
            "type": "scattergeo"
           }
          ],
          "scattergl": [
           {
            "marker": {
             "colorbar": {
              "outlinewidth": 0,
              "ticks": ""
             }
            },
            "type": "scattergl"
           }
          ],
          "scattermapbox": [
           {
            "marker": {
             "colorbar": {
              "outlinewidth": 0,
              "ticks": ""
             }
            },
            "type": "scattermapbox"
           }
          ],
          "scatterpolar": [
           {
            "marker": {
             "colorbar": {
              "outlinewidth": 0,
              "ticks": ""
             }
            },
            "type": "scatterpolar"
           }
          ],
          "scatterpolargl": [
           {
            "marker": {
             "colorbar": {
              "outlinewidth": 0,
              "ticks": ""
             }
            },
            "type": "scatterpolargl"
           }
          ],
          "scatterternary": [
           {
            "marker": {
             "colorbar": {
              "outlinewidth": 0,
              "ticks": ""
             }
            },
            "type": "scatterternary"
           }
          ],
          "surface": [
           {
            "colorbar": {
             "outlinewidth": 0,
             "ticks": ""
            },
            "colorscale": [
             [
              0,
              "#0d0887"
             ],
             [
              0.1111111111111111,
              "#46039f"
             ],
             [
              0.2222222222222222,
              "#7201a8"
             ],
             [
              0.3333333333333333,
              "#9c179e"
             ],
             [
              0.4444444444444444,
              "#bd3786"
             ],
             [
              0.5555555555555556,
              "#d8576b"
             ],
             [
              0.6666666666666666,
              "#ed7953"
             ],
             [
              0.7777777777777778,
              "#fb9f3a"
             ],
             [
              0.8888888888888888,
              "#fdca26"
             ],
             [
              1,
              "#f0f921"
             ]
            ],
            "type": "surface"
           }
          ],
          "table": [
           {
            "cells": {
             "fill": {
              "color": "#EBF0F8"
             },
             "line": {
              "color": "white"
             }
            },
            "header": {
             "fill": {
              "color": "#C8D4E3"
             },
             "line": {
              "color": "white"
             }
            },
            "type": "table"
           }
          ]
         },
         "layout": {
          "annotationdefaults": {
           "arrowcolor": "#2a3f5f",
           "arrowhead": 0,
           "arrowwidth": 1
          },
          "autotypenumbers": "strict",
          "coloraxis": {
           "colorbar": {
            "outlinewidth": 0,
            "ticks": ""
           }
          },
          "colorscale": {
           "diverging": [
            [
             0,
             "#8e0152"
            ],
            [
             0.1,
             "#c51b7d"
            ],
            [
             0.2,
             "#de77ae"
            ],
            [
             0.3,
             "#f1b6da"
            ],
            [
             0.4,
             "#fde0ef"
            ],
            [
             0.5,
             "#f7f7f7"
            ],
            [
             0.6,
             "#e6f5d0"
            ],
            [
             0.7,
             "#b8e186"
            ],
            [
             0.8,
             "#7fbc41"
            ],
            [
             0.9,
             "#4d9221"
            ],
            [
             1,
             "#276419"
            ]
           ],
           "sequential": [
            [
             0,
             "#0d0887"
            ],
            [
             0.1111111111111111,
             "#46039f"
            ],
            [
             0.2222222222222222,
             "#7201a8"
            ],
            [
             0.3333333333333333,
             "#9c179e"
            ],
            [
             0.4444444444444444,
             "#bd3786"
            ],
            [
             0.5555555555555556,
             "#d8576b"
            ],
            [
             0.6666666666666666,
             "#ed7953"
            ],
            [
             0.7777777777777778,
             "#fb9f3a"
            ],
            [
             0.8888888888888888,
             "#fdca26"
            ],
            [
             1,
             "#f0f921"
            ]
           ],
           "sequentialminus": [
            [
             0,
             "#0d0887"
            ],
            [
             0.1111111111111111,
             "#46039f"
            ],
            [
             0.2222222222222222,
             "#7201a8"
            ],
            [
             0.3333333333333333,
             "#9c179e"
            ],
            [
             0.4444444444444444,
             "#bd3786"
            ],
            [
             0.5555555555555556,
             "#d8576b"
            ],
            [
             0.6666666666666666,
             "#ed7953"
            ],
            [
             0.7777777777777778,
             "#fb9f3a"
            ],
            [
             0.8888888888888888,
             "#fdca26"
            ],
            [
             1,
             "#f0f921"
            ]
           ]
          },
          "colorway": [
           "#636efa",
           "#EF553B",
           "#00cc96",
           "#ab63fa",
           "#FFA15A",
           "#19d3f3",
           "#FF6692",
           "#B6E880",
           "#FF97FF",
           "#FECB52"
          ],
          "font": {
           "color": "#2a3f5f"
          },
          "geo": {
           "bgcolor": "white",
           "lakecolor": "white",
           "landcolor": "#E5ECF6",
           "showlakes": true,
           "showland": true,
           "subunitcolor": "white"
          },
          "hoverlabel": {
           "align": "left"
          },
          "hovermode": "closest",
          "mapbox": {
           "style": "light"
          },
          "paper_bgcolor": "white",
          "plot_bgcolor": "#E5ECF6",
          "polar": {
           "angularaxis": {
            "gridcolor": "white",
            "linecolor": "white",
            "ticks": ""
           },
           "bgcolor": "#E5ECF6",
           "radialaxis": {
            "gridcolor": "white",
            "linecolor": "white",
            "ticks": ""
           }
          },
          "scene": {
           "xaxis": {
            "backgroundcolor": "#E5ECF6",
            "gridcolor": "white",
            "gridwidth": 2,
            "linecolor": "white",
            "showbackground": true,
            "ticks": "",
            "zerolinecolor": "white"
           },
           "yaxis": {
            "backgroundcolor": "#E5ECF6",
            "gridcolor": "white",
            "gridwidth": 2,
            "linecolor": "white",
            "showbackground": true,
            "ticks": "",
            "zerolinecolor": "white"
           },
           "zaxis": {
            "backgroundcolor": "#E5ECF6",
            "gridcolor": "white",
            "gridwidth": 2,
            "linecolor": "white",
            "showbackground": true,
            "ticks": "",
            "zerolinecolor": "white"
           }
          },
          "shapedefaults": {
           "line": {
            "color": "#2a3f5f"
           }
          },
          "ternary": {
           "aaxis": {
            "gridcolor": "white",
            "linecolor": "white",
            "ticks": ""
           },
           "baxis": {
            "gridcolor": "white",
            "linecolor": "white",
            "ticks": ""
           },
           "bgcolor": "#E5ECF6",
           "caxis": {
            "gridcolor": "white",
            "linecolor": "white",
            "ticks": ""
           }
          },
          "title": {
           "x": 0.05
          },
          "xaxis": {
           "automargin": true,
           "gridcolor": "white",
           "linecolor": "white",
           "ticks": "",
           "title": {
            "standoff": 15
           },
           "zerolinecolor": "white",
           "zerolinewidth": 2
          },
          "yaxis": {
           "automargin": true,
           "gridcolor": "white",
           "linecolor": "white",
           "ticks": "",
           "title": {
            "standoff": 15
           },
           "zerolinecolor": "white",
           "zerolinewidth": 2
          }
         }
        },
        "title": {
         "text": "Número de tuits por hora"
        }
       }
      },
      "text/html": [
       "<div>                            <div id=\"ee2370ca-b7dd-41ee-a40b-ea814dcdcac9\" class=\"plotly-graph-div\" style=\"height:525px; width:100%;\"></div>            <script type=\"text/javascript\">                require([\"plotly\"], function(Plotly) {                    window.PLOTLYENV=window.PLOTLYENV || {};                                    if (document.getElementById(\"ee2370ca-b7dd-41ee-a40b-ea814dcdcac9\")) {                    Plotly.newPlot(                        \"ee2370ca-b7dd-41ee-a40b-ea814dcdcac9\",                        [{\"hoverinfo\": \"text\", \"line\": {\"color\": \"blue\"}, \"mode\": \"lines+markers\", \"name\": \"Horas\", \"text\": [\"Fecha: 11:00:00<br>Tuits: 6\", \"Fecha: 12:00:00<br>Tuits: 20\", \"Fecha: 13:00:00<br>Tuits: 18\", \"Fecha: 14:00:00<br>Tuits: 19\", \"Fecha: 15:00:00<br>Tuits: 20\", \"Fecha: 16:00:00<br>Tuits: 9\", \"Fecha: 17:00:00<br>Tuits: 6\", \"Fecha: 18:00:00<br>Tuits: 12\"], \"type\": \"scatter\", \"x\": [\"11:00:00\", \"12:00:00\", \"13:00:00\", \"14:00:00\", \"15:00:00\", \"16:00:00\", \"17:00:00\", \"18:00:00\"], \"y\": [6, 20, 18, 19, 20, 9, 6, 12]}],                        {\"template\": {\"data\": {\"bar\": [{\"error_x\": {\"color\": \"#2a3f5f\"}, \"error_y\": {\"color\": \"#2a3f5f\"}, \"marker\": {\"line\": {\"color\": \"#E5ECF6\", \"width\": 0.5}}, \"type\": \"bar\"}], \"barpolar\": [{\"marker\": {\"line\": {\"color\": \"#E5ECF6\", \"width\": 0.5}}, \"type\": \"barpolar\"}], \"carpet\": [{\"aaxis\": {\"endlinecolor\": \"#2a3f5f\", \"gridcolor\": \"white\", \"linecolor\": \"white\", \"minorgridcolor\": \"white\", \"startlinecolor\": \"#2a3f5f\"}, \"baxis\": {\"endlinecolor\": \"#2a3f5f\", \"gridcolor\": \"white\", \"linecolor\": \"white\", \"minorgridcolor\": \"white\", \"startlinecolor\": \"#2a3f5f\"}, \"type\": \"carpet\"}], \"choropleth\": [{\"colorbar\": {\"outlinewidth\": 0, \"ticks\": \"\"}, \"type\": \"choropleth\"}], \"contour\": [{\"colorbar\": {\"outlinewidth\": 0, \"ticks\": \"\"}, \"colorscale\": [[0.0, \"#0d0887\"], [0.1111111111111111, \"#46039f\"], [0.2222222222222222, \"#7201a8\"], [0.3333333333333333, \"#9c179e\"], [0.4444444444444444, \"#bd3786\"], [0.5555555555555556, \"#d8576b\"], [0.6666666666666666, \"#ed7953\"], [0.7777777777777778, \"#fb9f3a\"], [0.8888888888888888, \"#fdca26\"], [1.0, \"#f0f921\"]], \"type\": \"contour\"}], \"contourcarpet\": [{\"colorbar\": {\"outlinewidth\": 0, \"ticks\": \"\"}, \"type\": \"contourcarpet\"}], \"heatmap\": [{\"colorbar\": {\"outlinewidth\": 0, \"ticks\": \"\"}, \"colorscale\": [[0.0, \"#0d0887\"], [0.1111111111111111, \"#46039f\"], [0.2222222222222222, \"#7201a8\"], [0.3333333333333333, \"#9c179e\"], [0.4444444444444444, \"#bd3786\"], [0.5555555555555556, \"#d8576b\"], [0.6666666666666666, \"#ed7953\"], [0.7777777777777778, \"#fb9f3a\"], [0.8888888888888888, \"#fdca26\"], [1.0, \"#f0f921\"]], \"type\": \"heatmap\"}], \"heatmapgl\": [{\"colorbar\": {\"outlinewidth\": 0, \"ticks\": \"\"}, \"colorscale\": [[0.0, \"#0d0887\"], [0.1111111111111111, \"#46039f\"], [0.2222222222222222, \"#7201a8\"], [0.3333333333333333, \"#9c179e\"], [0.4444444444444444, \"#bd3786\"], [0.5555555555555556, \"#d8576b\"], [0.6666666666666666, \"#ed7953\"], [0.7777777777777778, \"#fb9f3a\"], [0.8888888888888888, \"#fdca26\"], [1.0, \"#f0f921\"]], \"type\": \"heatmapgl\"}], \"histogram\": [{\"marker\": {\"colorbar\": {\"outlinewidth\": 0, \"ticks\": \"\"}}, \"type\": \"histogram\"}], \"histogram2d\": [{\"colorbar\": {\"outlinewidth\": 0, \"ticks\": \"\"}, \"colorscale\": [[0.0, \"#0d0887\"], [0.1111111111111111, \"#46039f\"], [0.2222222222222222, \"#7201a8\"], [0.3333333333333333, \"#9c179e\"], [0.4444444444444444, \"#bd3786\"], [0.5555555555555556, \"#d8576b\"], [0.6666666666666666, \"#ed7953\"], [0.7777777777777778, \"#fb9f3a\"], [0.8888888888888888, \"#fdca26\"], [1.0, \"#f0f921\"]], \"type\": \"histogram2d\"}], \"histogram2dcontour\": [{\"colorbar\": {\"outlinewidth\": 0, \"ticks\": \"\"}, \"colorscale\": [[0.0, \"#0d0887\"], [0.1111111111111111, \"#46039f\"], [0.2222222222222222, \"#7201a8\"], [0.3333333333333333, \"#9c179e\"], [0.4444444444444444, \"#bd3786\"], [0.5555555555555556, \"#d8576b\"], [0.6666666666666666, \"#ed7953\"], [0.7777777777777778, \"#fb9f3a\"], [0.8888888888888888, \"#fdca26\"], [1.0, \"#f0f921\"]], \"type\": \"histogram2dcontour\"}], \"mesh3d\": [{\"colorbar\": {\"outlinewidth\": 0, \"ticks\": \"\"}, \"type\": \"mesh3d\"}], \"parcoords\": [{\"line\": {\"colorbar\": {\"outlinewidth\": 0, \"ticks\": \"\"}}, \"type\": \"parcoords\"}], \"pie\": [{\"automargin\": true, \"type\": \"pie\"}], \"scatter\": [{\"marker\": {\"colorbar\": {\"outlinewidth\": 0, \"ticks\": \"\"}}, \"type\": \"scatter\"}], \"scatter3d\": [{\"line\": {\"colorbar\": {\"outlinewidth\": 0, \"ticks\": \"\"}}, \"marker\": {\"colorbar\": {\"outlinewidth\": 0, \"ticks\": \"\"}}, \"type\": \"scatter3d\"}], \"scattercarpet\": [{\"marker\": {\"colorbar\": {\"outlinewidth\": 0, \"ticks\": \"\"}}, \"type\": \"scattercarpet\"}], \"scattergeo\": [{\"marker\": {\"colorbar\": {\"outlinewidth\": 0, \"ticks\": \"\"}}, \"type\": \"scattergeo\"}], \"scattergl\": [{\"marker\": {\"colorbar\": {\"outlinewidth\": 0, \"ticks\": \"\"}}, \"type\": \"scattergl\"}], \"scattermapbox\": [{\"marker\": {\"colorbar\": {\"outlinewidth\": 0, \"ticks\": \"\"}}, \"type\": \"scattermapbox\"}], \"scatterpolar\": [{\"marker\": {\"colorbar\": {\"outlinewidth\": 0, \"ticks\": \"\"}}, \"type\": \"scatterpolar\"}], \"scatterpolargl\": [{\"marker\": {\"colorbar\": {\"outlinewidth\": 0, \"ticks\": \"\"}}, \"type\": \"scatterpolargl\"}], \"scatterternary\": [{\"marker\": {\"colorbar\": {\"outlinewidth\": 0, \"ticks\": \"\"}}, \"type\": \"scatterternary\"}], \"surface\": [{\"colorbar\": {\"outlinewidth\": 0, \"ticks\": \"\"}, \"colorscale\": [[0.0, \"#0d0887\"], [0.1111111111111111, \"#46039f\"], [0.2222222222222222, \"#7201a8\"], [0.3333333333333333, \"#9c179e\"], [0.4444444444444444, \"#bd3786\"], [0.5555555555555556, \"#d8576b\"], [0.6666666666666666, \"#ed7953\"], [0.7777777777777778, \"#fb9f3a\"], [0.8888888888888888, \"#fdca26\"], [1.0, \"#f0f921\"]], \"type\": \"surface\"}], \"table\": [{\"cells\": {\"fill\": {\"color\": \"#EBF0F8\"}, \"line\": {\"color\": \"white\"}}, \"header\": {\"fill\": {\"color\": \"#C8D4E3\"}, \"line\": {\"color\": \"white\"}}, \"type\": \"table\"}]}, \"layout\": {\"annotationdefaults\": {\"arrowcolor\": \"#2a3f5f\", \"arrowhead\": 0, \"arrowwidth\": 1}, \"autotypenumbers\": \"strict\", \"coloraxis\": {\"colorbar\": {\"outlinewidth\": 0, \"ticks\": \"\"}}, \"colorscale\": {\"diverging\": [[0, \"#8e0152\"], [0.1, \"#c51b7d\"], [0.2, \"#de77ae\"], [0.3, \"#f1b6da\"], [0.4, \"#fde0ef\"], [0.5, \"#f7f7f7\"], [0.6, \"#e6f5d0\"], [0.7, \"#b8e186\"], [0.8, \"#7fbc41\"], [0.9, \"#4d9221\"], [1, \"#276419\"]], \"sequential\": [[0.0, \"#0d0887\"], [0.1111111111111111, \"#46039f\"], [0.2222222222222222, \"#7201a8\"], [0.3333333333333333, \"#9c179e\"], [0.4444444444444444, \"#bd3786\"], [0.5555555555555556, \"#d8576b\"], [0.6666666666666666, \"#ed7953\"], [0.7777777777777778, \"#fb9f3a\"], [0.8888888888888888, \"#fdca26\"], [1.0, \"#f0f921\"]], \"sequentialminus\": [[0.0, \"#0d0887\"], [0.1111111111111111, \"#46039f\"], [0.2222222222222222, \"#7201a8\"], [0.3333333333333333, \"#9c179e\"], [0.4444444444444444, \"#bd3786\"], [0.5555555555555556, \"#d8576b\"], [0.6666666666666666, \"#ed7953\"], [0.7777777777777778, \"#fb9f3a\"], [0.8888888888888888, \"#fdca26\"], [1.0, \"#f0f921\"]]}, \"colorway\": [\"#636efa\", \"#EF553B\", \"#00cc96\", \"#ab63fa\", \"#FFA15A\", \"#19d3f3\", \"#FF6692\", \"#B6E880\", \"#FF97FF\", \"#FECB52\"], \"font\": {\"color\": \"#2a3f5f\"}, \"geo\": {\"bgcolor\": \"white\", \"lakecolor\": \"white\", \"landcolor\": \"#E5ECF6\", \"showlakes\": true, \"showland\": true, \"subunitcolor\": \"white\"}, \"hoverlabel\": {\"align\": \"left\"}, \"hovermode\": \"closest\", \"mapbox\": {\"style\": \"light\"}, \"paper_bgcolor\": \"white\", \"plot_bgcolor\": \"#E5ECF6\", \"polar\": {\"angularaxis\": {\"gridcolor\": \"white\", \"linecolor\": \"white\", \"ticks\": \"\"}, \"bgcolor\": \"#E5ECF6\", \"radialaxis\": {\"gridcolor\": \"white\", \"linecolor\": \"white\", \"ticks\": \"\"}}, \"scene\": {\"xaxis\": {\"backgroundcolor\": \"#E5ECF6\", \"gridcolor\": \"white\", \"gridwidth\": 2, \"linecolor\": \"white\", \"showbackground\": true, \"ticks\": \"\", \"zerolinecolor\": \"white\"}, \"yaxis\": {\"backgroundcolor\": \"#E5ECF6\", \"gridcolor\": \"white\", \"gridwidth\": 2, \"linecolor\": \"white\", \"showbackground\": true, \"ticks\": \"\", \"zerolinecolor\": \"white\"}, \"zaxis\": {\"backgroundcolor\": \"#E5ECF6\", \"gridcolor\": \"white\", \"gridwidth\": 2, \"linecolor\": \"white\", \"showbackground\": true, \"ticks\": \"\", \"zerolinecolor\": \"white\"}}, \"shapedefaults\": {\"line\": {\"color\": \"#2a3f5f\"}}, \"ternary\": {\"aaxis\": {\"gridcolor\": \"white\", \"linecolor\": \"white\", \"ticks\": \"\"}, \"baxis\": {\"gridcolor\": \"white\", \"linecolor\": \"white\", \"ticks\": \"\"}, \"bgcolor\": \"#E5ECF6\", \"caxis\": {\"gridcolor\": \"white\", \"linecolor\": \"white\", \"ticks\": \"\"}}, \"title\": {\"x\": 0.05}, \"xaxis\": {\"automargin\": true, \"gridcolor\": \"white\", \"linecolor\": \"white\", \"ticks\": \"\", \"title\": {\"standoff\": 15}, \"zerolinecolor\": \"white\", \"zerolinewidth\": 2}, \"yaxis\": {\"automargin\": true, \"gridcolor\": \"white\", \"linecolor\": \"white\", \"ticks\": \"\", \"title\": {\"standoff\": 15}, \"zerolinecolor\": \"white\", \"zerolinewidth\": 2}}}, \"title\": {\"text\": \"N\\u00famero de tuits por hora\"}},                        {\"responsive\": true}                    ).then(function(){\n",
       "                            \n",
       "var gd = document.getElementById('ee2370ca-b7dd-41ee-a40b-ea814dcdcac9');\n",
       "var x = new MutationObserver(function (mutations, observer) {{\n",
       "        var display = window.getComputedStyle(gd).display;\n",
       "        if (!display || display === 'none') {{\n",
       "            console.log([gd, 'removed!']);\n",
       "            Plotly.purge(gd);\n",
       "            observer.disconnect();\n",
       "        }}\n",
       "}});\n",
       "\n",
       "// Listen for the removal of the full notebook cells\n",
       "var notebookContainer = gd.closest('#notebook-container');\n",
       "if (notebookContainer) {{\n",
       "    x.observe(notebookContainer, {childList: true});\n",
       "}}\n",
       "\n",
       "// Listen for the clearing of the current output cell\n",
       "var outputEl = gd.closest('.output');\n",
       "if (outputEl) {{\n",
       "    x.observe(outputEl, {childList: true});\n",
       "}}\n",
       "\n",
       "                        })                };                });            </script>        </div>"
      ]
     },
     "metadata": {},
     "output_type": "display_data"
    }
   ],
   "source": [
    "\n",
    "trace = go.Scatter(x=conteos.hora.values,\n",
    "                   y=conteos.cuenta.values,\n",
    "                   text=[f\"Fecha: {f}<br>Tuits: {c}\" for f,c in zip(conteos.hora.values,conteos.cuenta.values)],\n",
    "                   hoverinfo='text',\n",
    "                   mode='lines+markers',\n",
    "                   name='Horas',\n",
    "                   line={'color': 'blue'})\n",
    "\n",
    "layout = go.Layout(title=\"Número de tuits por hora\")\n",
    "\n",
    "fig = go.Figure(data=[trace], layout=layout)\n",
    "iplot(fig)"
   ]
  },
  {
   "cell_type": "code",
   "execution_count": null,
   "metadata": {},
   "outputs": [],
   "source": []
  }
 ],
 "metadata": {
  "kernelspec": {
   "display_name": "Python 3",
   "language": "python",
   "name": "python3"
  },
  "language_info": {
   "codemirror_mode": {
    "name": "ipython",
    "version": 3
   },
   "file_extension": ".py",
   "mimetype": "text/x-python",
   "name": "python",
   "nbconvert_exporter": "python",
   "pygments_lexer": "ipython3",
   "version": "3.8.8"
  }
 },
 "nbformat": 4,
 "nbformat_minor": 2
}
