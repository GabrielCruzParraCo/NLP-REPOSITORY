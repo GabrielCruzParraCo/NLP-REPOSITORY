{
 "cells": [
  {
   "cell_type": "markdown",
   "metadata": {},
   "source": [
    "<img src='https://encrypted-tbn0.gstatic.com/images?q=tbn%3AANd9GcQ-VfNtOyJbsaxu43Kztf_cv1mgBG6ZIQZEVw&usqp=CAU'>\n",
    "\n",
    "# Procesamiento de Lenguage Natural\n",
    "\n",
    "## Taller #2: Adquisición de textos\n",
    "\n",
    "### Gabriel Cruz Parra - código: 617202013\n",
    "`Fecha de entrega: Marzo 4, 2021. (Antes del inicio de la próxima clase).`"
   ]
  },
  {
   "cell_type": "markdown",
   "metadata": {},
   "source": [
    "# Punto 1:\n",
    "\n",
    "- `[18 pts]` Descomprimir el archivo `.zip` de `python_books`\n",
    "- `[22 pts]` Leer cada uno de sus archivos\n",
    "- `[10 pts]` Responder: ¿Cuál archivo tiene el mayor número de palabras?"
   ]
  },
  {
   "cell_type": "markdown",
   "metadata": {},
   "source": [
    "# Solución"
   ]
  },
  {
   "cell_type": "markdown",
   "metadata": {},
   "source": [
    "## Punto N° 1"
   ]
  },
  {
   "cell_type": "code",
   "execution_count": 1,
   "metadata": {},
   "outputs": [],
   "source": [
    "import os\n",
    "from zipfile import ZipFile"
   ]
  },
  {
   "cell_type": "code",
   "execution_count": 2,
   "metadata": {},
   "outputs": [],
   "source": [
    "direccion ='../python_books.zip'"
   ]
  },
  {
   "cell_type": "code",
   "execution_count": 3,
   "metadata": {},
   "outputs": [],
   "source": [
    "# Descomprimir el archivo ZIP\n",
    "with ZipFile(direccion) as archivo:\n",
    "    archivo.extractall(\"../\")\n",
    "    \n",
    "import shutil\n",
    "shutil.rmtree('../__MACOSX')"
   ]
  },
  {
   "cell_type": "markdown",
   "metadata": {},
   "source": [
    "## Punto N° 2"
   ]
  },
  {
   "cell_type": "code",
   "execution_count": 4,
   "metadata": {},
   "outputs": [
    {
     "name": "stdout",
     "output_type": "stream",
     "text": [
      "('../python_books', [], ['Python  Data Science Cookbook.pdf', 'Python - AWS.pdf', 'Python - Finance.pdf'])\n",
      "Python  Data Science Cookbook.pdf\n",
      "Python - AWS.pdf\n",
      "Python - Finance.pdf\n"
     ]
    }
   ],
   "source": [
    "direccionArchivosPdf = \"../python_books\"\n",
    "\n",
    "for archivo in os.walk(direccionArchivosPdf):\n",
    "    print(archivo)\n",
    "    \n",
    "for raiz, dirs, archivos in os.walk(direccionArchivosPdf):\n",
    "    # print(raiz, dirs, archivos)\n",
    "    for a in archivos: \n",
    "        print(a)\n",
    "        "
   ]
  },
  {
   "cell_type": "markdown",
   "metadata": {},
   "source": [
    "## Punto N° 3"
   ]
  },
  {
   "cell_type": "code",
   "execution_count": 5,
   "metadata": {},
   "outputs": [
    {
     "name": "stdout",
     "output_type": "stream",
     "text": [
      "Requirement already satisfied: PyMuPDF in d:\\programfiles\\anaconda3.2020.11\\lib\\site-packages (1.18.8)\n"
     ]
    }
   ],
   "source": [
    "! pip install PyMuPDF"
   ]
  },
  {
   "cell_type": "code",
   "execution_count": 12,
   "metadata": {},
   "outputs": [
    {
     "name": "stdout",
     "output_type": "stream",
     "text": [
      "----------------------------------------------------\n",
      "Archivo: Python  Data Science Cookbook.pdf\n",
      "----------------------------------------------------\n",
      "Número de páginas: 1\n",
      "Número de palabras en documento: 535\n",
      "----------------------------------------------------\n",
      "Archivo: Python - AWS.pdf\n",
      "----------------------------------------------------\n",
      "Número de páginas: 1\n",
      "Número de palabras en documento: 254\n",
      "----------------------------------------------------\n",
      "Archivo: Python - Finance.pdf\n",
      "----------------------------------------------------\n",
      "Número de páginas: 1\n",
      "Número de palabras en documento: 226\n",
      "-------------------------------------------------------------------------------\n",
      "Mayor número de palabras: 535 en el documento Python  Data Science Cookbook.pdf\n"
     ]
    }
   ],
   "source": [
    "import fitz\n",
    "\n",
    "mayor = 0\n",
    "nombre = \"\"\n",
    "for doc in archivos:\n",
    "    documento = fitz.open(raiz+\"/\"+doc)\n",
    "    print('----------------------------------------------------')\n",
    "    print(f'Archivo: {doc}')\n",
    "    print('----------------------------------------------------')\n",
    "    print(f'Número de páginas: {documento.pageCount}')\n",
    "    conteo = 0\n",
    "    for pagina in documento:\n",
    "        palabras = pagina.get_textpage().extractWORDS()\n",
    "        conteo+= len(palabras)\n",
    "        \n",
    "    print(f'Número de palabras en documento: {conteo}' )\n",
    "    \n",
    "    if (mayor < conteo):\n",
    "        mayor = conteo\n",
    "        nombre = doc\n",
    "print('-------------------------------------------------------------------------------')        \n",
    "print(f'Mayor número de palabras: {mayor} en el documento {nombre}' )    "
   ]
  },
  {
   "cell_type": "code",
   "execution_count": null,
   "metadata": {},
   "outputs": [],
   "source": []
  }
 ],
 "metadata": {
  "kernelspec": {
   "display_name": "Python 3",
   "language": "python",
   "name": "python3"
  },
  "language_info": {
   "codemirror_mode": {
    "name": "ipython",
    "version": 3
   },
   "file_extension": ".py",
   "mimetype": "text/x-python",
   "name": "python",
   "nbconvert_exporter": "python",
   "pygments_lexer": "ipython3",
   "version": "3.8.5"
  }
 },
 "nbformat": 4,
 "nbformat_minor": 2
}
