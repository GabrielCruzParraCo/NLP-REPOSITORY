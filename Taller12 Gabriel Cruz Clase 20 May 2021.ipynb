{
 "cells": [
  {
   "cell_type": "markdown",
   "metadata": {},
   "source": [
    "<img src='https://encrypted-tbn0.gstatic.com/images?q=tbn%3AANd9GcQ-VfNtOyJbsaxu43Kztf_cv1mgBG6ZIQZEVw&usqp=CAU'>\n",
    "\n",
    "# Procesamiento de Lenguaje Natural\n",
    "\n",
    "## Taller #12: Análisis de sentimiento\n",
    "`Fecha de entrega: Mayo 27, 2021 (Antes del inicio de la próxima clase).`\n",
    "\n",
    "`Modo de entrega: Subir link de GitHub al aula virtual.`"
   ]
  },
  {
   "cell_type": "markdown",
   "metadata": {},
   "source": [
    "###  `[25 pts]` Punto 1: Hacer análisis de sentimiento de los datos del anterior taller\n",
    "- Columna con el puntaje numérico del sentimiento\n",
    "- Pueden usar cualquiera de las librerias vistas en clase"
   ]
  },
  {
   "cell_type": "code",
   "execution_count": 1,
   "metadata": {},
   "outputs": [
    {
     "data": {
      "text/html": [
       "        <script type=\"text/javascript\">\n",
       "        window.PlotlyConfig = {MathJaxConfig: 'local'};\n",
       "        if (window.MathJax) {MathJax.Hub.Config({SVG: {font: \"STIX-Web\"}});}\n",
       "        if (typeof require !== 'undefined') {\n",
       "        require.undef(\"plotly\");\n",
       "        requirejs.config({\n",
       "            paths: {\n",
       "                'plotly': ['https://cdn.plot.ly/plotly-latest.min']\n",
       "            }\n",
       "        });\n",
       "        require(['plotly'], function(Plotly) {\n",
       "            window._Plotly = Plotly;\n",
       "        });\n",
       "        }\n",
       "        </script>\n",
       "        "
      ]
     },
     "metadata": {},
     "output_type": "display_data"
    }
   ],
   "source": [
    "import os\n",
    "import pandas as pd\n",
    "import json\n",
    "import tweepy\n",
    "import re \n",
    "import regex\n",
    "import emoji\n",
    "import plotly.io as pio\n",
    "import plotly.express as px\n",
    "import plotly.graph_objs as go\n",
    "from plotly.offline import download_plotlyjs, init_notebook_mode, plot, iplot\n",
    "import numpy as np\n",
    "from nltk.corpus import stopwords\n",
    "from sklearn.feature_extraction.text import TfidfVectorizer\n",
    "from textblob import TextBlob \n",
    "from vaderSentiment.vaderSentiment import SentimentIntensityAnalyzer\n",
    "import six\n",
    "from google.cloud import translate_v2 as translate\n",
    "from flair.models import TextClassifier\n",
    "from flair.data import Sentence\n",
    "\n",
    "import matplotlib.pyplot as plt\n",
    "%matplotlib inline\n",
    "init_notebook_mode(connected=True)\n",
    "\n",
    "vader = SentimentIntensityAnalyzer()"
   ]
  },
  {
   "cell_type": "code",
   "execution_count": 2,
   "metadata": {},
   "outputs": [
    {
     "data": {
      "text/html": [
       "<div>\n",
       "<style scoped>\n",
       "    .dataframe tbody tr th:only-of-type {\n",
       "        vertical-align: middle;\n",
       "    }\n",
       "\n",
       "    .dataframe tbody tr th {\n",
       "        vertical-align: top;\n",
       "    }\n",
       "\n",
       "    .dataframe thead th {\n",
       "        text-align: right;\n",
       "    }\n",
       "</style>\n",
       "<table border=\"1\" class=\"dataframe\">\n",
       "  <thead>\n",
       "    <tr style=\"text-align: right;\">\n",
       "      <th></th>\n",
       "      <th>tweets</th>\n",
       "      <th>fecha</th>\n",
       "      <th>ciudad</th>\n",
       "      <th>localizacion_usuario</th>\n",
       "      <th>id</th>\n",
       "      <th>enlace</th>\n",
       "    </tr>\n",
       "  </thead>\n",
       "  <tbody>\n",
       "    <tr>\n",
       "      <th>0</th>\n",
       "      <td>@FVallejoQuotes El Matarife.</td>\n",
       "      <td>2021-05-27 03:25:25</td>\n",
       "      <td>Bogotá</td>\n",
       "      <td>Manizales, Colombia</td>\n",
       "      <td>1397755795060760576</td>\n",
       "      <td>https://twitter.com/i/web/stuatus/139775579506...</td>\n",
       "    </tr>\n",
       "    <tr>\n",
       "      <th>1</th>\n",
       "      <td>@MargaritaRepo Jajajaja yo lo viví y soy antiu...</td>\n",
       "      <td>2021-05-27 03:24:51</td>\n",
       "      <td>Bogotá</td>\n",
       "      <td>Bogotá, D.C., Colombia</td>\n",
       "      <td>1397755652727005186</td>\n",
       "      <td>https://twitter.com/i/web/stuatus/139775565272...</td>\n",
       "    </tr>\n",
       "    <tr>\n",
       "      <th>2</th>\n",
       "      <td>@Juanval121 @NoticiasCaracol Si, que fue un ra...</td>\n",
       "      <td>2021-05-27 03:22:21</td>\n",
       "      <td>Bogotá</td>\n",
       "      <td>Bogotá, D.C., Colombia</td>\n",
       "      <td>1397755022348361730</td>\n",
       "      <td>https://twitter.com/i/web/stuatus/139775502234...</td>\n",
       "    </tr>\n",
       "    <tr>\n",
       "      <th>3</th>\n",
       "      <td>@gabo180 PUES CLSRO @PAOLAHOLGUIN CON TANTA PL...</td>\n",
       "      <td>2021-05-27 03:20:14</td>\n",
       "      <td>Bogotá</td>\n",
       "      <td>Bogotá, D.C., Colombia</td>\n",
       "      <td>1397754492171472897</td>\n",
       "      <td>https://twitter.com/i/web/stuatus/139775449217...</td>\n",
       "    </tr>\n",
       "    <tr>\n",
       "      <th>4</th>\n",
       "      <td>Los (mea culpa) ojo Colombia con esta nueva es...</td>\n",
       "      <td>2021-05-27 03:17:08</td>\n",
       "      <td>Bogotá</td>\n",
       "      <td>BOGOTÁ</td>\n",
       "      <td>1397753712429473794</td>\n",
       "      <td>https://twitter.com/i/web/stuatus/139775371242...</td>\n",
       "    </tr>\n",
       "  </tbody>\n",
       "</table>\n",
       "</div>"
      ],
      "text/plain": [
       "                                              tweets               fecha  \\\n",
       "0                       @FVallejoQuotes El Matarife. 2021-05-27 03:25:25   \n",
       "1  @MargaritaRepo Jajajaja yo lo viví y soy antiu... 2021-05-27 03:24:51   \n",
       "2  @Juanval121 @NoticiasCaracol Si, que fue un ra... 2021-05-27 03:22:21   \n",
       "3  @gabo180 PUES CLSRO @PAOLAHOLGUIN CON TANTA PL... 2021-05-27 03:20:14   \n",
       "4  Los (mea culpa) ojo Colombia con esta nueva es... 2021-05-27 03:17:08   \n",
       "\n",
       "   ciudad    localizacion_usuario                   id  \\\n",
       "0  Bogotá     Manizales, Colombia  1397755795060760576   \n",
       "1  Bogotá  Bogotá, D.C., Colombia  1397755652727005186   \n",
       "2  Bogotá  Bogotá, D.C., Colombia  1397755022348361730   \n",
       "3  Bogotá  Bogotá, D.C., Colombia  1397754492171472897   \n",
       "4  Bogotá                 BOGOTÁ   1397753712429473794   \n",
       "\n",
       "                                              enlace  \n",
       "0  https://twitter.com/i/web/stuatus/139775579506...  \n",
       "1  https://twitter.com/i/web/stuatus/139775565272...  \n",
       "2  https://twitter.com/i/web/stuatus/139775502234...  \n",
       "3  https://twitter.com/i/web/stuatus/139775449217...  \n",
       "4  https://twitter.com/i/web/stuatus/139775371242...  "
      ]
     },
     "execution_count": 2,
     "metadata": {},
     "output_type": "execute_result"
    }
   ],
   "source": [
    "# Obtener variables de entorno desde sistema local\n",
    "API_KEY = os.getenv('TWITTER_API_KEY')\n",
    "API_SECRET_KEY = os.environ.get('TWITTER_API_SECRET_KEY')\n",
    "BEARER_TOKEN =os.environ.get('TWITTER_BEARER_TOKEN')\n",
    "ACCESS_TOKEN= os.environ.get('TWITTER_ACCESS_TOKEN')\n",
    "ACCESS_TOKEN_SECRET= os.environ.get('TWITTER_ACCESS_TOKEN_SECRET')\n",
    "\n",
    "\n",
    "auth = tweepy.OAuthHandler(API_KEY, API_SECRET_KEY)\n",
    "auth.set_access_token(ACCESS_TOKEN, ACCESS_TOKEN_SECRET)\n",
    "api = tweepy.API(auth, wait_on_rate_limit=True)\n",
    "# obtener tweets con la misma temática del taller 11\n",
    "tweets = tweepy.Cursor(api.search,\n",
    "                       q=['Matarife -RT'],\n",
    "                       lang='es',\n",
    "                       geocode='4.3646,-74.0414,100km',\n",
    "                       tweet_mode='extended',\n",
    "                       include_rts=False,\n",
    "                       ).items(110)\n",
    "\n",
    "# Objeto generador\n",
    "t = [tweet for tweet in tweets]\n",
    "\n",
    "t_processed = []\n",
    "\n",
    "for tweet in t: \n",
    "    temp = []\n",
    "    temp.append(tweet.full_text)\n",
    "    temp.append(tweet.created_at)\n",
    "    temp.append('Bogotá')\n",
    "    temp.append(tweet.user.location)\n",
    "    temp.append(tweet.id)\n",
    "    temp.append(f\"https://twitter.com/i/web/stuatus/{tweet.id}\")\n",
    "    \n",
    "    t_processed.append(temp)\n",
    "   \n",
    "datos = pd.DataFrame(t_processed)\n",
    "datos.columns = ['tweets', 'fecha', 'ciudad', 'localizacion_usuario', 'id', 'enlace']\n",
    "datos.head()"
   ]
  },
  {
   "cell_type": "code",
   "execution_count": 3,
   "metadata": {},
   "outputs": [
    {
     "data": {
      "text/html": [
       "<div>\n",
       "<style scoped>\n",
       "    .dataframe tbody tr th:only-of-type {\n",
       "        vertical-align: middle;\n",
       "    }\n",
       "\n",
       "    .dataframe tbody tr th {\n",
       "        vertical-align: top;\n",
       "    }\n",
       "\n",
       "    .dataframe thead th {\n",
       "        text-align: right;\n",
       "    }\n",
       "</style>\n",
       "<table border=\"1\" class=\"dataframe\">\n",
       "  <thead>\n",
       "    <tr style=\"text-align: right;\">\n",
       "      <th></th>\n",
       "      <th>tweets</th>\n",
       "      <th>fecha</th>\n",
       "      <th>ciudad</th>\n",
       "      <th>localizacion_usuario</th>\n",
       "      <th>id</th>\n",
       "      <th>enlace</th>\n",
       "      <th>texto_limpio</th>\n",
       "      <th>enlaces</th>\n",
       "      <th>hashtags</th>\n",
       "      <th>menciones</th>\n",
       "    </tr>\n",
       "  </thead>\n",
       "  <tbody>\n",
       "    <tr>\n",
       "      <th>0</th>\n",
       "      <td>@FVallejoQuotes El Matarife.</td>\n",
       "      <td>2021-05-27 03:25:25</td>\n",
       "      <td>Bogotá</td>\n",
       "      <td>Manizales, Colombia</td>\n",
       "      <td>1397755795060760576</td>\n",
       "      <td>https://twitter.com/i/web/stuatus/139775579506...</td>\n",
       "      <td>El Matarife.</td>\n",
       "      <td>[]</td>\n",
       "      <td>[]</td>\n",
       "      <td>[@FVallejoQuotes]</td>\n",
       "    </tr>\n",
       "    <tr>\n",
       "      <th>1</th>\n",
       "      <td>@MargaritaRepo Jajajaja yo lo viví y soy antiu...</td>\n",
       "      <td>2021-05-27 03:24:51</td>\n",
       "      <td>Bogotá</td>\n",
       "      <td>Bogotá, D.C., Colombia</td>\n",
       "      <td>1397755652727005186</td>\n",
       "      <td>https://twitter.com/i/web/stuatus/139775565272...</td>\n",
       "      <td>Jajajaja yo lo viví y soy antiuribista 100% s...</td>\n",
       "      <td>[]</td>\n",
       "      <td>[]</td>\n",
       "      <td>[@MargaritaRepo]</td>\n",
       "    </tr>\n",
       "    <tr>\n",
       "      <th>2</th>\n",
       "      <td>@Juanval121 @NoticiasCaracol Si, que fue un ra...</td>\n",
       "      <td>2021-05-27 03:22:21</td>\n",
       "      <td>Bogotá</td>\n",
       "      <td>Bogotá, D.C., Colombia</td>\n",
       "      <td>1397755022348361730</td>\n",
       "      <td>https://twitter.com/i/web/stuatus/139775502234...</td>\n",
       "      <td>Si, que fue un raizal ... que quería desquit...</td>\n",
       "      <td>[]</td>\n",
       "      <td>[]</td>\n",
       "      <td>[@Juanval121, @NoticiasCaracol]</td>\n",
       "    </tr>\n",
       "    <tr>\n",
       "      <th>3</th>\n",
       "      <td>@gabo180 PUES CLSRO @PAOLAHOLGUIN CON TANTA PL...</td>\n",
       "      <td>2021-05-27 03:20:14</td>\n",
       "      <td>Bogotá</td>\n",
       "      <td>Bogotá, D.C., Colombia</td>\n",
       "      <td>1397754492171472897</td>\n",
       "      <td>https://twitter.com/i/web/stuatus/139775449217...</td>\n",
       "      <td>PUES CLSRO  CON TANTA PLATA DEL NARCOTRAFICO ...</td>\n",
       "      <td>[]</td>\n",
       "      <td>[]</td>\n",
       "      <td>[@gabo180, @PAOLAHOLGUIN]</td>\n",
       "    </tr>\n",
       "    <tr>\n",
       "      <th>4</th>\n",
       "      <td>Los (mea culpa) ojo Colombia con esta nueva es...</td>\n",
       "      <td>2021-05-27 03:17:08</td>\n",
       "      <td>Bogotá</td>\n",
       "      <td>BOGOTÁ</td>\n",
       "      <td>1397753712429473794</td>\n",
       "      <td>https://twitter.com/i/web/stuatus/139775371242...</td>\n",
       "      <td>Los (mea culpa) ojo Colombia con esta nueva es...</td>\n",
       "      <td>[]</td>\n",
       "      <td>[]</td>\n",
       "      <td>[]</td>\n",
       "    </tr>\n",
       "  </tbody>\n",
       "</table>\n",
       "</div>"
      ],
      "text/plain": [
       "                                              tweets               fecha  \\\n",
       "0                       @FVallejoQuotes El Matarife. 2021-05-27 03:25:25   \n",
       "1  @MargaritaRepo Jajajaja yo lo viví y soy antiu... 2021-05-27 03:24:51   \n",
       "2  @Juanval121 @NoticiasCaracol Si, que fue un ra... 2021-05-27 03:22:21   \n",
       "3  @gabo180 PUES CLSRO @PAOLAHOLGUIN CON TANTA PL... 2021-05-27 03:20:14   \n",
       "4  Los (mea culpa) ojo Colombia con esta nueva es... 2021-05-27 03:17:08   \n",
       "\n",
       "   ciudad    localizacion_usuario                   id  \\\n",
       "0  Bogotá     Manizales, Colombia  1397755795060760576   \n",
       "1  Bogotá  Bogotá, D.C., Colombia  1397755652727005186   \n",
       "2  Bogotá  Bogotá, D.C., Colombia  1397755022348361730   \n",
       "3  Bogotá  Bogotá, D.C., Colombia  1397754492171472897   \n",
       "4  Bogotá                 BOGOTÁ   1397753712429473794   \n",
       "\n",
       "                                              enlace  \\\n",
       "0  https://twitter.com/i/web/stuatus/139775579506...   \n",
       "1  https://twitter.com/i/web/stuatus/139775565272...   \n",
       "2  https://twitter.com/i/web/stuatus/139775502234...   \n",
       "3  https://twitter.com/i/web/stuatus/139775449217...   \n",
       "4  https://twitter.com/i/web/stuatus/139775371242...   \n",
       "\n",
       "                                        texto_limpio enlaces hashtags  \\\n",
       "0                                       El Matarife.      []       []   \n",
       "1   Jajajaja yo lo viví y soy antiuribista 100% s...      []       []   \n",
       "2    Si, que fue un raizal ... que quería desquit...      []       []   \n",
       "3   PUES CLSRO  CON TANTA PLATA DEL NARCOTRAFICO ...      []       []   \n",
       "4  Los (mea culpa) ojo Colombia con esta nueva es...      []       []   \n",
       "\n",
       "                         menciones  \n",
       "0                [@FVallejoQuotes]  \n",
       "1                 [@MargaritaRepo]  \n",
       "2  [@Juanval121, @NoticiasCaracol]  \n",
       "3        [@gabo180, @PAOLAHOLGUIN]  \n",
       "4                               []  "
      ]
     },
     "execution_count": 3,
     "metadata": {},
     "output_type": "execute_result"
    }
   ],
   "source": [
    "pattern1 = '?P<pic>pic.twitter.com/[^\\s]+'\n",
    "pattern2 = '?P<url>https?://[^\\s]+'\n",
    "\n",
    "def text_clean(row):\n",
    "    text = row['tweets']\n",
    "    \n",
    "    links = [tuple(j for j in i if j)[-1] for i in re.findall(f\"({pattern1})|({pattern2})\",text)]\n",
    "    for link in links:\n",
    "        text = text.replace(link,\"\")\n",
    "    \n",
    "    hashtags = [interaction for interaction in text.split() if interaction.startswith(\"#\")]\n",
    "    for hashtag in hashtags:\n",
    "        text = text.replace(hashtag, \"\")\n",
    "        \n",
    "    mentions = [interaction for interaction in text.split() if interaction.startswith(\"@\")]\n",
    "    for mention in mentions:\n",
    "        text = text.replace(mention, \"\")\n",
    "        \n",
    "    return text, links, hashtags, mentions\n",
    "  \n",
    "  \n",
    "datos[['texto_limpio', 'enlaces', 'hashtags', 'menciones']] = datos.apply(text_clean, axis=1, result_type='expand')\n",
    "datos.head()\n",
    "\n"
   ]
  },
  {
   "cell_type": "code",
   "execution_count": 4,
   "metadata": {},
   "outputs": [
    {
     "data": {
      "text/html": [
       "<div>\n",
       "<style scoped>\n",
       "    .dataframe tbody tr th:only-of-type {\n",
       "        vertical-align: middle;\n",
       "    }\n",
       "\n",
       "    .dataframe tbody tr th {\n",
       "        vertical-align: top;\n",
       "    }\n",
       "\n",
       "    .dataframe thead th {\n",
       "        text-align: right;\n",
       "    }\n",
       "</style>\n",
       "<table border=\"1\" class=\"dataframe\">\n",
       "  <thead>\n",
       "    <tr style=\"text-align: right;\">\n",
       "      <th></th>\n",
       "      <th>tweets</th>\n",
       "      <th>fecha</th>\n",
       "      <th>ciudad</th>\n",
       "      <th>localizacion_usuario</th>\n",
       "      <th>id</th>\n",
       "      <th>enlace</th>\n",
       "      <th>texto_limpio</th>\n",
       "      <th>enlaces</th>\n",
       "      <th>hashtags</th>\n",
       "      <th>menciones</th>\n",
       "      <th>emojis</th>\n",
       "    </tr>\n",
       "  </thead>\n",
       "  <tbody>\n",
       "    <tr>\n",
       "      <th>0</th>\n",
       "      <td>@FVallejoQuotes El Matarife.</td>\n",
       "      <td>2021-05-27 03:25:25</td>\n",
       "      <td>Bogotá</td>\n",
       "      <td>Manizales, Colombia</td>\n",
       "      <td>1397755795060760576</td>\n",
       "      <td>https://twitter.com/i/web/stuatus/139775579506...</td>\n",
       "      <td>El Matarife.</td>\n",
       "      <td>[]</td>\n",
       "      <td>[]</td>\n",
       "      <td>[@FVallejoQuotes]</td>\n",
       "      <td>[]</td>\n",
       "    </tr>\n",
       "    <tr>\n",
       "      <th>1</th>\n",
       "      <td>@MargaritaRepo Jajajaja yo lo viví y soy antiu...</td>\n",
       "      <td>2021-05-27 03:24:51</td>\n",
       "      <td>Bogotá</td>\n",
       "      <td>Bogotá, D.C., Colombia</td>\n",
       "      <td>1397755652727005186</td>\n",
       "      <td>https://twitter.com/i/web/stuatus/139775565272...</td>\n",
       "      <td>Jajajaja yo lo viví y soy antiuribista 100% s...</td>\n",
       "      <td>[]</td>\n",
       "      <td>[]</td>\n",
       "      <td>[@MargaritaRepo]</td>\n",
       "      <td>[]</td>\n",
       "    </tr>\n",
       "    <tr>\n",
       "      <th>2</th>\n",
       "      <td>@Juanval121 @NoticiasCaracol Si, que fue un ra...</td>\n",
       "      <td>2021-05-27 03:22:21</td>\n",
       "      <td>Bogotá</td>\n",
       "      <td>Bogotá, D.C., Colombia</td>\n",
       "      <td>1397755022348361730</td>\n",
       "      <td>https://twitter.com/i/web/stuatus/139775502234...</td>\n",
       "      <td>Si, que fue un raizal ... que quería desquit...</td>\n",
       "      <td>[]</td>\n",
       "      <td>[]</td>\n",
       "      <td>[@Juanval121, @NoticiasCaracol]</td>\n",
       "      <td>[]</td>\n",
       "    </tr>\n",
       "    <tr>\n",
       "      <th>3</th>\n",
       "      <td>@gabo180 PUES CLSRO @PAOLAHOLGUIN CON TANTA PL...</td>\n",
       "      <td>2021-05-27 03:20:14</td>\n",
       "      <td>Bogotá</td>\n",
       "      <td>Bogotá, D.C., Colombia</td>\n",
       "      <td>1397754492171472897</td>\n",
       "      <td>https://twitter.com/i/web/stuatus/139775449217...</td>\n",
       "      <td>PUES CLSRO  CON TANTA PLATA DEL NARCOTRAFICO ...</td>\n",
       "      <td>[]</td>\n",
       "      <td>[]</td>\n",
       "      <td>[@gabo180, @PAOLAHOLGUIN]</td>\n",
       "      <td>[]</td>\n",
       "    </tr>\n",
       "    <tr>\n",
       "      <th>4</th>\n",
       "      <td>Los (mea culpa) ojo Colombia con esta nueva es...</td>\n",
       "      <td>2021-05-27 03:17:08</td>\n",
       "      <td>Bogotá</td>\n",
       "      <td>BOGOTÁ</td>\n",
       "      <td>1397753712429473794</td>\n",
       "      <td>https://twitter.com/i/web/stuatus/139775371242...</td>\n",
       "      <td>Los (mea culpa) ojo Colombia con esta nueva es...</td>\n",
       "      <td>[]</td>\n",
       "      <td>[]</td>\n",
       "      <td>[]</td>\n",
       "      <td>[]</td>\n",
       "    </tr>\n",
       "  </tbody>\n",
       "</table>\n",
       "</div>"
      ],
      "text/plain": [
       "                                              tweets               fecha  \\\n",
       "0                       @FVallejoQuotes El Matarife. 2021-05-27 03:25:25   \n",
       "1  @MargaritaRepo Jajajaja yo lo viví y soy antiu... 2021-05-27 03:24:51   \n",
       "2  @Juanval121 @NoticiasCaracol Si, que fue un ra... 2021-05-27 03:22:21   \n",
       "3  @gabo180 PUES CLSRO @PAOLAHOLGUIN CON TANTA PL... 2021-05-27 03:20:14   \n",
       "4  Los (mea culpa) ojo Colombia con esta nueva es... 2021-05-27 03:17:08   \n",
       "\n",
       "   ciudad    localizacion_usuario                   id  \\\n",
       "0  Bogotá     Manizales, Colombia  1397755795060760576   \n",
       "1  Bogotá  Bogotá, D.C., Colombia  1397755652727005186   \n",
       "2  Bogotá  Bogotá, D.C., Colombia  1397755022348361730   \n",
       "3  Bogotá  Bogotá, D.C., Colombia  1397754492171472897   \n",
       "4  Bogotá                 BOGOTÁ   1397753712429473794   \n",
       "\n",
       "                                              enlace  \\\n",
       "0  https://twitter.com/i/web/stuatus/139775579506...   \n",
       "1  https://twitter.com/i/web/stuatus/139775565272...   \n",
       "2  https://twitter.com/i/web/stuatus/139775502234...   \n",
       "3  https://twitter.com/i/web/stuatus/139775449217...   \n",
       "4  https://twitter.com/i/web/stuatus/139775371242...   \n",
       "\n",
       "                                        texto_limpio enlaces hashtags  \\\n",
       "0                                       El Matarife.      []       []   \n",
       "1   Jajajaja yo lo viví y soy antiuribista 100% s...      []       []   \n",
       "2    Si, que fue un raizal ... que quería desquit...      []       []   \n",
       "3   PUES CLSRO  CON TANTA PLATA DEL NARCOTRAFICO ...      []       []   \n",
       "4  Los (mea culpa) ojo Colombia con esta nueva es...      []       []   \n",
       "\n",
       "                         menciones emojis  \n",
       "0                [@FVallejoQuotes]     []  \n",
       "1                 [@MargaritaRepo]     []  \n",
       "2  [@Juanval121, @NoticiasCaracol]     []  \n",
       "3        [@gabo180, @PAOLAHOLGUIN]     []  \n",
       "4                               []     []  "
      ]
     },
     "execution_count": 4,
     "metadata": {},
     "output_type": "execute_result"
    }
   ],
   "source": [
    "def get_emojis(text):\n",
    "    emoji_list = []\n",
    "    data = regex.findall(r'\\X', text)\n",
    "    for word in data:\n",
    "        if any(char in emoji.UNICODE_EMOJI['en'] for char in word):\n",
    "            emoji_list.append(word)\n",
    "\n",
    "    return emoji_list\n",
    "  \n",
    "  \n",
    "\n",
    "datos['emojis'] = datos['texto_limpio'].apply(lambda text: get_emojis(text))\n",
    "datos.head()"
   ]
  },
  {
   "cell_type": "code",
   "execution_count": 5,
   "metadata": {},
   "outputs": [],
   "source": [
    "# Definición de función de pre-procesamiento\n",
    "stopwords_sp = stopwords.words('spanish')\n",
    "stopwords_sp.extend([\"https\", \"http\", \"co\", \"com\", \"edu\",\"eu\",\"Álvaro\",\"Uribe\", \"Vélez\", \"Matarife\", \"u\",\"û\",\"q\",\"k\",\"w\",\"a\",\"p\",\"pg\",\"b\",\"c\",\"f\",\"z\",\"j\",\n",
    "                  \"v\",\"n\",\"g\",\"e\",\"r\",\"x\",\"l\",\"h\",\"st\",\"rt\",\"lol\",\"aa\", \"vélez\",\"vélezel\",\"álvaro\",\"uribe\"])\n",
    "\n",
    "def preProcesado(texto):\n",
    "    texto = texto.lower()\n",
    "    texto = re.sub(r\"[\\W\\d_]+\", \" \", texto)\n",
    "    texto = texto.split() # Tokenizar\n",
    "    texto = [palabra for palabra in texto if palabra not in stopwords_sp]\n",
    "    texto = \" \".join(texto)\n",
    "    return texto"
   ]
  },
  {
   "cell_type": "code",
   "execution_count": 6,
   "metadata": {},
   "outputs": [
    {
     "data": {
      "text/html": [
       "<div>\n",
       "<style scoped>\n",
       "    .dataframe tbody tr th:only-of-type {\n",
       "        vertical-align: middle;\n",
       "    }\n",
       "\n",
       "    .dataframe tbody tr th {\n",
       "        vertical-align: top;\n",
       "    }\n",
       "\n",
       "    .dataframe thead th {\n",
       "        text-align: right;\n",
       "    }\n",
       "</style>\n",
       "<table border=\"1\" class=\"dataframe\">\n",
       "  <thead>\n",
       "    <tr style=\"text-align: right;\">\n",
       "      <th></th>\n",
       "      <th>tweets</th>\n",
       "      <th>fecha</th>\n",
       "      <th>ciudad</th>\n",
       "      <th>localizacion_usuario</th>\n",
       "      <th>id</th>\n",
       "      <th>enlace</th>\n",
       "      <th>texto_limpio</th>\n",
       "      <th>enlaces</th>\n",
       "      <th>hashtags</th>\n",
       "      <th>menciones</th>\n",
       "      <th>emojis</th>\n",
       "      <th>pre_procesado</th>\n",
       "    </tr>\n",
       "  </thead>\n",
       "  <tbody>\n",
       "    <tr>\n",
       "      <th>0</th>\n",
       "      <td>@FVallejoQuotes El Matarife.</td>\n",
       "      <td>2021-05-27 03:25:25</td>\n",
       "      <td>Bogotá</td>\n",
       "      <td>Manizales, Colombia</td>\n",
       "      <td>1397755795060760576</td>\n",
       "      <td>https://twitter.com/i/web/stuatus/139775579506...</td>\n",
       "      <td>El Matarife.</td>\n",
       "      <td>[]</td>\n",
       "      <td>[]</td>\n",
       "      <td>[@FVallejoQuotes]</td>\n",
       "      <td>[]</td>\n",
       "      <td>matarife</td>\n",
       "    </tr>\n",
       "    <tr>\n",
       "      <th>1</th>\n",
       "      <td>@MargaritaRepo Jajajaja yo lo viví y soy antiu...</td>\n",
       "      <td>2021-05-27 03:24:51</td>\n",
       "      <td>Bogotá</td>\n",
       "      <td>Bogotá, D.C., Colombia</td>\n",
       "      <td>1397755652727005186</td>\n",
       "      <td>https://twitter.com/i/web/stuatus/139775565272...</td>\n",
       "      <td>Jajajaja yo lo viví y soy antiuribista 100% s...</td>\n",
       "      <td>[]</td>\n",
       "      <td>[]</td>\n",
       "      <td>[@MargaritaRepo]</td>\n",
       "      <td>[]</td>\n",
       "      <td>jajajaja viví antiuribista sólo farsa asesino ...</td>\n",
       "    </tr>\n",
       "    <tr>\n",
       "      <th>2</th>\n",
       "      <td>@Juanval121 @NoticiasCaracol Si, que fue un ra...</td>\n",
       "      <td>2021-05-27 03:22:21</td>\n",
       "      <td>Bogotá</td>\n",
       "      <td>Bogotá, D.C., Colombia</td>\n",
       "      <td>1397755022348361730</td>\n",
       "      <td>https://twitter.com/i/web/stuatus/139775502234...</td>\n",
       "      <td>Si, que fue un raizal ... que quería desquit...</td>\n",
       "      <td>[]</td>\n",
       "      <td>[]</td>\n",
       "      <td>[@Juanval121, @NoticiasCaracol]</td>\n",
       "      <td>[]</td>\n",
       "      <td>si raizal quería desquitarse armada reclamar t...</td>\n",
       "    </tr>\n",
       "    <tr>\n",
       "      <th>3</th>\n",
       "      <td>@gabo180 PUES CLSRO @PAOLAHOLGUIN CON TANTA PL...</td>\n",
       "      <td>2021-05-27 03:20:14</td>\n",
       "      <td>Bogotá</td>\n",
       "      <td>Bogotá, D.C., Colombia</td>\n",
       "      <td>1397754492171472897</td>\n",
       "      <td>https://twitter.com/i/web/stuatus/139775449217...</td>\n",
       "      <td>PUES CLSRO  CON TANTA PLATA DEL NARCOTRAFICO ...</td>\n",
       "      <td>[]</td>\n",
       "      <td>[]</td>\n",
       "      <td>[@gabo180, @PAOLAHOLGUIN]</td>\n",
       "      <td>[]</td>\n",
       "      <td>pues clsro tanta plata narcotrafico apadrinada...</td>\n",
       "    </tr>\n",
       "    <tr>\n",
       "      <th>4</th>\n",
       "      <td>Los (mea culpa) ojo Colombia con esta nueva es...</td>\n",
       "      <td>2021-05-27 03:17:08</td>\n",
       "      <td>Bogotá</td>\n",
       "      <td>BOGOTÁ</td>\n",
       "      <td>1397753712429473794</td>\n",
       "      <td>https://twitter.com/i/web/stuatus/139775371242...</td>\n",
       "      <td>Los (mea culpa) ojo Colombia con esta nueva es...</td>\n",
       "      <td>[]</td>\n",
       "      <td>[]</td>\n",
       "      <td>[]</td>\n",
       "      <td>[]</td>\n",
       "      <td>mea culpa ojo colombia nueva estrategia tibios...</td>\n",
       "    </tr>\n",
       "  </tbody>\n",
       "</table>\n",
       "</div>"
      ],
      "text/plain": [
       "                                              tweets               fecha  \\\n",
       "0                       @FVallejoQuotes El Matarife. 2021-05-27 03:25:25   \n",
       "1  @MargaritaRepo Jajajaja yo lo viví y soy antiu... 2021-05-27 03:24:51   \n",
       "2  @Juanval121 @NoticiasCaracol Si, que fue un ra... 2021-05-27 03:22:21   \n",
       "3  @gabo180 PUES CLSRO @PAOLAHOLGUIN CON TANTA PL... 2021-05-27 03:20:14   \n",
       "4  Los (mea culpa) ojo Colombia con esta nueva es... 2021-05-27 03:17:08   \n",
       "\n",
       "   ciudad    localizacion_usuario                   id  \\\n",
       "0  Bogotá     Manizales, Colombia  1397755795060760576   \n",
       "1  Bogotá  Bogotá, D.C., Colombia  1397755652727005186   \n",
       "2  Bogotá  Bogotá, D.C., Colombia  1397755022348361730   \n",
       "3  Bogotá  Bogotá, D.C., Colombia  1397754492171472897   \n",
       "4  Bogotá                 BOGOTÁ   1397753712429473794   \n",
       "\n",
       "                                              enlace  \\\n",
       "0  https://twitter.com/i/web/stuatus/139775579506...   \n",
       "1  https://twitter.com/i/web/stuatus/139775565272...   \n",
       "2  https://twitter.com/i/web/stuatus/139775502234...   \n",
       "3  https://twitter.com/i/web/stuatus/139775449217...   \n",
       "4  https://twitter.com/i/web/stuatus/139775371242...   \n",
       "\n",
       "                                        texto_limpio enlaces hashtags  \\\n",
       "0                                       El Matarife.      []       []   \n",
       "1   Jajajaja yo lo viví y soy antiuribista 100% s...      []       []   \n",
       "2    Si, que fue un raizal ... que quería desquit...      []       []   \n",
       "3   PUES CLSRO  CON TANTA PLATA DEL NARCOTRAFICO ...      []       []   \n",
       "4  Los (mea culpa) ojo Colombia con esta nueva es...      []       []   \n",
       "\n",
       "                         menciones emojis  \\\n",
       "0                [@FVallejoQuotes]     []   \n",
       "1                 [@MargaritaRepo]     []   \n",
       "2  [@Juanval121, @NoticiasCaracol]     []   \n",
       "3        [@gabo180, @PAOLAHOLGUIN]     []   \n",
       "4                               []     []   \n",
       "\n",
       "                                       pre_procesado  \n",
       "0                                           matarife  \n",
       "1  jajajaja viví antiuribista sólo farsa asesino ...  \n",
       "2  si raizal quería desquitarse armada reclamar t...  \n",
       "3  pues clsro tanta plata narcotrafico apadrinada...  \n",
       "4  mea culpa ojo colombia nueva estrategia tibios...  "
      ]
     },
     "execution_count": 6,
     "metadata": {},
     "output_type": "execute_result"
    }
   ],
   "source": [
    "datos['pre_procesado'] = datos['texto_limpio'].apply(lambda x: preProcesado(x))\n",
    "datos.head()"
   ]
  },
  {
   "cell_type": "code",
   "execution_count": 7,
   "metadata": {},
   "outputs": [],
   "source": [
    "translate_client = translate.Client()\n",
    "\n",
    "def traducir(texto, lenguaje):\n",
    "    if isinstance(texto, six.binary_type):\n",
    "        texto = texto.decode(\"utf-8\")\n",
    "\n",
    "    # Text can also be a sequence of strings, in which case this method\n",
    "    # will return a sequence of results for each text.\n",
    "    resultado = translate_client.translate(texto, target_language=lenguaje)\n",
    "    return resultado['translatedText']"
   ]
  },
  {
   "cell_type": "code",
   "execution_count": 8,
   "metadata": {},
   "outputs": [
    {
     "data": {
      "text/html": [
       "<div>\n",
       "<style scoped>\n",
       "    .dataframe tbody tr th:only-of-type {\n",
       "        vertical-align: middle;\n",
       "    }\n",
       "\n",
       "    .dataframe tbody tr th {\n",
       "        vertical-align: top;\n",
       "    }\n",
       "\n",
       "    .dataframe thead th {\n",
       "        text-align: right;\n",
       "    }\n",
       "</style>\n",
       "<table border=\"1\" class=\"dataframe\">\n",
       "  <thead>\n",
       "    <tr style=\"text-align: right;\">\n",
       "      <th></th>\n",
       "      <th>tweets</th>\n",
       "      <th>fecha</th>\n",
       "      <th>ciudad</th>\n",
       "      <th>localizacion_usuario</th>\n",
       "      <th>id</th>\n",
       "      <th>enlace</th>\n",
       "      <th>texto_limpio</th>\n",
       "      <th>enlaces</th>\n",
       "      <th>hashtags</th>\n",
       "      <th>menciones</th>\n",
       "      <th>emojis</th>\n",
       "      <th>pre_procesado</th>\n",
       "      <th>traducido</th>\n",
       "    </tr>\n",
       "  </thead>\n",
       "  <tbody>\n",
       "    <tr>\n",
       "      <th>0</th>\n",
       "      <td>@FVallejoQuotes El Matarife.</td>\n",
       "      <td>2021-05-27 03:25:25</td>\n",
       "      <td>Bogotá</td>\n",
       "      <td>Manizales, Colombia</td>\n",
       "      <td>1397755795060760576</td>\n",
       "      <td>https://twitter.com/i/web/stuatus/139775579506...</td>\n",
       "      <td>El Matarife.</td>\n",
       "      <td>[]</td>\n",
       "      <td>[]</td>\n",
       "      <td>[@FVallejoQuotes]</td>\n",
       "      <td>[]</td>\n",
       "      <td>matarife</td>\n",
       "      <td>matarife</td>\n",
       "    </tr>\n",
       "    <tr>\n",
       "      <th>1</th>\n",
       "      <td>@MargaritaRepo Jajajaja yo lo viví y soy antiu...</td>\n",
       "      <td>2021-05-27 03:24:51</td>\n",
       "      <td>Bogotá</td>\n",
       "      <td>Bogotá, D.C., Colombia</td>\n",
       "      <td>1397755652727005186</td>\n",
       "      <td>https://twitter.com/i/web/stuatus/139775565272...</td>\n",
       "      <td>Jajajaja yo lo viví y soy antiuribista 100% s...</td>\n",
       "      <td>[]</td>\n",
       "      <td>[]</td>\n",
       "      <td>[@MargaritaRepo]</td>\n",
       "      <td>[]</td>\n",
       "      <td>jajajaja viví antiuribista sólo farsa asesino ...</td>\n",
       "      <td>hahahaha I lived anti-uribista only farce murd...</td>\n",
       "    </tr>\n",
       "    <tr>\n",
       "      <th>2</th>\n",
       "      <td>@Juanval121 @NoticiasCaracol Si, que fue un ra...</td>\n",
       "      <td>2021-05-27 03:22:21</td>\n",
       "      <td>Bogotá</td>\n",
       "      <td>Bogotá, D.C., Colombia</td>\n",
       "      <td>1397755022348361730</td>\n",
       "      <td>https://twitter.com/i/web/stuatus/139775502234...</td>\n",
       "      <td>Si, que fue un raizal ... que quería desquit...</td>\n",
       "      <td>[]</td>\n",
       "      <td>[]</td>\n",
       "      <td>[@Juanval121, @NoticiasCaracol]</td>\n",
       "      <td>[]</td>\n",
       "      <td>si raizal quería desquitarse armada reclamar t...</td>\n",
       "      <td>If Raizal wanted to get even with the army, cl...</td>\n",
       "    </tr>\n",
       "    <tr>\n",
       "      <th>3</th>\n",
       "      <td>@gabo180 PUES CLSRO @PAOLAHOLGUIN CON TANTA PL...</td>\n",
       "      <td>2021-05-27 03:20:14</td>\n",
       "      <td>Bogotá</td>\n",
       "      <td>Bogotá, D.C., Colombia</td>\n",
       "      <td>1397754492171472897</td>\n",
       "      <td>https://twitter.com/i/web/stuatus/139775449217...</td>\n",
       "      <td>PUES CLSRO  CON TANTA PLATA DEL NARCOTRAFICO ...</td>\n",
       "      <td>[]</td>\n",
       "      <td>[]</td>\n",
       "      <td>[@gabo180, @PAOLAHOLGUIN]</td>\n",
       "      <td>[]</td>\n",
       "      <td>pues clsro tanta plata narcotrafico apadrinada...</td>\n",
       "      <td>Well then, so much money for drug trafficking ...</td>\n",
       "    </tr>\n",
       "    <tr>\n",
       "      <th>4</th>\n",
       "      <td>Los (mea culpa) ojo Colombia con esta nueva es...</td>\n",
       "      <td>2021-05-27 03:17:08</td>\n",
       "      <td>Bogotá</td>\n",
       "      <td>BOGOTÁ</td>\n",
       "      <td>1397753712429473794</td>\n",
       "      <td>https://twitter.com/i/web/stuatus/139775371242...</td>\n",
       "      <td>Los (mea culpa) ojo Colombia con esta nueva es...</td>\n",
       "      <td>[]</td>\n",
       "      <td>[]</td>\n",
       "      <td>[]</td>\n",
       "      <td>[]</td>\n",
       "      <td>mea culpa ojo colombia nueva estrategia tibios...</td>\n",
       "      <td>mea culpa eye colombia new strategy lukewarm r...</td>\n",
       "    </tr>\n",
       "  </tbody>\n",
       "</table>\n",
       "</div>"
      ],
      "text/plain": [
       "                                              tweets               fecha  \\\n",
       "0                       @FVallejoQuotes El Matarife. 2021-05-27 03:25:25   \n",
       "1  @MargaritaRepo Jajajaja yo lo viví y soy antiu... 2021-05-27 03:24:51   \n",
       "2  @Juanval121 @NoticiasCaracol Si, que fue un ra... 2021-05-27 03:22:21   \n",
       "3  @gabo180 PUES CLSRO @PAOLAHOLGUIN CON TANTA PL... 2021-05-27 03:20:14   \n",
       "4  Los (mea culpa) ojo Colombia con esta nueva es... 2021-05-27 03:17:08   \n",
       "\n",
       "   ciudad    localizacion_usuario                   id  \\\n",
       "0  Bogotá     Manizales, Colombia  1397755795060760576   \n",
       "1  Bogotá  Bogotá, D.C., Colombia  1397755652727005186   \n",
       "2  Bogotá  Bogotá, D.C., Colombia  1397755022348361730   \n",
       "3  Bogotá  Bogotá, D.C., Colombia  1397754492171472897   \n",
       "4  Bogotá                 BOGOTÁ   1397753712429473794   \n",
       "\n",
       "                                              enlace  \\\n",
       "0  https://twitter.com/i/web/stuatus/139775579506...   \n",
       "1  https://twitter.com/i/web/stuatus/139775565272...   \n",
       "2  https://twitter.com/i/web/stuatus/139775502234...   \n",
       "3  https://twitter.com/i/web/stuatus/139775449217...   \n",
       "4  https://twitter.com/i/web/stuatus/139775371242...   \n",
       "\n",
       "                                        texto_limpio enlaces hashtags  \\\n",
       "0                                       El Matarife.      []       []   \n",
       "1   Jajajaja yo lo viví y soy antiuribista 100% s...      []       []   \n",
       "2    Si, que fue un raizal ... que quería desquit...      []       []   \n",
       "3   PUES CLSRO  CON TANTA PLATA DEL NARCOTRAFICO ...      []       []   \n",
       "4  Los (mea culpa) ojo Colombia con esta nueva es...      []       []   \n",
       "\n",
       "                         menciones emojis  \\\n",
       "0                [@FVallejoQuotes]     []   \n",
       "1                 [@MargaritaRepo]     []   \n",
       "2  [@Juanval121, @NoticiasCaracol]     []   \n",
       "3        [@gabo180, @PAOLAHOLGUIN]     []   \n",
       "4                               []     []   \n",
       "\n",
       "                                       pre_procesado  \\\n",
       "0                                           matarife   \n",
       "1  jajajaja viví antiuribista sólo farsa asesino ...   \n",
       "2  si raizal quería desquitarse armada reclamar t...   \n",
       "3  pues clsro tanta plata narcotrafico apadrinada...   \n",
       "4  mea culpa ojo colombia nueva estrategia tibios...   \n",
       "\n",
       "                                           traducido  \n",
       "0                                           matarife  \n",
       "1  hahahaha I lived anti-uribista only farce murd...  \n",
       "2  If Raizal wanted to get even with the army, cl...  \n",
       "3  Well then, so much money for drug trafficking ...  \n",
       "4  mea culpa eye colombia new strategy lukewarm r...  "
      ]
     },
     "execution_count": 8,
     "metadata": {},
     "output_type": "execute_result"
    }
   ],
   "source": [
    "lenguaje = 'en'\n",
    "datos['traducido'] = datos['pre_procesado'].apply(lambda x: traducir(x,lenguaje))\n",
    "datos.head()"
   ]
  },
  {
   "cell_type": "code",
   "execution_count": 9,
   "metadata": {},
   "outputs": [
    {
     "name": "stdout",
     "output_type": "stream",
     "text": [
      "2021-05-26 22:37:16,394 loading file C:\\Users\\gabri\\.flair\\models\\sentiment-en-mix-distillbert_4.pt\n"
     ]
    }
   ],
   "source": [
    "classifier = TextClassifier.load('sentiment')\n",
    "\n",
    "def sent_flair(texto):\n",
    "    sentence = Sentence(texto)\n",
    "    classifier.predict(sentence)\n",
    "    result = sentence.labels[0]\n",
    "    label = result.value\n",
    "    score = result.score\n",
    "    if label == 'POSITIVE':\n",
    "        return score\n",
    "    if label == 'NEGATIVE':\n",
    "        return -1 * score\n",
    "    return score"
   ]
  },
  {
   "cell_type": "code",
   "execution_count": 10,
   "metadata": {},
   "outputs": [
    {
     "data": {
      "text/html": [
       "<div>\n",
       "<style scoped>\n",
       "    .dataframe tbody tr th:only-of-type {\n",
       "        vertical-align: middle;\n",
       "    }\n",
       "\n",
       "    .dataframe tbody tr th {\n",
       "        vertical-align: top;\n",
       "    }\n",
       "\n",
       "    .dataframe thead th {\n",
       "        text-align: right;\n",
       "    }\n",
       "</style>\n",
       "<table border=\"1\" class=\"dataframe\">\n",
       "  <thead>\n",
       "    <tr style=\"text-align: right;\">\n",
       "      <th></th>\n",
       "      <th>tweets</th>\n",
       "      <th>fecha</th>\n",
       "      <th>ciudad</th>\n",
       "      <th>localizacion_usuario</th>\n",
       "      <th>id</th>\n",
       "      <th>enlace</th>\n",
       "      <th>texto_limpio</th>\n",
       "      <th>enlaces</th>\n",
       "      <th>hashtags</th>\n",
       "      <th>menciones</th>\n",
       "      <th>emojis</th>\n",
       "      <th>pre_procesado</th>\n",
       "      <th>traducido</th>\n",
       "      <th>flair_sentiment_es</th>\n",
       "      <th>vader_sentiment_es</th>\n",
       "      <th>textblob_sentiment_es</th>\n",
       "      <th>textblob_sentiment_en</th>\n",
       "      <th>vader_sentiment_en</th>\n",
       "      <th>flair_sentiment_en</th>\n",
       "    </tr>\n",
       "  </thead>\n",
       "  <tbody>\n",
       "    <tr>\n",
       "      <th>0</th>\n",
       "      <td>@FVallejoQuotes El Matarife.</td>\n",
       "      <td>2021-05-27 03:25:25</td>\n",
       "      <td>Bogotá</td>\n",
       "      <td>Manizales, Colombia</td>\n",
       "      <td>1397755795060760576</td>\n",
       "      <td>https://twitter.com/i/web/stuatus/139775579506...</td>\n",
       "      <td>El Matarife.</td>\n",
       "      <td>[]</td>\n",
       "      <td>[]</td>\n",
       "      <td>[@FVallejoQuotes]</td>\n",
       "      <td>[]</td>\n",
       "      <td>matarife</td>\n",
       "      <td>matarife</td>\n",
       "      <td>0.940072</td>\n",
       "      <td>0.0</td>\n",
       "      <td>0.0</td>\n",
       "      <td>0.000000</td>\n",
       "      <td>0.0000</td>\n",
       "      <td>0.940072</td>\n",
       "    </tr>\n",
       "    <tr>\n",
       "      <th>1</th>\n",
       "      <td>@MargaritaRepo Jajajaja yo lo viví y soy antiu...</td>\n",
       "      <td>2021-05-27 03:24:51</td>\n",
       "      <td>Bogotá</td>\n",
       "      <td>Bogotá, D.C., Colombia</td>\n",
       "      <td>1397755652727005186</td>\n",
       "      <td>https://twitter.com/i/web/stuatus/139775565272...</td>\n",
       "      <td>Jajajaja yo lo viví y soy antiuribista 100% s...</td>\n",
       "      <td>[]</td>\n",
       "      <td>[]</td>\n",
       "      <td>[@MargaritaRepo]</td>\n",
       "      <td>[]</td>\n",
       "      <td>jajajaja viví antiuribista sólo farsa asesino ...</td>\n",
       "      <td>hahahaha I lived anti-uribista only farce murd...</td>\n",
       "      <td>-0.960450</td>\n",
       "      <td>0.0</td>\n",
       "      <td>0.0</td>\n",
       "      <td>0.100000</td>\n",
       "      <td>-0.2732</td>\n",
       "      <td>-0.995891</td>\n",
       "    </tr>\n",
       "    <tr>\n",
       "      <th>2</th>\n",
       "      <td>@Juanval121 @NoticiasCaracol Si, que fue un ra...</td>\n",
       "      <td>2021-05-27 03:22:21</td>\n",
       "      <td>Bogotá</td>\n",
       "      <td>Bogotá, D.C., Colombia</td>\n",
       "      <td>1397755022348361730</td>\n",
       "      <td>https://twitter.com/i/web/stuatus/139775502234...</td>\n",
       "      <td>Si, que fue un raizal ... que quería desquit...</td>\n",
       "      <td>[]</td>\n",
       "      <td>[]</td>\n",
       "      <td>[@Juanval121, @NoticiasCaracol]</td>\n",
       "      <td>[]</td>\n",
       "      <td>si raizal quería desquitarse armada reclamar t...</td>\n",
       "      <td>If Raizal wanted to get even with the army, cl...</td>\n",
       "      <td>0.992382</td>\n",
       "      <td>0.0</td>\n",
       "      <td>0.0</td>\n",
       "      <td>0.200000</td>\n",
       "      <td>0.5574</td>\n",
       "      <td>-0.986793</td>\n",
       "    </tr>\n",
       "    <tr>\n",
       "      <th>3</th>\n",
       "      <td>@gabo180 PUES CLSRO @PAOLAHOLGUIN CON TANTA PL...</td>\n",
       "      <td>2021-05-27 03:20:14</td>\n",
       "      <td>Bogotá</td>\n",
       "      <td>Bogotá, D.C., Colombia</td>\n",
       "      <td>1397754492171472897</td>\n",
       "      <td>https://twitter.com/i/web/stuatus/139775449217...</td>\n",
       "      <td>PUES CLSRO  CON TANTA PLATA DEL NARCOTRAFICO ...</td>\n",
       "      <td>[]</td>\n",
       "      <td>[]</td>\n",
       "      <td>[@gabo180, @PAOLAHOLGUIN]</td>\n",
       "      <td>[]</td>\n",
       "      <td>pues clsro tanta plata narcotrafico apadrinada...</td>\n",
       "      <td>Well then, so much money for drug trafficking ...</td>\n",
       "      <td>0.571968</td>\n",
       "      <td>0.0</td>\n",
       "      <td>0.0</td>\n",
       "      <td>0.200000</td>\n",
       "      <td>0.2732</td>\n",
       "      <td>-0.998634</td>\n",
       "    </tr>\n",
       "    <tr>\n",
       "      <th>4</th>\n",
       "      <td>Los (mea culpa) ojo Colombia con esta nueva es...</td>\n",
       "      <td>2021-05-27 03:17:08</td>\n",
       "      <td>Bogotá</td>\n",
       "      <td>BOGOTÁ</td>\n",
       "      <td>1397753712429473794</td>\n",
       "      <td>https://twitter.com/i/web/stuatus/139775371242...</td>\n",
       "      <td>Los (mea culpa) ojo Colombia con esta nueva es...</td>\n",
       "      <td>[]</td>\n",
       "      <td>[]</td>\n",
       "      <td>[]</td>\n",
       "      <td>[]</td>\n",
       "      <td>mea culpa ojo colombia nueva estrategia tibios...</td>\n",
       "      <td>mea culpa eye colombia new strategy lukewarm r...</td>\n",
       "      <td>0.998729</td>\n",
       "      <td>0.0</td>\n",
       "      <td>0.0</td>\n",
       "      <td>0.107359</td>\n",
       "      <td>-0.2500</td>\n",
       "      <td>-0.999603</td>\n",
       "    </tr>\n",
       "  </tbody>\n",
       "</table>\n",
       "</div>"
      ],
      "text/plain": [
       "                                              tweets               fecha  \\\n",
       "0                       @FVallejoQuotes El Matarife. 2021-05-27 03:25:25   \n",
       "1  @MargaritaRepo Jajajaja yo lo viví y soy antiu... 2021-05-27 03:24:51   \n",
       "2  @Juanval121 @NoticiasCaracol Si, que fue un ra... 2021-05-27 03:22:21   \n",
       "3  @gabo180 PUES CLSRO @PAOLAHOLGUIN CON TANTA PL... 2021-05-27 03:20:14   \n",
       "4  Los (mea culpa) ojo Colombia con esta nueva es... 2021-05-27 03:17:08   \n",
       "\n",
       "   ciudad    localizacion_usuario                   id  \\\n",
       "0  Bogotá     Manizales, Colombia  1397755795060760576   \n",
       "1  Bogotá  Bogotá, D.C., Colombia  1397755652727005186   \n",
       "2  Bogotá  Bogotá, D.C., Colombia  1397755022348361730   \n",
       "3  Bogotá  Bogotá, D.C., Colombia  1397754492171472897   \n",
       "4  Bogotá                 BOGOTÁ   1397753712429473794   \n",
       "\n",
       "                                              enlace  \\\n",
       "0  https://twitter.com/i/web/stuatus/139775579506...   \n",
       "1  https://twitter.com/i/web/stuatus/139775565272...   \n",
       "2  https://twitter.com/i/web/stuatus/139775502234...   \n",
       "3  https://twitter.com/i/web/stuatus/139775449217...   \n",
       "4  https://twitter.com/i/web/stuatus/139775371242...   \n",
       "\n",
       "                                        texto_limpio enlaces hashtags  \\\n",
       "0                                       El Matarife.      []       []   \n",
       "1   Jajajaja yo lo viví y soy antiuribista 100% s...      []       []   \n",
       "2    Si, que fue un raizal ... que quería desquit...      []       []   \n",
       "3   PUES CLSRO  CON TANTA PLATA DEL NARCOTRAFICO ...      []       []   \n",
       "4  Los (mea culpa) ojo Colombia con esta nueva es...      []       []   \n",
       "\n",
       "                         menciones emojis  \\\n",
       "0                [@FVallejoQuotes]     []   \n",
       "1                 [@MargaritaRepo]     []   \n",
       "2  [@Juanval121, @NoticiasCaracol]     []   \n",
       "3        [@gabo180, @PAOLAHOLGUIN]     []   \n",
       "4                               []     []   \n",
       "\n",
       "                                       pre_procesado  \\\n",
       "0                                           matarife   \n",
       "1  jajajaja viví antiuribista sólo farsa asesino ...   \n",
       "2  si raizal quería desquitarse armada reclamar t...   \n",
       "3  pues clsro tanta plata narcotrafico apadrinada...   \n",
       "4  mea culpa ojo colombia nueva estrategia tibios...   \n",
       "\n",
       "                                           traducido  flair_sentiment_es  \\\n",
       "0                                           matarife            0.940072   \n",
       "1  hahahaha I lived anti-uribista only farce murd...           -0.960450   \n",
       "2  If Raizal wanted to get even with the army, cl...            0.992382   \n",
       "3  Well then, so much money for drug trafficking ...            0.571968   \n",
       "4  mea culpa eye colombia new strategy lukewarm r...            0.998729   \n",
       "\n",
       "   vader_sentiment_es  textblob_sentiment_es  textblob_sentiment_en  \\\n",
       "0                 0.0                    0.0               0.000000   \n",
       "1                 0.0                    0.0               0.100000   \n",
       "2                 0.0                    0.0               0.200000   \n",
       "3                 0.0                    0.0               0.200000   \n",
       "4                 0.0                    0.0               0.107359   \n",
       "\n",
       "   vader_sentiment_en  flair_sentiment_en  \n",
       "0              0.0000            0.940072  \n",
       "1             -0.2732           -0.995891  \n",
       "2              0.5574           -0.986793  \n",
       "3              0.2732           -0.998634  \n",
       "4             -0.2500           -0.999603  "
      ]
     },
     "execution_count": 10,
     "metadata": {},
     "output_type": "execute_result"
    }
   ],
   "source": [
    "datos['flair_sentiment_es'] = datos['pre_procesado'].apply(lambda x: sent_flair(x))\n",
    "datos['vader_sentiment_es'] = datos['pre_procesado'].apply(lambda x:  vader.polarity_scores(x)['compound'])\n",
    "datos['textblob_sentiment_es'] = datos['pre_procesado'].apply(lambda x: TextBlob(x).sentiment.polarity)\n",
    "datos['textblob_sentiment_en'] = datos['traducido'].apply(lambda x: TextBlob(x).sentiment.polarity)\n",
    "datos['vader_sentiment_en'] = datos['traducido'].apply(lambda x: vader.polarity_scores(x)['compound'])\n",
    "datos['flair_sentiment_en'] = datos['traducido'].apply(lambda x: sent_flair(x))\n",
    "datos.head()\n",
    "datos.head()"
   ]
  },
  {
   "cell_type": "markdown",
   "metadata": {},
   "source": [
    "###  `[10 pts]` Punto 2: ¿Cuál es el tuit más positivo y más negativo?"
   ]
  },
  {
   "cell_type": "code",
   "execution_count": 15,
   "metadata": {},
   "outputs": [
    {
     "data": {
      "text/html": [
       "<div>\n",
       "<style scoped>\n",
       "    .dataframe tbody tr th:only-of-type {\n",
       "        vertical-align: middle;\n",
       "    }\n",
       "\n",
       "    .dataframe tbody tr th {\n",
       "        vertical-align: top;\n",
       "    }\n",
       "\n",
       "    .dataframe thead th {\n",
       "        text-align: right;\n",
       "    }\n",
       "</style>\n",
       "<table border=\"1\" class=\"dataframe\">\n",
       "  <thead>\n",
       "    <tr style=\"text-align: right;\">\n",
       "      <th></th>\n",
       "      <th>valor</th>\n",
       "    </tr>\n",
       "  </thead>\n",
       "  <tbody>\n",
       "    <tr>\n",
       "      <th>maximo_vader_es</th>\n",
       "      <td>0.636900</td>\n",
       "    </tr>\n",
       "    <tr>\n",
       "      <th>minimo_vader_es</th>\n",
       "      <td>-0.599400</td>\n",
       "    </tr>\n",
       "    <tr>\n",
       "      <th>maximo_textblob_es</th>\n",
       "      <td>0.600000</td>\n",
       "    </tr>\n",
       "    <tr>\n",
       "      <th>minimo_textblob_es</th>\n",
       "      <td>-0.500000</td>\n",
       "    </tr>\n",
       "    <tr>\n",
       "      <th>maximo_flair_es</th>\n",
       "      <td>0.999712</td>\n",
       "    </tr>\n",
       "    <tr>\n",
       "      <th>minimo_flair_es</th>\n",
       "      <td>-0.999941</td>\n",
       "    </tr>\n",
       "    <tr>\n",
       "      <th>maximo_vader_en</th>\n",
       "      <td>0.911800</td>\n",
       "    </tr>\n",
       "    <tr>\n",
       "      <th>minimo_vader_en</th>\n",
       "      <td>-0.962300</td>\n",
       "    </tr>\n",
       "    <tr>\n",
       "      <th>maximo_textblob_en</th>\n",
       "      <td>0.800000</td>\n",
       "    </tr>\n",
       "    <tr>\n",
       "      <th>minimo_textblob_en</th>\n",
       "      <td>-1.000000</td>\n",
       "    </tr>\n",
       "    <tr>\n",
       "      <th>maximo_flair_en</th>\n",
       "      <td>0.998003</td>\n",
       "    </tr>\n",
       "    <tr>\n",
       "      <th>minimo_flair_en</th>\n",
       "      <td>-0.999979</td>\n",
       "    </tr>\n",
       "  </tbody>\n",
       "</table>\n",
       "</div>"
      ],
      "text/plain": [
       "                       valor\n",
       "maximo_vader_es     0.636900\n",
       "minimo_vader_es    -0.599400\n",
       "maximo_textblob_es  0.600000\n",
       "minimo_textblob_es -0.500000\n",
       "maximo_flair_es     0.999712\n",
       "minimo_flair_es    -0.999941\n",
       "maximo_vader_en     0.911800\n",
       "minimo_vader_en    -0.962300\n",
       "maximo_textblob_en  0.800000\n",
       "minimo_textblob_en -1.000000\n",
       "maximo_flair_en     0.998003\n",
       "minimo_flair_en    -0.999979"
      ]
     },
     "execution_count": 15,
     "metadata": {},
     "output_type": "execute_result"
    }
   ],
   "source": [
    "dictLims = {\"maximo_vader_es\":datos['vader_sentiment_es'].max(), \n",
    "            \"minimo_vader_es\":datos['vader_sentiment_es'].min(),\n",
    "            \"maximo_textblob_es\":datos['textblob_sentiment_es'].max(),\n",
    "            \"minimo_textblob_es\":datos['textblob_sentiment_es'].min(),\n",
    "            \"maximo_flair_es\":datos['flair_sentiment_es'].max(),\n",
    "            \"minimo_flair_es\":datos['flair_sentiment_es'].min(),\n",
    "            \"maximo_vader_en\":datos['vader_sentiment_en'].max(), \n",
    "            \"minimo_vader_en\":datos['vader_sentiment_en'].min(),\n",
    "            \"maximo_textblob_en\":datos['textblob_sentiment_en'].max(),\n",
    "            \"minimo_textblob_en\":datos['textblob_sentiment_en'].min(),\n",
    "            \"maximo_flair_en\":datos['flair_sentiment_en'].max(),\n",
    "            \"minimo_flair_en\":datos['flair_sentiment_en'].min()            \n",
    "           }\n",
    "\n",
    "minMaxDatos = pd.DataFrame.from_dict(dictLims, orient='index', columns=['valor'])\n",
    "minMaxDatos\n"
   ]
  },
  {
   "cell_type": "markdown",
   "metadata": {},
   "source": [
    "###  `[10 pts]` Punto 3: ¿Cuántos tuits positivos/negativos hay en sus datos?"
   ]
  },
  {
   "cell_type": "code",
   "execution_count": 76,
   "metadata": {},
   "outputs": [
    {
     "data": {
      "text/html": [
       "<div>\n",
       "<style scoped>\n",
       "    .dataframe tbody tr th:only-of-type {\n",
       "        vertical-align: middle;\n",
       "    }\n",
       "\n",
       "    .dataframe tbody tr th {\n",
       "        vertical-align: top;\n",
       "    }\n",
       "\n",
       "    .dataframe thead th {\n",
       "        text-align: right;\n",
       "    }\n",
       "</style>\n",
       "<table border=\"1\" class=\"dataframe\">\n",
       "  <thead>\n",
       "    <tr style=\"text-align: right;\">\n",
       "      <th></th>\n",
       "      <th>Atributo</th>\n",
       "      <th>conteo</th>\n",
       "    </tr>\n",
       "  </thead>\n",
       "  <tbody>\n",
       "    <tr>\n",
       "      <th>0</th>\n",
       "      <td>Positivo flair (es)</td>\n",
       "      <td>61</td>\n",
       "    </tr>\n",
       "    <tr>\n",
       "      <th>1</th>\n",
       "      <td>Negativo flair (es)</td>\n",
       "      <td>49</td>\n",
       "    </tr>\n",
       "    <tr>\n",
       "      <th>2</th>\n",
       "      <td>Neutro flair (es)</td>\n",
       "      <td>0</td>\n",
       "    </tr>\n",
       "    <tr>\n",
       "      <th>3</th>\n",
       "      <td>Positivo vader (es)</td>\n",
       "      <td>4</td>\n",
       "    </tr>\n",
       "    <tr>\n",
       "      <th>4</th>\n",
       "      <td>Negativo vader (es)</td>\n",
       "      <td>4</td>\n",
       "    </tr>\n",
       "    <tr>\n",
       "      <th>5</th>\n",
       "      <td>Neutro vader (es)</td>\n",
       "      <td>102</td>\n",
       "    </tr>\n",
       "    <tr>\n",
       "      <th>6</th>\n",
       "      <td>Positivo textblob (es)</td>\n",
       "      <td>3</td>\n",
       "    </tr>\n",
       "    <tr>\n",
       "      <th>7</th>\n",
       "      <td>Negativo textblob (es)</td>\n",
       "      <td>5</td>\n",
       "    </tr>\n",
       "    <tr>\n",
       "      <th>8</th>\n",
       "      <td>Neutro textblob (es)</td>\n",
       "      <td>102</td>\n",
       "    </tr>\n",
       "    <tr>\n",
       "      <th>9</th>\n",
       "      <td>Positivo flair (en)</td>\n",
       "      <td>30</td>\n",
       "    </tr>\n",
       "    <tr>\n",
       "      <th>10</th>\n",
       "      <td>Negativo flair (en)</td>\n",
       "      <td>80</td>\n",
       "    </tr>\n",
       "    <tr>\n",
       "      <th>11</th>\n",
       "      <td>Neutro flair (en)</td>\n",
       "      <td>0</td>\n",
       "    </tr>\n",
       "    <tr>\n",
       "      <th>12</th>\n",
       "      <td>Positivo vader (en)</td>\n",
       "      <td>34</td>\n",
       "    </tr>\n",
       "    <tr>\n",
       "      <th>13</th>\n",
       "      <td>Negativo vader (en)</td>\n",
       "      <td>48</td>\n",
       "    </tr>\n",
       "    <tr>\n",
       "      <th>14</th>\n",
       "      <td>Neutro vader (en)</td>\n",
       "      <td>28</td>\n",
       "    </tr>\n",
       "    <tr>\n",
       "      <th>15</th>\n",
       "      <td>Positivo textblob (en)</td>\n",
       "      <td>36</td>\n",
       "    </tr>\n",
       "    <tr>\n",
       "      <th>16</th>\n",
       "      <td>Negativo textblob (en)</td>\n",
       "      <td>32</td>\n",
       "    </tr>\n",
       "    <tr>\n",
       "      <th>17</th>\n",
       "      <td>Neutro textblob (en)</td>\n",
       "      <td>42</td>\n",
       "    </tr>\n",
       "  </tbody>\n",
       "</table>\n",
       "</div>"
      ],
      "text/plain": [
       "                  Atributo  conteo\n",
       "0      Positivo flair (es)      61\n",
       "1      Negativo flair (es)      49\n",
       "2        Neutro flair (es)       0\n",
       "3      Positivo vader (es)       4\n",
       "4      Negativo vader (es)       4\n",
       "5        Neutro vader (es)     102\n",
       "6   Positivo textblob (es)       3\n",
       "7   Negativo textblob (es)       5\n",
       "8     Neutro textblob (es)     102\n",
       "9      Positivo flair (en)      30\n",
       "10     Negativo flair (en)      80\n",
       "11       Neutro flair (en)       0\n",
       "12     Positivo vader (en)      34\n",
       "13     Negativo vader (en)      48\n",
       "14       Neutro vader (en)      28\n",
       "15  Positivo textblob (en)      36\n",
       "16  Negativo textblob (en)      32\n",
       "17    Neutro textblob (en)      42"
      ]
     },
     "execution_count": 76,
     "metadata": {},
     "output_type": "execute_result"
    }
   ],
   "source": [
    "# Flitros Flair en español\n",
    "positivosFlairEs = datos[['flair_sentiment_es']][(datos[\"flair_sentiment_es\"] >0.0)]\n",
    "negativosFlairEs = datos[['flair_sentiment_es']][(datos[\"flair_sentiment_es\"] <0.0)]\n",
    "neutrosFlairEs = datos[['flair_sentiment_es']][(datos[\"flair_sentiment_es\"] ==0.0)]\n",
    "# Filtros Vader en español\n",
    "positivosVaderEs = datos[['vader_sentiment_es']][(datos[\"vader_sentiment_es\"] >0.0)]\n",
    "negativosVaderEs = datos[['vader_sentiment_es']][(datos[\"vader_sentiment_es\"] <0.0)]\n",
    "neutrosVaderEs = datos[['vader_sentiment_es']][(datos[\"vader_sentiment_es\"] ==0.0)]\n",
    "# Filtros Textblob en español\n",
    "positivosTextblobEs = datos[['textblob_sentiment_es']][(datos[\"textblob_sentiment_es\"] >0.0)]\n",
    "negativosTextblobEs = datos[['textblob_sentiment_es']][(datos[\"textblob_sentiment_es\"] <0.0)]\n",
    "neutrosTextblobEs = datos[['textblob_sentiment_es']][(datos[\"textblob_sentiment_es\"] ==0.0)]\n",
    "#Filtros flair en inglés\n",
    "positivosFlairEn = datos[['flair_sentiment_en']][(datos[\"flair_sentiment_en\"] >0.0)]\n",
    "negativosFlairEn = datos[['flair_sentiment_en']][(datos[\"flair_sentiment_en\"] <0.0)]\n",
    "neutrosFlairEn = datos[['flair_sentiment_en']][(datos[\"flair_sentiment_en\"] ==0.0)]\n",
    "# Filtros Vader en inglés\n",
    "positivosVaderEn = datos[['vader_sentiment_en']][(datos[\"vader_sentiment_en\"] >0.0)]\n",
    "negativosVaderEn = datos[['vader_sentiment_en']][(datos[\"vader_sentiment_en\"] <0.0)]\n",
    "neutrosVaderEn = datos[['vader_sentiment_en']][(datos[\"vader_sentiment_en\"] ==0.0)]\n",
    "# Filtros Textblob en inglés\n",
    "positivosTextblobEn = datos[['textblob_sentiment_en']][(datos[\"textblob_sentiment_en\"] >0.0)]\n",
    "negativosTextblobEn = datos[['textblob_sentiment_en']][(datos[\"textblob_sentiment_en\"] <0.0)]\n",
    "neutrosTextblobEn = datos[['textblob_sentiment_en']][(datos[\"textblob_sentiment_en\"] ==0.0)]\n",
    "\n",
    "# conteos flair español\n",
    "conteoPositivosFlairEs = positivosFlairEs.count()\n",
    "conteoNegativosFlairEs = negativosFlairEs.count()\n",
    "conteoNeutrosFlairEs = neutrosFlairEs.count()\n",
    "\n",
    "# conteos vader español\n",
    "conteoPositivosVaderEs = positivosVaderEs.count()\n",
    "conteoNegativosVaderEs = negativosVaderEs.count()\n",
    "conteoNeutrosVaderEs = neutrosVaderEs.count()\n",
    "\n",
    "# conteos textblob español\n",
    "conteoPositivosTextblobEs = positivosTextblobEs.count()\n",
    "conteoNegativosTextblobEs = negativosTextblobEs.count()\n",
    "conteoNeutrosTextblobEs = neutrosTextblobEs.count()\n",
    "\n",
    "# conteos flair inglés\n",
    "conteoPositivosFlairEn = positivosFlairEn.count()\n",
    "conteoNegativosFlairEn = negativosFlairEn.count()\n",
    "conteoNeutrosFlairEn = neutrosFlairEn.count()\n",
    "\n",
    "# conteos vader inglés\n",
    "conteoPositivosVaderEn = positivosVaderEn.count()\n",
    "conteoNegativosVaderEn = negativosVaderEn.count()\n",
    "conteoNeutrosVaderEn = neutrosVaderEn.count()\n",
    "\n",
    "# conteos textblob español\n",
    "conteoPositivosTextblobEn = positivosTextblobEn.count()\n",
    "conteoNegativosTextblobEn = negativosTextblobEn.count()\n",
    "conteoNeutrosTextblobEn = neutrosTextblobEn.count()\n",
    "\n",
    "\n",
    "conteosData = pd.concat([conteoPositivosFlairEs, conteoNegativosFlairEs, conteoNeutrosFlairEs,\n",
    "                        conteoPositivosVaderEs, conteoNegativosVaderEs, conteoNeutrosVaderEs,\n",
    "                        conteoPositivosTextblobEs, conteoNegativosTextblobEs, conteoNeutrosTextblobEs,\n",
    "                        conteoPositivosFlairEn, conteoNegativosFlairEn, conteoNeutrosFlairEn,\n",
    "                        conteoPositivosVaderEn, conteoNegativosVaderEn, conteoNeutrosVaderEn,\n",
    "                        conteoPositivosTextblobEn, conteoNegativosTextblobEn, conteoNeutrosTextblobEn], axis= 0)\n",
    "\n",
    "listaValores = ['Positivo flair (es)', 'Negativo flair (es)', 'Neutro flair (es)',\n",
    "               'Positivo vader (es)', 'Negativo vader (es)', 'Neutro vader (es)',\n",
    "               'Positivo textblob (es)', 'Negativo textblob (es)', 'Neutro textblob (es)',\n",
    "               'Positivo flair (en)', 'Negativo flair (en)', 'Neutro flair (en)',\n",
    "               'Positivo vader (en)', 'Negativo vader (en)', 'Neutro vader (en)',\n",
    "               'Positivo textblob (en)', 'Negativo textblob (en)', 'Neutro textblob (en)']\n",
    "conteosData =pd.DataFrame(conteosData).reset_index()\n",
    "\n",
    "conteosData.columns = ['Atributo','conteo']\n",
    "\n",
    "\n",
    "for i in (range(len(conteosData))):\n",
    "    conteosData.loc[i:i,'Atributo'] = listaValores[i]\n",
    "\n",
    "conteosData"
   ]
  },
  {
   "cell_type": "markdown",
   "metadata": {},
   "source": [
    "###  `[5 pts]` : Punto 4: Una visualización sobre sus datos"
   ]
  },
  {
   "cell_type": "code",
   "execution_count": 78,
   "metadata": {},
   "outputs": [
    {
     "data": {
      "application/vnd.plotly.v1+json": {
       "config": {
        "plotlyServerURL": "https://plot.ly"
       },
       "data": [
        {
         "alignmentgroup": "True",
         "hovertemplate": "Atributo=%{x}<br>conteo=%{y}<extra></extra>",
         "legendgroup": "Positivo flair (es)",
         "marker": {
          "color": "#636efa"
         },
         "name": "Positivo flair (es)",
         "offsetgroup": "Positivo flair (es)",
         "orientation": "v",
         "showlegend": true,
         "textposition": "auto",
         "type": "bar",
         "x": [
          "Positivo flair (es)"
         ],
         "xaxis": "x",
         "y": [
          61
         ],
         "yaxis": "y"
        },
        {
         "alignmentgroup": "True",
         "hovertemplate": "Atributo=%{x}<br>conteo=%{y}<extra></extra>",
         "legendgroup": "Negativo flair (es)",
         "marker": {
          "color": "#EF553B"
         },
         "name": "Negativo flair (es)",
         "offsetgroup": "Negativo flair (es)",
         "orientation": "v",
         "showlegend": true,
         "textposition": "auto",
         "type": "bar",
         "x": [
          "Negativo flair (es)"
         ],
         "xaxis": "x",
         "y": [
          49
         ],
         "yaxis": "y"
        },
        {
         "alignmentgroup": "True",
         "hovertemplate": "Atributo=%{x}<br>conteo=%{y}<extra></extra>",
         "legendgroup": "Neutro flair (es)",
         "marker": {
          "color": "#00cc96"
         },
         "name": "Neutro flair (es)",
         "offsetgroup": "Neutro flair (es)",
         "orientation": "v",
         "showlegend": true,
         "textposition": "auto",
         "type": "bar",
         "x": [
          "Neutro flair (es)"
         ],
         "xaxis": "x",
         "y": [
          0
         ],
         "yaxis": "y"
        },
        {
         "alignmentgroup": "True",
         "hovertemplate": "Atributo=%{x}<br>conteo=%{y}<extra></extra>",
         "legendgroup": "Positivo vader (es)",
         "marker": {
          "color": "#ab63fa"
         },
         "name": "Positivo vader (es)",
         "offsetgroup": "Positivo vader (es)",
         "orientation": "v",
         "showlegend": true,
         "textposition": "auto",
         "type": "bar",
         "x": [
          "Positivo vader (es)"
         ],
         "xaxis": "x",
         "y": [
          4
         ],
         "yaxis": "y"
        },
        {
         "alignmentgroup": "True",
         "hovertemplate": "Atributo=%{x}<br>conteo=%{y}<extra></extra>",
         "legendgroup": "Negativo vader (es)",
         "marker": {
          "color": "#FFA15A"
         },
         "name": "Negativo vader (es)",
         "offsetgroup": "Negativo vader (es)",
         "orientation": "v",
         "showlegend": true,
         "textposition": "auto",
         "type": "bar",
         "x": [
          "Negativo vader (es)"
         ],
         "xaxis": "x",
         "y": [
          4
         ],
         "yaxis": "y"
        },
        {
         "alignmentgroup": "True",
         "hovertemplate": "Atributo=%{x}<br>conteo=%{y}<extra></extra>",
         "legendgroup": "Neutro vader (es)",
         "marker": {
          "color": "#19d3f3"
         },
         "name": "Neutro vader (es)",
         "offsetgroup": "Neutro vader (es)",
         "orientation": "v",
         "showlegend": true,
         "textposition": "auto",
         "type": "bar",
         "x": [
          "Neutro vader (es)"
         ],
         "xaxis": "x",
         "y": [
          102
         ],
         "yaxis": "y"
        },
        {
         "alignmentgroup": "True",
         "hovertemplate": "Atributo=%{x}<br>conteo=%{y}<extra></extra>",
         "legendgroup": "Positivo textblob (es)",
         "marker": {
          "color": "#FF6692"
         },
         "name": "Positivo textblob (es)",
         "offsetgroup": "Positivo textblob (es)",
         "orientation": "v",
         "showlegend": true,
         "textposition": "auto",
         "type": "bar",
         "x": [
          "Positivo textblob (es)"
         ],
         "xaxis": "x",
         "y": [
          3
         ],
         "yaxis": "y"
        },
        {
         "alignmentgroup": "True",
         "hovertemplate": "Atributo=%{x}<br>conteo=%{y}<extra></extra>",
         "legendgroup": "Negativo textblob (es)",
         "marker": {
          "color": "#B6E880"
         },
         "name": "Negativo textblob (es)",
         "offsetgroup": "Negativo textblob (es)",
         "orientation": "v",
         "showlegend": true,
         "textposition": "auto",
         "type": "bar",
         "x": [
          "Negativo textblob (es)"
         ],
         "xaxis": "x",
         "y": [
          5
         ],
         "yaxis": "y"
        },
        {
         "alignmentgroup": "True",
         "hovertemplate": "Atributo=%{x}<br>conteo=%{y}<extra></extra>",
         "legendgroup": "Neutro textblob (es)",
         "marker": {
          "color": "#FF97FF"
         },
         "name": "Neutro textblob (es)",
         "offsetgroup": "Neutro textblob (es)",
         "orientation": "v",
         "showlegend": true,
         "textposition": "auto",
         "type": "bar",
         "x": [
          "Neutro textblob (es)"
         ],
         "xaxis": "x",
         "y": [
          102
         ],
         "yaxis": "y"
        },
        {
         "alignmentgroup": "True",
         "hovertemplate": "Atributo=%{x}<br>conteo=%{y}<extra></extra>",
         "legendgroup": "Positivo flair (en)",
         "marker": {
          "color": "#FECB52"
         },
         "name": "Positivo flair (en)",
         "offsetgroup": "Positivo flair (en)",
         "orientation": "v",
         "showlegend": true,
         "textposition": "auto",
         "type": "bar",
         "x": [
          "Positivo flair (en)"
         ],
         "xaxis": "x",
         "y": [
          30
         ],
         "yaxis": "y"
        },
        {
         "alignmentgroup": "True",
         "hovertemplate": "Atributo=%{x}<br>conteo=%{y}<extra></extra>",
         "legendgroup": "Negativo flair (en)",
         "marker": {
          "color": "#636efa"
         },
         "name": "Negativo flair (en)",
         "offsetgroup": "Negativo flair (en)",
         "orientation": "v",
         "showlegend": true,
         "textposition": "auto",
         "type": "bar",
         "x": [
          "Negativo flair (en)"
         ],
         "xaxis": "x",
         "y": [
          80
         ],
         "yaxis": "y"
        },
        {
         "alignmentgroup": "True",
         "hovertemplate": "Atributo=%{x}<br>conteo=%{y}<extra></extra>",
         "legendgroup": "Neutro flair (en)",
         "marker": {
          "color": "#EF553B"
         },
         "name": "Neutro flair (en)",
         "offsetgroup": "Neutro flair (en)",
         "orientation": "v",
         "showlegend": true,
         "textposition": "auto",
         "type": "bar",
         "x": [
          "Neutro flair (en)"
         ],
         "xaxis": "x",
         "y": [
          0
         ],
         "yaxis": "y"
        },
        {
         "alignmentgroup": "True",
         "hovertemplate": "Atributo=%{x}<br>conteo=%{y}<extra></extra>",
         "legendgroup": "Positivo vader (en)",
         "marker": {
          "color": "#00cc96"
         },
         "name": "Positivo vader (en)",
         "offsetgroup": "Positivo vader (en)",
         "orientation": "v",
         "showlegend": true,
         "textposition": "auto",
         "type": "bar",
         "x": [
          "Positivo vader (en)"
         ],
         "xaxis": "x",
         "y": [
          34
         ],
         "yaxis": "y"
        },
        {
         "alignmentgroup": "True",
         "hovertemplate": "Atributo=%{x}<br>conteo=%{y}<extra></extra>",
         "legendgroup": "Negativo vader (en)",
         "marker": {
          "color": "#ab63fa"
         },
         "name": "Negativo vader (en)",
         "offsetgroup": "Negativo vader (en)",
         "orientation": "v",
         "showlegend": true,
         "textposition": "auto",
         "type": "bar",
         "x": [
          "Negativo vader (en)"
         ],
         "xaxis": "x",
         "y": [
          48
         ],
         "yaxis": "y"
        },
        {
         "alignmentgroup": "True",
         "hovertemplate": "Atributo=%{x}<br>conteo=%{y}<extra></extra>",
         "legendgroup": "Neutro vader (en)",
         "marker": {
          "color": "#FFA15A"
         },
         "name": "Neutro vader (en)",
         "offsetgroup": "Neutro vader (en)",
         "orientation": "v",
         "showlegend": true,
         "textposition": "auto",
         "type": "bar",
         "x": [
          "Neutro vader (en)"
         ],
         "xaxis": "x",
         "y": [
          28
         ],
         "yaxis": "y"
        },
        {
         "alignmentgroup": "True",
         "hovertemplate": "Atributo=%{x}<br>conteo=%{y}<extra></extra>",
         "legendgroup": "Positivo textblob (en)",
         "marker": {
          "color": "#19d3f3"
         },
         "name": "Positivo textblob (en)",
         "offsetgroup": "Positivo textblob (en)",
         "orientation": "v",
         "showlegend": true,
         "textposition": "auto",
         "type": "bar",
         "x": [
          "Positivo textblob (en)"
         ],
         "xaxis": "x",
         "y": [
          36
         ],
         "yaxis": "y"
        },
        {
         "alignmentgroup": "True",
         "hovertemplate": "Atributo=%{x}<br>conteo=%{y}<extra></extra>",
         "legendgroup": "Negativo textblob (en)",
         "marker": {
          "color": "#FF6692"
         },
         "name": "Negativo textblob (en)",
         "offsetgroup": "Negativo textblob (en)",
         "orientation": "v",
         "showlegend": true,
         "textposition": "auto",
         "type": "bar",
         "x": [
          "Negativo textblob (en)"
         ],
         "xaxis": "x",
         "y": [
          32
         ],
         "yaxis": "y"
        },
        {
         "alignmentgroup": "True",
         "hovertemplate": "Atributo=%{x}<br>conteo=%{y}<extra></extra>",
         "legendgroup": "Neutro textblob (en)",
         "marker": {
          "color": "#B6E880"
         },
         "name": "Neutro textblob (en)",
         "offsetgroup": "Neutro textblob (en)",
         "orientation": "v",
         "showlegend": true,
         "textposition": "auto",
         "type": "bar",
         "x": [
          "Neutro textblob (en)"
         ],
         "xaxis": "x",
         "y": [
          42
         ],
         "yaxis": "y"
        }
       ],
       "layout": {
        "barmode": "relative",
        "legend": {
         "title": {
          "text": "Atributo"
         },
         "tracegroupgap": 0
        },
        "template": {
         "data": {
          "bar": [
           {
            "error_x": {
             "color": "#2a3f5f"
            },
            "error_y": {
             "color": "#2a3f5f"
            },
            "marker": {
             "line": {
              "color": "#E5ECF6",
              "width": 0.5
             }
            },
            "type": "bar"
           }
          ],
          "barpolar": [
           {
            "marker": {
             "line": {
              "color": "#E5ECF6",
              "width": 0.5
             }
            },
            "type": "barpolar"
           }
          ],
          "carpet": [
           {
            "aaxis": {
             "endlinecolor": "#2a3f5f",
             "gridcolor": "white",
             "linecolor": "white",
             "minorgridcolor": "white",
             "startlinecolor": "#2a3f5f"
            },
            "baxis": {
             "endlinecolor": "#2a3f5f",
             "gridcolor": "white",
             "linecolor": "white",
             "minorgridcolor": "white",
             "startlinecolor": "#2a3f5f"
            },
            "type": "carpet"
           }
          ],
          "choropleth": [
           {
            "colorbar": {
             "outlinewidth": 0,
             "ticks": ""
            },
            "type": "choropleth"
           }
          ],
          "contour": [
           {
            "colorbar": {
             "outlinewidth": 0,
             "ticks": ""
            },
            "colorscale": [
             [
              0,
              "#0d0887"
             ],
             [
              0.1111111111111111,
              "#46039f"
             ],
             [
              0.2222222222222222,
              "#7201a8"
             ],
             [
              0.3333333333333333,
              "#9c179e"
             ],
             [
              0.4444444444444444,
              "#bd3786"
             ],
             [
              0.5555555555555556,
              "#d8576b"
             ],
             [
              0.6666666666666666,
              "#ed7953"
             ],
             [
              0.7777777777777778,
              "#fb9f3a"
             ],
             [
              0.8888888888888888,
              "#fdca26"
             ],
             [
              1,
              "#f0f921"
             ]
            ],
            "type": "contour"
           }
          ],
          "contourcarpet": [
           {
            "colorbar": {
             "outlinewidth": 0,
             "ticks": ""
            },
            "type": "contourcarpet"
           }
          ],
          "heatmap": [
           {
            "colorbar": {
             "outlinewidth": 0,
             "ticks": ""
            },
            "colorscale": [
             [
              0,
              "#0d0887"
             ],
             [
              0.1111111111111111,
              "#46039f"
             ],
             [
              0.2222222222222222,
              "#7201a8"
             ],
             [
              0.3333333333333333,
              "#9c179e"
             ],
             [
              0.4444444444444444,
              "#bd3786"
             ],
             [
              0.5555555555555556,
              "#d8576b"
             ],
             [
              0.6666666666666666,
              "#ed7953"
             ],
             [
              0.7777777777777778,
              "#fb9f3a"
             ],
             [
              0.8888888888888888,
              "#fdca26"
             ],
             [
              1,
              "#f0f921"
             ]
            ],
            "type": "heatmap"
           }
          ],
          "heatmapgl": [
           {
            "colorbar": {
             "outlinewidth": 0,
             "ticks": ""
            },
            "colorscale": [
             [
              0,
              "#0d0887"
             ],
             [
              0.1111111111111111,
              "#46039f"
             ],
             [
              0.2222222222222222,
              "#7201a8"
             ],
             [
              0.3333333333333333,
              "#9c179e"
             ],
             [
              0.4444444444444444,
              "#bd3786"
             ],
             [
              0.5555555555555556,
              "#d8576b"
             ],
             [
              0.6666666666666666,
              "#ed7953"
             ],
             [
              0.7777777777777778,
              "#fb9f3a"
             ],
             [
              0.8888888888888888,
              "#fdca26"
             ],
             [
              1,
              "#f0f921"
             ]
            ],
            "type": "heatmapgl"
           }
          ],
          "histogram": [
           {
            "marker": {
             "colorbar": {
              "outlinewidth": 0,
              "ticks": ""
             }
            },
            "type": "histogram"
           }
          ],
          "histogram2d": [
           {
            "colorbar": {
             "outlinewidth": 0,
             "ticks": ""
            },
            "colorscale": [
             [
              0,
              "#0d0887"
             ],
             [
              0.1111111111111111,
              "#46039f"
             ],
             [
              0.2222222222222222,
              "#7201a8"
             ],
             [
              0.3333333333333333,
              "#9c179e"
             ],
             [
              0.4444444444444444,
              "#bd3786"
             ],
             [
              0.5555555555555556,
              "#d8576b"
             ],
             [
              0.6666666666666666,
              "#ed7953"
             ],
             [
              0.7777777777777778,
              "#fb9f3a"
             ],
             [
              0.8888888888888888,
              "#fdca26"
             ],
             [
              1,
              "#f0f921"
             ]
            ],
            "type": "histogram2d"
           }
          ],
          "histogram2dcontour": [
           {
            "colorbar": {
             "outlinewidth": 0,
             "ticks": ""
            },
            "colorscale": [
             [
              0,
              "#0d0887"
             ],
             [
              0.1111111111111111,
              "#46039f"
             ],
             [
              0.2222222222222222,
              "#7201a8"
             ],
             [
              0.3333333333333333,
              "#9c179e"
             ],
             [
              0.4444444444444444,
              "#bd3786"
             ],
             [
              0.5555555555555556,
              "#d8576b"
             ],
             [
              0.6666666666666666,
              "#ed7953"
             ],
             [
              0.7777777777777778,
              "#fb9f3a"
             ],
             [
              0.8888888888888888,
              "#fdca26"
             ],
             [
              1,
              "#f0f921"
             ]
            ],
            "type": "histogram2dcontour"
           }
          ],
          "mesh3d": [
           {
            "colorbar": {
             "outlinewidth": 0,
             "ticks": ""
            },
            "type": "mesh3d"
           }
          ],
          "parcoords": [
           {
            "line": {
             "colorbar": {
              "outlinewidth": 0,
              "ticks": ""
             }
            },
            "type": "parcoords"
           }
          ],
          "pie": [
           {
            "automargin": true,
            "type": "pie"
           }
          ],
          "scatter": [
           {
            "marker": {
             "colorbar": {
              "outlinewidth": 0,
              "ticks": ""
             }
            },
            "type": "scatter"
           }
          ],
          "scatter3d": [
           {
            "line": {
             "colorbar": {
              "outlinewidth": 0,
              "ticks": ""
             }
            },
            "marker": {
             "colorbar": {
              "outlinewidth": 0,
              "ticks": ""
             }
            },
            "type": "scatter3d"
           }
          ],
          "scattercarpet": [
           {
            "marker": {
             "colorbar": {
              "outlinewidth": 0,
              "ticks": ""
             }
            },
            "type": "scattercarpet"
           }
          ],
          "scattergeo": [
           {
            "marker": {
             "colorbar": {
              "outlinewidth": 0,
              "ticks": ""
             }
            },
            "type": "scattergeo"
           }
          ],
          "scattergl": [
           {
            "marker": {
             "colorbar": {
              "outlinewidth": 0,
              "ticks": ""
             }
            },
            "type": "scattergl"
           }
          ],
          "scattermapbox": [
           {
            "marker": {
             "colorbar": {
              "outlinewidth": 0,
              "ticks": ""
             }
            },
            "type": "scattermapbox"
           }
          ],
          "scatterpolar": [
           {
            "marker": {
             "colorbar": {
              "outlinewidth": 0,
              "ticks": ""
             }
            },
            "type": "scatterpolar"
           }
          ],
          "scatterpolargl": [
           {
            "marker": {
             "colorbar": {
              "outlinewidth": 0,
              "ticks": ""
             }
            },
            "type": "scatterpolargl"
           }
          ],
          "scatterternary": [
           {
            "marker": {
             "colorbar": {
              "outlinewidth": 0,
              "ticks": ""
             }
            },
            "type": "scatterternary"
           }
          ],
          "surface": [
           {
            "colorbar": {
             "outlinewidth": 0,
             "ticks": ""
            },
            "colorscale": [
             [
              0,
              "#0d0887"
             ],
             [
              0.1111111111111111,
              "#46039f"
             ],
             [
              0.2222222222222222,
              "#7201a8"
             ],
             [
              0.3333333333333333,
              "#9c179e"
             ],
             [
              0.4444444444444444,
              "#bd3786"
             ],
             [
              0.5555555555555556,
              "#d8576b"
             ],
             [
              0.6666666666666666,
              "#ed7953"
             ],
             [
              0.7777777777777778,
              "#fb9f3a"
             ],
             [
              0.8888888888888888,
              "#fdca26"
             ],
             [
              1,
              "#f0f921"
             ]
            ],
            "type": "surface"
           }
          ],
          "table": [
           {
            "cells": {
             "fill": {
              "color": "#EBF0F8"
             },
             "line": {
              "color": "white"
             }
            },
            "header": {
             "fill": {
              "color": "#C8D4E3"
             },
             "line": {
              "color": "white"
             }
            },
            "type": "table"
           }
          ]
         },
         "layout": {
          "annotationdefaults": {
           "arrowcolor": "#2a3f5f",
           "arrowhead": 0,
           "arrowwidth": 1
          },
          "autotypenumbers": "strict",
          "coloraxis": {
           "colorbar": {
            "outlinewidth": 0,
            "ticks": ""
           }
          },
          "colorscale": {
           "diverging": [
            [
             0,
             "#8e0152"
            ],
            [
             0.1,
             "#c51b7d"
            ],
            [
             0.2,
             "#de77ae"
            ],
            [
             0.3,
             "#f1b6da"
            ],
            [
             0.4,
             "#fde0ef"
            ],
            [
             0.5,
             "#f7f7f7"
            ],
            [
             0.6,
             "#e6f5d0"
            ],
            [
             0.7,
             "#b8e186"
            ],
            [
             0.8,
             "#7fbc41"
            ],
            [
             0.9,
             "#4d9221"
            ],
            [
             1,
             "#276419"
            ]
           ],
           "sequential": [
            [
             0,
             "#0d0887"
            ],
            [
             0.1111111111111111,
             "#46039f"
            ],
            [
             0.2222222222222222,
             "#7201a8"
            ],
            [
             0.3333333333333333,
             "#9c179e"
            ],
            [
             0.4444444444444444,
             "#bd3786"
            ],
            [
             0.5555555555555556,
             "#d8576b"
            ],
            [
             0.6666666666666666,
             "#ed7953"
            ],
            [
             0.7777777777777778,
             "#fb9f3a"
            ],
            [
             0.8888888888888888,
             "#fdca26"
            ],
            [
             1,
             "#f0f921"
            ]
           ],
           "sequentialminus": [
            [
             0,
             "#0d0887"
            ],
            [
             0.1111111111111111,
             "#46039f"
            ],
            [
             0.2222222222222222,
             "#7201a8"
            ],
            [
             0.3333333333333333,
             "#9c179e"
            ],
            [
             0.4444444444444444,
             "#bd3786"
            ],
            [
             0.5555555555555556,
             "#d8576b"
            ],
            [
             0.6666666666666666,
             "#ed7953"
            ],
            [
             0.7777777777777778,
             "#fb9f3a"
            ],
            [
             0.8888888888888888,
             "#fdca26"
            ],
            [
             1,
             "#f0f921"
            ]
           ]
          },
          "colorway": [
           "#636efa",
           "#EF553B",
           "#00cc96",
           "#ab63fa",
           "#FFA15A",
           "#19d3f3",
           "#FF6692",
           "#B6E880",
           "#FF97FF",
           "#FECB52"
          ],
          "font": {
           "color": "#2a3f5f"
          },
          "geo": {
           "bgcolor": "white",
           "lakecolor": "white",
           "landcolor": "#E5ECF6",
           "showlakes": true,
           "showland": true,
           "subunitcolor": "white"
          },
          "hoverlabel": {
           "align": "left"
          },
          "hovermode": "closest",
          "mapbox": {
           "style": "light"
          },
          "paper_bgcolor": "white",
          "plot_bgcolor": "#E5ECF6",
          "polar": {
           "angularaxis": {
            "gridcolor": "white",
            "linecolor": "white",
            "ticks": ""
           },
           "bgcolor": "#E5ECF6",
           "radialaxis": {
            "gridcolor": "white",
            "linecolor": "white",
            "ticks": ""
           }
          },
          "scene": {
           "xaxis": {
            "backgroundcolor": "#E5ECF6",
            "gridcolor": "white",
            "gridwidth": 2,
            "linecolor": "white",
            "showbackground": true,
            "ticks": "",
            "zerolinecolor": "white"
           },
           "yaxis": {
            "backgroundcolor": "#E5ECF6",
            "gridcolor": "white",
            "gridwidth": 2,
            "linecolor": "white",
            "showbackground": true,
            "ticks": "",
            "zerolinecolor": "white"
           },
           "zaxis": {
            "backgroundcolor": "#E5ECF6",
            "gridcolor": "white",
            "gridwidth": 2,
            "linecolor": "white",
            "showbackground": true,
            "ticks": "",
            "zerolinecolor": "white"
           }
          },
          "shapedefaults": {
           "line": {
            "color": "#2a3f5f"
           }
          },
          "ternary": {
           "aaxis": {
            "gridcolor": "white",
            "linecolor": "white",
            "ticks": ""
           },
           "baxis": {
            "gridcolor": "white",
            "linecolor": "white",
            "ticks": ""
           },
           "bgcolor": "#E5ECF6",
           "caxis": {
            "gridcolor": "white",
            "linecolor": "white",
            "ticks": ""
           }
          },
          "title": {
           "x": 0.05
          },
          "xaxis": {
           "automargin": true,
           "gridcolor": "white",
           "linecolor": "white",
           "ticks": "",
           "title": {
            "standoff": 15
           },
           "zerolinecolor": "white",
           "zerolinewidth": 2
          },
          "yaxis": {
           "automargin": true,
           "gridcolor": "white",
           "linecolor": "white",
           "ticks": "",
           "title": {
            "standoff": 15
           },
           "zerolinecolor": "white",
           "zerolinewidth": 2
          }
         }
        },
        "title": {
         "text": "Conteo de tweets"
        },
        "xaxis": {
         "anchor": "y",
         "categoryarray": [
          "Positivo flair (es)",
          "Negativo flair (es)",
          "Neutro flair (es)",
          "Positivo vader (es)",
          "Negativo vader (es)",
          "Neutro vader (es)",
          "Positivo textblob (es)",
          "Negativo textblob (es)",
          "Neutro textblob (es)",
          "Positivo flair (en)",
          "Negativo flair (en)",
          "Neutro flair (en)",
          "Positivo vader (en)",
          "Negativo vader (en)",
          "Neutro vader (en)",
          "Positivo textblob (en)",
          "Negativo textblob (en)",
          "Neutro textblob (en)"
         ],
         "categoryorder": "array",
         "domain": [
          0,
          1
         ],
         "title": {
          "text": "Atributo"
         }
        },
        "yaxis": {
         "anchor": "x",
         "domain": [
          0,
          1
         ],
         "title": {
          "text": "conteo"
         }
        }
       }
      },
      "text/html": [
       "<div>                            <div id=\"10391087-92fb-4558-9b58-4b8776dfdf4e\" class=\"plotly-graph-div\" style=\"height:525px; width:100%;\"></div>            <script type=\"text/javascript\">                require([\"plotly\"], function(Plotly) {                    window.PLOTLYENV=window.PLOTLYENV || {};                                    if (document.getElementById(\"10391087-92fb-4558-9b58-4b8776dfdf4e\")) {                    Plotly.newPlot(                        \"10391087-92fb-4558-9b58-4b8776dfdf4e\",                        [{\"alignmentgroup\": \"True\", \"hovertemplate\": \"Atributo=%{x}<br>conteo=%{y}<extra></extra>\", \"legendgroup\": \"Positivo flair (es)\", \"marker\": {\"color\": \"#636efa\"}, \"name\": \"Positivo flair (es)\", \"offsetgroup\": \"Positivo flair (es)\", \"orientation\": \"v\", \"showlegend\": true, \"textposition\": \"auto\", \"type\": \"bar\", \"x\": [\"Positivo flair (es)\"], \"xaxis\": \"x\", \"y\": [61], \"yaxis\": \"y\"}, {\"alignmentgroup\": \"True\", \"hovertemplate\": \"Atributo=%{x}<br>conteo=%{y}<extra></extra>\", \"legendgroup\": \"Negativo flair (es)\", \"marker\": {\"color\": \"#EF553B\"}, \"name\": \"Negativo flair (es)\", \"offsetgroup\": \"Negativo flair (es)\", \"orientation\": \"v\", \"showlegend\": true, \"textposition\": \"auto\", \"type\": \"bar\", \"x\": [\"Negativo flair (es)\"], \"xaxis\": \"x\", \"y\": [49], \"yaxis\": \"y\"}, {\"alignmentgroup\": \"True\", \"hovertemplate\": \"Atributo=%{x}<br>conteo=%{y}<extra></extra>\", \"legendgroup\": \"Neutro flair (es)\", \"marker\": {\"color\": \"#00cc96\"}, \"name\": \"Neutro flair (es)\", \"offsetgroup\": \"Neutro flair (es)\", \"orientation\": \"v\", \"showlegend\": true, \"textposition\": \"auto\", \"type\": \"bar\", \"x\": [\"Neutro flair (es)\"], \"xaxis\": \"x\", \"y\": [0], \"yaxis\": \"y\"}, {\"alignmentgroup\": \"True\", \"hovertemplate\": \"Atributo=%{x}<br>conteo=%{y}<extra></extra>\", \"legendgroup\": \"Positivo vader (es)\", \"marker\": {\"color\": \"#ab63fa\"}, \"name\": \"Positivo vader (es)\", \"offsetgroup\": \"Positivo vader (es)\", \"orientation\": \"v\", \"showlegend\": true, \"textposition\": \"auto\", \"type\": \"bar\", \"x\": [\"Positivo vader (es)\"], \"xaxis\": \"x\", \"y\": [4], \"yaxis\": \"y\"}, {\"alignmentgroup\": \"True\", \"hovertemplate\": \"Atributo=%{x}<br>conteo=%{y}<extra></extra>\", \"legendgroup\": \"Negativo vader (es)\", \"marker\": {\"color\": \"#FFA15A\"}, \"name\": \"Negativo vader (es)\", \"offsetgroup\": \"Negativo vader (es)\", \"orientation\": \"v\", \"showlegend\": true, \"textposition\": \"auto\", \"type\": \"bar\", \"x\": [\"Negativo vader (es)\"], \"xaxis\": \"x\", \"y\": [4], \"yaxis\": \"y\"}, {\"alignmentgroup\": \"True\", \"hovertemplate\": \"Atributo=%{x}<br>conteo=%{y}<extra></extra>\", \"legendgroup\": \"Neutro vader (es)\", \"marker\": {\"color\": \"#19d3f3\"}, \"name\": \"Neutro vader (es)\", \"offsetgroup\": \"Neutro vader (es)\", \"orientation\": \"v\", \"showlegend\": true, \"textposition\": \"auto\", \"type\": \"bar\", \"x\": [\"Neutro vader (es)\"], \"xaxis\": \"x\", \"y\": [102], \"yaxis\": \"y\"}, {\"alignmentgroup\": \"True\", \"hovertemplate\": \"Atributo=%{x}<br>conteo=%{y}<extra></extra>\", \"legendgroup\": \"Positivo textblob (es)\", \"marker\": {\"color\": \"#FF6692\"}, \"name\": \"Positivo textblob (es)\", \"offsetgroup\": \"Positivo textblob (es)\", \"orientation\": \"v\", \"showlegend\": true, \"textposition\": \"auto\", \"type\": \"bar\", \"x\": [\"Positivo textblob (es)\"], \"xaxis\": \"x\", \"y\": [3], \"yaxis\": \"y\"}, {\"alignmentgroup\": \"True\", \"hovertemplate\": \"Atributo=%{x}<br>conteo=%{y}<extra></extra>\", \"legendgroup\": \"Negativo textblob (es)\", \"marker\": {\"color\": \"#B6E880\"}, \"name\": \"Negativo textblob (es)\", \"offsetgroup\": \"Negativo textblob (es)\", \"orientation\": \"v\", \"showlegend\": true, \"textposition\": \"auto\", \"type\": \"bar\", \"x\": [\"Negativo textblob (es)\"], \"xaxis\": \"x\", \"y\": [5], \"yaxis\": \"y\"}, {\"alignmentgroup\": \"True\", \"hovertemplate\": \"Atributo=%{x}<br>conteo=%{y}<extra></extra>\", \"legendgroup\": \"Neutro textblob (es)\", \"marker\": {\"color\": \"#FF97FF\"}, \"name\": \"Neutro textblob (es)\", \"offsetgroup\": \"Neutro textblob (es)\", \"orientation\": \"v\", \"showlegend\": true, \"textposition\": \"auto\", \"type\": \"bar\", \"x\": [\"Neutro textblob (es)\"], \"xaxis\": \"x\", \"y\": [102], \"yaxis\": \"y\"}, {\"alignmentgroup\": \"True\", \"hovertemplate\": \"Atributo=%{x}<br>conteo=%{y}<extra></extra>\", \"legendgroup\": \"Positivo flair (en)\", \"marker\": {\"color\": \"#FECB52\"}, \"name\": \"Positivo flair (en)\", \"offsetgroup\": \"Positivo flair (en)\", \"orientation\": \"v\", \"showlegend\": true, \"textposition\": \"auto\", \"type\": \"bar\", \"x\": [\"Positivo flair (en)\"], \"xaxis\": \"x\", \"y\": [30], \"yaxis\": \"y\"}, {\"alignmentgroup\": \"True\", \"hovertemplate\": \"Atributo=%{x}<br>conteo=%{y}<extra></extra>\", \"legendgroup\": \"Negativo flair (en)\", \"marker\": {\"color\": \"#636efa\"}, \"name\": \"Negativo flair (en)\", \"offsetgroup\": \"Negativo flair (en)\", \"orientation\": \"v\", \"showlegend\": true, \"textposition\": \"auto\", \"type\": \"bar\", \"x\": [\"Negativo flair (en)\"], \"xaxis\": \"x\", \"y\": [80], \"yaxis\": \"y\"}, {\"alignmentgroup\": \"True\", \"hovertemplate\": \"Atributo=%{x}<br>conteo=%{y}<extra></extra>\", \"legendgroup\": \"Neutro flair (en)\", \"marker\": {\"color\": \"#EF553B\"}, \"name\": \"Neutro flair (en)\", \"offsetgroup\": \"Neutro flair (en)\", \"orientation\": \"v\", \"showlegend\": true, \"textposition\": \"auto\", \"type\": \"bar\", \"x\": [\"Neutro flair (en)\"], \"xaxis\": \"x\", \"y\": [0], \"yaxis\": \"y\"}, {\"alignmentgroup\": \"True\", \"hovertemplate\": \"Atributo=%{x}<br>conteo=%{y}<extra></extra>\", \"legendgroup\": \"Positivo vader (en)\", \"marker\": {\"color\": \"#00cc96\"}, \"name\": \"Positivo vader (en)\", \"offsetgroup\": \"Positivo vader (en)\", \"orientation\": \"v\", \"showlegend\": true, \"textposition\": \"auto\", \"type\": \"bar\", \"x\": [\"Positivo vader (en)\"], \"xaxis\": \"x\", \"y\": [34], \"yaxis\": \"y\"}, {\"alignmentgroup\": \"True\", \"hovertemplate\": \"Atributo=%{x}<br>conteo=%{y}<extra></extra>\", \"legendgroup\": \"Negativo vader (en)\", \"marker\": {\"color\": \"#ab63fa\"}, \"name\": \"Negativo vader (en)\", \"offsetgroup\": \"Negativo vader (en)\", \"orientation\": \"v\", \"showlegend\": true, \"textposition\": \"auto\", \"type\": \"bar\", \"x\": [\"Negativo vader (en)\"], \"xaxis\": \"x\", \"y\": [48], \"yaxis\": \"y\"}, {\"alignmentgroup\": \"True\", \"hovertemplate\": \"Atributo=%{x}<br>conteo=%{y}<extra></extra>\", \"legendgroup\": \"Neutro vader (en)\", \"marker\": {\"color\": \"#FFA15A\"}, \"name\": \"Neutro vader (en)\", \"offsetgroup\": \"Neutro vader (en)\", \"orientation\": \"v\", \"showlegend\": true, \"textposition\": \"auto\", \"type\": \"bar\", \"x\": [\"Neutro vader (en)\"], \"xaxis\": \"x\", \"y\": [28], \"yaxis\": \"y\"}, {\"alignmentgroup\": \"True\", \"hovertemplate\": \"Atributo=%{x}<br>conteo=%{y}<extra></extra>\", \"legendgroup\": \"Positivo textblob (en)\", \"marker\": {\"color\": \"#19d3f3\"}, \"name\": \"Positivo textblob (en)\", \"offsetgroup\": \"Positivo textblob (en)\", \"orientation\": \"v\", \"showlegend\": true, \"textposition\": \"auto\", \"type\": \"bar\", \"x\": [\"Positivo textblob (en)\"], \"xaxis\": \"x\", \"y\": [36], \"yaxis\": \"y\"}, {\"alignmentgroup\": \"True\", \"hovertemplate\": \"Atributo=%{x}<br>conteo=%{y}<extra></extra>\", \"legendgroup\": \"Negativo textblob (en)\", \"marker\": {\"color\": \"#FF6692\"}, \"name\": \"Negativo textblob (en)\", \"offsetgroup\": \"Negativo textblob (en)\", \"orientation\": \"v\", \"showlegend\": true, \"textposition\": \"auto\", \"type\": \"bar\", \"x\": [\"Negativo textblob (en)\"], \"xaxis\": \"x\", \"y\": [32], \"yaxis\": \"y\"}, {\"alignmentgroup\": \"True\", \"hovertemplate\": \"Atributo=%{x}<br>conteo=%{y}<extra></extra>\", \"legendgroup\": \"Neutro textblob (en)\", \"marker\": {\"color\": \"#B6E880\"}, \"name\": \"Neutro textblob (en)\", \"offsetgroup\": \"Neutro textblob (en)\", \"orientation\": \"v\", \"showlegend\": true, \"textposition\": \"auto\", \"type\": \"bar\", \"x\": [\"Neutro textblob (en)\"], \"xaxis\": \"x\", \"y\": [42], \"yaxis\": \"y\"}],                        {\"barmode\": \"relative\", \"legend\": {\"title\": {\"text\": \"Atributo\"}, \"tracegroupgap\": 0}, \"template\": {\"data\": {\"bar\": [{\"error_x\": {\"color\": \"#2a3f5f\"}, \"error_y\": {\"color\": \"#2a3f5f\"}, \"marker\": {\"line\": {\"color\": \"#E5ECF6\", \"width\": 0.5}}, \"type\": \"bar\"}], \"barpolar\": [{\"marker\": {\"line\": {\"color\": \"#E5ECF6\", \"width\": 0.5}}, \"type\": \"barpolar\"}], \"carpet\": [{\"aaxis\": {\"endlinecolor\": \"#2a3f5f\", \"gridcolor\": \"white\", \"linecolor\": \"white\", \"minorgridcolor\": \"white\", \"startlinecolor\": \"#2a3f5f\"}, \"baxis\": {\"endlinecolor\": \"#2a3f5f\", \"gridcolor\": \"white\", \"linecolor\": \"white\", \"minorgridcolor\": \"white\", \"startlinecolor\": \"#2a3f5f\"}, \"type\": \"carpet\"}], \"choropleth\": [{\"colorbar\": {\"outlinewidth\": 0, \"ticks\": \"\"}, \"type\": \"choropleth\"}], \"contour\": [{\"colorbar\": {\"outlinewidth\": 0, \"ticks\": \"\"}, \"colorscale\": [[0.0, \"#0d0887\"], [0.1111111111111111, \"#46039f\"], [0.2222222222222222, \"#7201a8\"], [0.3333333333333333, \"#9c179e\"], [0.4444444444444444, \"#bd3786\"], [0.5555555555555556, \"#d8576b\"], [0.6666666666666666, \"#ed7953\"], [0.7777777777777778, \"#fb9f3a\"], [0.8888888888888888, \"#fdca26\"], [1.0, \"#f0f921\"]], \"type\": \"contour\"}], \"contourcarpet\": [{\"colorbar\": {\"outlinewidth\": 0, \"ticks\": \"\"}, \"type\": \"contourcarpet\"}], \"heatmap\": [{\"colorbar\": {\"outlinewidth\": 0, \"ticks\": \"\"}, \"colorscale\": [[0.0, \"#0d0887\"], [0.1111111111111111, \"#46039f\"], [0.2222222222222222, \"#7201a8\"], [0.3333333333333333, \"#9c179e\"], [0.4444444444444444, \"#bd3786\"], [0.5555555555555556, \"#d8576b\"], [0.6666666666666666, \"#ed7953\"], [0.7777777777777778, \"#fb9f3a\"], [0.8888888888888888, \"#fdca26\"], [1.0, \"#f0f921\"]], \"type\": \"heatmap\"}], \"heatmapgl\": [{\"colorbar\": {\"outlinewidth\": 0, \"ticks\": \"\"}, \"colorscale\": [[0.0, \"#0d0887\"], [0.1111111111111111, \"#46039f\"], [0.2222222222222222, \"#7201a8\"], [0.3333333333333333, \"#9c179e\"], [0.4444444444444444, \"#bd3786\"], [0.5555555555555556, \"#d8576b\"], [0.6666666666666666, \"#ed7953\"], [0.7777777777777778, \"#fb9f3a\"], [0.8888888888888888, \"#fdca26\"], [1.0, \"#f0f921\"]], \"type\": \"heatmapgl\"}], \"histogram\": [{\"marker\": {\"colorbar\": {\"outlinewidth\": 0, \"ticks\": \"\"}}, \"type\": \"histogram\"}], \"histogram2d\": [{\"colorbar\": {\"outlinewidth\": 0, \"ticks\": \"\"}, \"colorscale\": [[0.0, \"#0d0887\"], [0.1111111111111111, \"#46039f\"], [0.2222222222222222, \"#7201a8\"], [0.3333333333333333, \"#9c179e\"], [0.4444444444444444, \"#bd3786\"], [0.5555555555555556, \"#d8576b\"], [0.6666666666666666, \"#ed7953\"], [0.7777777777777778, \"#fb9f3a\"], [0.8888888888888888, \"#fdca26\"], [1.0, \"#f0f921\"]], \"type\": \"histogram2d\"}], \"histogram2dcontour\": [{\"colorbar\": {\"outlinewidth\": 0, \"ticks\": \"\"}, \"colorscale\": [[0.0, \"#0d0887\"], [0.1111111111111111, \"#46039f\"], [0.2222222222222222, \"#7201a8\"], [0.3333333333333333, \"#9c179e\"], [0.4444444444444444, \"#bd3786\"], [0.5555555555555556, \"#d8576b\"], [0.6666666666666666, \"#ed7953\"], [0.7777777777777778, \"#fb9f3a\"], [0.8888888888888888, \"#fdca26\"], [1.0, \"#f0f921\"]], \"type\": \"histogram2dcontour\"}], \"mesh3d\": [{\"colorbar\": {\"outlinewidth\": 0, \"ticks\": \"\"}, \"type\": \"mesh3d\"}], \"parcoords\": [{\"line\": {\"colorbar\": {\"outlinewidth\": 0, \"ticks\": \"\"}}, \"type\": \"parcoords\"}], \"pie\": [{\"automargin\": true, \"type\": \"pie\"}], \"scatter\": [{\"marker\": {\"colorbar\": {\"outlinewidth\": 0, \"ticks\": \"\"}}, \"type\": \"scatter\"}], \"scatter3d\": [{\"line\": {\"colorbar\": {\"outlinewidth\": 0, \"ticks\": \"\"}}, \"marker\": {\"colorbar\": {\"outlinewidth\": 0, \"ticks\": \"\"}}, \"type\": \"scatter3d\"}], \"scattercarpet\": [{\"marker\": {\"colorbar\": {\"outlinewidth\": 0, \"ticks\": \"\"}}, \"type\": \"scattercarpet\"}], \"scattergeo\": [{\"marker\": {\"colorbar\": {\"outlinewidth\": 0, \"ticks\": \"\"}}, \"type\": \"scattergeo\"}], \"scattergl\": [{\"marker\": {\"colorbar\": {\"outlinewidth\": 0, \"ticks\": \"\"}}, \"type\": \"scattergl\"}], \"scattermapbox\": [{\"marker\": {\"colorbar\": {\"outlinewidth\": 0, \"ticks\": \"\"}}, \"type\": \"scattermapbox\"}], \"scatterpolar\": [{\"marker\": {\"colorbar\": {\"outlinewidth\": 0, \"ticks\": \"\"}}, \"type\": \"scatterpolar\"}], \"scatterpolargl\": [{\"marker\": {\"colorbar\": {\"outlinewidth\": 0, \"ticks\": \"\"}}, \"type\": \"scatterpolargl\"}], \"scatterternary\": [{\"marker\": {\"colorbar\": {\"outlinewidth\": 0, \"ticks\": \"\"}}, \"type\": \"scatterternary\"}], \"surface\": [{\"colorbar\": {\"outlinewidth\": 0, \"ticks\": \"\"}, \"colorscale\": [[0.0, \"#0d0887\"], [0.1111111111111111, \"#46039f\"], [0.2222222222222222, \"#7201a8\"], [0.3333333333333333, \"#9c179e\"], [0.4444444444444444, \"#bd3786\"], [0.5555555555555556, \"#d8576b\"], [0.6666666666666666, \"#ed7953\"], [0.7777777777777778, \"#fb9f3a\"], [0.8888888888888888, \"#fdca26\"], [1.0, \"#f0f921\"]], \"type\": \"surface\"}], \"table\": [{\"cells\": {\"fill\": {\"color\": \"#EBF0F8\"}, \"line\": {\"color\": \"white\"}}, \"header\": {\"fill\": {\"color\": \"#C8D4E3\"}, \"line\": {\"color\": \"white\"}}, \"type\": \"table\"}]}, \"layout\": {\"annotationdefaults\": {\"arrowcolor\": \"#2a3f5f\", \"arrowhead\": 0, \"arrowwidth\": 1}, \"autotypenumbers\": \"strict\", \"coloraxis\": {\"colorbar\": {\"outlinewidth\": 0, \"ticks\": \"\"}}, \"colorscale\": {\"diverging\": [[0, \"#8e0152\"], [0.1, \"#c51b7d\"], [0.2, \"#de77ae\"], [0.3, \"#f1b6da\"], [0.4, \"#fde0ef\"], [0.5, \"#f7f7f7\"], [0.6, \"#e6f5d0\"], [0.7, \"#b8e186\"], [0.8, \"#7fbc41\"], [0.9, \"#4d9221\"], [1, \"#276419\"]], \"sequential\": [[0.0, \"#0d0887\"], [0.1111111111111111, \"#46039f\"], [0.2222222222222222, \"#7201a8\"], [0.3333333333333333, \"#9c179e\"], [0.4444444444444444, \"#bd3786\"], [0.5555555555555556, \"#d8576b\"], [0.6666666666666666, \"#ed7953\"], [0.7777777777777778, \"#fb9f3a\"], [0.8888888888888888, \"#fdca26\"], [1.0, \"#f0f921\"]], \"sequentialminus\": [[0.0, \"#0d0887\"], [0.1111111111111111, \"#46039f\"], [0.2222222222222222, \"#7201a8\"], [0.3333333333333333, \"#9c179e\"], [0.4444444444444444, \"#bd3786\"], [0.5555555555555556, \"#d8576b\"], [0.6666666666666666, \"#ed7953\"], [0.7777777777777778, \"#fb9f3a\"], [0.8888888888888888, \"#fdca26\"], [1.0, \"#f0f921\"]]}, \"colorway\": [\"#636efa\", \"#EF553B\", \"#00cc96\", \"#ab63fa\", \"#FFA15A\", \"#19d3f3\", \"#FF6692\", \"#B6E880\", \"#FF97FF\", \"#FECB52\"], \"font\": {\"color\": \"#2a3f5f\"}, \"geo\": {\"bgcolor\": \"white\", \"lakecolor\": \"white\", \"landcolor\": \"#E5ECF6\", \"showlakes\": true, \"showland\": true, \"subunitcolor\": \"white\"}, \"hoverlabel\": {\"align\": \"left\"}, \"hovermode\": \"closest\", \"mapbox\": {\"style\": \"light\"}, \"paper_bgcolor\": \"white\", \"plot_bgcolor\": \"#E5ECF6\", \"polar\": {\"angularaxis\": {\"gridcolor\": \"white\", \"linecolor\": \"white\", \"ticks\": \"\"}, \"bgcolor\": \"#E5ECF6\", \"radialaxis\": {\"gridcolor\": \"white\", \"linecolor\": \"white\", \"ticks\": \"\"}}, \"scene\": {\"xaxis\": {\"backgroundcolor\": \"#E5ECF6\", \"gridcolor\": \"white\", \"gridwidth\": 2, \"linecolor\": \"white\", \"showbackground\": true, \"ticks\": \"\", \"zerolinecolor\": \"white\"}, \"yaxis\": {\"backgroundcolor\": \"#E5ECF6\", \"gridcolor\": \"white\", \"gridwidth\": 2, \"linecolor\": \"white\", \"showbackground\": true, \"ticks\": \"\", \"zerolinecolor\": \"white\"}, \"zaxis\": {\"backgroundcolor\": \"#E5ECF6\", \"gridcolor\": \"white\", \"gridwidth\": 2, \"linecolor\": \"white\", \"showbackground\": true, \"ticks\": \"\", \"zerolinecolor\": \"white\"}}, \"shapedefaults\": {\"line\": {\"color\": \"#2a3f5f\"}}, \"ternary\": {\"aaxis\": {\"gridcolor\": \"white\", \"linecolor\": \"white\", \"ticks\": \"\"}, \"baxis\": {\"gridcolor\": \"white\", \"linecolor\": \"white\", \"ticks\": \"\"}, \"bgcolor\": \"#E5ECF6\", \"caxis\": {\"gridcolor\": \"white\", \"linecolor\": \"white\", \"ticks\": \"\"}}, \"title\": {\"x\": 0.05}, \"xaxis\": {\"automargin\": true, \"gridcolor\": \"white\", \"linecolor\": \"white\", \"ticks\": \"\", \"title\": {\"standoff\": 15}, \"zerolinecolor\": \"white\", \"zerolinewidth\": 2}, \"yaxis\": {\"automargin\": true, \"gridcolor\": \"white\", \"linecolor\": \"white\", \"ticks\": \"\", \"title\": {\"standoff\": 15}, \"zerolinecolor\": \"white\", \"zerolinewidth\": 2}}}, \"title\": {\"text\": \"Conteo de tweets\"}, \"xaxis\": {\"anchor\": \"y\", \"categoryarray\": [\"Positivo flair (es)\", \"Negativo flair (es)\", \"Neutro flair (es)\", \"Positivo vader (es)\", \"Negativo vader (es)\", \"Neutro vader (es)\", \"Positivo textblob (es)\", \"Negativo textblob (es)\", \"Neutro textblob (es)\", \"Positivo flair (en)\", \"Negativo flair (en)\", \"Neutro flair (en)\", \"Positivo vader (en)\", \"Negativo vader (en)\", \"Neutro vader (en)\", \"Positivo textblob (en)\", \"Negativo textblob (en)\", \"Neutro textblob (en)\"], \"categoryorder\": \"array\", \"domain\": [0.0, 1.0], \"title\": {\"text\": \"Atributo\"}}, \"yaxis\": {\"anchor\": \"x\", \"domain\": [0.0, 1.0], \"title\": {\"text\": \"conteo\"}}},                        {\"responsive\": true}                    ).then(function(){\n",
       "                            \n",
       "var gd = document.getElementById('10391087-92fb-4558-9b58-4b8776dfdf4e');\n",
       "var x = new MutationObserver(function (mutations, observer) {{\n",
       "        var display = window.getComputedStyle(gd).display;\n",
       "        if (!display || display === 'none') {{\n",
       "            console.log([gd, 'removed!']);\n",
       "            Plotly.purge(gd);\n",
       "            observer.disconnect();\n",
       "        }}\n",
       "}});\n",
       "\n",
       "// Listen for the removal of the full notebook cells\n",
       "var notebookContainer = gd.closest('#notebook-container');\n",
       "if (notebookContainer) {{\n",
       "    x.observe(notebookContainer, {childList: true});\n",
       "}}\n",
       "\n",
       "// Listen for the clearing of the current output cell\n",
       "var outputEl = gd.closest('.output');\n",
       "if (outputEl) {{\n",
       "    x.observe(outputEl, {childList: true});\n",
       "}}\n",
       "\n",
       "                        })                };                });            </script>        </div>"
      ]
     },
     "metadata": {},
     "output_type": "display_data"
    }
   ],
   "source": [
    "import plotly.express as px\n",
    "\n",
    "fig = px.bar(conteosData, x=\"Atributo\", y=\"conteo\", color=\"Atributo\", title=\"Conteo de tweets\")\n",
    "fig.show()"
   ]
  },
  {
   "cell_type": "code",
   "execution_count": null,
   "metadata": {},
   "outputs": [],
   "source": []
  }
 ],
 "metadata": {
  "kernelspec": {
   "display_name": "Python 3",
   "language": "python",
   "name": "python3"
  },
  "language_info": {
   "codemirror_mode": {
    "name": "ipython",
    "version": 3
   },
   "file_extension": ".py",
   "mimetype": "text/x-python",
   "name": "python",
   "nbconvert_exporter": "python",
   "pygments_lexer": "ipython3",
   "version": "3.8.8"
  }
 },
 "nbformat": 4,
 "nbformat_minor": 2
}
