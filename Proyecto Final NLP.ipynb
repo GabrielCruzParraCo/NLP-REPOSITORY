{
 "cells": [
  {
   "cell_type": "markdown",
   "id": "cellular-zealand",
   "metadata": {},
   "source": [
    "## Proyecto final procesamiento de lenguaje natural\n",
    "\n",
    "**Integrantes:**\n",
    "\n",
    "* Laura del Pilar Torres Toro - Código: 617202012\n",
    "* Gabriel Cruz Parra - Código: 617202013\n",
    "\n",
    "**Planteamiento del Problema:**\n",
    "\n",
    "* Determinar la variación de opinión de x personajes políticos en los últimos 10 años respecto a un tema determinado.\n",
    "\n",
    "**Motivación:**\n",
    "\n",
    "* Determinar si en la clase política colombiana existe una tendencia a contradecir sus convicciones.\n",
    "\n",
    "**Metodología:**\n",
    "\n",
    "* Adquisición de los datos \n",
    "* Pre procesamiento\n",
    "* Clasificación\n",
    "* Determinación de variación\n",
    "\n",
    "### Desarrollo del proyecto\n",
    "\n",
    "* Obtenemos por entrada de teclado un conjunto de parámetros deseados por el usuario:"
   ]
  },
  {
   "cell_type": "code",
   "execution_count": 3,
   "id": "surface-section",
   "metadata": {},
   "outputs": [
    {
     "data": {
      "application/vnd.jupyter.widget-view+json": {
       "model_id": "7d8870f6438f4b98a0929b6768c50ca3",
       "version_major": 2,
       "version_minor": 0
      },
      "text/plain": [
       "Dropdown(description='Político: ', options=('AlvarouribeVel', 'petrogustavo'), value='AlvarouribeVel')"
      ]
     },
     "metadata": {},
     "output_type": "display_data"
    },
    {
     "data": {
      "application/vnd.jupyter.widget-view+json": {
       "model_id": "47637693224d4668a5cef6e4154deb5f",
       "version_major": 2,
       "version_minor": 0
      },
      "text/plain": [
       "Dropdown(description='Temas: ', options=('Aborto', 'Reforma tributaria', 'Salud'), value='Aborto')"
      ]
     },
     "metadata": {},
     "output_type": "display_data"
    },
    {
     "data": {
      "application/vnd.jupyter.widget-view+json": {
       "model_id": "82d1cf3dc00e4a7e96d46676c569a169",
       "version_major": 2,
       "version_minor": 0
      },
      "text/plain": [
       "IntSlider(value=0, description='Años de retro búsqueda: ')"
      ]
     },
     "metadata": {},
     "output_type": "display_data"
    },
    {
     "data": {
      "application/vnd.jupyter.widget-view+json": {
       "model_id": "5ae0d7fc805944f0acb866254091e72c",
       "version_major": 2,
       "version_minor": 0
      },
      "text/plain": [
       "IntText(value=0)"
      ]
     },
     "metadata": {},
     "output_type": "display_data"
    },
    {
     "data": {
      "text/plain": [
       "Link(source=(IntSlider(value=0, description='Años de retro búsqueda: '), 'value'), target=(IntText(value=0), '…"
      ]
     },
     "metadata": {},
     "output_type": "display_data"
    }
   ],
   "source": [
    "import snscrape.modules.twitter as sntwitter\n",
    "from datetime import datetime\n",
    "from datetime import timedelta\n",
    "import pandas as pd\n",
    "import ipywidgets as widgets\n",
    "\n",
    "\n",
    "dropdown_politicos = widgets.Dropdown(options =['AlvarouribeVel','petrogustavo'], description=\"Político: \")\n",
    "dropdown_temas = widgets.Dropdown(options =['Aborto','Reforma tributaria', 'Salud'], description=\"Temas: \")\n",
    "display(dropdown_politicos)\n",
    "display(dropdown_temas)\n",
    "slider_vigencias = widgets.IntSlider(description=\"Años de retro búsqueda: \")\n",
    "text_vigencias = widgets.IntText()\n",
    "display(slider_vigencias, text_vigencias)\n",
    "widgets.jslink((slider_vigencias, 'value'), (text_vigencias, 'value'))\n",
    "\n",
    "#vigencias = int(input('Digite el número de años para retro búsqueda: '))\n",
    "#tema = input('Digite el tema deseado: ')\n",
    "\n",
    "   "
   ]
  },
  {
   "cell_type": "code",
   "execution_count": 2,
   "id": "hungry-singer",
   "metadata": {},
   "outputs": [
    {
     "ename": "NameError",
     "evalue": "name 'vigencias' is not defined",
     "output_type": "error",
     "traceback": [
      "\u001b[1;31m---------------------------------------------------------------------------\u001b[0m",
      "\u001b[1;31mNameError\u001b[0m                                 Traceback (most recent call last)",
      "\u001b[1;32m<ipython-input-2-3d3887ac60a2>\u001b[0m in \u001b[0;36m<module>\u001b[1;34m\u001b[0m\n\u001b[0;32m      1\u001b[0m \u001b[0mnow\u001b[0m \u001b[1;33m=\u001b[0m \u001b[0mdatetime\u001b[0m\u001b[1;33m.\u001b[0m\u001b[0mnow\u001b[0m\u001b[1;33m(\u001b[0m\u001b[1;33m)\u001b[0m\u001b[1;33m\u001b[0m\u001b[1;33m\u001b[0m\u001b[0m\n\u001b[1;32m----> 2\u001b[1;33m \u001b[0mretro_search\u001b[0m \u001b[1;33m=\u001b[0m \u001b[0mnow\u001b[0m \u001b[1;33m-\u001b[0m \u001b[0mtimedelta\u001b[0m\u001b[1;33m(\u001b[0m\u001b[0mdays\u001b[0m \u001b[1;33m=\u001b[0m \u001b[1;33m(\u001b[0m\u001b[1;36m365\u001b[0m\u001b[1;33m*\u001b[0m\u001b[0mvigencias\u001b[0m\u001b[1;33m)\u001b[0m\u001b[1;33m)\u001b[0m\u001b[1;33m\u001b[0m\u001b[1;33m\u001b[0m\u001b[0m\n\u001b[0m\u001b[0;32m      3\u001b[0m \u001b[0mhoy\u001b[0m \u001b[1;33m=\u001b[0m \u001b[0mnow\u001b[0m\u001b[1;33m.\u001b[0m\u001b[0mstrftime\u001b[0m\u001b[1;33m(\u001b[0m\u001b[1;34m\"%Y-%m-%d\"\u001b[0m\u001b[1;33m)\u001b[0m\u001b[1;33m\u001b[0m\u001b[1;33m\u001b[0m\u001b[0m\n\u001b[0;32m      4\u001b[0m \u001b[0mpasado\u001b[0m \u001b[1;33m=\u001b[0m \u001b[0mretro_search\u001b[0m\u001b[1;33m.\u001b[0m\u001b[0mstrftime\u001b[0m\u001b[1;33m(\u001b[0m\u001b[1;34m\"%Y-%m-%d\"\u001b[0m\u001b[1;33m)\u001b[0m\u001b[1;33m\u001b[0m\u001b[1;33m\u001b[0m\u001b[0m\n\u001b[0;32m      5\u001b[0m \u001b[0mprint\u001b[0m\u001b[1;33m(\u001b[0m\u001b[1;34m'desde: '\u001b[0m\u001b[1;33m,\u001b[0m \u001b[0mpasado\u001b[0m\u001b[1;33m,\u001b[0m \u001b[1;34m'hasta'\u001b[0m\u001b[1;33m,\u001b[0m \u001b[0mhoy\u001b[0m\u001b[1;33m)\u001b[0m\u001b[1;33m\u001b[0m\u001b[1;33m\u001b[0m\u001b[0m\n",
      "\u001b[1;31mNameError\u001b[0m: name 'vigencias' is not defined"
     ]
    }
   ],
   "source": [
    "\n",
    "now = datetime.now()\n",
    "retro_search = now - timedelta(days = (365*vigencias))\n",
    "hoy = now.strftime(\"%Y-%m-%d\")\n",
    "pasado = retro_search.strftime(\"%Y-%m-%d\")\n",
    "print('desde: ', pasado, 'hasta', hoy)\n",
    "tweet_list = []\n",
    "maxTweets = 100  \n",
    "# petrogustavo\n",
    "for i,tweet in enumerate(sntwitter.TwitterSearchScraper(f'{tema} since:{pasado} until:{hoy} from:AlvaroUribeVel').get_items()) :\n",
    "    if i > maxTweets :\n",
    "        break\n",
    "    print(tweet)\n",
    "    print(tweet.date)\n",
    "    print(tweet.content)\n",
    "    print(\"*\"*100)\n",
    "    print()\n",
    "        \n",
    "    tweet_list.append([tweet.date, tweet.id, tweet.content, tweet.user.username, tweet.user.displayname, tweet])\n",
    "    \n",
    "# Creating a dataframe from the tweets list above \n",
    "tweets_df = pd.DataFrame(tweet_list, columns=['Fecha', 'tweet_id', 'contenido', 'usuario', 'usuario_mostrar', 'enlace'])\n",
    "tweets_df.head() "
   ]
  },
  {
   "cell_type": "code",
   "execution_count": null,
   "id": "perceived-custody",
   "metadata": {},
   "outputs": [],
   "source": [
    "translate_client = translate.Client()\n",
    "\n",
    "def traducir(texto, lenguaje):\n",
    "    if isinstance(texto, six.binary_type):\n",
    "        texto = texto.decode(\"utf-8\")\n",
    "\n",
    "    # Text can also be a sequence of strings, in which case this method\n",
    "    # will return a sequence of results for each text.\n",
    "    resultado = translate_client.translate(texto, target_language=lenguaje)\n",
    "    return resultado['translatedText']"
   ]
  },
  {
   "cell_type": "code",
   "execution_count": null,
   "id": "accepting-wales",
   "metadata": {},
   "outputs": [],
   "source": []
  }
 ],
 "metadata": {
  "kernelspec": {
   "display_name": "Python 3",
   "language": "python",
   "name": "python3"
  },
  "language_info": {
   "codemirror_mode": {
    "name": "ipython",
    "version": 3
   },
   "file_extension": ".py",
   "mimetype": "text/x-python",
   "name": "python",
   "nbconvert_exporter": "python",
   "pygments_lexer": "ipython3",
   "version": "3.8.8"
  }
 },
 "nbformat": 4,
 "nbformat_minor": 5
}
