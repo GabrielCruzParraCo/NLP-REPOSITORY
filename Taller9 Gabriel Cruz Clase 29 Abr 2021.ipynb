{
 "cells": [
  {
   "cell_type": "markdown",
   "metadata": {},
   "source": [
    "<img src='https://encrypted-tbn0.gstatic.com/images?q=tbn%3AANd9GcQ-VfNtOyJbsaxu43Kztf_cv1mgBG6ZIQZEVw&usqp=CAU'>\n",
    "\n",
    "# Procesamiento de Lenguaje Natural\n",
    "\n",
    "## Taller #9: Modelado de temas\n",
    "`Fecha de entrega: Mayo 6, 2021. (Antes del inicio de la próxima clase).`\n",
    "\n",
    "`Modo de entrega: Subir link de GitHub al aula virtual.`"
   ]
  },
  {
   "cell_type": "code",
   "execution_count": 2,
   "metadata": {},
   "outputs": [
    {
     "name": "stderr",
     "output_type": "stream",
     "text": [
      "D:\\ProgramFiles\\Anaconda3.2020.11\\lib\\site-packages\\scipy\\sparse\\sparsetools.py:21: DeprecationWarning: `scipy.sparse.sparsetools` is deprecated!\n",
      "scipy.sparse.sparsetools is a private module for scipy.sparse, and should not be used.\n",
      "  _deprecated()\n"
     ]
    }
   ],
   "source": [
    "import re\n",
    "import pandas as pd \n",
    "from pprint import pprint\n",
    "\n",
    "from nltk.corpus import stopwords\n",
    "stopwords = stopwords.words('spanish')\n",
    "\n",
    "import pyLDAvis.gensim_models\n",
    "from gensim.models import LdaModel\n",
    "from gensim.corpora import Dictionary\n",
    "\n",
    "import warnings\n",
    "warnings.filterwarnings(\"ignore\", category=DeprecationWarning)"
   ]
  },
  {
   "cell_type": "code",
   "execution_count": 3,
   "metadata": {},
   "outputs": [
    {
     "data": {
      "text/html": [
       "<div>\n",
       "<style scoped>\n",
       "    .dataframe tbody tr th:only-of-type {\n",
       "        vertical-align: middle;\n",
       "    }\n",
       "\n",
       "    .dataframe tbody tr th {\n",
       "        vertical-align: top;\n",
       "    }\n",
       "\n",
       "    .dataframe thead th {\n",
       "        text-align: right;\n",
       "    }\n",
       "</style>\n",
       "<table border=\"1\" class=\"dataframe\">\n",
       "  <thead>\n",
       "    <tr style=\"text-align: right;\">\n",
       "      <th></th>\n",
       "      <th>review_id</th>\n",
       "      <th>product_id</th>\n",
       "      <th>reviewer_id</th>\n",
       "      <th>stars</th>\n",
       "      <th>review_body</th>\n",
       "      <th>review_title</th>\n",
       "      <th>language</th>\n",
       "      <th>product_category</th>\n",
       "    </tr>\n",
       "  </thead>\n",
       "  <tbody>\n",
       "    <tr>\n",
       "      <th>0</th>\n",
       "      <td>es_0825565</td>\n",
       "      <td>product_es_0370490</td>\n",
       "      <td>reviewer_es_0174781</td>\n",
       "      <td>3</td>\n",
       "      <td>Buen. Buena calidad, y buena presentación.</td>\n",
       "      <td>Contenta</td>\n",
       "      <td>es</td>\n",
       "      <td>jewelry</td>\n",
       "    </tr>\n",
       "    <tr>\n",
       "      <th>1</th>\n",
       "      <td>es_0227934</td>\n",
       "      <td>product_es_0354224</td>\n",
       "      <td>reviewer_es_0411613</td>\n",
       "      <td>3</td>\n",
       "      <td>Un producto a perfecto, para salir de casa con...</td>\n",
       "      <td>Versatilidad</td>\n",
       "      <td>es</td>\n",
       "      <td>video_games</td>\n",
       "    </tr>\n",
       "    <tr>\n",
       "      <th>2</th>\n",
       "      <td>es_0468601</td>\n",
       "      <td>product_es_0665460</td>\n",
       "      <td>reviewer_es_0348315</td>\n",
       "      <td>1</td>\n",
       "      <td>No funciona con Nintendo Switch. No hay forma ...</td>\n",
       "      <td>Decepción absoluta</td>\n",
       "      <td>es</td>\n",
       "      <td>video_games</td>\n",
       "    </tr>\n",
       "    <tr>\n",
       "      <th>3</th>\n",
       "      <td>es_0814494</td>\n",
       "      <td>product_es_0692692</td>\n",
       "      <td>reviewer_es_0951508</td>\n",
       "      <td>5</td>\n",
       "      <td>Recomendado, los utilizo para pc y no me dan n...</td>\n",
       "      <td>Auriculares Pecham ps4</td>\n",
       "      <td>es</td>\n",
       "      <td>video_games</td>\n",
       "    </tr>\n",
       "    <tr>\n",
       "      <th>4</th>\n",
       "      <td>es_0206329</td>\n",
       "      <td>product_es_0728826</td>\n",
       "      <td>reviewer_es_0493255</td>\n",
       "      <td>4</td>\n",
       "      <td>El cable funciona bien podria ser un poco mas ...</td>\n",
       "      <td>Perfecto</td>\n",
       "      <td>es</td>\n",
       "      <td>video_games</td>\n",
       "    </tr>\n",
       "  </tbody>\n",
       "</table>\n",
       "</div>"
      ],
      "text/plain": [
       "    review_id          product_id          reviewer_id  stars  \\\n",
       "0  es_0825565  product_es_0370490  reviewer_es_0174781      3   \n",
       "1  es_0227934  product_es_0354224  reviewer_es_0411613      3   \n",
       "2  es_0468601  product_es_0665460  reviewer_es_0348315      1   \n",
       "3  es_0814494  product_es_0692692  reviewer_es_0951508      5   \n",
       "4  es_0206329  product_es_0728826  reviewer_es_0493255      4   \n",
       "\n",
       "                                         review_body            review_title  \\\n",
       "0         Buen. Buena calidad, y buena presentación.                Contenta   \n",
       "1  Un producto a perfecto, para salir de casa con...            Versatilidad   \n",
       "2  No funciona con Nintendo Switch. No hay forma ...      Decepción absoluta   \n",
       "3  Recomendado, los utilizo para pc y no me dan n...  Auriculares Pecham ps4   \n",
       "4  El cable funciona bien podria ser un poco mas ...                Perfecto   \n",
       "\n",
       "  language product_category  \n",
       "0       es          jewelry  \n",
       "1       es      video_games  \n",
       "2       es      video_games  \n",
       "3       es      video_games  \n",
       "4       es      video_games  "
      ]
     },
     "execution_count": 3,
     "metadata": {},
     "output_type": "execute_result"
    }
   ],
   "source": [
    "# Cargar datos\n",
    "path = './sampleFiles/reviews_vidjew_es.csv'\n",
    "data = pd.read_csv(path)\n",
    "data.head()"
   ]
  },
  {
   "cell_type": "markdown",
   "metadata": {},
   "source": [
    "###  `[12 pts]` Punto 1: Hacer pre-procesamiento del texto"
   ]
  },
  {
   "cell_type": "code",
   "execution_count": 7,
   "metadata": {},
   "outputs": [
    {
     "data": {
      "text/html": [
       "<div>\n",
       "<style scoped>\n",
       "    .dataframe tbody tr th:only-of-type {\n",
       "        vertical-align: middle;\n",
       "    }\n",
       "\n",
       "    .dataframe tbody tr th {\n",
       "        vertical-align: top;\n",
       "    }\n",
       "\n",
       "    .dataframe thead th {\n",
       "        text-align: right;\n",
       "    }\n",
       "</style>\n",
       "<table border=\"1\" class=\"dataframe\">\n",
       "  <thead>\n",
       "    <tr style=\"text-align: right;\">\n",
       "      <th></th>\n",
       "      <th>review_id</th>\n",
       "      <th>product_id</th>\n",
       "      <th>reviewer_id</th>\n",
       "      <th>stars</th>\n",
       "      <th>review_body</th>\n",
       "      <th>review_title</th>\n",
       "      <th>language</th>\n",
       "      <th>product_category</th>\n",
       "      <th>pre-procesado</th>\n",
       "    </tr>\n",
       "  </thead>\n",
       "  <tbody>\n",
       "    <tr>\n",
       "      <th>0</th>\n",
       "      <td>es_0825565</td>\n",
       "      <td>product_es_0370490</td>\n",
       "      <td>reviewer_es_0174781</td>\n",
       "      <td>3</td>\n",
       "      <td>Buen. Buena calidad, y buena presentación.</td>\n",
       "      <td>Contenta</td>\n",
       "      <td>es</td>\n",
       "      <td>jewelry</td>\n",
       "      <td>[buen, buena, calidad, buena, presentación]</td>\n",
       "    </tr>\n",
       "    <tr>\n",
       "      <th>1</th>\n",
       "      <td>es_0227934</td>\n",
       "      <td>product_es_0354224</td>\n",
       "      <td>reviewer_es_0411613</td>\n",
       "      <td>3</td>\n",
       "      <td>Un producto a perfecto, para salir de casa con...</td>\n",
       "      <td>Versatilidad</td>\n",
       "      <td>es</td>\n",
       "      <td>video_games</td>\n",
       "      <td>[producto, perfecto, salir, casa, nintendo, sw...</td>\n",
       "    </tr>\n",
       "    <tr>\n",
       "      <th>2</th>\n",
       "      <td>es_0468601</td>\n",
       "      <td>product_es_0665460</td>\n",
       "      <td>reviewer_es_0348315</td>\n",
       "      <td>1</td>\n",
       "      <td>No funciona con Nintendo Switch. No hay forma ...</td>\n",
       "      <td>Decepción absoluta</td>\n",
       "      <td>es</td>\n",
       "      <td>video_games</td>\n",
       "      <td>[funciona, nintendo, switch, forma, emparejarl...</td>\n",
       "    </tr>\n",
       "    <tr>\n",
       "      <th>3</th>\n",
       "      <td>es_0814494</td>\n",
       "      <td>product_es_0692692</td>\n",
       "      <td>reviewer_es_0951508</td>\n",
       "      <td>5</td>\n",
       "      <td>Recomendado, los utilizo para pc y no me dan n...</td>\n",
       "      <td>Auriculares Pecham ps4</td>\n",
       "      <td>es</td>\n",
       "      <td>video_games</td>\n",
       "      <td>[recomendado, utilizo, pc, dan, ningún, proble...</td>\n",
       "    </tr>\n",
       "    <tr>\n",
       "      <th>4</th>\n",
       "      <td>es_0206329</td>\n",
       "      <td>product_es_0728826</td>\n",
       "      <td>reviewer_es_0493255</td>\n",
       "      <td>4</td>\n",
       "      <td>El cable funciona bien podria ser un poco mas ...</td>\n",
       "      <td>Perfecto</td>\n",
       "      <td>es</td>\n",
       "      <td>video_games</td>\n",
       "      <td>[cable, funciona, bien, podria, ser, mas, larg...</td>\n",
       "    </tr>\n",
       "  </tbody>\n",
       "</table>\n",
       "</div>"
      ],
      "text/plain": [
       "    review_id          product_id          reviewer_id  stars  \\\n",
       "0  es_0825565  product_es_0370490  reviewer_es_0174781      3   \n",
       "1  es_0227934  product_es_0354224  reviewer_es_0411613      3   \n",
       "2  es_0468601  product_es_0665460  reviewer_es_0348315      1   \n",
       "3  es_0814494  product_es_0692692  reviewer_es_0951508      5   \n",
       "4  es_0206329  product_es_0728826  reviewer_es_0493255      4   \n",
       "\n",
       "                                         review_body            review_title  \\\n",
       "0         Buen. Buena calidad, y buena presentación.                Contenta   \n",
       "1  Un producto a perfecto, para salir de casa con...            Versatilidad   \n",
       "2  No funciona con Nintendo Switch. No hay forma ...      Decepción absoluta   \n",
       "3  Recomendado, los utilizo para pc y no me dan n...  Auriculares Pecham ps4   \n",
       "4  El cable funciona bien podria ser un poco mas ...                Perfecto   \n",
       "\n",
       "  language product_category                                      pre-procesado  \n",
       "0       es          jewelry        [buen, buena, calidad, buena, presentación]  \n",
       "1       es      video_games  [producto, perfecto, salir, casa, nintendo, sw...  \n",
       "2       es      video_games  [funciona, nintendo, switch, forma, emparejarl...  \n",
       "3       es      video_games  [recomendado, utilizo, pc, dan, ningún, proble...  \n",
       "4       es      video_games  [cable, funciona, bien, podria, ser, mas, larg...  "
      ]
     },
     "execution_count": 7,
     "metadata": {},
     "output_type": "execute_result"
    }
   ],
   "source": [
    "# Definción de función pre-procesado sin concatenación\n",
    "def preProcesado(texto):\n",
    "    texto = texto.lower()\n",
    "    texto = re.sub(r\"[\\W\\d_]+\", \" \", texto)\n",
    "    texto = texto.split() # Tokenizar\n",
    "    texto = [palabra for palabra in texto if palabra not in stopwords]\n",
    "    return texto\n",
    "\n",
    "data[\"pre-procesado\"] = data[\"review_body\"].apply(lambda texto: preProcesado(texto))\n",
    "data.head()"
   ]
  },
  {
   "cell_type": "markdown",
   "metadata": {},
   "source": [
    "###  `[10 pts]` Punto 2: Modelo de LDA"
   ]
  },
  {
   "cell_type": "code",
   "execution_count": 10,
   "metadata": {},
   "outputs": [
    {
     "data": {
      "text/plain": [
       "[(0,\n",
       "  '0.063*\"bien\" + 0.059*\"calidad\" + 0.039*\"precio\" + 0.024*\"cadena\" + 0.021*\"bonitos\" + 0.017*\"bastante\" + 0.016*\"buena\" + 0.016*\"mala\" + 0.016*\"aunque\" + 0.012*\"demasiado\"'),\n",
       " (1,\n",
       "  '0.042*\"juego\" + 0.030*\"buen\" + 0.024*\"calidad\" + 0.023*\"bonito\" + 0.020*\"regalo\" + 0.019*\"gustado\" + 0.017*\"buena\" + 0.017*\"plata\" + 0.014*\"pulsera\" + 0.014*\"entrega\"'),\n",
       " (2,\n",
       "  '0.034*\"bonito\" + 0.033*\"regalo\" + 0.026*\"queda\" + 0.024*\"pone\" + 0.015*\"parte\" + 0.015*\"viene\" + 0.014*\"pulsera\" + 0.014*\"bonita\" + 0.013*\"collar\" + 0.012*\"igual\"'),\n",
       " (3,\n",
       "  '0.030*\"si\" + 0.030*\"bien\" + 0.023*\"calidad\" + 0.021*\"mando\" + 0.016*\"original\" + 0.016*\"precio\" + 0.012*\"buen\" + 0.012*\"buena\" + 0.012*\"jugar\" + 0.011*\"producto\"'),\n",
       " (4,\n",
       "  '0.062*\"perfecto\" + 0.028*\"llegó\" + 0.024*\"producto\" + 0.022*\"tiempo\" + 0.020*\"juego\" + 0.017*\"amazon\" + 0.014*\"llego\" + 0.014*\"consola\" + 0.014*\"si\" + 0.013*\"después\"'),\n",
       " (5,\n",
       "  '0.042*\"día\" + 0.031*\"juego\" + 0.030*\"producto\" + 0.029*\"llegado\" + 0.016*\"caja\" + 0.015*\"pedido\" + 0.012*\"esperaba\" + 0.012*\"perfectamente\" + 0.011*\"sido\" + 0.011*\"precio\"'),\n",
       " (6,\n",
       "  '0.048*\"mas\" + 0.043*\"bien\" + 0.019*\"si\" + 0.016*\"foto\" + 0.015*\"puede\" + 0.015*\"mando\" + 0.013*\"solo\" + 0.012*\"producto\" + 0.011*\"ps\" + 0.010*\"llego\"')]"
      ]
     },
     "execution_count": 10,
     "metadata": {},
     "output_type": "execute_result"
    }
   ],
   "source": [
    "\n",
    "# Crear una represantación de los documentos en forma de diccionario\n",
    "dictionary = Dictionary(data['pre-procesado'].values)\n",
    "\n",
    "# Filtrar palabras muy frecuentes o infrecuentes\n",
    "dictionary.filter_extremes(no_below=5, no_above=0.5) \n",
    "\n",
    "# Corpus\n",
    "corpus = [dictionary.doc2bow(text) for text in data['pre-procesado'].values]\n",
    "\n",
    "# Entrenar el modelo\n",
    "model = LdaModel(corpus = corpus, id2word = dictionary, num_topics = 7, passes=10)\n",
    "\n",
    "\n",
    "model.print_topics(num_words=10)"
   ]
  },
  {
   "cell_type": "markdown",
   "metadata": {},
   "source": [
    "###  `[25 pts]` Punto 3: Visualización de LDA"
   ]
  },
  {
   "cell_type": "code",
   "execution_count": 11,
   "metadata": {},
   "outputs": [
    {
     "data": {
      "text/html": [
       "\n",
       "<link rel=\"stylesheet\" type=\"text/css\" href=\"https://cdn.jsdelivr.net/gh/bmabey/pyLDAvis@3.3.1/pyLDAvis/js/ldavis.v1.0.0.css\">\n",
       "\n",
       "\n",
       "<div id=\"ldavis_el2152415324681939843231679854\"></div>\n",
       "<script type=\"text/javascript\">\n",
       "\n",
       "var ldavis_el2152415324681939843231679854_data = {\"mdsDat\": {\"x\": [-0.12113065058116892, -0.07116682926147386, -0.05165845786861417, -0.013030276243977948, 0.05054977265814822, -0.013121110319293817, 0.2195575516163807], \"y\": [-0.009729393777923541, -0.18141189543126252, -0.012636961557384575, 0.14577191222646754, -0.01881927484593186, 0.12359847748683955, -0.0467728641008047], \"topics\": [1, 2, 3, 4, 5, 6, 7], \"cluster\": [1, 1, 1, 1, 1, 1, 1], \"Freq\": [18.05940688080908, 16.118836625879542, 15.968156348815077, 14.202301767968969, 13.863548171394807, 11.677022166967095, 10.110728038165425]}, \"tinfo\": {\"Term\": [\"perfecto\", \"mas\", \"bien\", \"d\\u00eda\", \"calidad\", \"juego\", \"bonito\", \"regalo\", \"lleg\\u00f3\", \"cadena\", \"llegado\", \"pone\", \"queda\", \"buen\", \"mando\", \"bonitos\", \"tiempo\", \"plata\", \"pulsera\", \"mala\", \"gustado\", \"bonita\", \"caja\", \"producto\", \"entrega\", \"pedido\", \"consola\", \"original\", \"ps\", \"amazon\", \"carga\", \"sonido\", \"pc\", \"ruido\", \"quieres\", \"mientras\", \"entender\", \"conectar\", \"mandos\", \"cuenta\", \"poder\", \"sony\", \"caso\", \"mayor\", \"much\\u00edsimo\", \"mucha\", \"original\", \"excelente\", \"totalmente\", \"materiales\", \"deber\\u00eda\", \"baratos\", \"baja\", \"cable\", \"recomendado\", \"play\", \"sitio\", \"buenos\", \"f\\u00e1cilmente\", \"funcionan\", \"juegos\", \"mando\", \"tener\", \"puedo\", \"jugar\", \"ps\", \"si\", \"verdad\", \"bien\", \"pena\", \"calidad\", \"problema\", \"funciona\", \"dos\", \"buen\", \"precio\", \"buena\", \"vale\", \"meses\", \"gusta\", \"perfectamente\", \"producto\", \"aunque\", \"ser\", \"bastante\", \"cadena\", \"acabados\", \"primer\", \"perdi\\u00f3\", \"peque\\u00f1as\", \"bajo\", \"acero\", \"mala\", \"tampoco\", \"ajusta\", \"entra\", \"corta\", \"negra\", \"fina\", \"bonitos\", \"pedir\", \"dorado\", \"d\\u00edas\", \"hacen\", \"roto\", \"realidad\", \"peque\\u00f1os\", \"cierre\", \"pesan\", \"segundo\", \"pl\\u00e1stico\", \"llevo\", \"grandes\", \"ve\", \"super\", \"colgante\", \"calidad\", \"demasiado\", \"bien\", \"precio\", \"quedan\", \"aunque\", \"bastante\", \"pendientes\", \"buena\", \"puede\", \"botones\", \"foto\", \"parece\", \"tan\", \"tiempo\", \"dos\", \"mal\", \"pulsera\", \"mas\", \"aparece\", \"cerrar\", \"llevas\", \"aun\", \"resulta\", \"esperado\", \"venia\", \"funda\", \"hola\", \"base\", \"pienso\", \"elegantes\", \"colores\", \"abrir\", \"rato\", \"contento\", \"van\", \"parecido\", \"general\", \"ponen\", \"barato\", \"asi\", \"bot\\u00f3n\", \"ajustar\", \"piedras\", \"interesante\", \"conjunto\", \"usado\", \"adapta\", \"mismo\", \"malo\", \"ps\", \"foto\", \"gracias\", \"bien\", \"puede\", \"solo\", \"mando\", \"llego\", \"peque\\u00f1o\", \"si\", \"menos\", \"ser\", \"peque\\u00f1a\", \"material\", \"llegado\", \"as\\u00ed\", \"producto\", \"mejor\", \"caja\", \"grande\", \"perfectamente\", \"parece\", \"dos\", \"tal\", \"momento\", \"precio\", \"bastante\", \"d\\u00eda\", \"one\", \"decepcionado\", \"repartidor\", \"hoy\", \"todav\\u00eda\", \"xbox\", \"entregado\", \"desear\", \"sistema\", \"pedido\", \"recibido\", \"paquete\", \"alta\", \"casa\", \"llegado\", \"transporte\", \"quer\\u00eda\", \"horas\", \"vino\", \"llegar\", \"empresa\", \"llega\", \"esperando\", \"deja\", \"ingl\\u00e9s\", \"quiz\\u00e1\", \"veces\", \"voy\", \"visto\", \"gran\", \"versi\\u00f3n\", \"sido\", \"producto\", \"caja\", \"juego\", \"esperaba\", \"perfectamente\", \"cumple\", \"dem\\u00e1s\", \"as\\u00ed\", \"lleg\\u00f3\", \"hacer\", \"muchas\", \"precio\", \"regalo\", \"bastante\", \"si\", \"foto\", \"funciona\", \"calidad\", \"entretenido\", \"preciosos\", \"familia\", \"acierto\", \"hijo\", \"peor\", \"rapidez\", \"ningun\", \"presentaci\\u00f3n\", \"embalaje\", \"jugando\", \"encantado\", \"regalar\", \"venga\", \"devuelto\", \"entrega\", \"\\u00fanico\", \"toda\", \"gustado\", \"plazo\", \"divertido\", \"descripci\\u00f3n\", \"ideal\", \"detalle\", \"puestos\", \"certificado\", \"plata\", \"buen\", \"adecuado\", \"ingles\", \"enseguida\", \"dentro\", \"juego\", \"bonito\", \"pulsera\", \"regalo\", \"bonita\", \"buena\", \"env\\u00edo\", \"calidad\", \"r\\u00e1pido\", \"pendientes\", \"bonitos\", \"trae\", \"colgante\", \"precio\", \"producto\", \"caja\", \"dise\\u00f1o\", \"si\", \"aunque\", \"compra\", \"pena\", \"parece\", \"bien\", \"perfecto\", \"condiciones\", \"funcionar\", \"consolas\", \"puesta\", \"disco\", \"forma\", \"primero\", \"consola\", \"casi\", \"tiendas\", \"lleg\\u00f3\", \"ven\\u00eda\", \"nuevo\", \"videojuegos\", \"dinero\", \"c\\u00f3digo\", \"media\", \"devolver\", \"devoluci\\u00f3n\", \"compras\", \"dejado\", \"valen\", \"tiempo\", \"castellano\", \"semanas\", \"esperar\", \"amazon\", \"despu\\u00e9s\", \"cambiar\", \"mano\", \"llego\", \"nunca\", \"tama\\u00f1o\", \"switch\", \"va\", \"producto\", \"grande\", \"juego\", \"recomiendo\", \"si\", \"caja\", \"sido\", \"bueno\", \"solo\", \"mal\", \"comprar\", \"momento\", \"negro\", \"rosa\", \"pandora\", \"fea\", \"pone\", \"juguete\", \"sirve\", \"dedo\", \"anillo\", \"venido\", \"contenta\", \"fatal\", \"fino\", \"bonitas\", \"imagen\", \"enga\\u00f1o\", \"collar\", \"tienda\", \"bolsa\", \"productos\", \"hija\", \"encantada\", \"gustan\", \"queda\", \"costado\", \"italiano\", \"igualmente\", \"rompio\", \"encant\\u00f3\", \"tacto\", \"igual\", \"q\", \"bonito\", \"regalo\", \"parte\", \"bonita\", \"gusto\", \"da\", \"viene\", \"puesto\", \"pulsera\", \"color\", \"solo\", \"pega\", \"foto\", \"plata\", \"correcto\", \"parece\", \"peque\\u00f1o\", \"precio\", \"grande\", \"juego\"], \"Freq\": [58.0, 64.0, 184.0, 49.0, 143.0, 117.0, 64.0, 62.0, 42.0, 32.0, 50.0, 21.0, 36.0, 60.0, 52.0, 39.0, 41.0, 34.0, 37.0, 24.0, 32.0, 26.0, 46.0, 104.0, 23.0, 24.0, 20.0, 31.0, 28.0, 34.0, 14.11785163613674, 12.951161211112511, 9.160372109936493, 5.6654101817210964, 5.60866696072443, 4.793350590126123, 4.769785024656567, 7.699953755247435, 12.151071992649944, 5.645201941528579, 6.936462533079098, 5.490589935756786, 11.647789551584701, 4.791781568075142, 4.684950262006367, 6.653995280535533, 22.209477215196145, 9.098421517986852, 7.6960977164706215, 5.7133083193829, 5.693943468325291, 3.745899475775458, 6.24021902314773, 14.22195704486948, 4.692413460200183, 4.665948545666845, 6.318280575394485, 5.739477570328943, 6.118622678537134, 4.45749012188176, 13.750512066256967, 29.379939814185978, 10.923368569786055, 12.231950782867345, 16.003903981190366, 14.1570510900871, 41.530871772413526, 11.653847949913803, 40.84809957391703, 12.815788661938267, 31.93531086886407, 10.837942479961265, 13.038439574433589, 13.748944953766292, 16.580373503562644, 21.80761152195356, 16.13721038611411, 9.043926485989807, 8.676667754162965, 9.45999612530446, 11.122908710424568, 14.65219880425111, 9.63157393787011, 9.380014828430621, 9.542399381165716, 29.83332921479253, 6.55214495010342, 6.523726871971844, 5.691201203956866, 5.621732265755454, 4.761021165957331, 4.760466109834211, 19.783400103643878, 9.97137247822317, 6.3774710038372895, 4.237552678913205, 4.502754744928123, 3.8365158240537798, 10.040259658522768, 25.535967676275106, 12.966495087181412, 4.036822057561297, 13.15574706837, 4.529167349042697, 11.729739145199481, 4.4529346230482485, 12.749527795951625, 14.053106359429245, 4.2942448160082805, 3.6821897694003822, 10.427241151574647, 4.630338968216847, 13.255818517449553, 11.789428414922517, 2.9132626251342155, 13.045092624959365, 71.954071608462, 14.525544906769358, 76.44387911539849, 47.35243893738851, 11.173258169719107, 18.943949584979258, 20.163690244578973, 12.436247757086049, 19.960074978943403, 14.477606692164645, 7.855763850310562, 12.848123261604501, 12.204936497589612, 8.892993307535212, 10.879648819908681, 10.571905707323474, 10.263676281492216, 9.623607376232373, 58.23921860604463, 10.61488587907038, 5.6536663636269076, 4.753117494444933, 10.092322734198788, 6.634046187888465, 6.397297594393604, 5.6327505779792375, 10.306218342837107, 4.745835268830875, 4.744886930461629, 4.054128518543915, 5.396554103143267, 6.606524113945115, 4.493359454332906, 3.838717256951066, 6.20123356115757, 7.532620712263723, 4.561346029008452, 5.110748556759954, 3.752955106676048, 6.356670440967811, 4.214359713130673, 4.2216084514254595, 3.5296785461453797, 3.4680494968223643, 2.9205667211049877, 2.9126431711160006, 2.9242204971840096, 2.821732415854709, 8.60650276004841, 6.753319014135304, 12.827445404773087, 19.65718698397957, 9.124843125819433, 51.81176047463644, 17.79112384623154, 16.220968169044635, 17.542691836589974, 12.243589772207448, 11.145884451525516, 23.168501815892917, 9.213779254867964, 11.227932323421992, 7.406896371045562, 8.121948003954477, 12.24003730230437, 10.557615246561282, 14.635816926569767, 9.731677250337366, 10.63744789007713, 8.903622517848325, 9.297841994041532, 9.729241399618019, 8.798569139019305, 8.311316824584837, 7.691759207180515, 9.57387487131885, 7.761696488555057, 44.63452410905204, 5.796535641028756, 5.752385607461421, 4.817074061752721, 8.445642775388249, 9.623170558724304, 9.4428071170211, 11.111297850310208, 4.8311752017383425, 4.430341913050148, 16.362763611281338, 10.04489025372773, 9.238567346775683, 4.841473989600046, 7.751178900863145, 31.527666166020516, 4.588909407388994, 5.569379641158143, 5.564717304707093, 5.3868126773315215, 9.161278883382714, 3.102758127520988, 9.15189514287258, 4.980801962627306, 6.017231746986893, 2.9659540433047855, 2.9390267226357567, 6.245219198526519, 4.290839240063534, 4.290284605235558, 8.847444672733603, 6.741849134840143, 11.367330902487906, 32.142439828141256, 16.813808871954542, 33.767762151416875, 13.091895817572873, 12.989880051623647, 9.755288779560832, 7.298035238385904, 10.711757541550408, 10.213449184137325, 7.481857138596763, 6.85127037700333, 11.349416397773478, 9.496754864927754, 8.997776740908323, 9.870365494906752, 8.08260925183084, 7.569037924616493, 8.792065286191564, 6.659879967506496, 6.550949440577457, 4.796395378951888, 4.704733151892638, 12.147883460708547, 4.724588764943257, 3.9422783436987627, 4.471341866717029, 5.735270497432624, 5.682752193244594, 5.0926092667777265, 9.460610571209472, 10.051472765854278, 3.7212533893976474, 6.619405496232745, 14.365031528268702, 6.286648191814888, 6.169152900875727, 19.45606935044028, 3.8727414312434756, 3.8170802378431516, 7.606261470327913, 5.363876960114251, 3.7393621384970928, 4.128250457207316, 2.916426258297472, 18.105279803206482, 30.97017297886499, 3.197768592457859, 2.754238857988179, 4.818479159727642, 8.361432955270256, 43.98350317021237, 23.91856548901518, 14.993820460301546, 20.818238189337002, 10.153735891772472, 18.30939364856041, 8.431292854319034, 25.477014404632204, 7.928877191163499, 9.36849733563919, 9.883776758341192, 6.963846510842637, 8.003828648917517, 13.539408409383912, 12.7078464416984, 9.571565505788781, 7.276056297495227, 11.854036023824118, 8.59950388130192, 8.075709535183652, 7.707318160694934, 7.66823776014921, 8.367849687412024, 54.52988361901389, 5.651871127396758, 5.3288332748564935, 3.818620397411049, 3.797825553581286, 6.790187776504078, 9.622976757046324, 4.755897998202415, 12.311493328621694, 8.291365930999934, 3.863249920334135, 25.112093105552976, 8.023362431507051, 9.00541113433478, 3.1144653594297056, 6.884618987223951, 2.8973589338091545, 2.858117236967204, 5.680855335168346, 4.611375356384165, 3.180728705898878, 3.6167100613543743, 3.124034708158792, 19.567194875849616, 3.6711377643640524, 2.825146177828421, 4.026792316692717, 14.79403122246962, 11.213954756675694, 3.809455619229496, 5.65550526568233, 12.655473777612844, 7.4068240805011465, 10.914557735082376, 7.092040207951499, 7.454432526743708, 21.352120621115393, 8.557472105748026, 17.940701097147183, 7.229582670231436, 12.30546963123238, 8.498791678966569, 6.7929592699599155, 6.366014283722768, 7.663390127790626, 6.367570007700056, 6.042277178527103, 5.909841853504885, 6.869889574510859, 5.833903948721139, 8.276765807339292, 4.962863561056395, 17.989116349196188, 4.839577722937221, 7.787767654609973, 6.167104312802385, 7.074406289213177, 4.007739264726537, 8.61271372042778, 5.9211352442645895, 5.74573221454862, 5.700552673285547, 8.360254235538633, 4.083249466314444, 9.813746860161553, 3.9673827232383054, 4.512995709071608, 4.4527752078930085, 5.011603868814976, 5.531510344247955, 5.856762059742098, 20.090907951090298, 3.162028713104054, 4.698851184952486, 3.0240850039387164, 2.9943248787579275, 5.940630369555153, 4.906314298512377, 8.959713836487818, 7.724184880424455, 26.00770734207718, 25.073620504644026, 11.81721612011112, 10.418038726290792, 8.31980789089219, 7.746466754513546, 11.775723497399142, 7.248786204376644, 10.733052525386869, 7.914952446514911, 8.922190370824177, 5.953993222042002, 8.350360208218646, 7.556019913988138, 6.491028580818969, 7.834921439906784, 7.058588817068495, 8.052736861982941, 6.710867424848839, 6.622280172888714], \"Total\": [58.0, 64.0, 184.0, 49.0, 143.0, 117.0, 64.0, 62.0, 42.0, 32.0, 50.0, 21.0, 36.0, 60.0, 52.0, 39.0, 41.0, 34.0, 37.0, 24.0, 32.0, 26.0, 46.0, 104.0, 23.0, 24.0, 20.0, 31.0, 28.0, 34.0, 14.949783625004429, 14.014905898223835, 10.287742177852413, 6.5451699908153085, 6.543216814411585, 5.6091941154580285, 5.60888360240339, 9.342086548990887, 14.941983857733746, 7.47277477933246, 9.335712289205686, 7.488986886832549, 15.891172740450408, 6.555642524201637, 6.535080679265296, 9.332508080935732, 31.831825553587954, 13.080017677681314, 11.197942533938948, 8.417326665224566, 8.431960027706378, 5.6041410549172275, 9.336934067132722, 22.3921311439385, 7.475152265086293, 7.479369090297859, 10.264085274349855, 9.407573741108754, 10.266280064601103, 7.50540205445986, 23.354416381817096, 52.25935494621038, 18.69146059855996, 21.47285960898808, 33.7135059967071, 28.953334683060742, 112.25114069046903, 23.290624208537597, 184.591911140686, 30.84179111753349, 143.76128608128474, 24.371688566713217, 34.66872210333983, 39.16246141517621, 60.913657669012224, 116.03653813689583, 65.43680281637965, 19.623016016541534, 17.819372441840308, 22.40500744024092, 37.537269734969406, 104.92646278599089, 43.014758389060816, 36.54861718999529, 53.253033952084394, 32.64208177328216, 7.451170683757282, 7.45104250950943, 6.519448706890669, 6.518998844043979, 5.589018499994697, 5.589123058056083, 24.198514014219718, 13.05929395454303, 8.386133641683285, 5.589179661712242, 6.527627768388227, 5.583511812721143, 14.884486112924026, 39.16610774002957, 20.507504454694967, 6.528844368330324, 21.440037130263626, 7.461062202988726, 19.538262432301845, 7.451848866266551, 21.41834065986018, 24.210372463719352, 7.44993113202152, 6.510668351290497, 18.630370448519418, 8.371892885195132, 24.22044770753077, 22.523731267572273, 5.597051927287427, 25.15751591266601, 143.76128608128474, 28.978279825820714, 184.591911140686, 116.03653813689583, 22.394533987214814, 43.014758389060816, 53.253033952084394, 28.91558985239075, 65.43680281637965, 50.34827835818541, 16.771822123859305, 52.582011490714905, 48.81447681865405, 23.296828197518124, 41.89938135571728, 39.16246141517621, 36.36511399587292, 37.764170891369716, 64.25374915265095, 12.101068326920537, 6.522356656137927, 5.59157169981037, 12.10461139177742, 8.376361494582282, 8.390557213341898, 7.493028283042896, 13.972113545947787, 6.520981990172805, 6.522264036467972, 5.587544654323392, 7.460698937445573, 9.358034539684446, 6.53823055131174, 5.597520761708333, 9.32897078219713, 12.107180448265815, 7.463697269257706, 8.391403160569665, 6.515789304648471, 11.221909862843807, 7.45511901737955, 7.4758583761448625, 6.530254571508659, 6.5348265015260765, 5.600792434529807, 5.610712843989128, 5.635008826057103, 5.598557654641917, 17.76838458373081, 13.968908231206667, 28.953334683060742, 52.582011490714905, 21.47058193960535, 184.591911140686, 50.34827835818541, 46.00324491128262, 52.25935494621038, 33.4962294688766, 30.117202389206227, 112.25114069046903, 24.365368348791602, 36.54861718999529, 16.852361067822702, 20.511187607497774, 50.88477840144555, 40.4059484470782, 104.92646278599089, 35.451364518912236, 46.84572871856941, 30.007256537481844, 37.537269734969406, 48.81447681865405, 39.16246141517621, 29.938633330081664, 21.529107610532435, 116.03653813689583, 53.253033952084394, 49.15747116645733, 6.619242213849744, 6.618619764441563, 5.671996933267012, 10.386591761998394, 12.267196463483431, 12.271673129790116, 15.065575922853483, 6.605481882886419, 6.591178389322133, 24.52598524048756, 15.066266470626305, 14.143898819477212, 7.530571780349305, 12.219814720001693, 50.88477840144555, 7.561573031654259, 9.413290904901546, 9.420750135071172, 9.383466007047119, 15.972760981628891, 5.667735332497029, 17.001249014456572, 9.374222524234899, 11.384460198471782, 5.643094795928037, 5.679461761770627, 12.259466896534883, 8.440514080086379, 8.474179435085693, 18.842471915178145, 14.20248554519847, 27.189802009001202, 104.92646278599089, 46.84572871856941, 117.38122654046752, 34.83679433335795, 37.537269734969406, 24.412616499055403, 17.844660786586036, 40.4059484470782, 42.86955008685525, 19.70183814011881, 16.90263061117432, 116.03653813689583, 62.759690843667556, 53.253033952084394, 112.25114069046903, 52.582011490714905, 34.66872210333983, 143.76128608128474, 7.497106169783923, 7.496700089885724, 5.623884542861046, 5.623019023445953, 15.928957502615509, 6.5707380195057645, 5.632391244127183, 6.558357567613784, 8.428211154998413, 8.420349939886895, 7.553355490878574, 14.06158322490491, 15.013601509930554, 5.615127020011367, 10.278889187326882, 23.37670527656203, 10.293846632798012, 10.286788073809136, 32.68944834061928, 6.544907692900332, 6.540676106782977, 13.067611902574475, 9.462606544789594, 6.6276246470783535, 7.478900444609922, 5.603640219041319, 34.862782968396786, 60.913657669012224, 6.555304732181206, 5.671543271099279, 10.278994263723401, 18.777073424874366, 117.38122654046752, 64.52102326195252, 37.764170891369716, 62.759690843667556, 26.53334503896722, 65.43680281637965, 21.5655099139992, 143.76128608128474, 20.63883779283697, 28.91558985239075, 39.16610774002957, 16.834689497491706, 25.15751591266601, 116.03653813689583, 104.92646278599089, 46.84572871856941, 19.617559066128234, 112.25114069046903, 43.014758389060816, 33.707936061794, 30.84179111753349, 48.81447681865405, 184.591911140686, 58.28585013992084, 7.457521176019748, 7.427645141620109, 5.571248654314404, 5.57110272757471, 10.246511482159923, 14.860949994998203, 7.432208509531605, 20.415380087677228, 13.912271781269375, 6.577326099088829, 42.86955008685525, 14.022461545451538, 15.800521894085545, 5.578175642800437, 13.047853905165006, 5.593053696703044, 5.593929378660605, 11.219855649475566, 9.367992204644981, 6.539553646720996, 7.462014738243124, 6.517699120818481, 41.89938135571728, 8.438668352110502, 6.503053922465816, 9.300034546543113, 34.608156427365294, 27.043661263988895, 9.29367103498853, 13.961911385985289, 33.4962294688766, 20.55691612196992, 34.60351096039219, 20.472767504906823, 22.310414877345707, 104.92646278599089, 30.007256537481844, 117.38122654046752, 28.13556625297681, 112.25114069046903, 46.84572871856941, 27.189802009001202, 25.18040649674164, 46.00324491128262, 36.36511399587292, 25.150172334332748, 21.529107610532435, 7.733233378530384, 6.759054457248225, 9.653944006933042, 5.792945736780823, 21.2566894873322, 5.787414193261765, 9.635719142689775, 7.707266564608888, 9.612718640302564, 5.7689268942147445, 12.470675090290023, 8.631223514785312, 8.615815900539133, 8.618881581370017, 13.37729731624231, 6.686370009850516, 16.272414187255343, 6.675760440751469, 7.6328143949437335, 7.6316279332625365, 8.605304617547446, 9.574273822785404, 10.499446517469119, 36.233116432159804, 5.7173222278809686, 8.613502437317399, 5.6998035880162545, 5.718303483934701, 11.422562646834844, 9.499550183300876, 18.060965524489042, 16.126793808256892, 64.52102326195252, 62.759690843667556, 31.275703978087652, 26.53334503896722, 20.87065605554516, 18.970226398453526, 38.774140997633424, 17.050549098109897, 37.764170891369716, 21.73802798574524, 46.00324491128262, 12.361441266151653, 52.582011490714905, 34.862782968396786, 17.97169064286801, 48.81447681865405, 30.117202389206227, 116.03653813689583, 30.007256537481844, 117.38122654046752], \"Category\": [\"Default\", \"Default\", \"Default\", \"Default\", \"Default\", \"Default\", \"Default\", \"Default\", \"Default\", \"Default\", \"Default\", \"Default\", \"Default\", \"Default\", \"Default\", \"Default\", \"Default\", \"Default\", \"Default\", \"Default\", \"Default\", \"Default\", \"Default\", \"Default\", \"Default\", \"Default\", \"Default\", \"Default\", \"Default\", \"Default\", \"Topic1\", \"Topic1\", \"Topic1\", \"Topic1\", \"Topic1\", \"Topic1\", \"Topic1\", \"Topic1\", \"Topic1\", \"Topic1\", \"Topic1\", \"Topic1\", \"Topic1\", \"Topic1\", \"Topic1\", \"Topic1\", \"Topic1\", \"Topic1\", \"Topic1\", \"Topic1\", \"Topic1\", \"Topic1\", \"Topic1\", \"Topic1\", \"Topic1\", \"Topic1\", \"Topic1\", \"Topic1\", \"Topic1\", \"Topic1\", \"Topic1\", \"Topic1\", \"Topic1\", \"Topic1\", \"Topic1\", \"Topic1\", \"Topic1\", \"Topic1\", \"Topic1\", \"Topic1\", \"Topic1\", \"Topic1\", \"Topic1\", \"Topic1\", \"Topic1\", \"Topic1\", \"Topic1\", \"Topic1\", \"Topic1\", \"Topic1\", \"Topic1\", \"Topic1\", \"Topic1\", \"Topic1\", \"Topic1\", \"Topic2\", \"Topic2\", \"Topic2\", \"Topic2\", \"Topic2\", \"Topic2\", \"Topic2\", \"Topic2\", \"Topic2\", \"Topic2\", \"Topic2\", \"Topic2\", \"Topic2\", \"Topic2\", \"Topic2\", \"Topic2\", \"Topic2\", \"Topic2\", \"Topic2\", \"Topic2\", \"Topic2\", \"Topic2\", \"Topic2\", \"Topic2\", \"Topic2\", \"Topic2\", \"Topic2\", \"Topic2\", \"Topic2\", \"Topic2\", \"Topic2\", \"Topic2\", \"Topic2\", \"Topic2\", \"Topic2\", \"Topic2\", \"Topic2\", \"Topic2\", \"Topic2\", \"Topic2\", \"Topic2\", \"Topic2\", \"Topic2\", \"Topic2\", \"Topic2\", \"Topic2\", \"Topic2\", \"Topic2\", \"Topic2\", \"Topic3\", \"Topic3\", \"Topic3\", \"Topic3\", \"Topic3\", \"Topic3\", \"Topic3\", \"Topic3\", \"Topic3\", \"Topic3\", \"Topic3\", \"Topic3\", \"Topic3\", \"Topic3\", \"Topic3\", \"Topic3\", \"Topic3\", \"Topic3\", \"Topic3\", \"Topic3\", \"Topic3\", \"Topic3\", \"Topic3\", \"Topic3\", \"Topic3\", \"Topic3\", \"Topic3\", \"Topic3\", \"Topic3\", \"Topic3\", \"Topic3\", \"Topic3\", \"Topic3\", \"Topic3\", \"Topic3\", \"Topic3\", \"Topic3\", \"Topic3\", \"Topic3\", \"Topic3\", \"Topic3\", \"Topic3\", \"Topic3\", \"Topic3\", \"Topic3\", \"Topic3\", \"Topic3\", \"Topic3\", \"Topic3\", \"Topic3\", \"Topic3\", \"Topic3\", \"Topic3\", \"Topic3\", \"Topic3\", \"Topic3\", \"Topic3\", \"Topic3\", \"Topic3\", \"Topic4\", \"Topic4\", \"Topic4\", \"Topic4\", \"Topic4\", \"Topic4\", \"Topic4\", \"Topic4\", \"Topic4\", \"Topic4\", \"Topic4\", \"Topic4\", \"Topic4\", \"Topic4\", \"Topic4\", \"Topic4\", \"Topic4\", \"Topic4\", \"Topic4\", \"Topic4\", \"Topic4\", \"Topic4\", \"Topic4\", \"Topic4\", \"Topic4\", \"Topic4\", \"Topic4\", \"Topic4\", \"Topic4\", \"Topic4\", \"Topic4\", \"Topic4\", \"Topic4\", \"Topic4\", \"Topic4\", \"Topic4\", \"Topic4\", \"Topic4\", \"Topic4\", \"Topic4\", \"Topic4\", \"Topic4\", \"Topic4\", \"Topic4\", \"Topic4\", \"Topic4\", \"Topic4\", \"Topic4\", \"Topic4\", \"Topic4\", \"Topic4\", \"Topic5\", \"Topic5\", \"Topic5\", \"Topic5\", \"Topic5\", \"Topic5\", \"Topic5\", \"Topic5\", \"Topic5\", \"Topic5\", \"Topic5\", \"Topic5\", \"Topic5\", \"Topic5\", \"Topic5\", \"Topic5\", \"Topic5\", \"Topic5\", \"Topic5\", \"Topic5\", \"Topic5\", \"Topic5\", \"Topic5\", \"Topic5\", \"Topic5\", \"Topic5\", \"Topic5\", \"Topic5\", \"Topic5\", \"Topic5\", \"Topic5\", \"Topic5\", \"Topic5\", \"Topic5\", \"Topic5\", \"Topic5\", \"Topic5\", \"Topic5\", \"Topic5\", \"Topic5\", \"Topic5\", \"Topic5\", \"Topic5\", \"Topic5\", \"Topic5\", \"Topic5\", \"Topic5\", \"Topic5\", \"Topic5\", \"Topic5\", \"Topic5\", \"Topic5\", \"Topic5\", \"Topic5\", \"Topic5\", \"Topic6\", \"Topic6\", \"Topic6\", \"Topic6\", \"Topic6\", \"Topic6\", \"Topic6\", \"Topic6\", \"Topic6\", \"Topic6\", \"Topic6\", \"Topic6\", \"Topic6\", \"Topic6\", \"Topic6\", \"Topic6\", \"Topic6\", \"Topic6\", \"Topic6\", \"Topic6\", \"Topic6\", \"Topic6\", \"Topic6\", \"Topic6\", \"Topic6\", \"Topic6\", \"Topic6\", \"Topic6\", \"Topic6\", \"Topic6\", \"Topic6\", \"Topic6\", \"Topic6\", \"Topic6\", \"Topic6\", \"Topic6\", \"Topic6\", \"Topic6\", \"Topic6\", \"Topic6\", \"Topic6\", \"Topic6\", \"Topic6\", \"Topic6\", \"Topic6\", \"Topic6\", \"Topic6\", \"Topic6\", \"Topic7\", \"Topic7\", \"Topic7\", \"Topic7\", \"Topic7\", \"Topic7\", \"Topic7\", \"Topic7\", \"Topic7\", \"Topic7\", \"Topic7\", \"Topic7\", \"Topic7\", \"Topic7\", \"Topic7\", \"Topic7\", \"Topic7\", \"Topic7\", \"Topic7\", \"Topic7\", \"Topic7\", \"Topic7\", \"Topic7\", \"Topic7\", \"Topic7\", \"Topic7\", \"Topic7\", \"Topic7\", \"Topic7\", \"Topic7\", \"Topic7\", \"Topic7\", \"Topic7\", \"Topic7\", \"Topic7\", \"Topic7\", \"Topic7\", \"Topic7\", \"Topic7\", \"Topic7\", \"Topic7\", \"Topic7\", \"Topic7\", \"Topic7\", \"Topic7\", \"Topic7\", \"Topic7\", \"Topic7\", \"Topic7\", \"Topic7\", \"Topic7\", \"Topic7\"], \"logprob\": [30.0, 29.0, 28.0, 27.0, 26.0, 25.0, 24.0, 23.0, 22.0, 21.0, 20.0, 19.0, 18.0, 17.0, 16.0, 15.0, 14.0, 13.0, 12.0, 11.0, 10.0, 9.0, 8.0, 7.0, 6.0, 5.0, 4.0, 3.0, 2.0, 1.0, -4.5729, -4.6591, -5.0054, -5.4859, -5.496, -5.6531, -5.658, -5.1791, -4.7229, -5.4895, -5.2835, -5.5173, -4.7652, -5.6534, -5.676, -5.3251, -4.1198, -5.0122, -5.1796, -5.4775, -5.4809, -5.8997, -5.3893, -4.5655, -5.6744, -5.68, -5.3769, -5.4729, -5.409, -5.7257, -4.5992, -3.84, -4.8294, -4.7163, -4.4475, -4.5701, -3.4939, -4.7647, -3.5105, -4.6696, -3.7566, -4.8373, -4.6524, -4.5994, -4.4121, -4.1381, -4.4392, -5.0182, -5.0597, -4.9732, -4.8113, -4.5357, -4.9553, -4.9817, -4.9646, -3.711, -5.2268, -5.2312, -5.3677, -5.38, -5.5462, -5.5463, -4.1218, -4.8069, -5.2539, -5.6626, -5.6019, -5.7621, -4.8, -3.8665, -4.5443, -5.7112, -4.5298, -5.5961, -4.6445, -5.6131, -4.5611, -4.4638, -5.6494, -5.8031, -4.7622, -5.574, -4.5222, -4.6394, -6.0374, -4.5382, -2.8306, -4.4307, -2.7701, -3.249, -4.6931, -4.1652, -4.1028, -4.586, -4.1129, -4.434, -5.0454, -4.5534, -4.6048, -4.9214, -4.7197, -4.7484, -4.778, -4.8424, -3.0327, -4.735, -5.3649, -5.5384, -4.7855, -5.205, -5.2414, -5.3686, -4.7645, -5.54, -5.5402, -5.6975, -5.4115, -5.2092, -5.5946, -5.7521, -5.2725, -5.078, -5.5796, -5.4659, -5.7747, -5.2477, -5.6587, -5.657, -5.836, -5.8537, -6.0255, -6.0282, -6.0242, -6.0599, -4.9447, -5.1872, -4.5457, -4.1188, -4.8862, -3.1496, -4.2185, -4.3109, -4.2326, -4.5922, -4.6862, -3.9544, -4.8765, -4.6788, -5.0948, -5.0027, -4.5925, -4.7404, -4.4138, -4.8219, -4.7329, -4.9108, -4.8675, -4.8221, -4.9227, -4.9796, -5.0571, -4.8382, -5.048, -3.1815, -5.2228, -5.2304, -5.4079, -4.8464, -4.7159, -4.7348, -4.5721, -5.405, -5.4916, -4.185, -4.673, -4.7567, -5.4028, -4.9322, -3.5292, -5.4564, -5.2628, -5.2636, -5.2961, -4.7651, -5.8478, -4.7661, -5.3745, -5.1854, -5.8929, -5.902, -5.1482, -5.5236, -5.5237, -4.7999, -5.0717, -4.5493, -3.5099, -4.1578, -3.4605, -4.4081, -4.4159, -4.7022, -4.9924, -4.6087, -4.6563, -4.9676, -5.0556, -4.5509, -4.7291, -4.7831, -4.6905, -4.8903, -4.956, -4.8062, -5.0598, -5.0763, -5.388, -5.4073, -4.4588, -5.4031, -5.5842, -5.4582, -5.2093, -5.2185, -5.3281, -4.7088, -4.6482, -5.6418, -5.0659, -4.2911, -5.1175, -5.1363, -3.9877, -5.6019, -5.6164, -4.9269, -5.2762, -5.637, -5.5381, -5.8856, -4.0597, -3.5229, -5.7935, -5.9428, -5.3835, -4.8323, -3.1721, -3.7813, -4.2483, -3.9201, -4.6381, -4.0485, -4.824, -3.7181, -4.8854, -4.7186, -4.665, -5.0152, -4.876, -4.3503, -4.4137, -4.6971, -4.9713, -4.4832, -4.8042, -4.867, -4.9137, -4.9188, -4.8315, -2.7855, -5.0523, -5.1111, -5.4444, -5.4498, -4.8688, -4.5201, -5.2249, -4.2737, -4.6691, -5.4328, -3.5609, -4.7019, -4.5864, -5.6482, -4.855, -5.7205, -5.7341, -5.0472, -5.2557, -5.6272, -5.4987, -5.6451, -3.8104, -5.4838, -5.7457, -5.3913, -4.09, -4.3671, -5.4468, -5.0516, -4.2462, -4.7819, -4.3942, -4.8253, -4.7755, -3.7231, -4.6375, -3.8972, -4.8061, -4.2742, -4.6443, -4.8684, -4.9333, -4.7478, -4.9331, -4.9855, -5.0076, -4.7131, -4.8766, -4.5268, -5.0383, -3.7505, -5.0634, -4.5877, -4.821, -4.6838, -5.252, -4.487, -4.8617, -4.8918, -4.8997, -4.5168, -5.2333, -4.3565, -5.2621, -5.1333, -5.1467, -5.0285, -4.9298, -4.8726, -3.64, -5.489, -5.0929, -5.5336, -5.5435, -4.8584, -5.0497, -4.4475, -4.5959, -3.3819, -3.4184, -4.1707, -4.2967, -4.5216, -4.593, -4.1742, -4.6594, -4.2669, -4.5715, -4.4517, -4.8562, -4.5179, -4.6179, -4.7698, -4.5817, -4.686, -4.5542, -4.7365, -4.7498], \"loglift\": [30.0, 29.0, 28.0, 27.0, 26.0, 25.0, 24.0, 23.0, 22.0, 21.0, 20.0, 19.0, 18.0, 17.0, 16.0, 15.0, 14.0, 13.0, 12.0, 11.0, 10.0, 9.0, 8.0, 7.0, 6.0, 5.0, 4.0, 3.0, 2.0, 1.0, 1.6542, 1.6326, 1.5954, 1.5672, 1.5574, 1.5543, 1.5495, 1.5182, 1.5047, 1.431, 1.4144, 1.4011, 1.4009, 1.3981, 1.3787, 1.3732, 1.3516, 1.3485, 1.3365, 1.324, 1.3189, 1.3087, 1.3085, 1.2576, 1.2459, 1.2396, 1.2263, 1.2174, 1.194, 1.1905, 1.1818, 1.1356, 1.1743, 1.1488, 0.9664, 0.996, 0.7172, 1.0191, 0.2032, 0.8333, 0.2071, 0.9011, 0.7336, 0.6647, 0.4103, 0.0399, 0.3115, 0.9369, 0.9919, 0.8493, 0.4952, -0.2572, 0.215, 0.3514, -0.0078, 1.7352, 1.6966, 1.6923, 1.6893, 1.6771, 1.6648, 1.6647, 1.6237, 1.5554, 1.5514, 1.5483, 1.4538, 1.4499, 1.4315, 1.3975, 1.3668, 1.3444, 1.3368, 1.326, 1.3149, 1.3103, 1.3064, 1.2812, 1.2743, 1.2552, 1.2448, 1.2329, 1.2224, 1.1778, 1.1722, 1.1684, 1.1331, 1.1345, 0.9436, 0.9289, 1.1299, 1.0051, 0.854, 0.9814, 0.6378, 0.5788, 1.0667, 0.416, 0.439, 0.8621, 0.4768, 0.5157, 0.5602, 0.458, 1.7363, 1.7035, 1.6916, 1.6721, 1.6528, 1.6014, 1.5633, 1.5492, 1.5303, 1.5168, 1.5164, 1.5138, 1.5107, 1.4864, 1.4595, 1.4574, 1.4262, 1.36, 1.3421, 1.3387, 1.2829, 1.2662, 1.2642, 1.2631, 1.2193, 1.201, 1.1834, 1.179, 1.1786, 1.1494, 1.1097, 1.1078, 1.0205, 0.8506, 0.9789, 0.564, 0.7943, 0.7922, 0.743, 0.8281, 0.8405, 0.2566, 0.8621, 0.6543, 1.0125, 0.9082, 0.4097, 0.4924, -0.1352, 0.5418, 0.3521, 0.6196, 0.439, 0.2217, 0.3414, 0.553, 0.8053, -0.6603, -0.0913, 1.8552, 1.819, 1.8115, 1.7884, 1.7449, 1.709, 1.6897, 1.6473, 1.639, 1.5545, 1.547, 1.5464, 1.5259, 1.51, 1.4966, 1.4731, 1.4523, 1.4269, 1.4253, 1.3968, 1.3959, 1.3493, 1.3324, 1.3194, 1.3141, 1.3085, 1.293, 1.2773, 1.2752, 1.2711, 1.1958, 1.2067, 1.0797, 0.7687, 0.9271, 0.7058, 0.9731, 0.8906, 1.0345, 1.0577, 0.6241, 0.5173, 0.9835, 1.0487, -0.373, 0.0634, 0.1737, -0.4794, 0.0791, 0.43, -0.8425, 1.8575, 1.8411, 1.8167, 1.7976, 1.7049, 1.6461, 1.6191, 1.5929, 1.591, 1.5827, 1.5817, 1.5796, 1.5747, 1.5645, 1.5358, 1.489, 1.4828, 1.4646, 1.457, 1.4512, 1.4374, 1.4347, 1.4082, 1.4036, 1.3817, 1.3228, 1.3207, 1.2995, 1.2581, 1.2536, 1.2183, 1.1669, 0.9943, 0.9836, 1.0522, 0.8724, 1.0153, 0.7022, 1.0368, 0.2455, 1.0192, 0.8489, 0.599, 1.0932, 0.8307, -0.1724, -0.1351, 0.3878, 0.9841, -0.2722, 0.3661, 0.547, 0.5892, 0.125, -1.1178, 2.0809, 1.8703, 1.8155, 1.7698, 1.7644, 1.7361, 1.713, 1.7011, 1.6418, 1.63, 1.6154, 1.6127, 1.5892, 1.5853, 1.5647, 1.5082, 1.4898, 1.476, 1.467, 1.4388, 1.4268, 1.4233, 1.4122, 1.3861, 1.3152, 1.3138, 1.3105, 1.2977, 1.2673, 1.2557, 1.2438, 1.1742, 1.1268, 0.9937, 1.0874, 1.0513, 0.5554, 0.8929, 0.2692, 0.7887, -0.0631, 0.4406, 0.7606, 0.7725, 0.3553, 0.4052, 0.7215, 0.8548, 2.1732, 2.1444, 2.1377, 2.1369, 2.1247, 2.1127, 2.0787, 2.0686, 1.985, 1.9273, 1.9214, 1.9147, 1.8864, 1.8782, 1.8215, 1.7984, 1.7859, 1.7712, 1.7661, 1.7528, 1.751, 1.743, 1.7078, 1.7019, 1.6993, 1.6856, 1.6578, 1.6446, 1.6378, 1.6309, 1.5906, 1.5554, 1.383, 1.3741, 1.3183, 1.3567, 1.3719, 1.3959, 1.0999, 1.4362, 1.0335, 1.2813, 0.6514, 1.5611, 0.4515, 0.7625, 1.2732, 0.4621, 0.8407, -0.3763, 0.7939, -0.5834]}, \"token.table\": {\"Topic\": [3, 4, 2, 2, 5, 1, 3, 1, 2, 4, 5, 2, 5, 1, 3, 1, 4, 6, 1, 4, 5, 6, 7, 1, 5, 7, 3, 6, 3, 5, 6, 1, 2, 3, 4, 5, 7, 2, 3, 1, 2, 3, 5, 7, 1, 3, 2, 2, 3, 4, 1, 2, 2, 3, 1, 2, 3, 4, 5, 6, 1, 2, 3, 4, 5, 7, 3, 7, 3, 5, 6, 7, 1, 3, 7, 1, 2, 3, 4, 5, 6, 7, 1, 2, 4, 5, 1, 2, 3, 1, 3, 4, 1, 3, 4, 5, 6, 7, 1, 2, 3, 4, 5, 6, 7, 1, 2, 3, 5, 6, 7, 1, 4, 7, 1, 2, 3, 2, 7, 2, 3, 4, 5, 6, 7, 1, 2, 3, 4, 5, 7, 1, 3, 6, 1, 2, 4, 6, 2, 3, 6, 1, 2, 5, 1, 4, 6, 7, 3, 2, 5, 6, 2, 3, 5, 6, 2, 5, 6, 3, 4, 5, 7, 1, 2, 6, 7, 1, 3, 7, 1, 2, 4, 5, 6, 7, 1, 2, 3, 5, 6, 1, 4, 6, 6, 7, 1, 3, 1, 3, 4, 3, 5, 6, 1, 6, 2, 5, 7, 3, 5, 1, 3, 5, 6, 7, 2, 5, 3, 7, 1, 2, 1, 2, 3, 4, 5, 1, 4, 6, 1, 2, 3, 5, 7, 1, 4, 5, 4, 1, 7, 1, 4, 5, 7, 4, 5, 6, 1, 2, 3, 4, 5, 7, 1, 2, 3, 4, 5, 1, 3, 4, 5, 6, 7, 2, 3, 5, 6, 1, 4, 1, 2, 4, 5, 6, 5, 7, 3, 4, 6, 7, 4, 6, 2, 5, 6, 1, 4, 5, 6, 4, 6, 1, 2, 4, 5, 6, 3, 5, 6, 1, 2, 5, 1, 2, 3, 4, 6, 2, 4, 1, 2, 5, 6, 3, 5, 3, 5, 3, 4, 7, 4, 5, 7, 5, 6, 7, 3, 5, 7, 3, 7, 1, 2, 5, 1, 2, 3, 4, 5, 6, 4, 6, 5, 2, 4, 5, 2, 4, 5, 6, 7, 3, 5, 4, 6, 2, 3, 5, 6, 1, 3, 4, 6, 5, 1, 7, 7, 1, 2, 6, 2, 7, 1, 5, 6, 1, 2, 3, 4, 6, 7, 1, 3, 4, 5, 6, 7, 1, 4, 5, 6, 3, 5, 6, 1, 2, 1, 3, 3, 4, 5, 6, 1, 3, 4, 5, 7, 1, 2, 3, 6, 7, 1, 2, 3, 4, 1, 2, 3, 5, 6, 7, 1, 2, 3, 5, 6, 3, 4, 7, 1, 2, 3, 4, 5, 6, 7, 1, 2, 5, 1, 3, 4, 5, 5, 7, 1, 5, 2, 3, 1, 4, 5, 3, 4, 2, 5, 7, 1, 2, 4, 6, 7, 6, 7, 2, 3, 7, 4, 5, 7, 1, 3, 4, 1, 3, 5, 4, 5, 7, 1, 2, 3, 4, 5, 6, 7, 1, 2, 3, 4, 6, 5, 7, 1, 3, 4, 5, 6, 7, 7, 1, 3, 4, 6, 7, 2, 3, 4, 5, 6, 7, 2, 4, 6, 2, 3, 4, 5, 6, 4, 5, 6, 3, 1, 2, 6, 1, 2, 3, 4, 5, 6, 1, 2, 3, 2, 3, 4, 6, 1, 3, 4, 6, 1, 3, 1, 2, 3, 4, 6, 2, 3, 4, 6, 7, 1, 2, 3, 5, 6, 1, 5, 1, 4, 1, 4, 6, 1, 2, 3, 4, 6, 1, 3, 4, 5, 6, 7, 1, 3, 4, 6, 7, 1, 2, 3, 4, 6, 7, 1, 3, 4, 5, 6, 7, 1, 3, 6, 1, 3, 4, 5, 1, 6, 2, 6, 7, 1, 5, 1, 3, 4, 6, 1, 3, 4, 6, 4, 1, 3, 4, 5, 6, 7, 4, 6, 7, 1, 2, 3, 4, 5, 6, 7, 3, 4, 6, 1, 2, 4, 5, 6, 7, 1, 2, 3, 4, 7, 2, 3, 4, 1, 2, 5, 7, 1, 2, 3, 4, 5, 6, 1, 2, 3, 5, 4, 5, 2, 3, 4, 5, 7, 2, 2, 3, 4, 5, 7, 1, 2, 3, 5, 6, 2, 1, 2, 3, 4, 7, 1, 2, 6, 2, 3, 1, 3, 5, 3, 6, 3, 5, 6, 7, 1, 4, 6, 3, 5, 1, 2, 3, 1, 6, 4, 7, 2, 3, 6, 1, 2, 3, 4, 5, 6, 7, 5, 1, 5, 2, 1, 5, 6, 1, 2, 3, 4, 6, 7, 1, 2, 3, 4, 5, 6, 7, 1, 6, 7, 1, 3, 7, 1, 2, 3, 4, 5, 6, 1, 3, 4, 6, 1, 6, 1, 2, 3, 6, 7, 2, 3, 5, 1, 2, 3, 5, 6, 7, 2, 3, 6, 7, 2, 4, 5, 6, 7, 1, 2, 3, 5, 1, 3, 4, 1, 3, 4, 7, 4, 5, 3, 5, 2, 5, 6, 3, 4, 1, 3, 5, 1, 2, 4, 5, 6, 7, 1, 4, 5, 1, 2, 3, 4, 5, 6, 7, 4, 3, 6, 1, 7, 7, 1, 2, 6, 1, 2, 3, 4, 5, 6, 7, 2, 6, 2, 6, 1, 2, 3, 4, 5, 6, 7, 1, 2, 3, 4, 5, 6, 7, 1, 3, 4, 5, 6, 7, 1, 7, 4, 6, 1, 2, 3, 1, 2, 3, 4, 6, 7, 1, 1, 4, 1, 2, 1, 3, 6, 7, 2, 6, 7, 2, 3, 4, 5, 6, 7, 2, 3, 5, 6, 7, 2, 4, 5, 1, 2, 3, 4, 6, 1, 3, 4, 5, 6, 2, 3, 4, 6, 7, 3, 6, 7, 6, 7, 3, 5, 2, 3, 4, 1, 3, 6, 3, 4, 5, 6, 4, 6, 7, 1, 3, 7, 1, 2, 3, 5, 6, 1, 3, 4, 5, 6, 2, 4, 6, 1, 2, 3, 1, 2, 3, 5, 7, 1, 2, 3, 4, 7, 2, 5, 3, 7, 4, 7, 1, 4, 6, 7, 1, 3, 5, 6, 1, 4, 6, 7, 1, 6, 1, 2, 3, 4, 5, 6, 7, 4, 6, 1, 4, 5, 2, 4, 6, 1, 4, 1, 3, 5], \"Freq\": [0.6117863187307605, 0.15294657968269013, 0.9394496914772354, 0.8945947240852159, 0.8892020423818257, 0.35723486715221114, 0.5358523007283167, 0.15254820955779747, 0.15254820955779747, 0.15254820955779747, 0.4576446286733924, 0.7154667760333552, 0.11924446267222585, 0.3062667738446141, 0.6125335476892282, 0.13279204145021975, 0.6639602072510987, 0.13279204145021975, 0.1444746128125568, 0.20226445793757952, 0.1444746128125568, 0.4334238384376704, 0.05778984512502272, 0.10402884318358918, 0.10402884318358918, 0.7282019022851243, 0.9090106511942376, 0.08263733192674887, 0.5365440834244369, 0.13413602085610923, 0.13413602085610923, 0.19799065007663466, 0.049497662519158665, 0.2722371438553727, 0.2722371438553727, 0.148492987557476, 0.09899532503831733, 0.08261314367178224, 0.8261314367178224, 0.23247834869957384, 0.44170886252919034, 0.06974350460987215, 0.20923051382961647, 0.06974350460987215, 0.6426092287746592, 0.21420307625821972, 0.8946114599557586, 0.08911139121791024, 0.5346683473074615, 0.26733417365373074, 0.7137579088039353, 0.17843947720098383, 0.15332099320246687, 0.7666049660123343, 0.1877827281915566, 0.3755654563831132, 0.1502261825532453, 0.16900445537240097, 0.0938913640957783, 0.018778272819155662, 0.22211157437311546, 0.41171901591114085, 0.2817024845707806, 0.021669421890060048, 0.043338843780120095, 0.016252066417545036, 0.26202654702633354, 0.6550663675658339, 0.03768842558416162, 0.3768842558416162, 0.15075370233664648, 0.3768842558416162, 0.11602433454492882, 0.11602433454492882, 0.6961460072695729, 0.030997648501017844, 0.07749412125254461, 0.06199529700203569, 0.015498824250508922, 0.37197178201221415, 0.04649647275152677, 0.402969430513232, 0.05106455850234788, 0.6638392605305224, 0.02553227925117394, 0.2553227925117394, 0.2981190691789586, 0.4769905106863337, 0.23849525534316685, 0.13376390371317845, 0.5350556148527138, 0.13376390371317845, 0.2790835528605628, 0.09850007748019864, 0.03283335916006621, 0.5089170669810263, 0.03283335916006621, 0.04925003874009932, 0.24451072349755754, 0.30563840437194695, 0.04584576065579204, 0.09169152131158408, 0.2750745639347522, 0.030563840437194692, 0.015281920218597346, 0.31770734126294603, 0.07942683531573651, 0.15885367063147302, 0.19856708828934128, 0.23828050594720954, 0.039713417657868254, 0.6377839988414329, 0.21259466628047763, 0.10629733314023881, 0.6252196322898801, 0.17863418065425143, 0.17863418065425143, 0.9190590296405444, 0.061270601976036294, 0.021346663342726592, 0.23481329676999252, 0.36289327682635203, 0.2134666334272659, 0.17077330674181274, 0.021346663342726592, 0.22259121959932057, 0.5008302440984713, 0.02782390244991507, 0.06260378051230892, 0.17389939031196922, 0.006955975612478768, 0.10760010723805809, 0.43040042895223235, 0.43040042895223235, 0.9364684032338865, 0.08183430133054108, 0.6546744106443286, 0.24550290399162322, 0.215636960459543, 0.14375797363969534, 0.5750318945587813, 0.7551362127890305, 0.06292801773241921, 0.18878405319725763, 0.11850210937012366, 0.11850210937012366, 0.47400843748049465, 0.11850210937012366, 0.9199128959551209, 0.17845542556461305, 0.5353662766938392, 0.17845542556461305, 0.5782645442972764, 0.04130461030694831, 0.20652305153474157, 0.12391383092084494, 0.5167441827376491, 0.31799642014624563, 0.15899821007312281, 0.06145369632879713, 0.06145369632879713, 0.24581478531518852, 0.6145369632879712, 0.1840093316018826, 0.3680186632037652, 0.04600233290047065, 0.3680186632037652, 0.10686004585250442, 0.7480203209675309, 0.10686004585250442, 0.20766622990999725, 0.20766622990999725, 0.14833302136428375, 0.237332834182854, 0.14833302136428375, 0.0593332085457135, 0.11928347687322487, 0.11928347687322487, 0.23856695374644973, 0.27832811270419133, 0.23856695374644973, 0.15291563522862314, 0.3058312704572463, 0.4587469056858694, 0.8045568840345337, 0.13409281400575562, 0.8563397435944483, 0.10704246794930604, 0.17823047227792466, 0.534691416833774, 0.17823047227792466, 0.24491339267388962, 0.09796535706955585, 0.5877921424173351, 0.1794929758207067, 0.7179719032828268, 0.08018812075206938, 0.16037624150413876, 0.7216930867686244, 0.6431577652113623, 0.21438592173712073, 0.2782153387435605, 0.055643067748712104, 0.1669292032461363, 0.1669292032461363, 0.3338584064922726, 0.7659750490390751, 0.153195009807815, 0.3498141123211219, 0.5247211684816828, 0.8029146036348198, 0.1338191006058033, 0.32769940904570977, 0.04096242613071372, 0.12288727839214117, 0.40962426130713725, 0.12288727839214117, 0.17879320568466442, 0.17879320568466442, 0.5363796170539933, 0.21085673496896612, 0.1581425512267246, 0.05271418374224153, 0.1581425512267246, 0.42171346993793224, 0.7115783258322789, 0.2371927752774263, 0.11859638763871315, 0.9065334183774858, 0.1297476857219283, 0.7784861143315698, 0.08783903519063971, 0.5270342111438383, 0.08783903519063971, 0.17567807038127942, 0.13401206444620914, 0.2680241288924183, 0.5360482577848366, 0.13803441833134114, 0.5176290687425293, 0.17254302291417642, 0.034508604582835285, 0.034508604582835285, 0.06901720916567057, 0.3362350269224644, 0.05603917115374406, 0.05603917115374406, 0.3922741980762084, 0.11207834230748812, 0.10651287102869608, 0.10651287102869608, 0.10651287102869608, 0.42605148411478433, 0.10651287102869608, 0.10651287102869608, 0.07652507646045013, 0.07652507646045013, 0.6122006116836011, 0.22957522938135042, 0.1513894092406513, 0.7569470462032565, 0.2588406921558783, 0.03697724173655404, 0.1848862086827702, 0.07395448347310808, 0.4067496591020945, 0.603534480752967, 0.3017672403764835, 0.10674645944988775, 0.10674645944988775, 0.5337322972494387, 0.2134929188997755, 0.4456385319211935, 0.5347662383054322, 0.19457355396591428, 0.6810074388807, 0.09728677698295714, 0.07664095622684348, 0.15328191245368697, 0.15328191245368697, 0.5364866935879044, 0.2927825733883443, 0.6831593379061367, 0.3058484483097404, 0.05097474138495673, 0.05097474138495673, 0.3568231896946971, 0.1529242241548702, 0.15288939303430035, 0.6115575721372014, 0.15288939303430035, 0.1531664630957865, 0.612665852383146, 0.1531664630957865, 0.3574851910246563, 0.28088122151937284, 0.22981190851585048, 0.0766039695052835, 0.0766039695052835, 0.06102836311171057, 0.9154254466756585, 0.1399251308089088, 0.6063422335052716, 0.1865668410785451, 0.046641710269636275, 0.6701784969374359, 0.1340356993874872, 0.23751981975547973, 0.7125594592664392, 0.17643731425959702, 0.529311942778791, 0.17643731425959702, 0.20889312725110135, 0.20889312725110135, 0.6266793817533041, 0.6400417261734667, 0.2133472420578222, 0.07111574735260741, 0.3501841157429228, 0.0875460289357307, 0.5252761736143843, 0.2991159623313627, 0.5982319246627253, 0.09728578247476967, 0.291857347424309, 0.48642891237384833, 0.8914429955111771, 0.7156685313591444, 0.1789171328397861, 0.12833288371941198, 0.5988867906905894, 0.25666576743882397, 0.7301413537940974, 0.1991294601256629, 0.933693593431097, 0.27822203249203553, 0.27822203249203553, 0.3709627099893807, 0.258347536626872, 0.3731686640165929, 0.17223169108458133, 0.08611584554229067, 0.11482112738972089, 0.7150895759889877, 0.11918159599816461, 0.533377566734057, 0.4267020533872456, 0.10752648229373588, 0.21505296458747175, 0.21505296458747175, 0.4301059291749435, 0.6880724645622516, 0.0764524960624724, 0.0764524960624724, 0.0764524960624724, 0.889065193620839, 0.2317168587482405, 0.6951505762447215, 0.8631187356466646, 0.13436809204070696, 0.6718404602035347, 0.13436809204070696, 0.23213123668007465, 0.696393710040224, 0.06729044915275088, 0.20187134745825264, 0.6729044915275088, 0.019017910719839676, 0.2472328393579158, 0.3803582143967935, 0.1521432857587174, 0.03803582143967935, 0.1521432857587174, 0.37497776702728935, 0.17306666170490279, 0.23075554893987035, 0.08653333085245139, 0.08653333085245139, 0.05768888723496759, 0.5329494637296772, 0.2664747318648386, 0.13463217223404958, 0.6731608611702479, 0.7157113322272002, 0.14314226644544004, 0.07157113322272002, 0.5844375920240522, 0.2922187960120261, 0.23833916232243413, 0.5958479058060853, 0.41917820510483234, 0.23287678061379574, 0.0931507122455183, 0.23287678061379574, 0.1592147789050658, 0.1592147789050658, 0.4776443367151974, 0.10614318593671053, 0.053071592968355265, 0.03332527246370915, 0.1333010898548366, 0.29992745217338235, 0.29992745217338235, 0.23327690724596403, 0.12386228513303747, 0.536736568909829, 0.24772457026607494, 0.04128742837767916, 0.40169591659386766, 0.0892657592430817, 0.0892657592430817, 0.0892657592430817, 0.22316439810770425, 0.04463287962154085, 0.030590910852338223, 0.21413637596636756, 0.030590910852338223, 0.5812273061944262, 0.09177273255701467, 0.28572934725735877, 0.09524311575245292, 0.5714586945147175, 0.1437424866767868, 0.1437424866767868, 0.0479141622255956, 0.1437424866767868, 0.0958283244511912, 0.0479141622255956, 0.3833132978047648, 0.13402917343316392, 0.6701458671658196, 0.13402917343316392, 0.15227005615740527, 0.30454011231481054, 0.3552967977006123, 0.15227005615740527, 0.3486221735698433, 0.5810369559497388, 0.1883362423126187, 0.7533449692504748, 0.15335113660902783, 0.7667556830451392, 0.21229731935618207, 0.6368919580685463, 0.10614865967809103, 0.09627797288218427, 0.7702237830574742, 0.1056791271270421, 0.5283956356352104, 0.31703738138112625, 0.0553680255158059, 0.1107360510316118, 0.1107360510316118, 0.27684012757902954, 0.49831222964225313, 0.3508892840105873, 0.5263339260158809, 0.14950703065944873, 0.14950703065944873, 0.5980281226377949, 0.17631885224181257, 0.5289565567254376, 0.17631885224181257, 0.1772077266399252, 0.1772077266399252, 0.5316231799197756, 0.17854616318841518, 0.5356384895652455, 0.17854616318841518, 0.23219358380107255, 0.11609679190053628, 0.5804839595026814, 0.05963474915289567, 0.008519249878985096, 0.05963474915289567, 0.28965449588549325, 0.3748469946753442, 0.1533464978217317, 0.05963474915289567, 0.5994583538769093, 0.04281845384835066, 0.128455361545052, 0.128455361545052, 0.08563690769670132, 0.6619574579851294, 0.26478298319405175, 0.4745872470683639, 0.14830851470886372, 0.14830851470886372, 0.11864681176709098, 0.05932340588354549, 0.029661702941772745, 0.8639436945469456, 0.1764576236398295, 0.11763841575988633, 0.5293728709194885, 0.058819207879943165, 0.11763841575988633, 0.03930448481511287, 0.23582690889067723, 0.6288717570418059, 0.019652242407556433, 0.019652242407556433, 0.03930448481511287, 0.31303291934004157, 0.5634592548120748, 0.06260658386800831, 0.059708212885821156, 0.3582492773149269, 0.08956231932873172, 0.059708212885821156, 0.3881033837578375, 0.2332658024107937, 0.1399594814464762, 0.5831645060269842, 0.8942029662553675, 0.11944729987747472, 0.5972364993873736, 0.23889459975494945, 0.19249217810218966, 0.27498882586027096, 0.13749441293013548, 0.10999553034410839, 0.10999553034410839, 0.16499329551616257, 0.08264970315221606, 0.8264970315221606, 0.08264970315221606, 0.2863502239254435, 0.5011128918695261, 0.07158755598136088, 0.14317511196272176, 0.5549245686221956, 0.3444359391448111, 0.03827065990497901, 0.03827065990497901, 0.8031062082689228, 0.13385103471148713, 0.0716234312304676, 0.0716234312304676, 0.2864937249218704, 0.1432468624609352, 0.4297405873828056, 0.031126588352821196, 0.9026710622318147, 0.031126588352821196, 0.031126588352821196, 0.015563294176410598, 0.0975077620210011, 0.0975077620210011, 0.3900310480840044, 0.24376940505250277, 0.0975077620210011, 0.7128153912320481, 0.2376051304106827, 0.7627017460975593, 0.15254034921951187, 0.17876521713247606, 0.17876521713247606, 0.5362956513974282, 0.22566127167636216, 0.25386893063590743, 0.2820765895954527, 0.14103829479772634, 0.0846229768786358, 0.24625115098239708, 0.36937672647359565, 0.12312557549119854, 0.08208371699413236, 0.08208371699413236, 0.08208371699413236, 0.5050682917916788, 0.11223739817592862, 0.11223739817592862, 0.16835609726389292, 0.11223739817592862, 0.8913936471231779, 0.05627973636475798, 0.5065176272828218, 0.11255947272951596, 0.2251189454590319, 0.11255947272951596, 0.1393462308921873, 0.37158994904583287, 0.04644874363072911, 0.04644874363072911, 0.2786924617843746, 0.1393462308921873, 0.7500663207888848, 0.10715233154126926, 0.10715233154126926, 0.2958119428282662, 0.17748716569695971, 0.4141367199595727, 0.059162388565653236, 0.7651014953593691, 0.15302029907187384, 0.716395009837113, 0.17909875245927825, 0.9051841134697881, 0.15247720022741051, 0.6099088009096421, 0.06328904872277163, 0.25315619489108654, 0.06328904872277163, 0.5696014385049447, 0.24322714410729726, 0.048645428821459454, 0.29187257292875673, 0.3405180017502162, 0.9064481712794744, 0.6911322117848264, 0.03141510053567393, 0.18849060321404357, 0.06283020107134786, 0.03141510053567393, 0.8286768593493756, 0.6363167691504074, 0.21210558971680246, 0.07070186323893415, 0.12291435637608124, 0.24582871275216248, 0.20485726062680207, 0.06145717818804062, 0.16388580850144163, 0.04097145212536041, 0.16388580850144163, 0.6699092714537804, 0.13398185429075607, 0.13398185429075607, 0.1598685037914125, 0.19184220454969497, 0.12789480303312997, 0.03197370075828249, 0.09592110227484749, 0.38368440909938994, 0.8748275223474513, 0.0407730817006771, 0.2038654085033855, 0.6523693072108336, 0.0407730817006771, 0.6339142838525043, 0.243813186097117, 0.0975252744388468, 0.0808967157202146, 0.24269014716064383, 0.1617934314404292, 0.48538029432128765, 0.42150599977993913, 0.032423538444610704, 0.06484707688922141, 0.0972706153338321, 0.25938830755688563, 0.12969415377844282, 0.034583420400719225, 0.4150010448086307, 0.1729171020035961, 0.311250783606473, 0.152189905765748, 0.76094952882874, 0.1780165988567675, 0.4153720639991242, 0.05933886628558917, 0.23735546514235667, 0.11867773257117833, 0.9203867255601438, 0.23242530662505181, 0.36523976755365284, 0.06640723046430051, 0.06640723046430051, 0.23242530662505181, 0.140066872949792, 0.6069564494490987, 0.18675583059972264, 0.04668895764993066, 0.04668895764993066, 0.9203232159274997, 0.29304209063858716, 0.07992057017416014, 0.2397617105224804, 0.3463224707546939, 0.02664019005805338, 0.01715682275542697, 0.03431364551085394, 0.9436252515484832, 0.5369177149580724, 0.2684588574790362, 0.15302625092899869, 0.45907875278699606, 0.30605250185799737, 0.7158779477323691, 0.17896948693309228, 0.20078718346568947, 0.5163099003403444, 0.028683883352241354, 0.22947106681793084, 0.6685055837779065, 0.1337011167555813, 0.1337011167555813, 0.3055810859134842, 0.6111621718269684, 0.21470319181537723, 0.5367579795384431, 0.16102739386153292, 0.7498088826166668, 0.10711555465952383, 0.09408802820363389, 0.8467922538327051, 0.15347334808487187, 0.6138933923394875, 0.15347334808487187, 0.18959545289127097, 0.4050448311768062, 0.08617975131421407, 0.09479772644563549, 0.1206516518398997, 0.034471900525685634, 0.06894380105137127, 0.9337441695772445, 0.23729827874730988, 0.7118948362419296, 0.9394658520691856, 0.13454950822726883, 0.13454950822726883, 0.6727475411363442, 0.4513433679365068, 0.2051560763347758, 0.08206243053391032, 0.12309364580086549, 0.04103121526695516, 0.08206243053391032, 0.1429572636084584, 0.05718290544338336, 0.1429572636084584, 0.30497549569804455, 0.12389629512733061, 0.20014016905184176, 0.03812193696225557, 0.2620672833489402, 0.1310336416744701, 0.5241345666978804, 0.4835367032244045, 0.4489983672798042, 0.034538335944600325, 0.1588932186138872, 0.2780631325743026, 0.3575097418812462, 0.0595849569802077, 0.0794466093069436, 0.0397233046534718, 0.5588449893733323, 0.09314083156222204, 0.13971124734333307, 0.18628166312444408, 0.17949767737191485, 0.7179907094876594, 0.0586491375876483, 0.2932456879382415, 0.1172982751752966, 0.0586491375876483, 0.4105439631135381, 0.13370949478552085, 0.2674189895710417, 0.5348379791420834, 0.02648012590761078, 0.2648012590761078, 0.02648012590761078, 0.39720188861416167, 0.02648012590761078, 0.2912813849837185, 0.062008605795406256, 0.24803442318162502, 0.18602581738621876, 0.49606884636325005, 0.19319342880997498, 0.05519812251713571, 0.11039624503427142, 0.08279718377570357, 0.5519812251713571, 0.13396126044474602, 0.49119128829740205, 0.044653753481582, 0.31257627437107405, 0.21246554687464195, 0.10623277343732097, 0.6373966406239259, 0.9169801597869816, 0.1760730227521138, 0.5282190682563415, 0.1760730227521138, 0.17754448451049745, 0.7101779380419898, 0.7146020837230841, 0.17865052093077102, 0.53677953911645, 0.1341948847791125, 0.1341948847791125, 0.26549377762556725, 0.6637344440639181, 0.6688826959891071, 0.13377653919782143, 0.13377653919782143, 0.2487954191879605, 0.2132532164468233, 0.035542202741137216, 0.035542202741137216, 0.2487954191879605, 0.17771101370568607, 0.06660627027689278, 0.19981881083067835, 0.6660627027689278, 0.015933794232526877, 0.015933794232526877, 0.07966897116263438, 0.1434041480927419, 0.3346096788830644, 0.015933794232526877, 0.3983448558131719, 0.8815237488360297, 0.8356850411157047, 0.11938357730224353, 0.34975408451455997, 0.52463112677184, 0.8876981296645368, 0.2047264957085926, 0.6141794871257779, 0.15354487178144446, 0.9167065192225208, 0.09690468136215166, 0.09690468136215166, 0.19380936272430332, 0.38761872544860665, 0.14535702204322748, 0.09690468136215166, 0.6143762489771345, 0.30718812448856725, 0.4613217168069345, 0.4613217168069345, 0.24624734646496102, 0.10944326509553823, 0.3009689790127301, 0.1368040813694228, 0.08208244882165366, 0.027360816273884557, 0.08208244882165366, 0.37416100844635886, 0.062360168074393145, 0.2048976951015775, 0.08908595439199021, 0.10690314527038824, 0.10690314527038824, 0.05345157263519412, 0.11033548530463179, 0.07355699020308785, 0.40456344611698325, 0.11033548530463179, 0.2574494657108075, 0.03677849510154393, 0.10378052589449528, 0.8302442071559623, 0.6068717555088625, 0.15171793887721563, 0.5845625635042331, 0.19485418783474434, 0.09742709391737217, 0.15216317921702086, 0.06521279109300894, 0.34780155249604766, 0.08695038812401192, 0.17390077624802383, 0.1956383732790268, 0.92758382356656, 0.6676470496685218, 0.13352940993370438, 0.35733097101517985, 0.5359964565227697, 0.2930722482225203, 0.3419176229262737, 0.3419176229262737, 0.048845374703753386, 0.21053628449858305, 0.21053628449858305, 0.5263407112464576, 0.3006149245616032, 0.26721326627698067, 0.03340165828462258, 0.13360663313849033, 0.13360663313849033, 0.10020497485386774, 0.23119041328369672, 0.08669640498138627, 0.2022916116232346, 0.31788681826508297, 0.14449400830231043, 0.7657381811611055, 0.07657381811611055, 0.07657381811611055, 0.04292429817147953, 0.3863186835433158, 0.34339438537183625, 0.1287728945144386, 0.1287728945144386, 0.5885040359471677, 0.10700073380857596, 0.05350036690428798, 0.16050110071286391, 0.05350036690428798, 0.2625337091880241, 0.11933350417637459, 0.07160010250582476, 0.47733401670549835, 0.04773340167054984, 0.14979566880435172, 0.14979566880435172, 0.5991826752174069, 0.6081498681590576, 0.3040749340795288, 0.2916362209928485, 0.583272441985697, 0.08151821836201659, 0.08151821836201659, 0.8151821836201659, 0.7144169543425893, 0.08930211929282367, 0.17860423858564733, 0.3564069299225254, 0.11880230997417512, 0.4158080849096129, 0.05940115498708756, 0.6612380756053005, 0.1322476151210601, 0.1322476151210601, 0.17746201130614989, 0.5323860339184496, 0.17746201130614989, 0.17928846334729764, 0.3137548108577709, 0.08964423167364882, 0.04482211583682441, 0.3137548108577709, 0.4586450927020243, 0.2548028292789024, 0.10192113171156096, 0.15288169756734143, 0.05096056585578048, 0.30685675465007406, 0.15342837732503703, 0.46028513197511106, 0.08259561375772144, 0.24778684127316433, 0.6607649100617715, 0.044397617256236484, 0.5327714070748378, 0.13319285176870946, 0.044397617256236484, 0.17759046902494594, 0.24470884625888134, 0.08156961541962711, 0.08156961541962711, 0.4894176925177627, 0.08156961541962711, 0.178090361346443, 0.712361445385772, 0.8007443417207306, 0.13345739028678844, 0.17334246357027516, 0.6933698542811007, 0.1426283105514195, 0.1426283105514195, 0.570513242205678, 0.1426283105514195, 0.5152287844480005, 0.1717429281493335, 0.04293573203733338, 0.21467866018666687, 0.2112306321631308, 0.49287147504730516, 0.07041021072104359, 0.2112306321631308, 0.3585401622448609, 0.5378102433672914, 0.05158076874280902, 0.05158076874280902, 0.12895192185702256, 0.18053269059983157, 0.15474230622842708, 0.10316153748561804, 0.30948461245685416, 0.5328521461307504, 0.3197112876784502, 0.11800552580462179, 0.47202210321848714, 0.35401657741386533, 0.11847619594158253, 0.4739047837663301, 0.23695239188316505, 0.1629769615640183, 0.7333963270380823, 0.1942908293997355, 0.09714541469986775, 0.5828724881992065], \"Term\": [\"abrir\", \"abrir\", \"acabados\", \"acero\", \"acierto\", \"adapta\", \"adapta\", \"adecuado\", \"adecuado\", \"adecuado\", \"adecuado\", \"ajusta\", \"ajusta\", \"ajustar\", \"ajustar\", \"alta\", \"alta\", \"alta\", \"amazon\", \"amazon\", \"amazon\", \"amazon\", \"amazon\", \"anillo\", \"anillo\", \"anillo\", \"aparece\", \"aparece\", \"asi\", \"asi\", \"asi\", \"as\\u00ed\", \"as\\u00ed\", \"as\\u00ed\", \"as\\u00ed\", \"as\\u00ed\", \"as\\u00ed\", \"aun\", \"aun\", \"aunque\", \"aunque\", \"aunque\", \"aunque\", \"aunque\", \"baja\", \"baja\", \"bajo\", \"barato\", \"barato\", \"barato\", \"baratos\", \"baratos\", \"base\", \"base\", \"bastante\", \"bastante\", \"bastante\", \"bastante\", \"bastante\", \"bastante\", \"bien\", \"bien\", \"bien\", \"bien\", \"bien\", \"bien\", \"bolsa\", \"bolsa\", \"bonita\", \"bonita\", \"bonita\", \"bonita\", \"bonitas\", \"bonitas\", \"bonitas\", \"bonito\", \"bonito\", \"bonito\", \"bonito\", \"bonito\", \"bonito\", \"bonito\", \"bonitos\", \"bonitos\", \"bonitos\", \"bonitos\", \"botones\", \"botones\", \"botones\", \"bot\\u00f3n\", \"bot\\u00f3n\", \"bot\\u00f3n\", \"buen\", \"buen\", \"buen\", \"buen\", \"buen\", \"buen\", \"buena\", \"buena\", \"buena\", \"buena\", \"buena\", \"buena\", \"buena\", \"bueno\", \"bueno\", \"bueno\", \"bueno\", \"bueno\", \"bueno\", \"buenos\", \"buenos\", \"buenos\", \"cable\", \"cable\", \"cable\", \"cadena\", \"cadena\", \"caja\", \"caja\", \"caja\", \"caja\", \"caja\", \"caja\", \"calidad\", \"calidad\", \"calidad\", \"calidad\", \"calidad\", \"calidad\", \"cambiar\", \"cambiar\", \"cambiar\", \"carga\", \"casa\", \"casa\", \"casa\", \"casi\", \"casi\", \"casi\", \"caso\", \"caso\", \"caso\", \"castellano\", \"castellano\", \"castellano\", \"castellano\", \"cerrar\", \"certificado\", \"certificado\", \"certificado\", \"cierre\", \"cierre\", \"cierre\", \"cierre\", \"colgante\", \"colgante\", \"colgante\", \"collar\", \"collar\", \"collar\", \"collar\", \"color\", \"color\", \"color\", \"color\", \"colores\", \"colores\", \"colores\", \"compra\", \"compra\", \"compra\", \"compra\", \"compra\", \"compra\", \"comprar\", \"comprar\", \"comprar\", \"comprar\", \"comprar\", \"compras\", \"compras\", \"compras\", \"condiciones\", \"condiciones\", \"conectar\", \"conectar\", \"conjunto\", \"conjunto\", \"conjunto\", \"consola\", \"consola\", \"consola\", \"consolas\", \"consolas\", \"contenta\", \"contenta\", \"contenta\", \"contento\", \"contento\", \"correcto\", \"correcto\", \"correcto\", \"correcto\", \"correcto\", \"corta\", \"corta\", \"costado\", \"costado\", \"cuenta\", \"cuenta\", \"cumple\", \"cumple\", \"cumple\", \"cumple\", \"cumple\", \"c\\u00f3digo\", \"c\\u00f3digo\", \"c\\u00f3digo\", \"da\", \"da\", \"da\", \"da\", \"da\", \"deber\\u00eda\", \"deber\\u00eda\", \"deber\\u00eda\", \"decepcionado\", \"dedo\", \"dedo\", \"deja\", \"deja\", \"deja\", \"deja\", \"dejado\", \"dejado\", \"dejado\", \"demasiado\", \"demasiado\", \"demasiado\", \"demasiado\", \"demasiado\", \"demasiado\", \"dem\\u00e1s\", \"dem\\u00e1s\", \"dem\\u00e1s\", \"dem\\u00e1s\", \"dem\\u00e1s\", \"dentro\", \"dentro\", \"dentro\", \"dentro\", \"dentro\", \"dentro\", \"descripci\\u00f3n\", \"descripci\\u00f3n\", \"descripci\\u00f3n\", \"descripci\\u00f3n\", \"desear\", \"desear\", \"despu\\u00e9s\", \"despu\\u00e9s\", \"despu\\u00e9s\", \"despu\\u00e9s\", \"despu\\u00e9s\", \"detalle\", \"detalle\", \"devoluci\\u00f3n\", \"devoluci\\u00f3n\", \"devoluci\\u00f3n\", \"devoluci\\u00f3n\", \"devolver\", \"devolver\", \"devuelto\", \"devuelto\", \"devuelto\", \"dinero\", \"dinero\", \"dinero\", \"dinero\", \"disco\", \"disco\", \"dise\\u00f1o\", \"dise\\u00f1o\", \"dise\\u00f1o\", \"dise\\u00f1o\", \"dise\\u00f1o\", \"divertido\", \"divertido\", \"divertido\", \"dorado\", \"dorado\", \"dorado\", \"dos\", \"dos\", \"dos\", \"dos\", \"dos\", \"d\\u00eda\", \"d\\u00eda\", \"d\\u00edas\", \"d\\u00edas\", \"d\\u00edas\", \"d\\u00edas\", \"elegantes\", \"elegantes\", \"embalaje\", \"embalaje\", \"empresa\", \"empresa\", \"empresa\", \"encantada\", \"encantada\", \"encantada\", \"encantado\", \"encantado\", \"encantado\", \"encant\\u00f3\", \"encant\\u00f3\", \"encant\\u00f3\", \"enga\\u00f1o\", \"enga\\u00f1o\", \"enseguida\", \"enseguida\", \"enseguida\", \"entender\", \"entra\", \"entra\", \"entrega\", \"entrega\", \"entrega\", \"entregado\", \"entregado\", \"entretenido\", \"env\\u00edo\", \"env\\u00edo\", \"env\\u00edo\", \"esperaba\", \"esperaba\", \"esperaba\", \"esperaba\", \"esperaba\", \"esperado\", \"esperado\", \"esperando\", \"esperando\", \"esperar\", \"esperar\", \"esperar\", \"esperar\", \"excelente\", \"excelente\", \"excelente\", \"excelente\", \"familia\", \"fatal\", \"fatal\", \"fea\", \"fina\", \"fina\", \"fina\", \"fino\", \"fino\", \"forma\", \"forma\", \"forma\", \"foto\", \"foto\", \"foto\", \"foto\", \"foto\", \"foto\", \"funciona\", \"funciona\", \"funciona\", \"funciona\", \"funciona\", \"funciona\", \"funcionan\", \"funcionan\", \"funcionar\", \"funcionar\", \"funda\", \"funda\", \"funda\", \"f\\u00e1cilmente\", \"f\\u00e1cilmente\", \"general\", \"general\", \"gracias\", \"gracias\", \"gracias\", \"gracias\", \"gran\", \"gran\", \"gran\", \"gran\", \"gran\", \"grande\", \"grande\", \"grande\", \"grande\", \"grande\", \"grandes\", \"grandes\", \"grandes\", \"grandes\", \"gusta\", \"gusta\", \"gusta\", \"gusta\", \"gusta\", \"gusta\", \"gustado\", \"gustado\", \"gustado\", \"gustado\", \"gustado\", \"gustan\", \"gustan\", \"gustan\", \"gusto\", \"gusto\", \"gusto\", \"gusto\", \"gusto\", \"gusto\", \"gusto\", \"hacen\", \"hacen\", \"hacen\", \"hacer\", \"hacer\", \"hacer\", \"hacer\", \"hija\", \"hija\", \"hijo\", \"hijo\", \"hola\", \"hola\", \"horas\", \"horas\", \"horas\", \"hoy\", \"hoy\", \"ideal\", \"ideal\", \"ideal\", \"igual\", \"igual\", \"igual\", \"igual\", \"igual\", \"igualmente\", \"igualmente\", \"imagen\", \"imagen\", \"imagen\", \"ingles\", \"ingles\", \"ingles\", \"ingl\\u00e9s\", \"ingl\\u00e9s\", \"ingl\\u00e9s\", \"interesante\", \"interesante\", \"interesante\", \"italiano\", \"italiano\", \"italiano\", \"juego\", \"juego\", \"juego\", \"juego\", \"juego\", \"juego\", \"juego\", \"juegos\", \"juegos\", \"juegos\", \"juegos\", \"juegos\", \"jugando\", \"jugando\", \"jugar\", \"jugar\", \"jugar\", \"jugar\", \"jugar\", \"jugar\", \"juguete\", \"llega\", \"llega\", \"llega\", \"llega\", \"llega\", \"llegado\", \"llegado\", \"llegado\", \"llegado\", \"llegado\", \"llegado\", \"llegar\", \"llegar\", \"llegar\", \"llego\", \"llego\", \"llego\", \"llego\", \"llego\", \"lleg\\u00f3\", \"lleg\\u00f3\", \"lleg\\u00f3\", \"llevas\", \"llevo\", \"llevo\", \"llevo\", \"mal\", \"mal\", \"mal\", \"mal\", \"mal\", \"mal\", \"mala\", \"mala\", \"mala\", \"malo\", \"malo\", \"malo\", \"malo\", \"mando\", \"mando\", \"mando\", \"mando\", \"mandos\", \"mandos\", \"mano\", \"mano\", \"mano\", \"mano\", \"mano\", \"mas\", \"mas\", \"mas\", \"mas\", \"mas\", \"material\", \"material\", \"material\", \"material\", \"material\", \"materiales\", \"materiales\", \"mayor\", \"mayor\", \"media\", \"media\", \"media\", \"mejor\", \"mejor\", \"mejor\", \"mejor\", \"mejor\", \"menos\", \"menos\", \"menos\", \"menos\", \"menos\", \"menos\", \"meses\", \"meses\", \"meses\", \"meses\", \"meses\", \"mientras\", \"mismo\", \"mismo\", \"mismo\", \"mismo\", \"mismo\", \"momento\", \"momento\", \"momento\", \"momento\", \"momento\", \"momento\", \"mucha\", \"mucha\", \"mucha\", \"muchas\", \"muchas\", \"muchas\", \"muchas\", \"much\\u00edsimo\", \"much\\u00edsimo\", \"negra\", \"negra\", \"negro\", \"ningun\", \"ningun\", \"nuevo\", \"nuevo\", \"nuevo\", \"nuevo\", \"nunca\", \"nunca\", \"nunca\", \"nunca\", \"one\", \"original\", \"original\", \"original\", \"original\", \"original\", \"pandora\", \"paquete\", \"paquete\", \"paquete\", \"parece\", \"parece\", \"parece\", \"parece\", \"parece\", \"parece\", \"parece\", \"parecido\", \"parecido\", \"parecido\", \"parte\", \"parte\", \"parte\", \"parte\", \"parte\", \"parte\", \"pc\", \"pedido\", \"pedido\", \"pedido\", \"pedido\", \"pedir\", \"pedir\", \"pedir\", \"pega\", \"pega\", \"pega\", \"pega\", \"pena\", \"pena\", \"pena\", \"pena\", \"pena\", \"pena\", \"pendientes\", \"pendientes\", \"pendientes\", \"pendientes\", \"peor\", \"peor\", \"peque\\u00f1a\", \"peque\\u00f1a\", \"peque\\u00f1a\", \"peque\\u00f1a\", \"peque\\u00f1a\", \"peque\\u00f1as\", \"peque\\u00f1o\", \"peque\\u00f1o\", \"peque\\u00f1o\", \"peque\\u00f1o\", \"peque\\u00f1o\", \"peque\\u00f1os\", \"peque\\u00f1os\", \"peque\\u00f1os\", \"peque\\u00f1os\", \"peque\\u00f1os\", \"perdi\\u00f3\", \"perfectamente\", \"perfectamente\", \"perfectamente\", \"perfectamente\", \"perfectamente\", \"perfecto\", \"perfecto\", \"perfecto\", \"pesan\", \"pesan\", \"piedras\", \"piedras\", \"piedras\", \"pienso\", \"pienso\", \"plata\", \"plata\", \"plata\", \"plata\", \"play\", \"play\", \"play\", \"plazo\", \"plazo\", \"pl\\u00e1stico\", \"pl\\u00e1stico\", \"pl\\u00e1stico\", \"poder\", \"poder\", \"pone\", \"pone\", \"ponen\", \"ponen\", \"ponen\", \"precio\", \"precio\", \"precio\", \"precio\", \"precio\", \"precio\", \"precio\", \"preciosos\", \"presentaci\\u00f3n\", \"presentaci\\u00f3n\", \"primer\", \"primero\", \"primero\", \"primero\", \"problema\", \"problema\", \"problema\", \"problema\", \"problema\", \"problema\", \"producto\", \"producto\", \"producto\", \"producto\", \"producto\", \"producto\", \"producto\", \"productos\", \"productos\", \"productos\", \"ps\", \"ps\", \"ps\", \"puede\", \"puede\", \"puede\", \"puede\", \"puede\", \"puede\", \"puedo\", \"puedo\", \"puedo\", \"puedo\", \"puesta\", \"puesta\", \"puesto\", \"puesto\", \"puesto\", \"puesto\", \"puesto\", \"puestos\", \"puestos\", \"puestos\", \"pulsera\", \"pulsera\", \"pulsera\", \"pulsera\", \"pulsera\", \"pulsera\", \"q\", \"q\", \"q\", \"q\", \"queda\", \"queda\", \"queda\", \"queda\", \"queda\", \"quedan\", \"quedan\", \"quedan\", \"quedan\", \"quer\\u00eda\", \"quer\\u00eda\", \"quer\\u00eda\", \"quieres\", \"quiz\\u00e1\", \"quiz\\u00e1\", \"quiz\\u00e1\", \"rapidez\", \"rapidez\", \"rato\", \"rato\", \"realidad\", \"realidad\", \"realidad\", \"recibido\", \"recibido\", \"recomendado\", \"recomendado\", \"recomendado\", \"recomiendo\", \"recomiendo\", \"recomiendo\", \"recomiendo\", \"recomiendo\", \"recomiendo\", \"regalar\", \"regalar\", \"regalar\", \"regalo\", \"regalo\", \"regalo\", \"regalo\", \"regalo\", \"regalo\", \"regalo\", \"repartidor\", \"resulta\", \"resulta\", \"rompio\", \"rompio\", \"rosa\", \"roto\", \"roto\", \"roto\", \"ruido\", \"r\\u00e1pido\", \"r\\u00e1pido\", \"r\\u00e1pido\", \"r\\u00e1pido\", \"r\\u00e1pido\", \"r\\u00e1pido\", \"segundo\", \"segundo\", \"semanas\", \"semanas\", \"ser\", \"ser\", \"ser\", \"ser\", \"ser\", \"ser\", \"ser\", \"si\", \"si\", \"si\", \"si\", \"si\", \"si\", \"si\", \"sido\", \"sido\", \"sido\", \"sido\", \"sido\", \"sido\", \"sirve\", \"sirve\", \"sistema\", \"sistema\", \"sitio\", \"sitio\", \"sitio\", \"solo\", \"solo\", \"solo\", \"solo\", \"solo\", \"solo\", \"sonido\", \"sony\", \"sony\", \"super\", \"super\", \"switch\", \"switch\", \"switch\", \"switch\", \"tacto\", \"tacto\", \"tacto\", \"tal\", \"tal\", \"tal\", \"tal\", \"tal\", \"tal\", \"tama\\u00f1o\", \"tama\\u00f1o\", \"tama\\u00f1o\", \"tama\\u00f1o\", \"tama\\u00f1o\", \"tampoco\", \"tampoco\", \"tampoco\", \"tan\", \"tan\", \"tan\", \"tan\", \"tan\", \"tener\", \"tener\", \"tener\", \"tener\", \"tener\", \"tiempo\", \"tiempo\", \"tiempo\", \"tiempo\", \"tiempo\", \"tienda\", \"tienda\", \"tienda\", \"tiendas\", \"tiendas\", \"toda\", \"toda\", \"todav\\u00eda\", \"todav\\u00eda\", \"todav\\u00eda\", \"totalmente\", \"totalmente\", \"totalmente\", \"trae\", \"trae\", \"trae\", \"trae\", \"transporte\", \"transporte\", \"transporte\", \"usado\", \"usado\", \"usado\", \"va\", \"va\", \"va\", \"va\", \"va\", \"vale\", \"vale\", \"vale\", \"vale\", \"vale\", \"valen\", \"valen\", \"valen\", \"van\", \"van\", \"van\", \"ve\", \"ve\", \"ve\", \"ve\", \"ve\", \"veces\", \"veces\", \"veces\", \"veces\", \"veces\", \"venga\", \"venga\", \"venia\", \"venia\", \"venido\", \"venido\", \"ven\\u00eda\", \"ven\\u00eda\", \"ven\\u00eda\", \"ven\\u00eda\", \"verdad\", \"verdad\", \"verdad\", \"verdad\", \"versi\\u00f3n\", \"versi\\u00f3n\", \"versi\\u00f3n\", \"versi\\u00f3n\", \"videojuegos\", \"videojuegos\", \"viene\", \"viene\", \"viene\", \"viene\", \"viene\", \"viene\", \"viene\", \"vino\", \"vino\", \"visto\", \"visto\", \"visto\", \"voy\", \"voy\", \"voy\", \"xbox\", \"xbox\", \"\\u00fanico\", \"\\u00fanico\", \"\\u00fanico\"]}, \"R\": 30, \"lambda.step\": 0.01, \"plot.opts\": {\"xlab\": \"PC1\", \"ylab\": \"PC2\"}, \"topic.order\": [4, 1, 7, 6, 2, 5, 3]};\n",
       "\n",
       "function LDAvis_load_lib(url, callback){\n",
       "  var s = document.createElement('script');\n",
       "  s.src = url;\n",
       "  s.async = true;\n",
       "  s.onreadystatechange = s.onload = callback;\n",
       "  s.onerror = function(){console.warn(\"failed to load library \" + url);};\n",
       "  document.getElementsByTagName(\"head\")[0].appendChild(s);\n",
       "}\n",
       "\n",
       "if(typeof(LDAvis) !== \"undefined\"){\n",
       "   // already loaded: just create the visualization\n",
       "   !function(LDAvis){\n",
       "       new LDAvis(\"#\" + \"ldavis_el2152415324681939843231679854\", ldavis_el2152415324681939843231679854_data);\n",
       "   }(LDAvis);\n",
       "}else if(typeof define === \"function\" && define.amd){\n",
       "   // require.js is available: use it to load d3/LDAvis\n",
       "   require.config({paths: {d3: \"https://d3js.org/d3.v5\"}});\n",
       "   require([\"d3\"], function(d3){\n",
       "      window.d3 = d3;\n",
       "      LDAvis_load_lib(\"https://cdn.jsdelivr.net/gh/bmabey/pyLDAvis@3.3.1/pyLDAvis/js/ldavis.v3.0.0.js\", function(){\n",
       "        new LDAvis(\"#\" + \"ldavis_el2152415324681939843231679854\", ldavis_el2152415324681939843231679854_data);\n",
       "      });\n",
       "    });\n",
       "}else{\n",
       "    // require.js not available: dynamically load d3 & LDAvis\n",
       "    LDAvis_load_lib(\"https://d3js.org/d3.v5.js\", function(){\n",
       "         LDAvis_load_lib(\"https://cdn.jsdelivr.net/gh/bmabey/pyLDAvis@3.3.1/pyLDAvis/js/ldavis.v3.0.0.js\", function(){\n",
       "                 new LDAvis(\"#\" + \"ldavis_el2152415324681939843231679854\", ldavis_el2152415324681939843231679854_data);\n",
       "            })\n",
       "         });\n",
       "}\n",
       "</script>"
      ],
      "text/plain": [
       "<IPython.core.display.HTML object>"
      ]
     },
     "execution_count": 11,
     "metadata": {},
     "output_type": "execute_result"
    }
   ],
   "source": [
    "lda_display = pyLDAvis.gensim_models.prepare(model, corpus, dictionary)\n",
    "pyLDAvis.display(lda_display)"
   ]
  },
  {
   "cell_type": "markdown",
   "metadata": {},
   "source": [
    "###  `[3 pts]` Preguntas\n",
    "\n",
    "- ¿Qué conclusiones puede sacar de los resultados de los últimos tres talleres, usando diferentes modelos pero los mismos datos?"
   ]
  },
  {
   "cell_type": "markdown",
   "metadata": {},
   "source": [
    "* Analizando los resultados para el conjunto de datos propuesto y el problema de clasificación planteado (con base en el texto de opinión determinar una de dos clases: joyería o video juegos) se concluye que el tipo de modelos mas adecuado o que ofrece mejor desempeño es el supervisado y específicamente dentro de este tipo de modelos la máquina de vectores de soporte. Sin embargo el modelo LDA es significativamente útil en relación con el conjunto de datos para observar la relevancia de ciertos términos en las opiniones de los productos consignadas."
   ]
  }
 ],
 "metadata": {
  "kernelspec": {
   "display_name": "Python 3",
   "language": "python",
   "name": "python3"
  },
  "language_info": {
   "codemirror_mode": {
    "name": "ipython",
    "version": 3
   },
   "file_extension": ".py",
   "mimetype": "text/x-python",
   "name": "python",
   "nbconvert_exporter": "python",
   "pygments_lexer": "ipython3",
   "version": "3.8.8"
  }
 },
 "nbformat": 4,
 "nbformat_minor": 2
}
